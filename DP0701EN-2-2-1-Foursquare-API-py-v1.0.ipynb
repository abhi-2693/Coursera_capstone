{
 "cells": [
  {
   "cell_type": "markdown",
   "metadata": {
    "button": false,
    "deletable": true,
    "new_sheet": false,
    "run_control": {
     "read_only": false
    }
   },
   "source": [
    "<a href=\"https://cognitiveclass.ai\"><img src = \"https://ibm.box.com/shared/static/9gegpsmnsoo25ikkbl4qzlvlyjbgxs5x.png\" width = 400> </a>\n",
    "\n",
    "<h1 align=center><font size = 5>Learning FourSquare API with Python</font></h1>"
   ]
  },
  {
   "cell_type": "markdown",
   "metadata": {
    "button": false,
    "deletable": true,
    "new_sheet": false,
    "run_control": {
     "read_only": false
    }
   },
   "source": [
    "   "
   ]
  },
  {
   "cell_type": "markdown",
   "metadata": {
    "button": false,
    "deletable": true,
    "new_sheet": false,
    "run_control": {
     "read_only": false
    }
   },
   "source": [
    "## Introduction\n",
    "\n",
    "In this lab, you will learn in details how to make calls to the Foursquare API for different purposes. You will learn how to construct a URL to send a request to the API to search for a specific type of venues, to explore a particular venue, to explore a Foursquare user, to explore a geographical location, and to get trending venues around a location. Also, you will learn how to use the visualization library, Folium, to visualize the results."
   ]
  },
  {
   "cell_type": "markdown",
   "metadata": {
    "button": false,
    "deletable": true,
    "new_sheet": false,
    "run_control": {
     "read_only": false
    }
   },
   "source": [
    "## Table of Contents\n",
    "\n",
    "1. <a href=\"#item1\">Foursquare API Search Function</a>\n",
    "2. <a href=\"#item2\">Explore a Given Venue</a>  \n",
    "3. <a href=\"#item3\">Explore a User</a>  \n",
    "4. <a href=\"#item4\">Foursquare API Explore Function</a>  \n",
    "5. <a href=\"#item5\">Get Trending Venues</a>  "
   ]
  },
  {
   "cell_type": "markdown",
   "metadata": {
    "button": false,
    "deletable": true,
    "new_sheet": false,
    "run_control": {
     "read_only": false
    }
   },
   "source": [
    "### Import necessary Libraries"
   ]
  },
  {
   "cell_type": "code",
   "execution_count": 151,
   "metadata": {
    "button": false,
    "collapsed": false,
    "deletable": true,
    "jupyter": {
     "outputs_hidden": false
    },
    "new_sheet": false,
    "run_control": {
     "read_only": false
    }
   },
   "outputs": [
    {
     "name": "stdout",
     "output_type": "stream",
     "text": [
      "Collecting package metadata (current_repodata.json): done\n",
      "Solving environment: done\n",
      "Collecting package metadata (current_repodata.json): done\n",
      "Solving environment: done\n",
      "\n",
      "## Package Plan ##\n",
      "\n",
      "  environment location: /Users/abhinavpaul/opt/anaconda3\n",
      "\n",
      "  added / updated specs:\n",
      "    - folium=0.5.0\n",
      "\n",
      "\n",
      "The following packages will be downloaded:\n",
      "\n",
      "    package                    |            build\n",
      "    ---------------------------|-----------------\n",
      "    openssl-1.1.1g             |       h0b31af3_0         1.9 MB  conda-forge\n",
      "    ------------------------------------------------------------\n",
      "                                           Total:         1.9 MB\n",
      "\n",
      "The following packages will be UPDATED:\n",
      "\n",
      "  ca-certificates     pkgs/main::ca-certificates-2020.1.1-0 --> conda-forge::ca-certificates-2020.4.5.1-hecc5488_0\n",
      "  conda                       pkgs/main::conda-4.8.3-py37_0 --> conda-forge::conda-4.8.3-py37hc8dfbb8_1\n",
      "\n",
      "The following packages will be SUPERSEDED by a higher-priority channel:\n",
      "\n",
      "  certifi              pkgs/main::certifi-2020.4.5.1-py37_0 --> conda-forge::certifi-2020.4.5.1-py37hc8dfbb8_0\n",
      "  openssl              pkgs/main::openssl-1.1.1g-h1de35cc_0 --> conda-forge::openssl-1.1.1g-h0b31af3_0\n",
      "\n",
      "\n",
      "\n",
      "Downloading and Extracting Packages\n",
      "openssl-1.1.1g       | 1.9 MB    | ##################################### | 100% \n",
      "Preparing transaction: done\n",
      "Verifying transaction: done\n",
      "Executing transaction: done\n",
      "Folium installed\n",
      "Libraries imported.\n"
     ]
    }
   ],
   "source": [
    "import requests # library to handle requests\n",
    "import pandas as pd # library for data analsysis\n",
    "import numpy as np # library to handle data in a vectorized manner\n",
    "import random # library for random number generation\n",
    "\n",
    "!conda install -c conda-forge geopy --yes \n",
    "from geopy.geocoders import Nominatim # module to convert an address into latitude and longitude values\n",
    "\n",
    "# libraries for displaying images\n",
    "from IPython.display import Image \n",
    "from IPython.core.display import HTML \n",
    "    \n",
    "# tranforming json file into a pandas dataframe library\n",
    "from pandas import json_normalize\n",
    "\n",
    "!conda install -c conda-forge folium=0.5.0 --yes\n",
    "import folium # plotting library\n",
    "\n",
    "print('Folium installed')\n",
    "print('Libraries imported.')"
   ]
  },
  {
   "cell_type": "markdown",
   "metadata": {
    "button": false,
    "deletable": true,
    "new_sheet": false,
    "run_control": {
     "read_only": false
    }
   },
   "source": [
    "### Define Foursquare Credentials and Version"
   ]
  },
  {
   "cell_type": "markdown",
   "metadata": {
    "button": false,
    "deletable": true,
    "new_sheet": false,
    "run_control": {
     "read_only": false
    }
   },
   "source": [
    "##### Make sure that you have created a Foursquare developer account and have your credentials handy"
   ]
  },
  {
   "cell_type": "code",
   "execution_count": 152,
   "metadata": {
    "button": false,
    "collapsed": false,
    "deletable": true,
    "jupyter": {
     "outputs_hidden": false
    },
    "new_sheet": false,
    "run_control": {
     "read_only": false
    }
   },
   "outputs": [
    {
     "name": "stdout",
     "output_type": "stream",
     "text": [
      "Your credentails:\n",
      "CLIENT_ID: TBPLKSLPDCOMMX2YIDPJ5UG2NRWHG4YOB3VXMPJI5YYP54H3\n",
      "CLIENT_SECRET:OV15HD3ZH2152BWBWDWFSKBEONQJNSQCJAI0S4BO0WLFWLPE\n"
     ]
    }
   ],
   "source": [
    "CLIENT_ID = 'TBPLKSLPDCOMMX2YIDPJ5UG2NRWHG4YOB3VXMPJI5YYP54H3' # your Foursquare ID\n",
    "CLIENT_SECRET = 'OV15HD3ZH2152BWBWDWFSKBEONQJNSQCJAI0S4BO0WLFWLPE' # your Foursquare Secret\n",
    "VERSION = '20180604'\n",
    "LIMIT = 30\n",
    "print('Your credentails:')\n",
    "print('CLIENT_ID: ' + CLIENT_ID)\n",
    "print('CLIENT_SECRET:' + CLIENT_SECRET)"
   ]
  },
  {
   "cell_type": "markdown",
   "metadata": {
    "button": false,
    "deletable": true,
    "new_sheet": false,
    "run_control": {
     "read_only": false
    }
   },
   "source": [
    "  "
   ]
  },
  {
   "cell_type": "markdown",
   "metadata": {
    "button": false,
    "deletable": true,
    "new_sheet": false,
    "run_control": {
     "read_only": false
    }
   },
   "source": [
    "#### Let's again assume that you are staying at the Conrad hotel. So let's start by converting the Contrad Hotel's address to its latitude and longitude coordinates."
   ]
  },
  {
   "cell_type": "markdown",
   "metadata": {},
   "source": [
    "In order to define an instance of the geocoder, we need to define a user_agent. We will name our agent <em>foursquare_agent</em>, as shown below."
   ]
  },
  {
   "cell_type": "code",
   "execution_count": 153,
   "metadata": {
    "button": false,
    "collapsed": false,
    "deletable": true,
    "jupyter": {
     "outputs_hidden": false
    },
    "new_sheet": false,
    "run_control": {
     "read_only": false
    }
   },
   "outputs": [
    {
     "name": "stdout",
     "output_type": "stream",
     "text": [
      "40.7149555 -74.0153365\n"
     ]
    }
   ],
   "source": [
    "address = '102 North End Ave, New York, NY'\n",
    "\n",
    "geolocator = Nominatim(user_agent=\"foursquare_agent\")\n",
    "location = geolocator.geocode(address)\n",
    "latitude = location.latitude\n",
    "longitude = location.longitude\n",
    "print(latitude, longitude)"
   ]
  },
  {
   "cell_type": "markdown",
   "metadata": {
    "button": false,
    "deletable": true,
    "new_sheet": false,
    "run_control": {
     "read_only": false
    }
   },
   "source": [
    "   "
   ]
  },
  {
   "cell_type": "markdown",
   "metadata": {
    "button": false,
    "deletable": true,
    "new_sheet": false,
    "run_control": {
     "read_only": false
    }
   },
   "source": [
    "<a id=\"item1\"></a>"
   ]
  },
  {
   "cell_type": "markdown",
   "metadata": {
    "button": false,
    "deletable": true,
    "new_sheet": false,
    "run_control": {
     "read_only": false
    }
   },
   "source": [
    "## 1. Search for a specific venue category\n",
    "> `https://api.foursquare.com/v2/venues/`**search**`?client_id=`**CLIENT_ID**`&client_secret=`**CLIENT_SECRET**`&ll=`**LATITUDE**`,`**LONGITUDE**`&v=`**VERSION**`&query=`**QUERY**`&radius=`**RADIUS**`&limit=`**LIMIT**"
   ]
  },
  {
   "cell_type": "markdown",
   "metadata": {
    "button": false,
    "deletable": true,
    "new_sheet": false,
    "run_control": {
     "read_only": false
    }
   },
   "source": [
    "#### Now, let's assume that it is lunch time, and you are craving Italian food. So, let's define a query to search for Italian food that is within 500 metres from the Conrad Hotel. "
   ]
  },
  {
   "cell_type": "code",
   "execution_count": 154,
   "metadata": {
    "button": false,
    "collapsed": false,
    "deletable": true,
    "jupyter": {
     "outputs_hidden": false
    },
    "new_sheet": false,
    "run_control": {
     "read_only": false
    },
    "scrolled": true
   },
   "outputs": [
    {
     "name": "stdout",
     "output_type": "stream",
     "text": [
      "Post office .... OK!\n"
     ]
    }
   ],
   "source": [
    "search_query = 'Post office'\n",
    "radius = 500\n",
    "print(search_query + ' .... OK!')"
   ]
  },
  {
   "cell_type": "markdown",
   "metadata": {
    "button": false,
    "deletable": true,
    "new_sheet": false,
    "run_control": {
     "read_only": false
    }
   },
   "source": [
    "#### Define the corresponding URL"
   ]
  },
  {
   "cell_type": "code",
   "execution_count": 155,
   "metadata": {
    "button": false,
    "collapsed": false,
    "deletable": true,
    "jupyter": {
     "outputs_hidden": false
    },
    "new_sheet": false,
    "run_control": {
     "read_only": false
    }
   },
   "outputs": [
    {
     "data": {
      "text/plain": [
       "'https://api.foursquare.com/v2/venues/search?client_id=TBPLKSLPDCOMMX2YIDPJ5UG2NRWHG4YOB3VXMPJI5YYP54H3&client_secret=OV15HD3ZH2152BWBWDWFSKBEONQJNSQCJAI0S4BO0WLFWLPE&ll=40.7149555,-74.0153365&v=20180604&query=Post office&radius=500&limit=30'"
      ]
     },
     "execution_count": 155,
     "metadata": {},
     "output_type": "execute_result"
    }
   ],
   "source": [
    "url = 'https://api.foursquare.com/v2/venues/search?client_id={}&client_secret={}&ll={},{}&v={}&query={}&radius={}&limit={}'.format(CLIENT_ID, CLIENT_SECRET, latitude, longitude, VERSION, search_query, radius, LIMIT)\n",
    "url"
   ]
  },
  {
   "cell_type": "markdown",
   "metadata": {
    "button": false,
    "deletable": true,
    "new_sheet": false,
    "run_control": {
     "read_only": false
    }
   },
   "source": [
    "#### Send the GET Request and examine the results"
   ]
  },
  {
   "cell_type": "code",
   "execution_count": 156,
   "metadata": {
    "button": false,
    "collapsed": false,
    "deletable": true,
    "jupyter": {
     "outputs_hidden": false
    },
    "new_sheet": false,
    "run_control": {
     "read_only": false
    },
    "scrolled": true
   },
   "outputs": [
    {
     "data": {
      "text/plain": [
       "{'meta': {'code': 200, 'requestId': '5ea039451a4b0a001bb64216'},\n",
       " 'response': {'venues': [{'id': '4a81c3c6f964a52080f71fe3',\n",
       "    'name': 'US Post Office—Church Street Station',\n",
       "    'location': {'address': '90 Church St',\n",
       "     'crossStreet': 'at Barclay St',\n",
       "     'lat': 40.71287676753995,\n",
       "     'lng': -74.01059852628421,\n",
       "     'labeledLatLngs': [{'label': 'display',\n",
       "       'lat': 40.71287676753995,\n",
       "       'lng': -74.01059852628421}],\n",
       "     'distance': 461,\n",
       "     'postalCode': '10007',\n",
       "     'cc': 'US',\n",
       "     'city': 'New York',\n",
       "     'state': 'NY',\n",
       "     'country': 'United States',\n",
       "     'formattedAddress': ['90 Church St (at Barclay St)',\n",
       "      'New York, NY 10007',\n",
       "      'United States']},\n",
       "    'categories': [{'id': '4bf58dd8d48988d172941735',\n",
       "      'name': 'Post Office',\n",
       "      'pluralName': 'Post Offices',\n",
       "      'shortName': 'Post Office',\n",
       "      'icon': {'prefix': 'https://ss3.4sqi.net/img/categories_v2/building/postoffice_',\n",
       "       'suffix': '.png'},\n",
       "      'primary': True}],\n",
       "    'referralId': 'v-1587558594',\n",
       "    'hasPerk': False},\n",
       "   {'id': '4f4f9c2de4b0cad93c4b2709',\n",
       "    'name': 'US Post Office - Battery Park Retail Unit APC',\n",
       "    'location': {'address': '15 Rector St',\n",
       "     'crossStreet': 'at Greenwich St.',\n",
       "     'lat': 40.711368,\n",
       "     'lng': -74.017019,\n",
       "     'labeledLatLngs': [{'label': 'display',\n",
       "       'lat': 40.711368,\n",
       "       'lng': -74.017019}],\n",
       "     'distance': 423,\n",
       "     'postalCode': '10006',\n",
       "     'cc': 'US',\n",
       "     'city': 'New York',\n",
       "     'state': 'NY',\n",
       "     'country': 'United States',\n",
       "     'formattedAddress': ['15 Rector St (at Greenwich St.)',\n",
       "      'New York, NY 10006',\n",
       "      'United States']},\n",
       "    'categories': [{'id': '4bf58dd8d48988d172941735',\n",
       "      'name': 'Post Office',\n",
       "      'pluralName': 'Post Offices',\n",
       "      'shortName': 'Post Office',\n",
       "      'icon': {'prefix': 'https://ss3.4sqi.net/img/categories_v2/building/postoffice_',\n",
       "       'suffix': '.png'},\n",
       "      'primary': True}],\n",
       "    'referralId': 'v-1587558594',\n",
       "    'hasPerk': False},\n",
       "   {'id': '4cacb5232f08236aca3f8e61',\n",
       "    'name': 'USPS Post Office - Greeley Square Station',\n",
       "    'location': {'address': '31 West Broadway',\n",
       "     'lat': 40.71434944445903,\n",
       "     'lng': -74.01075486252175,\n",
       "     'labeledLatLngs': [{'label': 'display',\n",
       "       'lat': 40.71434944445903,\n",
       "       'lng': -74.01075486252175}],\n",
       "     'distance': 392,\n",
       "     'postalCode': '10001',\n",
       "     'cc': 'US',\n",
       "     'city': 'New York',\n",
       "     'state': 'NY',\n",
       "     'country': 'United States',\n",
       "     'formattedAddress': ['31 West Broadway',\n",
       "      'New York, NY 10001',\n",
       "      'United States']},\n",
       "    'categories': [{'id': '4bf58dd8d48988d172941735',\n",
       "      'name': 'Post Office',\n",
       "      'pluralName': 'Post Offices',\n",
       "      'shortName': 'Post Office',\n",
       "      'icon': {'prefix': 'https://ss3.4sqi.net/img/categories_v2/building/postoffice_',\n",
       "       'suffix': '.png'},\n",
       "      'primary': True}],\n",
       "    'referralId': 'v-1587558594',\n",
       "    'hasPerk': False},\n",
       "   {'id': '4e7ce9fcd3e324c5178ca981',\n",
       "    'name': \"Scott Roen's Office\",\n",
       "    'location': {'lat': 40.71512,\n",
       "     'lng': -74.01602,\n",
       "     'labeledLatLngs': [{'label': 'display',\n",
       "       'lat': 40.71512,\n",
       "       'lng': -74.01602}],\n",
       "     'distance': 60,\n",
       "     'postalCode': '10282',\n",
       "     'cc': 'US',\n",
       "     'city': 'New York',\n",
       "     'state': 'NY',\n",
       "     'country': 'United States',\n",
       "     'formattedAddress': ['New York, NY 10282', 'United States']},\n",
       "    'categories': [],\n",
       "    'referralId': 'v-1587558594',\n",
       "    'hasPerk': False},\n",
       "   {'id': '55a50090498e08199568a229',\n",
       "    'name': 'Brookfield Office Properties',\n",
       "    'location': {'address': '250 Vesey St Fl 15',\n",
       "     'lat': 40.71470398399014,\n",
       "     'lng': -74.01442050933838,\n",
       "     'labeledLatLngs': [{'label': 'display',\n",
       "       'lat': 40.71470398399014,\n",
       "       'lng': -74.01442050933838}],\n",
       "     'distance': 82,\n",
       "     'postalCode': '10080',\n",
       "     'cc': 'US',\n",
       "     'city': 'New York',\n",
       "     'state': 'NY',\n",
       "     'country': 'United States',\n",
       "     'formattedAddress': ['250 Vesey St Fl 15',\n",
       "      'New York, NY 10080',\n",
       "      'United States']},\n",
       "    'categories': [{'id': '5032885091d4c4b30a586d66',\n",
       "      'name': 'Real Estate Office',\n",
       "      'pluralName': 'Real Estate Offices',\n",
       "      'shortName': 'Real Estate',\n",
       "      'icon': {'prefix': 'https://ss3.4sqi.net/img/categories_v2/shops/realestate_',\n",
       "       'suffix': '.png'},\n",
       "      'primary': True}],\n",
       "    'referralId': 'v-1587558594',\n",
       "    'hasPerk': False},\n",
       "   {'id': '57bae630498e82c71f52764b',\n",
       "    'name': 'Saks Off Fifth Corporate Office',\n",
       "    'location': {'address': '250 Vesey St',\n",
       "     'lat': 40.713828,\n",
       "     'lng': -74.015909,\n",
       "     'labeledLatLngs': [{'label': 'display',\n",
       "       'lat': 40.713828,\n",
       "       'lng': -74.015909}],\n",
       "     'distance': 134,\n",
       "     'postalCode': '10281',\n",
       "     'cc': 'US',\n",
       "     'city': 'New York',\n",
       "     'state': 'NY',\n",
       "     'country': 'United States',\n",
       "     'formattedAddress': ['250 Vesey St',\n",
       "      'New York, NY 10281',\n",
       "      'United States']},\n",
       "    'categories': [{'id': '4bf58dd8d48988d124941735',\n",
       "      'name': 'Office',\n",
       "      'pluralName': 'Offices',\n",
       "      'shortName': 'Office',\n",
       "      'icon': {'prefix': 'https://ss3.4sqi.net/img/categories_v2/building/default_',\n",
       "       'suffix': '.png'},\n",
       "      'primary': True}],\n",
       "    'referralId': 'v-1587558594',\n",
       "    'hasPerk': False},\n",
       "   {'id': '4c957755c8a1bfb7e89024f3',\n",
       "    'name': 'NYCHA (Central Office)',\n",
       "    'location': {'address': '90 Church St',\n",
       "     'crossStreet': 'btwn Barclay St. & Vesey St.',\n",
       "     'lat': 40.7124960592739,\n",
       "     'lng': -74.00986808757679,\n",
       "     'labeledLatLngs': [{'label': 'display',\n",
       "       'lat': 40.7124960592739,\n",
       "       'lng': -74.00986808757679}],\n",
       "     'distance': 536,\n",
       "     'postalCode': '10007',\n",
       "     'cc': 'US',\n",
       "     'city': 'New York',\n",
       "     'state': 'NY',\n",
       "     'country': 'United States',\n",
       "     'formattedAddress': ['90 Church St (btwn Barclay St. & Vesey St.)',\n",
       "      'New York, NY 10007',\n",
       "      'United States']},\n",
       "    'categories': [{'id': '4bf58dd8d48988d126941735',\n",
       "      'name': 'Government Building',\n",
       "      'pluralName': 'Government Buildings',\n",
       "      'shortName': 'Government',\n",
       "      'icon': {'prefix': 'https://ss3.4sqi.net/img/categories_v2/building/government_',\n",
       "       'suffix': '.png'},\n",
       "      'primary': True}],\n",
       "    'referralId': 'v-1587558594',\n",
       "    'hasPerk': False},\n",
       "   {'id': '50759499e4b070d8a9d64834',\n",
       "    'name': \"Luke's Office\",\n",
       "    'location': {'lat': 40.71396915136241,\n",
       "     'lng': -74.01419552516819,\n",
       "     'labeledLatLngs': [{'label': 'display',\n",
       "       'lat': 40.71396915136241,\n",
       "       'lng': -74.01419552516819}],\n",
       "     'distance': 146,\n",
       "     'postalCode': '10280',\n",
       "     'cc': 'US',\n",
       "     'city': 'New York',\n",
       "     'state': 'NY',\n",
       "     'country': 'United States',\n",
       "     'formattedAddress': ['New York, NY 10280', 'United States']},\n",
       "    'categories': [{'id': '4bf58dd8d48988d124941735',\n",
       "      'name': 'Office',\n",
       "      'pluralName': 'Offices',\n",
       "      'shortName': 'Office',\n",
       "      'icon': {'prefix': 'https://ss3.4sqi.net/img/categories_v2/building/default_',\n",
       "       'suffix': '.png'},\n",
       "      'primary': True}],\n",
       "    'referralId': 'v-1587558594',\n",
       "    'hasPerk': False},\n",
       "   {'id': '4e74ddbe52b1c8e519301429',\n",
       "    'name': 'Asphalt Green',\n",
       "    'location': {'address': '212 N End Ave',\n",
       "     'crossStreet': 'Murray',\n",
       "     'lat': 40.716035466649885,\n",
       "     'lng': -74.01481525101102,\n",
       "     'labeledLatLngs': [{'label': 'display',\n",
       "       'lat': 40.716035466649885,\n",
       "       'lng': -74.01481525101102}],\n",
       "     'distance': 128,\n",
       "     'postalCode': '10282',\n",
       "     'cc': 'US',\n",
       "     'city': 'New York',\n",
       "     'state': 'NY',\n",
       "     'country': 'United States',\n",
       "     'formattedAddress': ['212 N End Ave (Murray)',\n",
       "      'New York, NY 10282',\n",
       "      'United States']},\n",
       "    'categories': [{'id': '4bf58dd8d48988d176941735',\n",
       "      'name': 'Gym',\n",
       "      'pluralName': 'Gyms',\n",
       "      'shortName': 'Gym',\n",
       "      'icon': {'prefix': 'https://ss3.4sqi.net/img/categories_v2/building/gym_',\n",
       "       'suffix': '.png'},\n",
       "      'primary': True}],\n",
       "    'referralId': 'v-1587558594',\n",
       "    'hasPerk': False},\n",
       "   {'id': '4df7ab1445dda2db2f1d4494',\n",
       "    'name': \"Tony's Office\",\n",
       "    'location': {'lat': 40.71397965362095,\n",
       "     'lng': -74.01427586011309,\n",
       "     'labeledLatLngs': [{'label': 'display',\n",
       "       'lat': 40.71397965362095,\n",
       "       'lng': -74.01427586011309}],\n",
       "     'distance': 140,\n",
       "     'cc': 'US',\n",
       "     'city': 'New York',\n",
       "     'state': 'NY',\n",
       "     'country': 'United States',\n",
       "     'formattedAddress': ['New York, NY', 'United States']},\n",
       "    'categories': [{'id': '4bf58dd8d48988d124941735',\n",
       "      'name': 'Office',\n",
       "      'pluralName': 'Offices',\n",
       "      'shortName': 'Office',\n",
       "      'icon': {'prefix': 'https://ss3.4sqi.net/img/categories_v2/building/default_',\n",
       "       'suffix': '.png'},\n",
       "      'primary': True}],\n",
       "    'referralId': 'v-1587558594',\n",
       "    'hasPerk': False},\n",
       "   {'id': '57cfa3d8498efe27679acb3a',\n",
       "    'name': 'Sheindlin Law Firm',\n",
       "    'location': {'address': '200 Vesey St',\n",
       "     'lat': 40.71393841,\n",
       "     'lng': -74.01489712,\n",
       "     'labeledLatLngs': [{'label': 'display',\n",
       "       'lat': 40.71393841,\n",
       "       'lng': -74.01489712}],\n",
       "     'distance': 119,\n",
       "     'postalCode': '10281',\n",
       "     'cc': 'US',\n",
       "     'city': 'New York',\n",
       "     'state': 'NY',\n",
       "     'country': 'United States',\n",
       "     'formattedAddress': ['200 Vesey St',\n",
       "      'New York, NY 10281',\n",
       "      'United States']},\n",
       "    'categories': [{'id': '52f2ab2ebcbc57f1066b8b3f',\n",
       "      'name': 'Lawyer',\n",
       "      'pluralName': 'Lawyers',\n",
       "      'shortName': 'Lawyer',\n",
       "      'icon': {'prefix': 'https://ss3.4sqi.net/img/categories_v2/education/lawschool_',\n",
       "       'suffix': '.png'},\n",
       "      'primary': True}],\n",
       "    'venuePage': {'id': '339042673'},\n",
       "    'referralId': 'v-1587558594',\n",
       "    'hasPerk': False},\n",
       "   {'id': '4fecb0e1e4b0e23ed21b2f2d',\n",
       "    'name': \"Duygu's Lovely Office\",\n",
       "    'location': {'lat': 40.71355350150081,\n",
       "     'lng': -74.01497592034573,\n",
       "     'labeledLatLngs': [{'label': 'display',\n",
       "       'lat': 40.71355350150081,\n",
       "       'lng': -74.01497592034573}],\n",
       "     'distance': 159,\n",
       "     'postalCode': '10007',\n",
       "     'cc': 'US',\n",
       "     'city': 'New York',\n",
       "     'state': 'NY',\n",
       "     'country': 'United States',\n",
       "     'formattedAddress': ['New York, NY 10007', 'United States']},\n",
       "    'categories': [{'id': '4bf58dd8d48988d124941735',\n",
       "      'name': 'Office',\n",
       "      'pluralName': 'Offices',\n",
       "      'shortName': 'Office',\n",
       "      'icon': {'prefix': 'https://ss3.4sqi.net/img/categories_v2/building/default_',\n",
       "       'suffix': '.png'},\n",
       "      'primary': True}],\n",
       "    'referralId': 'v-1587558594',\n",
       "    'hasPerk': False},\n",
       "   {'id': '4e270c467d8b5ea72479a31b',\n",
       "    'name': \"Kate's Office - MBF Asset Management\",\n",
       "    'location': {'address': '1 N End Ave',\n",
       "     'lat': 40.714535,\n",
       "     'lng': -74.016915,\n",
       "     'labeledLatLngs': [{'label': 'display',\n",
       "       'lat': 40.714535,\n",
       "       'lng': -74.016915}],\n",
       "     'distance': 141,\n",
       "     'postalCode': '10282',\n",
       "     'cc': 'US',\n",
       "     'city': 'New York',\n",
       "     'state': 'NY',\n",
       "     'country': 'United States',\n",
       "     'formattedAddress': ['1 N End Ave',\n",
       "      'New York, NY 10282',\n",
       "      'United States']},\n",
       "    'categories': [{'id': '4bf58dd8d48988d124941735',\n",
       "      'name': 'Office',\n",
       "      'pluralName': 'Offices',\n",
       "      'shortName': 'Office',\n",
       "      'icon': {'prefix': 'https://ss3.4sqi.net/img/categories_v2/building/default_',\n",
       "       'suffix': '.png'},\n",
       "      'primary': True}],\n",
       "    'referralId': 'v-1587558594',\n",
       "    'hasPerk': False},\n",
       "   {'id': '51082efce4b095c586cddcb3',\n",
       "    'name': 'Office of the Registrar - Borough of Manhattan Community College (BMCC)',\n",
       "    'location': {'address': '199 Chambers St',\n",
       "     'crossStreet': 'Hudson St',\n",
       "     'lat': 40.717967,\n",
       "     'lng': -74.011367,\n",
       "     'labeledLatLngs': [{'label': 'display',\n",
       "       'lat': 40.717967,\n",
       "       'lng': -74.011367}],\n",
       "     'distance': 473,\n",
       "     'postalCode': '10007',\n",
       "     'cc': 'US',\n",
       "     'city': 'New York',\n",
       "     'state': 'NY',\n",
       "     'country': 'United States',\n",
       "     'formattedAddress': ['199 Chambers St (Hudson St)',\n",
       "      'New York, NY 10007',\n",
       "      'United States']},\n",
       "    'categories': [{'id': '4bf58dd8d48988d197941735',\n",
       "      'name': 'College Administrative Building',\n",
       "      'pluralName': 'College Administrative Buildings',\n",
       "      'shortName': 'Administrative Building',\n",
       "      'icon': {'prefix': 'https://ss3.4sqi.net/img/categories_v2/education/administrativebuilding_',\n",
       "       'suffix': '.png'},\n",
       "      'primary': True}],\n",
       "    'referralId': 'v-1587558594',\n",
       "    'hasPerk': False},\n",
       "   {'id': '4c0e8ea0336220a10969cc77',\n",
       "    'name': 'City Of New York/ Office Of Management And Budget',\n",
       "    'location': {'address': '75 Park Pl',\n",
       "     'crossStreet': 'Greenwich Street',\n",
       "     'lat': 40.71441479939009,\n",
       "     'lng': -74.01087755808095,\n",
       "     'labeledLatLngs': [{'label': 'display',\n",
       "       'lat': 40.71441479939009,\n",
       "       'lng': -74.01087755808095}],\n",
       "     'distance': 381,\n",
       "     'postalCode': '10007',\n",
       "     'cc': 'US',\n",
       "     'city': 'New York',\n",
       "     'state': 'NY',\n",
       "     'country': 'United States',\n",
       "     'formattedAddress': ['75 Park Pl (Greenwich Street)',\n",
       "      'New York, NY 10007',\n",
       "      'United States']},\n",
       "    'categories': [{'id': '4bf58dd8d48988d126941735',\n",
       "      'name': 'Government Building',\n",
       "      'pluralName': 'Government Buildings',\n",
       "      'shortName': 'Government',\n",
       "      'icon': {'prefix': 'https://ss3.4sqi.net/img/categories_v2/building/government_',\n",
       "       'suffix': '.png'},\n",
       "      'primary': True}],\n",
       "    'referralId': 'v-1587558594',\n",
       "    'hasPerk': False},\n",
       "   {'id': '4d5569f5cff7721eaa80a9f5',\n",
       "    'name': \"Robot's Post\",\n",
       "    'location': {'address': 'North End Ave',\n",
       "     'crossStreet': 'Chambers',\n",
       "     'lat': 40.716157,\n",
       "     'lng': -74.01312,\n",
       "     'labeledLatLngs': [{'label': 'display',\n",
       "       'lat': 40.716157,\n",
       "       'lng': -74.01312}],\n",
       "     'distance': 229,\n",
       "     'cc': 'US',\n",
       "     'city': 'New York',\n",
       "     'state': 'NY',\n",
       "     'country': 'United States',\n",
       "     'formattedAddress': ['North End Ave (Chambers)',\n",
       "      'New York, NY',\n",
       "      'United States']},\n",
       "    'categories': [],\n",
       "    'referralId': 'v-1587558594',\n",
       "    'hasPerk': False},\n",
       "   {'id': '57c982e1498e12bbb696e8f5',\n",
       "    'name': 'HBC Saks Fifth Avenue Corporate Offices',\n",
       "    'location': {'address': '225 Liberty St',\n",
       "     'crossStreet': 'South End Avenue',\n",
       "     'lat': 40.71233013243762,\n",
       "     'lng': -74.01554917384,\n",
       "     'labeledLatLngs': [{'label': 'display',\n",
       "       'lat': 40.71233013243762,\n",
       "       'lng': -74.01554917384}],\n",
       "     'distance': 292,\n",
       "     'postalCode': '10281',\n",
       "     'cc': 'US',\n",
       "     'neighborhood': 'Battery Park City',\n",
       "     'city': 'New York',\n",
       "     'state': 'NY',\n",
       "     'country': 'United States',\n",
       "     'formattedAddress': ['225 Liberty St (South End Avenue)',\n",
       "      'New York, NY 10281',\n",
       "      'United States']},\n",
       "    'categories': [{'id': '4bf58dd8d48988d124941735',\n",
       "      'name': 'Office',\n",
       "      'pluralName': 'Offices',\n",
       "      'shortName': 'Office',\n",
       "      'icon': {'prefix': 'https://ss3.4sqi.net/img/categories_v2/building/default_',\n",
       "       'suffix': '.png'},\n",
       "      'primary': True}],\n",
       "    'referralId': 'v-1587558594',\n",
       "    'hasPerk': False},\n",
       "   {'id': '4df933151f6e2728c9eeedbc',\n",
       "    'name': \"Dave's Office\",\n",
       "    'location': {'address': '32-320',\n",
       "     'crossStreet': 'GNMI',\n",
       "     'lat': 40.71333441034191,\n",
       "     'lng': -74.01424716906523,\n",
       "     'labeledLatLngs': [{'label': 'display',\n",
       "       'lat': 40.71333441034191,\n",
       "       'lng': -74.01424716906523}],\n",
       "     'distance': 202,\n",
       "     'cc': 'US',\n",
       "     'city': 'New York',\n",
       "     'state': 'NY',\n",
       "     'country': 'United States',\n",
       "     'formattedAddress': ['32-320 (GNMI)', 'New York, NY', 'United States']},\n",
       "    'categories': [{'id': '4bf58dd8d48988d130941735',\n",
       "      'name': 'Building',\n",
       "      'pluralName': 'Buildings',\n",
       "      'shortName': 'Building',\n",
       "      'icon': {'prefix': 'https://ss3.4sqi.net/img/categories_v2/building/default_',\n",
       "       'suffix': '.png'},\n",
       "      'primary': True}],\n",
       "    'referralId': 'v-1587558594',\n",
       "    'hasPerk': False},\n",
       "   {'id': '4dc142aa1f6e7441cf490cf1',\n",
       "    'name': 'GSA Federal Office Building',\n",
       "    'location': {'address': '1 WTC',\n",
       "     'lat': 40.71301679283298,\n",
       "     'lng': -74.01238764890681,\n",
       "     'labeledLatLngs': [{'label': 'display',\n",
       "       'lat': 40.71301679283298,\n",
       "       'lng': -74.01238764890681}],\n",
       "     'distance': 329,\n",
       "     'postalCode': '10007',\n",
       "     'cc': 'US',\n",
       "     'city': 'New York',\n",
       "     'state': 'NY',\n",
       "     'country': 'United States',\n",
       "     'formattedAddress': ['1 WTC', 'New York, NY 10007', 'United States']},\n",
       "    'categories': [{'id': '4bf58dd8d48988d124941735',\n",
       "      'name': 'Office',\n",
       "      'pluralName': 'Offices',\n",
       "      'shortName': 'Office',\n",
       "      'icon': {'prefix': 'https://ss3.4sqi.net/img/categories_v2/building/default_',\n",
       "       'suffix': '.png'},\n",
       "      'primary': True}],\n",
       "    'referralId': 'v-1587558594',\n",
       "    'hasPerk': False},\n",
       "   {'id': '4cfe79d6c6cca35ded5f9c32',\n",
       "    'name': \"st. john's university manhattan campus IT office\",\n",
       "    'location': {'address': '101 Murray St',\n",
       "     'lat': 40.715246383352486,\n",
       "     'lng': -74.01307083239222,\n",
       "     'labeledLatLngs': [{'label': 'display',\n",
       "       'lat': 40.715246383352486,\n",
       "       'lng': -74.01307083239222}],\n",
       "     'distance': 193,\n",
       "     'postalCode': '10007',\n",
       "     'cc': 'US',\n",
       "     'city': 'New York',\n",
       "     'state': 'NY',\n",
       "     'country': 'United States',\n",
       "     'formattedAddress': ['101 Murray St',\n",
       "      'New York, NY 10007',\n",
       "      'United States']},\n",
       "    'categories': [{'id': '4bf58dd8d48988d197941735',\n",
       "      'name': 'College Administrative Building',\n",
       "      'pluralName': 'College Administrative Buildings',\n",
       "      'shortName': 'Administrative Building',\n",
       "      'icon': {'prefix': 'https://ss3.4sqi.net/img/categories_v2/education/administrativebuilding_',\n",
       "       'suffix': '.png'},\n",
       "      'primary': True}],\n",
       "    'referralId': 'v-1587558594',\n",
       "    'hasPerk': False},\n",
       "   {'id': '4e67b7b9b61cf40ed6c4ad4d',\n",
       "    'name': \"Mike's Office - 31st Floor\",\n",
       "    'location': {'lat': 40.713104,\n",
       "     'lng': -74.015674,\n",
       "     'labeledLatLngs': [{'label': 'display',\n",
       "       'lat': 40.713104,\n",
       "       'lng': -74.015674}],\n",
       "     'distance': 208,\n",
       "     'cc': 'US',\n",
       "     'state': 'New York',\n",
       "     'country': 'United States',\n",
       "     'formattedAddress': ['New York', 'United States']},\n",
       "    'categories': [{'id': '4bf58dd8d48988d124941735',\n",
       "      'name': 'Office',\n",
       "      'pluralName': 'Offices',\n",
       "      'shortName': 'Office',\n",
       "      'icon': {'prefix': 'https://ss3.4sqi.net/img/categories_v2/building/default_',\n",
       "       'suffix': '.png'},\n",
       "      'primary': True}],\n",
       "    'referralId': 'v-1587558594',\n",
       "    'hasPerk': False},\n",
       "   {'id': '4e2f0a6922717d70585c701f',\n",
       "    'name': \"Porter Novelli -Anthony's Office\",\n",
       "    'location': {'lat': 40.7134,\n",
       "     'lng': -74.012061,\n",
       "     'labeledLatLngs': [{'label': 'display',\n",
       "       'lat': 40.7134,\n",
       "       'lng': -74.012061}],\n",
       "     'distance': 326,\n",
       "     'cc': 'US',\n",
       "     'state': 'New York',\n",
       "     'country': 'United States',\n",
       "     'formattedAddress': ['New York', 'United States']},\n",
       "    'categories': [{'id': '4bf58dd8d48988d171941735',\n",
       "      'name': 'Event Space',\n",
       "      'pluralName': 'Event Spaces',\n",
       "      'shortName': 'Event Space',\n",
       "      'icon': {'prefix': 'https://ss3.4sqi.net/img/categories_v2/building/eventspace_',\n",
       "       'suffix': '.png'},\n",
       "      'primary': True}],\n",
       "    'referralId': 'v-1587558594',\n",
       "    'hasPerk': False},\n",
       "   {'id': '593e32a567af3a7da003e1e1',\n",
       "    'name': \"The People's Counsel - Law Offices of Charles L. Barberio IV\",\n",
       "    'location': {'address': '4542 W Pine Blvd',\n",
       "     'lat': 40.71453158307841,\n",
       "     'lng': -74.01702761650085,\n",
       "     'labeledLatLngs': [{'label': 'display',\n",
       "       'lat': 40.71453158307841,\n",
       "       'lng': -74.01702761650085}],\n",
       "     'distance': 150,\n",
       "     'postalCode': '63108',\n",
       "     'cc': 'US',\n",
       "     'city': 'Saint Louis',\n",
       "     'state': 'MO',\n",
       "     'country': 'United States',\n",
       "     'formattedAddress': ['4542 W Pine Blvd',\n",
       "      'Saint Louis, MO 63108',\n",
       "      'United States']},\n",
       "    'categories': [{'id': '4bf58dd8d48988d1ff941735',\n",
       "      'name': 'Miscellaneous Shop',\n",
       "      'pluralName': 'Miscellaneous Shops',\n",
       "      'shortName': 'Shop',\n",
       "      'icon': {'prefix': 'https://ss3.4sqi.net/img/categories_v2/shops/default_',\n",
       "       'suffix': '.png'},\n",
       "      'primary': True}],\n",
       "    'referralId': 'v-1587558594',\n",
       "    'hasPerk': False},\n",
       "   {'id': '4ea032de02d54bd975de0258',\n",
       "    'name': 'E-J Remote Office Ground Zero',\n",
       "    'location': {'lat': 40.71131091765911,\n",
       "     'lng': -74.0131683825381,\n",
       "     'labeledLatLngs': [{'label': 'display',\n",
       "       'lat': 40.71131091765911,\n",
       "       'lng': -74.0131683825381}],\n",
       "     'distance': 445,\n",
       "     'cc': 'US',\n",
       "     'state': 'New York',\n",
       "     'country': 'United States',\n",
       "     'formattedAddress': ['New York', 'United States']},\n",
       "    'categories': [{'id': '4bf58dd8d48988d130941735',\n",
       "      'name': 'Building',\n",
       "      'pluralName': 'Buildings',\n",
       "      'shortName': 'Building',\n",
       "      'icon': {'prefix': 'https://ss3.4sqi.net/img/categories_v2/building/default_',\n",
       "       'suffix': '.png'},\n",
       "      'primary': True}],\n",
       "    'referralId': 'v-1587558594',\n",
       "    'hasPerk': False},\n",
       "   {'id': '4e01fda31495692a4bba9058',\n",
       "    'name': 'Inc.',\n",
       "    'location': {'address': '250 Greenwich St',\n",
       "     'lat': 40.71331874545327,\n",
       "     'lng': -74.0120347339482,\n",
       "     'labeledLatLngs': [{'label': 'display',\n",
       "       'lat': 40.71331874545327,\n",
       "       'lng': -74.0120347339482}],\n",
       "     'distance': 332,\n",
       "     'postalCode': '10007',\n",
       "     'cc': 'US',\n",
       "     'city': 'New York',\n",
       "     'state': 'NY',\n",
       "     'country': 'United States',\n",
       "     'formattedAddress': ['250 Greenwich St',\n",
       "      'New York, NY 10007',\n",
       "      'United States']},\n",
       "    'categories': [{'id': '4bf58dd8d48988d124941735',\n",
       "      'name': 'Office',\n",
       "      'pluralName': 'Offices',\n",
       "      'shortName': 'Office',\n",
       "      'icon': {'prefix': 'https://ss3.4sqi.net/img/categories_v2/building/default_',\n",
       "       'suffix': '.png'},\n",
       "      'primary': True}],\n",
       "    'referralId': 'v-1587558594',\n",
       "    'hasPerk': False},\n",
       "   {'id': '4bbb97b7ed7776b020a63e51',\n",
       "    'name': 'NYC DoITT - 255G',\n",
       "    'location': {'address': '255 Greenwich St',\n",
       "     'crossStreet': '@ Park Pl',\n",
       "     'lat': 40.714482894514546,\n",
       "     'lng': -74.01064977111265,\n",
       "     'labeledLatLngs': [{'label': 'display',\n",
       "       'lat': 40.714482894514546,\n",
       "       'lng': -74.01064977111265}],\n",
       "     'distance': 398,\n",
       "     'postalCode': '10007',\n",
       "     'cc': 'US',\n",
       "     'city': 'New York',\n",
       "     'state': 'NY',\n",
       "     'country': 'United States',\n",
       "     'formattedAddress': ['255 Greenwich St (@ Park Pl)',\n",
       "      'New York, NY 10007',\n",
       "      'United States']},\n",
       "    'categories': [{'id': '4bf58dd8d48988d126941735',\n",
       "      'name': 'Government Building',\n",
       "      'pluralName': 'Government Buildings',\n",
       "      'shortName': 'Government',\n",
       "      'icon': {'prefix': 'https://ss3.4sqi.net/img/categories_v2/building/government_',\n",
       "       'suffix': '.png'},\n",
       "      'primary': True}],\n",
       "    'referralId': 'v-1587558594',\n",
       "    'hasPerk': False},\n",
       "   {'id': '513e3716e4b0fa51917c3a50',\n",
       "    'name': \"BMCC Registrar's Office-S315\",\n",
       "    'location': {'address': '199 Chambers St',\n",
       "     'lat': 40.718044356938094,\n",
       "     'lng': -74.01215580901878,\n",
       "     'labeledLatLngs': [{'label': 'display',\n",
       "       'lat': 40.718044356938094,\n",
       "       'lng': -74.01215580901878}],\n",
       "     'distance': 436,\n",
       "     'postalCode': '10007',\n",
       "     'cc': 'US',\n",
       "     'city': 'New York',\n",
       "     'state': 'NY',\n",
       "     'country': 'United States',\n",
       "     'formattedAddress': ['199 Chambers St',\n",
       "      'New York, NY 10007',\n",
       "      'United States']},\n",
       "    'categories': [{'id': '4bf58dd8d48988d197941735',\n",
       "      'name': 'College Administrative Building',\n",
       "      'pluralName': 'College Administrative Buildings',\n",
       "      'shortName': 'Administrative Building',\n",
       "      'icon': {'prefix': 'https://ss3.4sqi.net/img/categories_v2/education/administrativebuilding_',\n",
       "       'suffix': '.png'},\n",
       "      'primary': True}],\n",
       "    'referralId': 'v-1587558594',\n",
       "    'hasPerk': False},\n",
       "   {'id': '52e59857498ee6d8dc32c62d',\n",
       "    'name': 'Tribeca CERT command post',\n",
       "    'location': {'lat': 40.717792,\n",
       "     'lng': -74.010868,\n",
       "     'labeledLatLngs': [{'label': 'display',\n",
       "       'lat': 40.717792,\n",
       "       'lng': -74.010868}],\n",
       "     'distance': 491,\n",
       "     'cc': 'US',\n",
       "     'city': 'New York',\n",
       "     'state': 'NY',\n",
       "     'country': 'United States',\n",
       "     'formattedAddress': ['New York, NY', 'United States']},\n",
       "    'categories': [{'id': '4bf58dd8d48988d124941735',\n",
       "      'name': 'Office',\n",
       "      'pluralName': 'Offices',\n",
       "      'shortName': 'Office',\n",
       "      'icon': {'prefix': 'https://ss3.4sqi.net/img/categories_v2/building/default_',\n",
       "       'suffix': '.png'},\n",
       "      'primary': True}],\n",
       "    'referralId': 'v-1587558594',\n",
       "    'hasPerk': False},\n",
       "   {'id': '54e2f586498edfbffd788735',\n",
       "    'name': 'Ericsson WTC Office',\n",
       "    'location': {'address': 'WTC',\n",
       "     'crossStreet': 'Tower D F:10',\n",
       "     'lat': 40.713436126708984,\n",
       "     'lng': -74.01250457763672,\n",
       "     'labeledLatLngs': [{'label': 'display',\n",
       "       'lat': 40.713436126708984,\n",
       "       'lng': -74.01250457763672}],\n",
       "     'distance': 292,\n",
       "     'cc': 'US',\n",
       "     'city': 'Amsterdam',\n",
       "     'state': 'NY',\n",
       "     'country': 'United States',\n",
       "     'formattedAddress': ['WTC (Tower D F:10)',\n",
       "      'Amsterdam, NY',\n",
       "      'United States']},\n",
       "    'categories': [{'id': '4bf58dd8d48988d124941735',\n",
       "      'name': 'Office',\n",
       "      'pluralName': 'Offices',\n",
       "      'shortName': 'Office',\n",
       "      'icon': {'prefix': 'https://ss3.4sqi.net/img/categories_v2/building/default_',\n",
       "       'suffix': '.png'},\n",
       "      'primary': True}],\n",
       "    'referralId': 'v-1587558594',\n",
       "    'hasPerk': False},\n",
       "   {'id': '51169e0a011c8a20af678741',\n",
       "    'name': 'Law Office of Lina M. Viviano',\n",
       "    'location': {'address': '400 Chambers St Apt 8E',\n",
       "     'crossStreet': 'West Side Highway',\n",
       "     'lat': 40.717664003775404,\n",
       "     'lng': -74.01487112045287,\n",
       "     'labeledLatLngs': [{'label': 'display',\n",
       "       'lat': 40.717664003775404,\n",
       "       'lng': -74.01487112045287}],\n",
       "     'distance': 304,\n",
       "     'postalCode': '10282',\n",
       "     'cc': 'US',\n",
       "     'city': 'New York',\n",
       "     'state': 'NY',\n",
       "     'country': 'United States',\n",
       "     'formattedAddress': ['400 Chambers St Apt 8E (West Side Highway)',\n",
       "      'New York, NY 10282',\n",
       "      'United States']},\n",
       "    'categories': [{'id': '52f2ab2ebcbc57f1066b8b3f',\n",
       "      'name': 'Lawyer',\n",
       "      'pluralName': 'Lawyers',\n",
       "      'shortName': 'Lawyer',\n",
       "      'icon': {'prefix': 'https://ss3.4sqi.net/img/categories_v2/education/lawschool_',\n",
       "       'suffix': '.png'},\n",
       "      'primary': True}],\n",
       "    'referralId': 'v-1587558594',\n",
       "    'hasPerk': False}]}}"
      ]
     },
     "execution_count": 156,
     "metadata": {},
     "output_type": "execute_result"
    }
   ],
   "source": [
    "results = requests.get(url).json()\n",
    "results"
   ]
  },
  {
   "cell_type": "markdown",
   "metadata": {
    "button": false,
    "deletable": true,
    "new_sheet": false,
    "run_control": {
     "read_only": false
    }
   },
   "source": [
    "#### Get relevant part of JSON and transform it into a *pandas* dataframe"
   ]
  },
  {
   "cell_type": "code",
   "execution_count": 157,
   "metadata": {
    "button": false,
    "collapsed": false,
    "deletable": true,
    "jupyter": {
     "outputs_hidden": false
    },
    "new_sheet": false,
    "run_control": {
     "read_only": false
    }
   },
   "outputs": [
    {
     "data": {
      "text/html": [
       "<div>\n",
       "<style scoped>\n",
       "    .dataframe tbody tr th:only-of-type {\n",
       "        vertical-align: middle;\n",
       "    }\n",
       "\n",
       "    .dataframe tbody tr th {\n",
       "        vertical-align: top;\n",
       "    }\n",
       "\n",
       "    .dataframe thead th {\n",
       "        text-align: right;\n",
       "    }\n",
       "</style>\n",
       "<table border=\"1\" class=\"dataframe\">\n",
       "  <thead>\n",
       "    <tr style=\"text-align: right;\">\n",
       "      <th></th>\n",
       "      <th>id</th>\n",
       "      <th>name</th>\n",
       "      <th>categories</th>\n",
       "      <th>referralId</th>\n",
       "      <th>hasPerk</th>\n",
       "      <th>location.address</th>\n",
       "      <th>location.crossStreet</th>\n",
       "      <th>location.lat</th>\n",
       "      <th>location.lng</th>\n",
       "      <th>location.labeledLatLngs</th>\n",
       "      <th>location.distance</th>\n",
       "      <th>location.postalCode</th>\n",
       "      <th>location.cc</th>\n",
       "      <th>location.city</th>\n",
       "      <th>location.state</th>\n",
       "      <th>location.country</th>\n",
       "      <th>location.formattedAddress</th>\n",
       "      <th>venuePage.id</th>\n",
       "      <th>location.neighborhood</th>\n",
       "    </tr>\n",
       "  </thead>\n",
       "  <tbody>\n",
       "    <tr>\n",
       "      <th>0</th>\n",
       "      <td>4a81c3c6f964a52080f71fe3</td>\n",
       "      <td>US Post Office—Church Street Station</td>\n",
       "      <td>[{'id': '4bf58dd8d48988d172941735', 'name': 'Post Office', 'pluralName': 'Post Offices', 'shortName': 'Post Office', 'icon': {'prefix': 'https://ss3.4sqi.net/img/categories_v2/building/postoffice_', 'suffix': '.png'}, 'primary': True}]</td>\n",
       "      <td>v-1587558594</td>\n",
       "      <td>False</td>\n",
       "      <td>90 Church St</td>\n",
       "      <td>at Barclay St</td>\n",
       "      <td>40.712877</td>\n",
       "      <td>-74.010599</td>\n",
       "      <td>[{'label': 'display', 'lat': 40.71287676753995, 'lng': -74.01059852628421}]</td>\n",
       "      <td>461</td>\n",
       "      <td>10007</td>\n",
       "      <td>US</td>\n",
       "      <td>New York</td>\n",
       "      <td>NY</td>\n",
       "      <td>United States</td>\n",
       "      <td>[90 Church St (at Barclay St), New York, NY 10007, United States]</td>\n",
       "      <td>NaN</td>\n",
       "      <td>NaN</td>\n",
       "    </tr>\n",
       "    <tr>\n",
       "      <th>1</th>\n",
       "      <td>4f4f9c2de4b0cad93c4b2709</td>\n",
       "      <td>US Post Office - Battery Park Retail Unit APC</td>\n",
       "      <td>[{'id': '4bf58dd8d48988d172941735', 'name': 'Post Office', 'pluralName': 'Post Offices', 'shortName': 'Post Office', 'icon': {'prefix': 'https://ss3.4sqi.net/img/categories_v2/building/postoffice_', 'suffix': '.png'}, 'primary': True}]</td>\n",
       "      <td>v-1587558594</td>\n",
       "      <td>False</td>\n",
       "      <td>15 Rector St</td>\n",
       "      <td>at Greenwich St.</td>\n",
       "      <td>40.711368</td>\n",
       "      <td>-74.017019</td>\n",
       "      <td>[{'label': 'display', 'lat': 40.711368, 'lng': -74.017019}]</td>\n",
       "      <td>423</td>\n",
       "      <td>10006</td>\n",
       "      <td>US</td>\n",
       "      <td>New York</td>\n",
       "      <td>NY</td>\n",
       "      <td>United States</td>\n",
       "      <td>[15 Rector St (at Greenwich St.), New York, NY 10006, United States]</td>\n",
       "      <td>NaN</td>\n",
       "      <td>NaN</td>\n",
       "    </tr>\n",
       "    <tr>\n",
       "      <th>2</th>\n",
       "      <td>4cacb5232f08236aca3f8e61</td>\n",
       "      <td>USPS Post Office - Greeley Square Station</td>\n",
       "      <td>[{'id': '4bf58dd8d48988d172941735', 'name': 'Post Office', 'pluralName': 'Post Offices', 'shortName': 'Post Office', 'icon': {'prefix': 'https://ss3.4sqi.net/img/categories_v2/building/postoffice_', 'suffix': '.png'}, 'primary': True}]</td>\n",
       "      <td>v-1587558594</td>\n",
       "      <td>False</td>\n",
       "      <td>31 West Broadway</td>\n",
       "      <td>NaN</td>\n",
       "      <td>40.714349</td>\n",
       "      <td>-74.010755</td>\n",
       "      <td>[{'label': 'display', 'lat': 40.71434944445903, 'lng': -74.01075486252175}]</td>\n",
       "      <td>392</td>\n",
       "      <td>10001</td>\n",
       "      <td>US</td>\n",
       "      <td>New York</td>\n",
       "      <td>NY</td>\n",
       "      <td>United States</td>\n",
       "      <td>[31 West Broadway, New York, NY 10001, United States]</td>\n",
       "      <td>NaN</td>\n",
       "      <td>NaN</td>\n",
       "    </tr>\n",
       "    <tr>\n",
       "      <th>3</th>\n",
       "      <td>4e7ce9fcd3e324c5178ca981</td>\n",
       "      <td>Scott Roen's Office</td>\n",
       "      <td>[]</td>\n",
       "      <td>v-1587558594</td>\n",
       "      <td>False</td>\n",
       "      <td>NaN</td>\n",
       "      <td>NaN</td>\n",
       "      <td>40.715120</td>\n",
       "      <td>-74.016020</td>\n",
       "      <td>[{'label': 'display', 'lat': 40.71512, 'lng': -74.01602}]</td>\n",
       "      <td>60</td>\n",
       "      <td>10282</td>\n",
       "      <td>US</td>\n",
       "      <td>New York</td>\n",
       "      <td>NY</td>\n",
       "      <td>United States</td>\n",
       "      <td>[New York, NY 10282, United States]</td>\n",
       "      <td>NaN</td>\n",
       "      <td>NaN</td>\n",
       "    </tr>\n",
       "    <tr>\n",
       "      <th>4</th>\n",
       "      <td>55a50090498e08199568a229</td>\n",
       "      <td>Brookfield Office Properties</td>\n",
       "      <td>[{'id': '5032885091d4c4b30a586d66', 'name': 'Real Estate Office', 'pluralName': 'Real Estate Offices', 'shortName': 'Real Estate', 'icon': {'prefix': 'https://ss3.4sqi.net/img/categories_v2/shops/realestate_', 'suffix': '.png'}, 'primary': True}]</td>\n",
       "      <td>v-1587558594</td>\n",
       "      <td>False</td>\n",
       "      <td>250 Vesey St Fl 15</td>\n",
       "      <td>NaN</td>\n",
       "      <td>40.714704</td>\n",
       "      <td>-74.014421</td>\n",
       "      <td>[{'label': 'display', 'lat': 40.71470398399014, 'lng': -74.01442050933838}]</td>\n",
       "      <td>82</td>\n",
       "      <td>10080</td>\n",
       "      <td>US</td>\n",
       "      <td>New York</td>\n",
       "      <td>NY</td>\n",
       "      <td>United States</td>\n",
       "      <td>[250 Vesey St Fl 15, New York, NY 10080, United States]</td>\n",
       "      <td>NaN</td>\n",
       "      <td>NaN</td>\n",
       "    </tr>\n",
       "  </tbody>\n",
       "</table>\n",
       "</div>"
      ],
      "text/plain": [
       "                         id                                           name  \\\n",
       "0  4a81c3c6f964a52080f71fe3  US Post Office—Church Street Station            \n",
       "1  4f4f9c2de4b0cad93c4b2709  US Post Office - Battery Park Retail Unit APC   \n",
       "2  4cacb5232f08236aca3f8e61  USPS Post Office - Greeley Square Station       \n",
       "3  4e7ce9fcd3e324c5178ca981  Scott Roen's Office                             \n",
       "4  55a50090498e08199568a229  Brookfield Office Properties                    \n",
       "\n",
       "                                                                                                                                                                                                                                               categories  \\\n",
       "0  [{'id': '4bf58dd8d48988d172941735', 'name': 'Post Office', 'pluralName': 'Post Offices', 'shortName': 'Post Office', 'icon': {'prefix': 'https://ss3.4sqi.net/img/categories_v2/building/postoffice_', 'suffix': '.png'}, 'primary': True}]              \n",
       "1  [{'id': '4bf58dd8d48988d172941735', 'name': 'Post Office', 'pluralName': 'Post Offices', 'shortName': 'Post Office', 'icon': {'prefix': 'https://ss3.4sqi.net/img/categories_v2/building/postoffice_', 'suffix': '.png'}, 'primary': True}]              \n",
       "2  [{'id': '4bf58dd8d48988d172941735', 'name': 'Post Office', 'pluralName': 'Post Offices', 'shortName': 'Post Office', 'icon': {'prefix': 'https://ss3.4sqi.net/img/categories_v2/building/postoffice_', 'suffix': '.png'}, 'primary': True}]              \n",
       "3  []                                                                                                                                                                                                                                                       \n",
       "4  [{'id': '5032885091d4c4b30a586d66', 'name': 'Real Estate Office', 'pluralName': 'Real Estate Offices', 'shortName': 'Real Estate', 'icon': {'prefix': 'https://ss3.4sqi.net/img/categories_v2/shops/realestate_', 'suffix': '.png'}, 'primary': True}]   \n",
       "\n",
       "     referralId  hasPerk    location.address location.crossStreet  \\\n",
       "0  v-1587558594  False    90 Church St        at Barclay St         \n",
       "1  v-1587558594  False    15 Rector St        at Greenwich St.      \n",
       "2  v-1587558594  False    31 West Broadway    NaN                   \n",
       "3  v-1587558594  False    NaN                 NaN                   \n",
       "4  v-1587558594  False    250 Vesey St Fl 15  NaN                   \n",
       "\n",
       "   location.lat  location.lng  \\\n",
       "0  40.712877    -74.010599      \n",
       "1  40.711368    -74.017019      \n",
       "2  40.714349    -74.010755      \n",
       "3  40.715120    -74.016020      \n",
       "4  40.714704    -74.014421      \n",
       "\n",
       "                                                       location.labeledLatLngs  \\\n",
       "0  [{'label': 'display', 'lat': 40.71287676753995, 'lng': -74.01059852628421}]   \n",
       "1  [{'label': 'display', 'lat': 40.711368, 'lng': -74.017019}]                   \n",
       "2  [{'label': 'display', 'lat': 40.71434944445903, 'lng': -74.01075486252175}]   \n",
       "3  [{'label': 'display', 'lat': 40.71512, 'lng': -74.01602}]                     \n",
       "4  [{'label': 'display', 'lat': 40.71470398399014, 'lng': -74.01442050933838}]   \n",
       "\n",
       "   location.distance location.postalCode location.cc location.city  \\\n",
       "0  461                10007               US          New York       \n",
       "1  423                10006               US          New York       \n",
       "2  392                10001               US          New York       \n",
       "3  60                 10282               US          New York       \n",
       "4  82                 10080               US          New York       \n",
       "\n",
       "  location.state location.country  \\\n",
       "0  NY             United States     \n",
       "1  NY             United States     \n",
       "2  NY             United States     \n",
       "3  NY             United States     \n",
       "4  NY             United States     \n",
       "\n",
       "                                              location.formattedAddress  \\\n",
       "0  [90 Church St (at Barclay St), New York, NY 10007, United States]      \n",
       "1  [15 Rector St (at Greenwich St.), New York, NY 10006, United States]   \n",
       "2  [31 West Broadway, New York, NY 10001, United States]                  \n",
       "3  [New York, NY 10282, United States]                                    \n",
       "4  [250 Vesey St Fl 15, New York, NY 10080, United States]                \n",
       "\n",
       "  venuePage.id location.neighborhood  \n",
       "0  NaN          NaN                   \n",
       "1  NaN          NaN                   \n",
       "2  NaN          NaN                   \n",
       "3  NaN          NaN                   \n",
       "4  NaN          NaN                   "
      ]
     },
     "execution_count": 157,
     "metadata": {},
     "output_type": "execute_result"
    }
   ],
   "source": [
    "# assign relevant part of JSON to venues\n",
    "venues = results['response']['venues']\n",
    "\n",
    "# tranform venues into a dataframe\n",
    "dataframe = json_normalize(venues)\n",
    "dataframe.head()"
   ]
  },
  {
   "cell_type": "markdown",
   "metadata": {
    "button": false,
    "deletable": true,
    "new_sheet": false,
    "run_control": {
     "read_only": false
    }
   },
   "source": [
    "#### Define information of interest and filter dataframe"
   ]
  },
  {
   "cell_type": "code",
   "execution_count": 158,
   "metadata": {
    "button": false,
    "collapsed": false,
    "deletable": true,
    "jupyter": {
     "outputs_hidden": false
    },
    "new_sheet": false,
    "run_control": {
     "read_only": false
    },
    "scrolled": true
   },
   "outputs": [
    {
     "data": {
      "text/html": [
       "<div>\n",
       "<style scoped>\n",
       "    .dataframe tbody tr th:only-of-type {\n",
       "        vertical-align: middle;\n",
       "    }\n",
       "\n",
       "    .dataframe tbody tr th {\n",
       "        vertical-align: top;\n",
       "    }\n",
       "\n",
       "    .dataframe thead th {\n",
       "        text-align: right;\n",
       "    }\n",
       "</style>\n",
       "<table border=\"1\" class=\"dataframe\">\n",
       "  <thead>\n",
       "    <tr style=\"text-align: right;\">\n",
       "      <th></th>\n",
       "      <th>name</th>\n",
       "      <th>categories</th>\n",
       "      <th>address</th>\n",
       "      <th>crossStreet</th>\n",
       "      <th>lat</th>\n",
       "      <th>lng</th>\n",
       "      <th>labeledLatLngs</th>\n",
       "      <th>distance</th>\n",
       "      <th>postalCode</th>\n",
       "      <th>cc</th>\n",
       "      <th>city</th>\n",
       "      <th>state</th>\n",
       "      <th>country</th>\n",
       "      <th>formattedAddress</th>\n",
       "      <th>neighborhood</th>\n",
       "      <th>id</th>\n",
       "    </tr>\n",
       "  </thead>\n",
       "  <tbody>\n",
       "    <tr>\n",
       "      <th>0</th>\n",
       "      <td>US Post Office—Church Street Station</td>\n",
       "      <td>Post Office</td>\n",
       "      <td>90 Church St</td>\n",
       "      <td>at Barclay St</td>\n",
       "      <td>40.712877</td>\n",
       "      <td>-74.010599</td>\n",
       "      <td>[{'label': 'display', 'lat': 40.71287676753995, 'lng': -74.01059852628421}]</td>\n",
       "      <td>461</td>\n",
       "      <td>10007</td>\n",
       "      <td>US</td>\n",
       "      <td>New York</td>\n",
       "      <td>NY</td>\n",
       "      <td>United States</td>\n",
       "      <td>[90 Church St (at Barclay St), New York, NY 10007, United States]</td>\n",
       "      <td>NaN</td>\n",
       "      <td>4a81c3c6f964a52080f71fe3</td>\n",
       "    </tr>\n",
       "    <tr>\n",
       "      <th>1</th>\n",
       "      <td>US Post Office - Battery Park Retail Unit APC</td>\n",
       "      <td>Post Office</td>\n",
       "      <td>15 Rector St</td>\n",
       "      <td>at Greenwich St.</td>\n",
       "      <td>40.711368</td>\n",
       "      <td>-74.017019</td>\n",
       "      <td>[{'label': 'display', 'lat': 40.711368, 'lng': -74.017019}]</td>\n",
       "      <td>423</td>\n",
       "      <td>10006</td>\n",
       "      <td>US</td>\n",
       "      <td>New York</td>\n",
       "      <td>NY</td>\n",
       "      <td>United States</td>\n",
       "      <td>[15 Rector St (at Greenwich St.), New York, NY 10006, United States]</td>\n",
       "      <td>NaN</td>\n",
       "      <td>4f4f9c2de4b0cad93c4b2709</td>\n",
       "    </tr>\n",
       "    <tr>\n",
       "      <th>2</th>\n",
       "      <td>USPS Post Office - Greeley Square Station</td>\n",
       "      <td>Post Office</td>\n",
       "      <td>31 West Broadway</td>\n",
       "      <td>NaN</td>\n",
       "      <td>40.714349</td>\n",
       "      <td>-74.010755</td>\n",
       "      <td>[{'label': 'display', 'lat': 40.71434944445903, 'lng': -74.01075486252175}]</td>\n",
       "      <td>392</td>\n",
       "      <td>10001</td>\n",
       "      <td>US</td>\n",
       "      <td>New York</td>\n",
       "      <td>NY</td>\n",
       "      <td>United States</td>\n",
       "      <td>[31 West Broadway, New York, NY 10001, United States]</td>\n",
       "      <td>NaN</td>\n",
       "      <td>4cacb5232f08236aca3f8e61</td>\n",
       "    </tr>\n",
       "    <tr>\n",
       "      <th>3</th>\n",
       "      <td>Scott Roen's Office</td>\n",
       "      <td>None</td>\n",
       "      <td>NaN</td>\n",
       "      <td>NaN</td>\n",
       "      <td>40.715120</td>\n",
       "      <td>-74.016020</td>\n",
       "      <td>[{'label': 'display', 'lat': 40.71512, 'lng': -74.01602}]</td>\n",
       "      <td>60</td>\n",
       "      <td>10282</td>\n",
       "      <td>US</td>\n",
       "      <td>New York</td>\n",
       "      <td>NY</td>\n",
       "      <td>United States</td>\n",
       "      <td>[New York, NY 10282, United States]</td>\n",
       "      <td>NaN</td>\n",
       "      <td>4e7ce9fcd3e324c5178ca981</td>\n",
       "    </tr>\n",
       "    <tr>\n",
       "      <th>4</th>\n",
       "      <td>Brookfield Office Properties</td>\n",
       "      <td>Real Estate Office</td>\n",
       "      <td>250 Vesey St Fl 15</td>\n",
       "      <td>NaN</td>\n",
       "      <td>40.714704</td>\n",
       "      <td>-74.014421</td>\n",
       "      <td>[{'label': 'display', 'lat': 40.71470398399014, 'lng': -74.01442050933838}]</td>\n",
       "      <td>82</td>\n",
       "      <td>10080</td>\n",
       "      <td>US</td>\n",
       "      <td>New York</td>\n",
       "      <td>NY</td>\n",
       "      <td>United States</td>\n",
       "      <td>[250 Vesey St Fl 15, New York, NY 10080, United States]</td>\n",
       "      <td>NaN</td>\n",
       "      <td>55a50090498e08199568a229</td>\n",
       "    </tr>\n",
       "    <tr>\n",
       "      <th>5</th>\n",
       "      <td>Saks Off Fifth Corporate Office</td>\n",
       "      <td>Office</td>\n",
       "      <td>250 Vesey St</td>\n",
       "      <td>NaN</td>\n",
       "      <td>40.713828</td>\n",
       "      <td>-74.015909</td>\n",
       "      <td>[{'label': 'display', 'lat': 40.713828, 'lng': -74.015909}]</td>\n",
       "      <td>134</td>\n",
       "      <td>10281</td>\n",
       "      <td>US</td>\n",
       "      <td>New York</td>\n",
       "      <td>NY</td>\n",
       "      <td>United States</td>\n",
       "      <td>[250 Vesey St, New York, NY 10281, United States]</td>\n",
       "      <td>NaN</td>\n",
       "      <td>57bae630498e82c71f52764b</td>\n",
       "    </tr>\n",
       "    <tr>\n",
       "      <th>6</th>\n",
       "      <td>NYCHA (Central Office)</td>\n",
       "      <td>Government Building</td>\n",
       "      <td>90 Church St</td>\n",
       "      <td>btwn Barclay St. &amp; Vesey St.</td>\n",
       "      <td>40.712496</td>\n",
       "      <td>-74.009868</td>\n",
       "      <td>[{'label': 'display', 'lat': 40.7124960592739, 'lng': -74.00986808757679}]</td>\n",
       "      <td>536</td>\n",
       "      <td>10007</td>\n",
       "      <td>US</td>\n",
       "      <td>New York</td>\n",
       "      <td>NY</td>\n",
       "      <td>United States</td>\n",
       "      <td>[90 Church St (btwn Barclay St. &amp; Vesey St.), New York, NY 10007, United States]</td>\n",
       "      <td>NaN</td>\n",
       "      <td>4c957755c8a1bfb7e89024f3</td>\n",
       "    </tr>\n",
       "    <tr>\n",
       "      <th>7</th>\n",
       "      <td>Luke's Office</td>\n",
       "      <td>Office</td>\n",
       "      <td>NaN</td>\n",
       "      <td>NaN</td>\n",
       "      <td>40.713969</td>\n",
       "      <td>-74.014196</td>\n",
       "      <td>[{'label': 'display', 'lat': 40.71396915136241, 'lng': -74.01419552516819}]</td>\n",
       "      <td>146</td>\n",
       "      <td>10280</td>\n",
       "      <td>US</td>\n",
       "      <td>New York</td>\n",
       "      <td>NY</td>\n",
       "      <td>United States</td>\n",
       "      <td>[New York, NY 10280, United States]</td>\n",
       "      <td>NaN</td>\n",
       "      <td>50759499e4b070d8a9d64834</td>\n",
       "    </tr>\n",
       "    <tr>\n",
       "      <th>8</th>\n",
       "      <td>Asphalt Green</td>\n",
       "      <td>Gym</td>\n",
       "      <td>212 N End Ave</td>\n",
       "      <td>Murray</td>\n",
       "      <td>40.716035</td>\n",
       "      <td>-74.014815</td>\n",
       "      <td>[{'label': 'display', 'lat': 40.716035466649885, 'lng': -74.01481525101102}]</td>\n",
       "      <td>128</td>\n",
       "      <td>10282</td>\n",
       "      <td>US</td>\n",
       "      <td>New York</td>\n",
       "      <td>NY</td>\n",
       "      <td>United States</td>\n",
       "      <td>[212 N End Ave (Murray), New York, NY 10282, United States]</td>\n",
       "      <td>NaN</td>\n",
       "      <td>4e74ddbe52b1c8e519301429</td>\n",
       "    </tr>\n",
       "    <tr>\n",
       "      <th>9</th>\n",
       "      <td>Tony's Office</td>\n",
       "      <td>Office</td>\n",
       "      <td>NaN</td>\n",
       "      <td>NaN</td>\n",
       "      <td>40.713980</td>\n",
       "      <td>-74.014276</td>\n",
       "      <td>[{'label': 'display', 'lat': 40.71397965362095, 'lng': -74.01427586011309}]</td>\n",
       "      <td>140</td>\n",
       "      <td>NaN</td>\n",
       "      <td>US</td>\n",
       "      <td>New York</td>\n",
       "      <td>NY</td>\n",
       "      <td>United States</td>\n",
       "      <td>[New York, NY, United States]</td>\n",
       "      <td>NaN</td>\n",
       "      <td>4df7ab1445dda2db2f1d4494</td>\n",
       "    </tr>\n",
       "    <tr>\n",
       "      <th>10</th>\n",
       "      <td>Sheindlin Law Firm</td>\n",
       "      <td>Lawyer</td>\n",
       "      <td>200 Vesey St</td>\n",
       "      <td>NaN</td>\n",
       "      <td>40.713938</td>\n",
       "      <td>-74.014897</td>\n",
       "      <td>[{'label': 'display', 'lat': 40.71393841, 'lng': -74.01489712}]</td>\n",
       "      <td>119</td>\n",
       "      <td>10281</td>\n",
       "      <td>US</td>\n",
       "      <td>New York</td>\n",
       "      <td>NY</td>\n",
       "      <td>United States</td>\n",
       "      <td>[200 Vesey St, New York, NY 10281, United States]</td>\n",
       "      <td>NaN</td>\n",
       "      <td>57cfa3d8498efe27679acb3a</td>\n",
       "    </tr>\n",
       "    <tr>\n",
       "      <th>11</th>\n",
       "      <td>Duygu's Lovely Office</td>\n",
       "      <td>Office</td>\n",
       "      <td>NaN</td>\n",
       "      <td>NaN</td>\n",
       "      <td>40.713554</td>\n",
       "      <td>-74.014976</td>\n",
       "      <td>[{'label': 'display', 'lat': 40.71355350150081, 'lng': -74.01497592034573}]</td>\n",
       "      <td>159</td>\n",
       "      <td>10007</td>\n",
       "      <td>US</td>\n",
       "      <td>New York</td>\n",
       "      <td>NY</td>\n",
       "      <td>United States</td>\n",
       "      <td>[New York, NY 10007, United States]</td>\n",
       "      <td>NaN</td>\n",
       "      <td>4fecb0e1e4b0e23ed21b2f2d</td>\n",
       "    </tr>\n",
       "    <tr>\n",
       "      <th>12</th>\n",
       "      <td>Kate's Office - MBF Asset Management</td>\n",
       "      <td>Office</td>\n",
       "      <td>1 N End Ave</td>\n",
       "      <td>NaN</td>\n",
       "      <td>40.714535</td>\n",
       "      <td>-74.016915</td>\n",
       "      <td>[{'label': 'display', 'lat': 40.714535, 'lng': -74.016915}]</td>\n",
       "      <td>141</td>\n",
       "      <td>10282</td>\n",
       "      <td>US</td>\n",
       "      <td>New York</td>\n",
       "      <td>NY</td>\n",
       "      <td>United States</td>\n",
       "      <td>[1 N End Ave, New York, NY 10282, United States]</td>\n",
       "      <td>NaN</td>\n",
       "      <td>4e270c467d8b5ea72479a31b</td>\n",
       "    </tr>\n",
       "    <tr>\n",
       "      <th>13</th>\n",
       "      <td>Office of the Registrar - Borough of Manhattan Community College (BMCC)</td>\n",
       "      <td>College Administrative Building</td>\n",
       "      <td>199 Chambers St</td>\n",
       "      <td>Hudson St</td>\n",
       "      <td>40.717967</td>\n",
       "      <td>-74.011367</td>\n",
       "      <td>[{'label': 'display', 'lat': 40.717967, 'lng': -74.011367}]</td>\n",
       "      <td>473</td>\n",
       "      <td>10007</td>\n",
       "      <td>US</td>\n",
       "      <td>New York</td>\n",
       "      <td>NY</td>\n",
       "      <td>United States</td>\n",
       "      <td>[199 Chambers St (Hudson St), New York, NY 10007, United States]</td>\n",
       "      <td>NaN</td>\n",
       "      <td>51082efce4b095c586cddcb3</td>\n",
       "    </tr>\n",
       "    <tr>\n",
       "      <th>14</th>\n",
       "      <td>City Of New York/ Office Of Management And Budget</td>\n",
       "      <td>Government Building</td>\n",
       "      <td>75 Park Pl</td>\n",
       "      <td>Greenwich Street</td>\n",
       "      <td>40.714415</td>\n",
       "      <td>-74.010878</td>\n",
       "      <td>[{'label': 'display', 'lat': 40.71441479939009, 'lng': -74.01087755808095}]</td>\n",
       "      <td>381</td>\n",
       "      <td>10007</td>\n",
       "      <td>US</td>\n",
       "      <td>New York</td>\n",
       "      <td>NY</td>\n",
       "      <td>United States</td>\n",
       "      <td>[75 Park Pl (Greenwich Street), New York, NY 10007, United States]</td>\n",
       "      <td>NaN</td>\n",
       "      <td>4c0e8ea0336220a10969cc77</td>\n",
       "    </tr>\n",
       "    <tr>\n",
       "      <th>15</th>\n",
       "      <td>Robot's Post</td>\n",
       "      <td>None</td>\n",
       "      <td>North End Ave</td>\n",
       "      <td>Chambers</td>\n",
       "      <td>40.716157</td>\n",
       "      <td>-74.013120</td>\n",
       "      <td>[{'label': 'display', 'lat': 40.716157, 'lng': -74.01312}]</td>\n",
       "      <td>229</td>\n",
       "      <td>NaN</td>\n",
       "      <td>US</td>\n",
       "      <td>New York</td>\n",
       "      <td>NY</td>\n",
       "      <td>United States</td>\n",
       "      <td>[North End Ave (Chambers), New York, NY, United States]</td>\n",
       "      <td>NaN</td>\n",
       "      <td>4d5569f5cff7721eaa80a9f5</td>\n",
       "    </tr>\n",
       "    <tr>\n",
       "      <th>16</th>\n",
       "      <td>HBC Saks Fifth Avenue Corporate Offices</td>\n",
       "      <td>Office</td>\n",
       "      <td>225 Liberty St</td>\n",
       "      <td>South End Avenue</td>\n",
       "      <td>40.712330</td>\n",
       "      <td>-74.015549</td>\n",
       "      <td>[{'label': 'display', 'lat': 40.71233013243762, 'lng': -74.01554917384}]</td>\n",
       "      <td>292</td>\n",
       "      <td>10281</td>\n",
       "      <td>US</td>\n",
       "      <td>New York</td>\n",
       "      <td>NY</td>\n",
       "      <td>United States</td>\n",
       "      <td>[225 Liberty St (South End Avenue), New York, NY 10281, United States]</td>\n",
       "      <td>Battery Park City</td>\n",
       "      <td>57c982e1498e12bbb696e8f5</td>\n",
       "    </tr>\n",
       "    <tr>\n",
       "      <th>17</th>\n",
       "      <td>Dave's Office</td>\n",
       "      <td>Building</td>\n",
       "      <td>32-320</td>\n",
       "      <td>GNMI</td>\n",
       "      <td>40.713334</td>\n",
       "      <td>-74.014247</td>\n",
       "      <td>[{'label': 'display', 'lat': 40.71333441034191, 'lng': -74.01424716906523}]</td>\n",
       "      <td>202</td>\n",
       "      <td>NaN</td>\n",
       "      <td>US</td>\n",
       "      <td>New York</td>\n",
       "      <td>NY</td>\n",
       "      <td>United States</td>\n",
       "      <td>[32-320 (GNMI), New York, NY, United States]</td>\n",
       "      <td>NaN</td>\n",
       "      <td>4df933151f6e2728c9eeedbc</td>\n",
       "    </tr>\n",
       "    <tr>\n",
       "      <th>18</th>\n",
       "      <td>GSA Federal Office Building</td>\n",
       "      <td>Office</td>\n",
       "      <td>1 WTC</td>\n",
       "      <td>NaN</td>\n",
       "      <td>40.713017</td>\n",
       "      <td>-74.012388</td>\n",
       "      <td>[{'label': 'display', 'lat': 40.71301679283298, 'lng': -74.01238764890681}]</td>\n",
       "      <td>329</td>\n",
       "      <td>10007</td>\n",
       "      <td>US</td>\n",
       "      <td>New York</td>\n",
       "      <td>NY</td>\n",
       "      <td>United States</td>\n",
       "      <td>[1 WTC, New York, NY 10007, United States]</td>\n",
       "      <td>NaN</td>\n",
       "      <td>4dc142aa1f6e7441cf490cf1</td>\n",
       "    </tr>\n",
       "    <tr>\n",
       "      <th>19</th>\n",
       "      <td>st. john's university manhattan campus IT office</td>\n",
       "      <td>College Administrative Building</td>\n",
       "      <td>101 Murray St</td>\n",
       "      <td>NaN</td>\n",
       "      <td>40.715246</td>\n",
       "      <td>-74.013071</td>\n",
       "      <td>[{'label': 'display', 'lat': 40.715246383352486, 'lng': -74.01307083239222}]</td>\n",
       "      <td>193</td>\n",
       "      <td>10007</td>\n",
       "      <td>US</td>\n",
       "      <td>New York</td>\n",
       "      <td>NY</td>\n",
       "      <td>United States</td>\n",
       "      <td>[101 Murray St, New York, NY 10007, United States]</td>\n",
       "      <td>NaN</td>\n",
       "      <td>4cfe79d6c6cca35ded5f9c32</td>\n",
       "    </tr>\n",
       "    <tr>\n",
       "      <th>20</th>\n",
       "      <td>Mike's Office - 31st Floor</td>\n",
       "      <td>Office</td>\n",
       "      <td>NaN</td>\n",
       "      <td>NaN</td>\n",
       "      <td>40.713104</td>\n",
       "      <td>-74.015674</td>\n",
       "      <td>[{'label': 'display', 'lat': 40.713104, 'lng': -74.015674}]</td>\n",
       "      <td>208</td>\n",
       "      <td>NaN</td>\n",
       "      <td>US</td>\n",
       "      <td>NaN</td>\n",
       "      <td>New York</td>\n",
       "      <td>United States</td>\n",
       "      <td>[New York, United States]</td>\n",
       "      <td>NaN</td>\n",
       "      <td>4e67b7b9b61cf40ed6c4ad4d</td>\n",
       "    </tr>\n",
       "    <tr>\n",
       "      <th>21</th>\n",
       "      <td>Porter Novelli -Anthony's Office</td>\n",
       "      <td>Event Space</td>\n",
       "      <td>NaN</td>\n",
       "      <td>NaN</td>\n",
       "      <td>40.713400</td>\n",
       "      <td>-74.012061</td>\n",
       "      <td>[{'label': 'display', 'lat': 40.7134, 'lng': -74.012061}]</td>\n",
       "      <td>326</td>\n",
       "      <td>NaN</td>\n",
       "      <td>US</td>\n",
       "      <td>NaN</td>\n",
       "      <td>New York</td>\n",
       "      <td>United States</td>\n",
       "      <td>[New York, United States]</td>\n",
       "      <td>NaN</td>\n",
       "      <td>4e2f0a6922717d70585c701f</td>\n",
       "    </tr>\n",
       "    <tr>\n",
       "      <th>22</th>\n",
       "      <td>The People's Counsel - Law Offices of Charles L. Barberio IV</td>\n",
       "      <td>Miscellaneous Shop</td>\n",
       "      <td>4542 W Pine Blvd</td>\n",
       "      <td>NaN</td>\n",
       "      <td>40.714532</td>\n",
       "      <td>-74.017028</td>\n",
       "      <td>[{'label': 'display', 'lat': 40.71453158307841, 'lng': -74.01702761650085}]</td>\n",
       "      <td>150</td>\n",
       "      <td>63108</td>\n",
       "      <td>US</td>\n",
       "      <td>Saint Louis</td>\n",
       "      <td>MO</td>\n",
       "      <td>United States</td>\n",
       "      <td>[4542 W Pine Blvd, Saint Louis, MO 63108, United States]</td>\n",
       "      <td>NaN</td>\n",
       "      <td>593e32a567af3a7da003e1e1</td>\n",
       "    </tr>\n",
       "    <tr>\n",
       "      <th>23</th>\n",
       "      <td>E-J Remote Office Ground Zero</td>\n",
       "      <td>Building</td>\n",
       "      <td>NaN</td>\n",
       "      <td>NaN</td>\n",
       "      <td>40.711311</td>\n",
       "      <td>-74.013168</td>\n",
       "      <td>[{'label': 'display', 'lat': 40.71131091765911, 'lng': -74.0131683825381}]</td>\n",
       "      <td>445</td>\n",
       "      <td>NaN</td>\n",
       "      <td>US</td>\n",
       "      <td>NaN</td>\n",
       "      <td>New York</td>\n",
       "      <td>United States</td>\n",
       "      <td>[New York, United States]</td>\n",
       "      <td>NaN</td>\n",
       "      <td>4ea032de02d54bd975de0258</td>\n",
       "    </tr>\n",
       "    <tr>\n",
       "      <th>24</th>\n",
       "      <td>Inc.</td>\n",
       "      <td>Office</td>\n",
       "      <td>250 Greenwich St</td>\n",
       "      <td>NaN</td>\n",
       "      <td>40.713319</td>\n",
       "      <td>-74.012035</td>\n",
       "      <td>[{'label': 'display', 'lat': 40.71331874545327, 'lng': -74.0120347339482}]</td>\n",
       "      <td>332</td>\n",
       "      <td>10007</td>\n",
       "      <td>US</td>\n",
       "      <td>New York</td>\n",
       "      <td>NY</td>\n",
       "      <td>United States</td>\n",
       "      <td>[250 Greenwich St, New York, NY 10007, United States]</td>\n",
       "      <td>NaN</td>\n",
       "      <td>4e01fda31495692a4bba9058</td>\n",
       "    </tr>\n",
       "    <tr>\n",
       "      <th>25</th>\n",
       "      <td>NYC DoITT - 255G</td>\n",
       "      <td>Government Building</td>\n",
       "      <td>255 Greenwich St</td>\n",
       "      <td>@ Park Pl</td>\n",
       "      <td>40.714483</td>\n",
       "      <td>-74.010650</td>\n",
       "      <td>[{'label': 'display', 'lat': 40.714482894514546, 'lng': -74.01064977111265}]</td>\n",
       "      <td>398</td>\n",
       "      <td>10007</td>\n",
       "      <td>US</td>\n",
       "      <td>New York</td>\n",
       "      <td>NY</td>\n",
       "      <td>United States</td>\n",
       "      <td>[255 Greenwich St (@ Park Pl), New York, NY 10007, United States]</td>\n",
       "      <td>NaN</td>\n",
       "      <td>4bbb97b7ed7776b020a63e51</td>\n",
       "    </tr>\n",
       "    <tr>\n",
       "      <th>26</th>\n",
       "      <td>BMCC Registrar's Office-S315</td>\n",
       "      <td>College Administrative Building</td>\n",
       "      <td>199 Chambers St</td>\n",
       "      <td>NaN</td>\n",
       "      <td>40.718044</td>\n",
       "      <td>-74.012156</td>\n",
       "      <td>[{'label': 'display', 'lat': 40.718044356938094, 'lng': -74.01215580901878}]</td>\n",
       "      <td>436</td>\n",
       "      <td>10007</td>\n",
       "      <td>US</td>\n",
       "      <td>New York</td>\n",
       "      <td>NY</td>\n",
       "      <td>United States</td>\n",
       "      <td>[199 Chambers St, New York, NY 10007, United States]</td>\n",
       "      <td>NaN</td>\n",
       "      <td>513e3716e4b0fa51917c3a50</td>\n",
       "    </tr>\n",
       "    <tr>\n",
       "      <th>27</th>\n",
       "      <td>Tribeca CERT command post</td>\n",
       "      <td>Office</td>\n",
       "      <td>NaN</td>\n",
       "      <td>NaN</td>\n",
       "      <td>40.717792</td>\n",
       "      <td>-74.010868</td>\n",
       "      <td>[{'label': 'display', 'lat': 40.717792, 'lng': -74.010868}]</td>\n",
       "      <td>491</td>\n",
       "      <td>NaN</td>\n",
       "      <td>US</td>\n",
       "      <td>New York</td>\n",
       "      <td>NY</td>\n",
       "      <td>United States</td>\n",
       "      <td>[New York, NY, United States]</td>\n",
       "      <td>NaN</td>\n",
       "      <td>52e59857498ee6d8dc32c62d</td>\n",
       "    </tr>\n",
       "    <tr>\n",
       "      <th>28</th>\n",
       "      <td>Ericsson WTC Office</td>\n",
       "      <td>Office</td>\n",
       "      <td>WTC</td>\n",
       "      <td>Tower D F:10</td>\n",
       "      <td>40.713436</td>\n",
       "      <td>-74.012505</td>\n",
       "      <td>[{'label': 'display', 'lat': 40.713436126708984, 'lng': -74.01250457763672}]</td>\n",
       "      <td>292</td>\n",
       "      <td>NaN</td>\n",
       "      <td>US</td>\n",
       "      <td>Amsterdam</td>\n",
       "      <td>NY</td>\n",
       "      <td>United States</td>\n",
       "      <td>[WTC (Tower D F:10), Amsterdam, NY, United States]</td>\n",
       "      <td>NaN</td>\n",
       "      <td>54e2f586498edfbffd788735</td>\n",
       "    </tr>\n",
       "    <tr>\n",
       "      <th>29</th>\n",
       "      <td>Law Office of Lina M. Viviano</td>\n",
       "      <td>Lawyer</td>\n",
       "      <td>400 Chambers St Apt 8E</td>\n",
       "      <td>West Side Highway</td>\n",
       "      <td>40.717664</td>\n",
       "      <td>-74.014871</td>\n",
       "      <td>[{'label': 'display', 'lat': 40.717664003775404, 'lng': -74.01487112045287}]</td>\n",
       "      <td>304</td>\n",
       "      <td>10282</td>\n",
       "      <td>US</td>\n",
       "      <td>New York</td>\n",
       "      <td>NY</td>\n",
       "      <td>United States</td>\n",
       "      <td>[400 Chambers St Apt 8E (West Side Highway), New York, NY 10282, United States]</td>\n",
       "      <td>NaN</td>\n",
       "      <td>51169e0a011c8a20af678741</td>\n",
       "    </tr>\n",
       "  </tbody>\n",
       "</table>\n",
       "</div>"
      ],
      "text/plain": [
       "                                                                       name  \\\n",
       "0   US Post Office—Church Street Station                                      \n",
       "1   US Post Office - Battery Park Retail Unit APC                             \n",
       "2   USPS Post Office - Greeley Square Station                                 \n",
       "3   Scott Roen's Office                                                       \n",
       "4   Brookfield Office Properties                                              \n",
       "5   Saks Off Fifth Corporate Office                                           \n",
       "6   NYCHA (Central Office)                                                    \n",
       "7   Luke's Office                                                             \n",
       "8   Asphalt Green                                                             \n",
       "9   Tony's Office                                                             \n",
       "10  Sheindlin Law Firm                                                        \n",
       "11  Duygu's Lovely Office                                                     \n",
       "12  Kate's Office - MBF Asset Management                                      \n",
       "13  Office of the Registrar - Borough of Manhattan Community College (BMCC)   \n",
       "14  City Of New York/ Office Of Management And Budget                         \n",
       "15  Robot's Post                                                              \n",
       "16  HBC Saks Fifth Avenue Corporate Offices                                   \n",
       "17  Dave's Office                                                             \n",
       "18  GSA Federal Office Building                                               \n",
       "19  st. john's university manhattan campus IT office                          \n",
       "20  Mike's Office - 31st Floor                                                \n",
       "21  Porter Novelli -Anthony's Office                                          \n",
       "22  The People's Counsel - Law Offices of Charles L. Barberio IV              \n",
       "23  E-J Remote Office Ground Zero                                             \n",
       "24  Inc.                                                                      \n",
       "25  NYC DoITT - 255G                                                          \n",
       "26  BMCC Registrar's Office-S315                                              \n",
       "27  Tribeca CERT command post                                                 \n",
       "28  Ericsson WTC Office                                                       \n",
       "29  Law Office of Lina M. Viviano                                             \n",
       "\n",
       "                         categories                 address  \\\n",
       "0   Post Office                      90 Church St             \n",
       "1   Post Office                      15 Rector St             \n",
       "2   Post Office                      31 West Broadway         \n",
       "3   None                             NaN                      \n",
       "4   Real Estate Office               250 Vesey St Fl 15       \n",
       "5   Office                           250 Vesey St             \n",
       "6   Government Building              90 Church St             \n",
       "7   Office                           NaN                      \n",
       "8   Gym                              212 N End Ave            \n",
       "9   Office                           NaN                      \n",
       "10  Lawyer                           200 Vesey St             \n",
       "11  Office                           NaN                      \n",
       "12  Office                           1 N End Ave              \n",
       "13  College Administrative Building  199 Chambers St          \n",
       "14  Government Building              75 Park Pl               \n",
       "15  None                             North End Ave            \n",
       "16  Office                           225 Liberty St           \n",
       "17  Building                         32-320                   \n",
       "18  Office                           1 WTC                    \n",
       "19  College Administrative Building  101 Murray St            \n",
       "20  Office                           NaN                      \n",
       "21  Event Space                      NaN                      \n",
       "22  Miscellaneous Shop               4542 W Pine Blvd         \n",
       "23  Building                         NaN                      \n",
       "24  Office                           250 Greenwich St         \n",
       "25  Government Building              255 Greenwich St         \n",
       "26  College Administrative Building  199 Chambers St          \n",
       "27  Office                           NaN                      \n",
       "28  Office                           WTC                      \n",
       "29  Lawyer                           400 Chambers St Apt 8E   \n",
       "\n",
       "                     crossStreet        lat        lng  \\\n",
       "0   at Barclay St                 40.712877 -74.010599   \n",
       "1   at Greenwich St.              40.711368 -74.017019   \n",
       "2   NaN                           40.714349 -74.010755   \n",
       "3   NaN                           40.715120 -74.016020   \n",
       "4   NaN                           40.714704 -74.014421   \n",
       "5   NaN                           40.713828 -74.015909   \n",
       "6   btwn Barclay St. & Vesey St.  40.712496 -74.009868   \n",
       "7   NaN                           40.713969 -74.014196   \n",
       "8   Murray                        40.716035 -74.014815   \n",
       "9   NaN                           40.713980 -74.014276   \n",
       "10  NaN                           40.713938 -74.014897   \n",
       "11  NaN                           40.713554 -74.014976   \n",
       "12  NaN                           40.714535 -74.016915   \n",
       "13  Hudson St                     40.717967 -74.011367   \n",
       "14  Greenwich Street              40.714415 -74.010878   \n",
       "15  Chambers                      40.716157 -74.013120   \n",
       "16  South End Avenue              40.712330 -74.015549   \n",
       "17  GNMI                          40.713334 -74.014247   \n",
       "18  NaN                           40.713017 -74.012388   \n",
       "19  NaN                           40.715246 -74.013071   \n",
       "20  NaN                           40.713104 -74.015674   \n",
       "21  NaN                           40.713400 -74.012061   \n",
       "22  NaN                           40.714532 -74.017028   \n",
       "23  NaN                           40.711311 -74.013168   \n",
       "24  NaN                           40.713319 -74.012035   \n",
       "25  @ Park Pl                     40.714483 -74.010650   \n",
       "26  NaN                           40.718044 -74.012156   \n",
       "27  NaN                           40.717792 -74.010868   \n",
       "28  Tower D F:10                  40.713436 -74.012505   \n",
       "29  West Side Highway             40.717664 -74.014871   \n",
       "\n",
       "                                                                  labeledLatLngs  \\\n",
       "0   [{'label': 'display', 'lat': 40.71287676753995, 'lng': -74.01059852628421}]    \n",
       "1   [{'label': 'display', 'lat': 40.711368, 'lng': -74.017019}]                    \n",
       "2   [{'label': 'display', 'lat': 40.71434944445903, 'lng': -74.01075486252175}]    \n",
       "3   [{'label': 'display', 'lat': 40.71512, 'lng': -74.01602}]                      \n",
       "4   [{'label': 'display', 'lat': 40.71470398399014, 'lng': -74.01442050933838}]    \n",
       "5   [{'label': 'display', 'lat': 40.713828, 'lng': -74.015909}]                    \n",
       "6   [{'label': 'display', 'lat': 40.7124960592739, 'lng': -74.00986808757679}]     \n",
       "7   [{'label': 'display', 'lat': 40.71396915136241, 'lng': -74.01419552516819}]    \n",
       "8   [{'label': 'display', 'lat': 40.716035466649885, 'lng': -74.01481525101102}]   \n",
       "9   [{'label': 'display', 'lat': 40.71397965362095, 'lng': -74.01427586011309}]    \n",
       "10  [{'label': 'display', 'lat': 40.71393841, 'lng': -74.01489712}]                \n",
       "11  [{'label': 'display', 'lat': 40.71355350150081, 'lng': -74.01497592034573}]    \n",
       "12  [{'label': 'display', 'lat': 40.714535, 'lng': -74.016915}]                    \n",
       "13  [{'label': 'display', 'lat': 40.717967, 'lng': -74.011367}]                    \n",
       "14  [{'label': 'display', 'lat': 40.71441479939009, 'lng': -74.01087755808095}]    \n",
       "15  [{'label': 'display', 'lat': 40.716157, 'lng': -74.01312}]                     \n",
       "16  [{'label': 'display', 'lat': 40.71233013243762, 'lng': -74.01554917384}]       \n",
       "17  [{'label': 'display', 'lat': 40.71333441034191, 'lng': -74.01424716906523}]    \n",
       "18  [{'label': 'display', 'lat': 40.71301679283298, 'lng': -74.01238764890681}]    \n",
       "19  [{'label': 'display', 'lat': 40.715246383352486, 'lng': -74.01307083239222}]   \n",
       "20  [{'label': 'display', 'lat': 40.713104, 'lng': -74.015674}]                    \n",
       "21  [{'label': 'display', 'lat': 40.7134, 'lng': -74.012061}]                      \n",
       "22  [{'label': 'display', 'lat': 40.71453158307841, 'lng': -74.01702761650085}]    \n",
       "23  [{'label': 'display', 'lat': 40.71131091765911, 'lng': -74.0131683825381}]     \n",
       "24  [{'label': 'display', 'lat': 40.71331874545327, 'lng': -74.0120347339482}]     \n",
       "25  [{'label': 'display', 'lat': 40.714482894514546, 'lng': -74.01064977111265}]   \n",
       "26  [{'label': 'display', 'lat': 40.718044356938094, 'lng': -74.01215580901878}]   \n",
       "27  [{'label': 'display', 'lat': 40.717792, 'lng': -74.010868}]                    \n",
       "28  [{'label': 'display', 'lat': 40.713436126708984, 'lng': -74.01250457763672}]   \n",
       "29  [{'label': 'display', 'lat': 40.717664003775404, 'lng': -74.01487112045287}]   \n",
       "\n",
       "    distance postalCode  cc         city     state        country  \\\n",
       "0   461       10007      US  New York     NY        United States   \n",
       "1   423       10006      US  New York     NY        United States   \n",
       "2   392       10001      US  New York     NY        United States   \n",
       "3   60        10282      US  New York     NY        United States   \n",
       "4   82        10080      US  New York     NY        United States   \n",
       "5   134       10281      US  New York     NY        United States   \n",
       "6   536       10007      US  New York     NY        United States   \n",
       "7   146       10280      US  New York     NY        United States   \n",
       "8   128       10282      US  New York     NY        United States   \n",
       "9   140       NaN        US  New York     NY        United States   \n",
       "10  119       10281      US  New York     NY        United States   \n",
       "11  159       10007      US  New York     NY        United States   \n",
       "12  141       10282      US  New York     NY        United States   \n",
       "13  473       10007      US  New York     NY        United States   \n",
       "14  381       10007      US  New York     NY        United States   \n",
       "15  229       NaN        US  New York     NY        United States   \n",
       "16  292       10281      US  New York     NY        United States   \n",
       "17  202       NaN        US  New York     NY        United States   \n",
       "18  329       10007      US  New York     NY        United States   \n",
       "19  193       10007      US  New York     NY        United States   \n",
       "20  208       NaN        US  NaN          New York  United States   \n",
       "21  326       NaN        US  NaN          New York  United States   \n",
       "22  150       63108      US  Saint Louis  MO        United States   \n",
       "23  445       NaN        US  NaN          New York  United States   \n",
       "24  332       10007      US  New York     NY        United States   \n",
       "25  398       10007      US  New York     NY        United States   \n",
       "26  436       10007      US  New York     NY        United States   \n",
       "27  491       NaN        US  New York     NY        United States   \n",
       "28  292       NaN        US  Amsterdam    NY        United States   \n",
       "29  304       10282      US  New York     NY        United States   \n",
       "\n",
       "                                                                    formattedAddress  \\\n",
       "0   [90 Church St (at Barclay St), New York, NY 10007, United States]                  \n",
       "1   [15 Rector St (at Greenwich St.), New York, NY 10006, United States]               \n",
       "2   [31 West Broadway, New York, NY 10001, United States]                              \n",
       "3   [New York, NY 10282, United States]                                                \n",
       "4   [250 Vesey St Fl 15, New York, NY 10080, United States]                            \n",
       "5   [250 Vesey St, New York, NY 10281, United States]                                  \n",
       "6   [90 Church St (btwn Barclay St. & Vesey St.), New York, NY 10007, United States]   \n",
       "7   [New York, NY 10280, United States]                                                \n",
       "8   [212 N End Ave (Murray), New York, NY 10282, United States]                        \n",
       "9   [New York, NY, United States]                                                      \n",
       "10  [200 Vesey St, New York, NY 10281, United States]                                  \n",
       "11  [New York, NY 10007, United States]                                                \n",
       "12  [1 N End Ave, New York, NY 10282, United States]                                   \n",
       "13  [199 Chambers St (Hudson St), New York, NY 10007, United States]                   \n",
       "14  [75 Park Pl (Greenwich Street), New York, NY 10007, United States]                 \n",
       "15  [North End Ave (Chambers), New York, NY, United States]                            \n",
       "16  [225 Liberty St (South End Avenue), New York, NY 10281, United States]             \n",
       "17  [32-320 (GNMI), New York, NY, United States]                                       \n",
       "18  [1 WTC, New York, NY 10007, United States]                                         \n",
       "19  [101 Murray St, New York, NY 10007, United States]                                 \n",
       "20  [New York, United States]                                                          \n",
       "21  [New York, United States]                                                          \n",
       "22  [4542 W Pine Blvd, Saint Louis, MO 63108, United States]                           \n",
       "23  [New York, United States]                                                          \n",
       "24  [250 Greenwich St, New York, NY 10007, United States]                              \n",
       "25  [255 Greenwich St (@ Park Pl), New York, NY 10007, United States]                  \n",
       "26  [199 Chambers St, New York, NY 10007, United States]                               \n",
       "27  [New York, NY, United States]                                                      \n",
       "28  [WTC (Tower D F:10), Amsterdam, NY, United States]                                 \n",
       "29  [400 Chambers St Apt 8E (West Side Highway), New York, NY 10282, United States]    \n",
       "\n",
       "         neighborhood                        id  \n",
       "0   NaN                4a81c3c6f964a52080f71fe3  \n",
       "1   NaN                4f4f9c2de4b0cad93c4b2709  \n",
       "2   NaN                4cacb5232f08236aca3f8e61  \n",
       "3   NaN                4e7ce9fcd3e324c5178ca981  \n",
       "4   NaN                55a50090498e08199568a229  \n",
       "5   NaN                57bae630498e82c71f52764b  \n",
       "6   NaN                4c957755c8a1bfb7e89024f3  \n",
       "7   NaN                50759499e4b070d8a9d64834  \n",
       "8   NaN                4e74ddbe52b1c8e519301429  \n",
       "9   NaN                4df7ab1445dda2db2f1d4494  \n",
       "10  NaN                57cfa3d8498efe27679acb3a  \n",
       "11  NaN                4fecb0e1e4b0e23ed21b2f2d  \n",
       "12  NaN                4e270c467d8b5ea72479a31b  \n",
       "13  NaN                51082efce4b095c586cddcb3  \n",
       "14  NaN                4c0e8ea0336220a10969cc77  \n",
       "15  NaN                4d5569f5cff7721eaa80a9f5  \n",
       "16  Battery Park City  57c982e1498e12bbb696e8f5  \n",
       "17  NaN                4df933151f6e2728c9eeedbc  \n",
       "18  NaN                4dc142aa1f6e7441cf490cf1  \n",
       "19  NaN                4cfe79d6c6cca35ded5f9c32  \n",
       "20  NaN                4e67b7b9b61cf40ed6c4ad4d  \n",
       "21  NaN                4e2f0a6922717d70585c701f  \n",
       "22  NaN                593e32a567af3a7da003e1e1  \n",
       "23  NaN                4ea032de02d54bd975de0258  \n",
       "24  NaN                4e01fda31495692a4bba9058  \n",
       "25  NaN                4bbb97b7ed7776b020a63e51  \n",
       "26  NaN                513e3716e4b0fa51917c3a50  \n",
       "27  NaN                52e59857498ee6d8dc32c62d  \n",
       "28  NaN                54e2f586498edfbffd788735  \n",
       "29  NaN                51169e0a011c8a20af678741  "
      ]
     },
     "execution_count": 158,
     "metadata": {},
     "output_type": "execute_result"
    }
   ],
   "source": [
    "# keep only columns that include venue name, and anything that is associated with location\n",
    "filtered_columns = ['name', 'categories'] + [col for col in dataframe.columns if col.startswith('location.')] + ['id']\n",
    "dataframe_filtered = dataframe.loc[:, filtered_columns]\n",
    "\n",
    "# function that extracts the category of the venue\n",
    "def get_category_type(row):\n",
    "    try:\n",
    "        categories_list = row['categories']\n",
    "    except:\n",
    "        categories_list = row['venue.categories']\n",
    "        \n",
    "    if len(categories_list) == 0:\n",
    "        return None\n",
    "    else:\n",
    "        return categories_list[0]['name']\n",
    "\n",
    "# filter the category for each row\n",
    "dataframe_filtered['categories'] = dataframe_filtered.apply(get_category_type, axis=1)\n",
    "\n",
    "# clean column names by keeping only last term\n",
    "dataframe_filtered.columns = [column.split('.')[-1] for column in dataframe_filtered.columns]\n",
    "\n",
    "dataframe_filtered"
   ]
  },
  {
   "cell_type": "markdown",
   "metadata": {
    "button": false,
    "deletable": true,
    "new_sheet": false,
    "run_control": {
     "read_only": false
    }
   },
   "source": [
    "#### Let's visualize the Italian restaurants that are nearby"
   ]
  },
  {
   "cell_type": "code",
   "execution_count": 159,
   "metadata": {
    "button": false,
    "collapsed": false,
    "deletable": true,
    "jupyter": {
     "outputs_hidden": false
    },
    "new_sheet": false,
    "run_control": {
     "read_only": false
    }
   },
   "outputs": [
    {
     "data": {
      "text/plain": [
       "0     US Post Office—Church Street Station                                   \n",
       "1     US Post Office - Battery Park Retail Unit APC                          \n",
       "2     USPS Post Office - Greeley Square Station                              \n",
       "3     Scott Roen's Office                                                    \n",
       "4     Brookfield Office Properties                                           \n",
       "5     Saks Off Fifth Corporate Office                                        \n",
       "6     NYCHA (Central Office)                                                 \n",
       "7     Luke's Office                                                          \n",
       "8     Asphalt Green                                                          \n",
       "9     Tony's Office                                                          \n",
       "10    Sheindlin Law Firm                                                     \n",
       "11    Duygu's Lovely Office                                                  \n",
       "12    Kate's Office - MBF Asset Management                                   \n",
       "13    Office of the Registrar - Borough of Manhattan Community College (BMCC)\n",
       "14    City Of New York/ Office Of Management And Budget                      \n",
       "15    Robot's Post                                                           \n",
       "16    HBC Saks Fifth Avenue Corporate Offices                                \n",
       "17    Dave's Office                                                          \n",
       "18    GSA Federal Office Building                                            \n",
       "19    st. john's university manhattan campus IT office                       \n",
       "20    Mike's Office - 31st Floor                                             \n",
       "21    Porter Novelli -Anthony's Office                                       \n",
       "22    The People's Counsel - Law Offices of Charles L. Barberio IV           \n",
       "23    E-J Remote Office Ground Zero                                          \n",
       "24    Inc.                                                                   \n",
       "25    NYC DoITT - 255G                                                       \n",
       "26    BMCC Registrar's Office-S315                                           \n",
       "27    Tribeca CERT command post                                              \n",
       "28    Ericsson WTC Office                                                    \n",
       "29    Law Office of Lina M. Viviano                                          \n",
       "Name: name, dtype: object"
      ]
     },
     "execution_count": 159,
     "metadata": {},
     "output_type": "execute_result"
    }
   ],
   "source": [
    "dataframe_filtered.name"
   ]
  },
  {
   "cell_type": "code",
   "execution_count": 160,
   "metadata": {
    "button": false,
    "collapsed": false,
    "deletable": true,
    "jupyter": {
     "outputs_hidden": false
    },
    "new_sheet": false,
    "run_control": {
     "read_only": false
    }
   },
   "outputs": [
    {
     "data": {
      "text/html": [
       "<div style=\"width:100%;\"><div style=\"position:relative;width:100%;height:0;padding-bottom:60%;\"><iframe src=\"about:blank\" style=\"position:absolute;width:100%;height:100%;left:0;top:0;border:none !important;\" data-html=PCFET0NUWVBFIGh0bWw+CjxoZWFkPiAgICAKICAgIDxtZXRhIGh0dHAtZXF1aXY9ImNvbnRlbnQtdHlwZSIgY29udGVudD0idGV4dC9odG1sOyBjaGFyc2V0PVVURi04IiAvPgogICAgPHNjcmlwdD5MX1BSRUZFUl9DQU5WQVMgPSBmYWxzZTsgTF9OT19UT1VDSCA9IGZhbHNlOyBMX0RJU0FCTEVfM0QgPSBmYWxzZTs8L3NjcmlwdD4KICAgIDxzY3JpcHQgc3JjPSJodHRwczovL2Nkbi5qc2RlbGl2ci5uZXQvbnBtL2xlYWZsZXRAMS4yLjAvZGlzdC9sZWFmbGV0LmpzIj48L3NjcmlwdD4KICAgIDxzY3JpcHQgc3JjPSJodHRwczovL2FqYXguZ29vZ2xlYXBpcy5jb20vYWpheC9saWJzL2pxdWVyeS8xLjExLjEvanF1ZXJ5Lm1pbi5qcyI+PC9zY3JpcHQ+CiAgICA8c2NyaXB0IHNyYz0iaHR0cHM6Ly9tYXhjZG4uYm9vdHN0cmFwY2RuLmNvbS9ib290c3RyYXAvMy4yLjAvanMvYm9vdHN0cmFwLm1pbi5qcyI+PC9zY3JpcHQ+CiAgICA8c2NyaXB0IHNyYz0iaHR0cHM6Ly9jZG5qcy5jbG91ZGZsYXJlLmNvbS9hamF4L2xpYnMvTGVhZmxldC5hd2Vzb21lLW1hcmtlcnMvMi4wLjIvbGVhZmxldC5hd2Vzb21lLW1hcmtlcnMuanMiPjwvc2NyaXB0PgogICAgPGxpbmsgcmVsPSJzdHlsZXNoZWV0IiBocmVmPSJodHRwczovL2Nkbi5qc2RlbGl2ci5uZXQvbnBtL2xlYWZsZXRAMS4yLjAvZGlzdC9sZWFmbGV0LmNzcyIvPgogICAgPGxpbmsgcmVsPSJzdHlsZXNoZWV0IiBocmVmPSJodHRwczovL21heGNkbi5ib290c3RyYXBjZG4uY29tL2Jvb3RzdHJhcC8zLjIuMC9jc3MvYm9vdHN0cmFwLm1pbi5jc3MiLz4KICAgIDxsaW5rIHJlbD0ic3R5bGVzaGVldCIgaHJlZj0iaHR0cHM6Ly9tYXhjZG4uYm9vdHN0cmFwY2RuLmNvbS9ib290c3RyYXAvMy4yLjAvY3NzL2Jvb3RzdHJhcC10aGVtZS5taW4uY3NzIi8+CiAgICA8bGluayByZWw9InN0eWxlc2hlZXQiIGhyZWY9Imh0dHBzOi8vbWF4Y2RuLmJvb3RzdHJhcGNkbi5jb20vZm9udC1hd2Vzb21lLzQuNi4zL2Nzcy9mb250LWF3ZXNvbWUubWluLmNzcyIvPgogICAgPGxpbmsgcmVsPSJzdHlsZXNoZWV0IiBocmVmPSJodHRwczovL2NkbmpzLmNsb3VkZmxhcmUuY29tL2FqYXgvbGlicy9MZWFmbGV0LmF3ZXNvbWUtbWFya2Vycy8yLjAuMi9sZWFmbGV0LmF3ZXNvbWUtbWFya2Vycy5jc3MiLz4KICAgIDxsaW5rIHJlbD0ic3R5bGVzaGVldCIgaHJlZj0iaHR0cHM6Ly9yYXdnaXQuY29tL3B5dGhvbi12aXN1YWxpemF0aW9uL2ZvbGl1bS9tYXN0ZXIvZm9saXVtL3RlbXBsYXRlcy9sZWFmbGV0LmF3ZXNvbWUucm90YXRlLmNzcyIvPgogICAgPHN0eWxlPmh0bWwsIGJvZHkge3dpZHRoOiAxMDAlO2hlaWdodDogMTAwJTttYXJnaW46IDA7cGFkZGluZzogMDt9PC9zdHlsZT4KICAgIDxzdHlsZT4jbWFwIHtwb3NpdGlvbjphYnNvbHV0ZTt0b3A6MDtib3R0b206MDtyaWdodDowO2xlZnQ6MDt9PC9zdHlsZT4KICAgIAogICAgICAgICAgICA8c3R5bGU+ICNtYXBfMTJmMDhjYzhjM2FjNDFmNTg4ZmQ4OTk5NzY2NzFhNTUgewogICAgICAgICAgICAgICAgcG9zaXRpb24gOiByZWxhdGl2ZTsKICAgICAgICAgICAgICAgIHdpZHRoIDogMTAwLjAlOwogICAgICAgICAgICAgICAgaGVpZ2h0OiAxMDAuMCU7CiAgICAgICAgICAgICAgICBsZWZ0OiAwLjAlOwogICAgICAgICAgICAgICAgdG9wOiAwLjAlOwogICAgICAgICAgICAgICAgfQogICAgICAgICAgICA8L3N0eWxlPgogICAgICAgIAo8L2hlYWQ+Cjxib2R5PiAgICAKICAgIAogICAgICAgICAgICA8ZGl2IGNsYXNzPSJmb2xpdW0tbWFwIiBpZD0ibWFwXzEyZjA4Y2M4YzNhYzQxZjU4OGZkODk5OTc2NjcxYTU1IiA+PC9kaXY+CiAgICAgICAgCjwvYm9keT4KPHNjcmlwdD4gICAgCiAgICAKCiAgICAgICAgICAgIAogICAgICAgICAgICAgICAgdmFyIGJvdW5kcyA9IG51bGw7CiAgICAgICAgICAgIAoKICAgICAgICAgICAgdmFyIG1hcF8xMmYwOGNjOGMzYWM0MWY1ODhmZDg5OTk3NjY3MWE1NSA9IEwubWFwKAogICAgICAgICAgICAgICAgICAgICAgICAgICAgICAgICAgJ21hcF8xMmYwOGNjOGMzYWM0MWY1ODhmZDg5OTk3NjY3MWE1NScsCiAgICAgICAgICAgICAgICAgICAgICAgICAgICAgICAgICB7Y2VudGVyOiBbNDAuNzE0OTU1NSwtNzQuMDE1MzM2NV0sCiAgICAgICAgICAgICAgICAgICAgICAgICAgICAgICAgICB6b29tOiAxMywKICAgICAgICAgICAgICAgICAgICAgICAgICAgICAgICAgIG1heEJvdW5kczogYm91bmRzLAogICAgICAgICAgICAgICAgICAgICAgICAgICAgICAgICAgbGF5ZXJzOiBbXSwKICAgICAgICAgICAgICAgICAgICAgICAgICAgICAgICAgIHdvcmxkQ29weUp1bXA6IGZhbHNlLAogICAgICAgICAgICAgICAgICAgICAgICAgICAgICAgICAgY3JzOiBMLkNSUy5FUFNHMzg1NwogICAgICAgICAgICAgICAgICAgICAgICAgICAgICAgICB9KTsKICAgICAgICAgICAgCiAgICAgICAgCiAgICAKICAgICAgICAgICAgdmFyIHRpbGVfbGF5ZXJfOTYwODQyYjlmZmEzNDk2NGEzZmQwNjUzNTI2ZTg5OGMgPSBMLnRpbGVMYXllcigKICAgICAgICAgICAgICAgICdodHRwczovL3tzfS50aWxlLm9wZW5zdHJlZXRtYXAub3JnL3t6fS97eH0ve3l9LnBuZycsCiAgICAgICAgICAgICAgICB7CiAgImF0dHJpYnV0aW9uIjogbnVsbCwKICAiZGV0ZWN0UmV0aW5hIjogZmFsc2UsCiAgIm1heFpvb20iOiAxOCwKICAibWluWm9vbSI6IDEsCiAgIm5vV3JhcCI6IGZhbHNlLAogICJzdWJkb21haW5zIjogImFiYyIKfQogICAgICAgICAgICAgICAgKS5hZGRUbyhtYXBfMTJmMDhjYzhjM2FjNDFmNTg4ZmQ4OTk5NzY2NzFhNTUpOwogICAgICAgIAogICAgCiAgICAgICAgICAgIHZhciBjaXJjbGVfbWFya2VyXzIwN2VlYWFiZTQ2NzRmYWQ5ZWUyZTVkMzI1MjYzMzc5ID0gTC5jaXJjbGVNYXJrZXIoCiAgICAgICAgICAgICAgICBbNDAuNzE0OTU1NSwtNzQuMDE1MzM2NV0sCiAgICAgICAgICAgICAgICB7CiAgImJ1YmJsaW5nTW91c2VFdmVudHMiOiB0cnVlLAogICJjb2xvciI6ICJyZWQiLAogICJkYXNoQXJyYXkiOiBudWxsLAogICJkYXNoT2Zmc2V0IjogbnVsbCwKICAiZmlsbCI6IHRydWUsCiAgImZpbGxDb2xvciI6ICJyZWQiLAogICJmaWxsT3BhY2l0eSI6IDAuNiwKICAiZmlsbFJ1bGUiOiAiZXZlbm9kZCIsCiAgImxpbmVDYXAiOiAicm91bmQiLAogICJsaW5lSm9pbiI6ICJyb3VuZCIsCiAgIm9wYWNpdHkiOiAxLjAsCiAgInJhZGl1cyI6IDEwLAogICJzdHJva2UiOiB0cnVlLAogICJ3ZWlnaHQiOiAzCn0KICAgICAgICAgICAgICAgICkuYWRkVG8obWFwXzEyZjA4Y2M4YzNhYzQxZjU4OGZkODk5OTc2NjcxYTU1KTsKICAgICAgICAgICAgCiAgICAKICAgICAgICAgICAgdmFyIHBvcHVwX2JlMmJjYjBkMmJkZjQxN2ViMWJjYTZhZjk3YTAyNjUzID0gTC5wb3B1cCh7bWF4V2lkdGg6ICczMDAnfSk7CgogICAgICAgICAgICAKICAgICAgICAgICAgICAgIHZhciBodG1sX2Y5N2VjMTU0M2E0NTRmYWY5NWM2NmZmN2FkNzdhNTAyID0gJCgnPGRpdiBpZD0iaHRtbF9mOTdlYzE1NDNhNDU0ZmFmOTVjNjZmZjdhZDc3YTUwMiIgc3R5bGU9IndpZHRoOiAxMDAuMCU7IGhlaWdodDogMTAwLjAlOyI+Q29ucmFkIEhvdGVsPC9kaXY+JylbMF07CiAgICAgICAgICAgICAgICBwb3B1cF9iZTJiY2IwZDJiZGY0MTdlYjFiY2E2YWY5N2EwMjY1My5zZXRDb250ZW50KGh0bWxfZjk3ZWMxNTQzYTQ1NGZhZjk1YzY2ZmY3YWQ3N2E1MDIpOwogICAgICAgICAgICAKCiAgICAgICAgICAgIGNpcmNsZV9tYXJrZXJfMjA3ZWVhYWJlNDY3NGZhZDllZTJlNWQzMjUyNjMzNzkuYmluZFBvcHVwKHBvcHVwX2JlMmJjYjBkMmJkZjQxN2ViMWJjYTZhZjk3YTAyNjUzKTsKCiAgICAgICAgICAgIAogICAgICAgIAogICAgCiAgICAgICAgICAgIHZhciBjaXJjbGVfbWFya2VyXzhjZGE2Y2JhZDRkMTQ0ZDQ4NGQzZjU4OWJiY2I1Mzg4ID0gTC5jaXJjbGVNYXJrZXIoCiAgICAgICAgICAgICAgICBbNDAuNzEyODc2NzY3NTM5OTUsLTc0LjAxMDU5ODUyNjI4NDIxXSwKICAgICAgICAgICAgICAgIHsKICAiYnViYmxpbmdNb3VzZUV2ZW50cyI6IHRydWUsCiAgImNvbG9yIjogImJsdWUiLAogICJkYXNoQXJyYXkiOiBudWxsLAogICJkYXNoT2Zmc2V0IjogbnVsbCwKICAiZmlsbCI6IHRydWUsCiAgImZpbGxDb2xvciI6ICJibHVlIiwKICAiZmlsbE9wYWNpdHkiOiAwLjYsCiAgImZpbGxSdWxlIjogImV2ZW5vZGQiLAogICJsaW5lQ2FwIjogInJvdW5kIiwKICAibGluZUpvaW4iOiAicm91bmQiLAogICJvcGFjaXR5IjogMS4wLAogICJyYWRpdXMiOiA1LAogICJzdHJva2UiOiB0cnVlLAogICJ3ZWlnaHQiOiAzCn0KICAgICAgICAgICAgICAgICkuYWRkVG8obWFwXzEyZjA4Y2M4YzNhYzQxZjU4OGZkODk5OTc2NjcxYTU1KTsKICAgICAgICAgICAgCiAgICAKICAgICAgICAgICAgdmFyIHBvcHVwXzJhMmUxMzNmY2Q0YTRhMDE5NjZiM2Y1MTIwYjgwNjQ1ID0gTC5wb3B1cCh7bWF4V2lkdGg6ICczMDAnfSk7CgogICAgICAgICAgICAKICAgICAgICAgICAgICAgIHZhciBodG1sXzQ2Y2M3OTQ5YmYzNTQ0MThhYzRiNjFiMzdkMmU5NmM0ID0gJCgnPGRpdiBpZD0iaHRtbF80NmNjNzk0OWJmMzU0NDE4YWM0YjYxYjM3ZDJlOTZjNCIgc3R5bGU9IndpZHRoOiAxMDAuMCU7IGhlaWdodDogMTAwLjAlOyI+UG9zdCBPZmZpY2U8L2Rpdj4nKVswXTsKICAgICAgICAgICAgICAgIHBvcHVwXzJhMmUxMzNmY2Q0YTRhMDE5NjZiM2Y1MTIwYjgwNjQ1LnNldENvbnRlbnQoaHRtbF80NmNjNzk0OWJmMzU0NDE4YWM0YjYxYjM3ZDJlOTZjNCk7CiAgICAgICAgICAgIAoKICAgICAgICAgICAgY2lyY2xlX21hcmtlcl84Y2RhNmNiYWQ0ZDE0NGQ0ODRkM2Y1ODliYmNiNTM4OC5iaW5kUG9wdXAocG9wdXBfMmEyZTEzM2ZjZDRhNGEwMTk2NmIzZjUxMjBiODA2NDUpOwoKICAgICAgICAgICAgCiAgICAgICAgCiAgICAKICAgICAgICAgICAgdmFyIGNpcmNsZV9tYXJrZXJfNDRhNWNjYjVhODQ0NDE3ZGFhYTUxMTI5YTM1NWUyZGIgPSBMLmNpcmNsZU1hcmtlcigKICAgICAgICAgICAgICAgIFs0MC43MTEzNjgsLTc0LjAxNzAxOV0sCiAgICAgICAgICAgICAgICB7CiAgImJ1YmJsaW5nTW91c2VFdmVudHMiOiB0cnVlLAogICJjb2xvciI6ICJibHVlIiwKICAiZGFzaEFycmF5IjogbnVsbCwKICAiZGFzaE9mZnNldCI6IG51bGwsCiAgImZpbGwiOiB0cnVlLAogICJmaWxsQ29sb3IiOiAiYmx1ZSIsCiAgImZpbGxPcGFjaXR5IjogMC42LAogICJmaWxsUnVsZSI6ICJldmVub2RkIiwKICAibGluZUNhcCI6ICJyb3VuZCIsCiAgImxpbmVKb2luIjogInJvdW5kIiwKICAib3BhY2l0eSI6IDEuMCwKICAicmFkaXVzIjogNSwKICAic3Ryb2tlIjogdHJ1ZSwKICAid2VpZ2h0IjogMwp9CiAgICAgICAgICAgICAgICApLmFkZFRvKG1hcF8xMmYwOGNjOGMzYWM0MWY1ODhmZDg5OTk3NjY3MWE1NSk7CiAgICAgICAgICAgIAogICAgCiAgICAgICAgICAgIHZhciBwb3B1cF9jMzhkYjgzNDA1ZWM0NWU5OGRkMDUxYTJjZTBhYTg4MiA9IEwucG9wdXAoe21heFdpZHRoOiAnMzAwJ30pOwoKICAgICAgICAgICAgCiAgICAgICAgICAgICAgICB2YXIgaHRtbF8xZGM1MDEyMDczNzU0N2NhYjVhNWNiOGE4NGU0OTQ3MyA9ICQoJzxkaXYgaWQ9Imh0bWxfMWRjNTAxMjA3Mzc1NDdjYWI1YTVjYjhhODRlNDk0NzMiIHN0eWxlPSJ3aWR0aDogMTAwLjAlOyBoZWlnaHQ6IDEwMC4wJTsiPlBvc3QgT2ZmaWNlPC9kaXY+JylbMF07CiAgICAgICAgICAgICAgICBwb3B1cF9jMzhkYjgzNDA1ZWM0NWU5OGRkMDUxYTJjZTBhYTg4Mi5zZXRDb250ZW50KGh0bWxfMWRjNTAxMjA3Mzc1NDdjYWI1YTVjYjhhODRlNDk0NzMpOwogICAgICAgICAgICAKCiAgICAgICAgICAgIGNpcmNsZV9tYXJrZXJfNDRhNWNjYjVhODQ0NDE3ZGFhYTUxMTI5YTM1NWUyZGIuYmluZFBvcHVwKHBvcHVwX2MzOGRiODM0MDVlYzQ1ZTk4ZGQwNTFhMmNlMGFhODgyKTsKCiAgICAgICAgICAgIAogICAgICAgIAogICAgCiAgICAgICAgICAgIHZhciBjaXJjbGVfbWFya2VyX2IxYTY5YjY2NzUxNjQ3ZWRhMDYwM2QyNzgwZDEzZDQ4ID0gTC5jaXJjbGVNYXJrZXIoCiAgICAgICAgICAgICAgICBbNDAuNzE0MzQ5NDQ0NDU5MDMsLTc0LjAxMDc1NDg2MjUyMTc1XSwKICAgICAgICAgICAgICAgIHsKICAiYnViYmxpbmdNb3VzZUV2ZW50cyI6IHRydWUsCiAgImNvbG9yIjogImJsdWUiLAogICJkYXNoQXJyYXkiOiBudWxsLAogICJkYXNoT2Zmc2V0IjogbnVsbCwKICAiZmlsbCI6IHRydWUsCiAgImZpbGxDb2xvciI6ICJibHVlIiwKICAiZmlsbE9wYWNpdHkiOiAwLjYsCiAgImZpbGxSdWxlIjogImV2ZW5vZGQiLAogICJsaW5lQ2FwIjogInJvdW5kIiwKICAibGluZUpvaW4iOiAicm91bmQiLAogICJvcGFjaXR5IjogMS4wLAogICJyYWRpdXMiOiA1LAogICJzdHJva2UiOiB0cnVlLAogICJ3ZWlnaHQiOiAzCn0KICAgICAgICAgICAgICAgICkuYWRkVG8obWFwXzEyZjA4Y2M4YzNhYzQxZjU4OGZkODk5OTc2NjcxYTU1KTsKICAgICAgICAgICAgCiAgICAKICAgICAgICAgICAgdmFyIHBvcHVwXzRjZGVlNGU4ZGUxNzRjOGE4ZTMxZTQzZjQyMWFkOWQ1ID0gTC5wb3B1cCh7bWF4V2lkdGg6ICczMDAnfSk7CgogICAgICAgICAgICAKICAgICAgICAgICAgICAgIHZhciBodG1sXzQ3NmM1ODA0NGNjMjRiN2Q4YmU4Nzg0ODZhNjQ4ODkzID0gJCgnPGRpdiBpZD0iaHRtbF80NzZjNTgwNDRjYzI0YjdkOGJlODc4NDg2YTY0ODg5MyIgc3R5bGU9IndpZHRoOiAxMDAuMCU7IGhlaWdodDogMTAwLjAlOyI+UG9zdCBPZmZpY2U8L2Rpdj4nKVswXTsKICAgICAgICAgICAgICAgIHBvcHVwXzRjZGVlNGU4ZGUxNzRjOGE4ZTMxZTQzZjQyMWFkOWQ1LnNldENvbnRlbnQoaHRtbF80NzZjNTgwNDRjYzI0YjdkOGJlODc4NDg2YTY0ODg5Myk7CiAgICAgICAgICAgIAoKICAgICAgICAgICAgY2lyY2xlX21hcmtlcl9iMWE2OWI2Njc1MTY0N2VkYTA2MDNkMjc4MGQxM2Q0OC5iaW5kUG9wdXAocG9wdXBfNGNkZWU0ZThkZTE3NGM4YThlMzFlNDNmNDIxYWQ5ZDUpOwoKICAgICAgICAgICAgCiAgICAgICAgCiAgICAKICAgICAgICAgICAgdmFyIGNpcmNsZV9tYXJrZXJfMGFjY2ZkYjY1NTQ1NDQ1NGI2YTVkYjI0ODY1MGY2ZDEgPSBMLmNpcmNsZU1hcmtlcigKICAgICAgICAgICAgICAgIFs0MC43MTUxMiwtNzQuMDE2MDJdLAogICAgICAgICAgICAgICAgewogICJidWJibGluZ01vdXNlRXZlbnRzIjogdHJ1ZSwKICAiY29sb3IiOiAiYmx1ZSIsCiAgImRhc2hBcnJheSI6IG51bGwsCiAgImRhc2hPZmZzZXQiOiBudWxsLAogICJmaWxsIjogdHJ1ZSwKICAiZmlsbENvbG9yIjogImJsdWUiLAogICJmaWxsT3BhY2l0eSI6IDAuNiwKICAiZmlsbFJ1bGUiOiAiZXZlbm9kZCIsCiAgImxpbmVDYXAiOiAicm91bmQiLAogICJsaW5lSm9pbiI6ICJyb3VuZCIsCiAgIm9wYWNpdHkiOiAxLjAsCiAgInJhZGl1cyI6IDUsCiAgInN0cm9rZSI6IHRydWUsCiAgIndlaWdodCI6IDMKfQogICAgICAgICAgICAgICAgKS5hZGRUbyhtYXBfMTJmMDhjYzhjM2FjNDFmNTg4ZmQ4OTk5NzY2NzFhNTUpOwogICAgICAgICAgICAKICAgIAogICAgICAgICAgICB2YXIgY2lyY2xlX21hcmtlcl82NzBjNDE4NjQ4MTQ0MTVhOTk3ZjRiYTZhM2M5NTE3YiA9IEwuY2lyY2xlTWFya2VyKAogICAgICAgICAgICAgICAgWzQwLjcxNDcwMzk4Mzk5MDE0LC03NC4wMTQ0MjA1MDkzMzgzOF0sCiAgICAgICAgICAgICAgICB7CiAgImJ1YmJsaW5nTW91c2VFdmVudHMiOiB0cnVlLAogICJjb2xvciI6ICJibHVlIiwKICAiZGFzaEFycmF5IjogbnVsbCwKICAiZGFzaE9mZnNldCI6IG51bGwsCiAgImZpbGwiOiB0cnVlLAogICJmaWxsQ29sb3IiOiAiYmx1ZSIsCiAgImZpbGxPcGFjaXR5IjogMC42LAogICJmaWxsUnVsZSI6ICJldmVub2RkIiwKICAibGluZUNhcCI6ICJyb3VuZCIsCiAgImxpbmVKb2luIjogInJvdW5kIiwKICAib3BhY2l0eSI6IDEuMCwKICAicmFkaXVzIjogNSwKICAic3Ryb2tlIjogdHJ1ZSwKICAid2VpZ2h0IjogMwp9CiAgICAgICAgICAgICAgICApLmFkZFRvKG1hcF8xMmYwOGNjOGMzYWM0MWY1ODhmZDg5OTk3NjY3MWE1NSk7CiAgICAgICAgICAgIAogICAgCiAgICAgICAgICAgIHZhciBwb3B1cF8xYTgxNGRmOWU5MjA0Y2NhODE2NmJhY2ZjYWMyNjlmMSA9IEwucG9wdXAoe21heFdpZHRoOiAnMzAwJ30pOwoKICAgICAgICAgICAgCiAgICAgICAgICAgICAgICB2YXIgaHRtbF9iZmNiOGZiMjgxNDg0ZjJjYmY3OTI0MDQ1NzY5ZTMxOSA9ICQoJzxkaXYgaWQ9Imh0bWxfYmZjYjhmYjI4MTQ4NGYyY2JmNzkyNDA0NTc2OWUzMTkiIHN0eWxlPSJ3aWR0aDogMTAwLjAlOyBoZWlnaHQ6IDEwMC4wJTsiPlJlYWwgRXN0YXRlIE9mZmljZTwvZGl2PicpWzBdOwogICAgICAgICAgICAgICAgcG9wdXBfMWE4MTRkZjllOTIwNGNjYTgxNjZiYWNmY2FjMjY5ZjEuc2V0Q29udGVudChodG1sX2JmY2I4ZmIyODE0ODRmMmNiZjc5MjQwNDU3NjllMzE5KTsKICAgICAgICAgICAgCgogICAgICAgICAgICBjaXJjbGVfbWFya2VyXzY3MGM0MTg2NDgxNDQxNWE5OTdmNGJhNmEzYzk1MTdiLmJpbmRQb3B1cChwb3B1cF8xYTgxNGRmOWU5MjA0Y2NhODE2NmJhY2ZjYWMyNjlmMSk7CgogICAgICAgICAgICAKICAgICAgICAKICAgIAogICAgICAgICAgICB2YXIgY2lyY2xlX21hcmtlcl84Y2FkMWU4Zjk1OTA0ODRmYTI1YzE4NDMxMDU0YWJhYSA9IEwuY2lyY2xlTWFya2VyKAogICAgICAgICAgICAgICAgWzQwLjcxMzgyOCwtNzQuMDE1OTA5XSwKICAgICAgICAgICAgICAgIHsKICAiYnViYmxpbmdNb3VzZUV2ZW50cyI6IHRydWUsCiAgImNvbG9yIjogImJsdWUiLAogICJkYXNoQXJyYXkiOiBudWxsLAogICJkYXNoT2Zmc2V0IjogbnVsbCwKICAiZmlsbCI6IHRydWUsCiAgImZpbGxDb2xvciI6ICJibHVlIiwKICAiZmlsbE9wYWNpdHkiOiAwLjYsCiAgImZpbGxSdWxlIjogImV2ZW5vZGQiLAogICJsaW5lQ2FwIjogInJvdW5kIiwKICAibGluZUpvaW4iOiAicm91bmQiLAogICJvcGFjaXR5IjogMS4wLAogICJyYWRpdXMiOiA1LAogICJzdHJva2UiOiB0cnVlLAogICJ3ZWlnaHQiOiAzCn0KICAgICAgICAgICAgICAgICkuYWRkVG8obWFwXzEyZjA4Y2M4YzNhYzQxZjU4OGZkODk5OTc2NjcxYTU1KTsKICAgICAgICAgICAgCiAgICAKICAgICAgICAgICAgdmFyIHBvcHVwX2E4NGFlOTA5ZDE1YzRjNDdiZGU0YjllMTliNGZmMzA3ID0gTC5wb3B1cCh7bWF4V2lkdGg6ICczMDAnfSk7CgogICAgICAgICAgICAKICAgICAgICAgICAgICAgIHZhciBodG1sX2VjNGQyM2Q3N2VlMzRkYTE5YzUwYWQ5OWVhMDdmMGYxID0gJCgnPGRpdiBpZD0iaHRtbF9lYzRkMjNkNzdlZTM0ZGExOWM1MGFkOTllYTA3ZjBmMSIgc3R5bGU9IndpZHRoOiAxMDAuMCU7IGhlaWdodDogMTAwLjAlOyI+T2ZmaWNlPC9kaXY+JylbMF07CiAgICAgICAgICAgICAgICBwb3B1cF9hODRhZTkwOWQxNWM0YzQ3YmRlNGI5ZTE5YjRmZjMwNy5zZXRDb250ZW50KGh0bWxfZWM0ZDIzZDc3ZWUzNGRhMTljNTBhZDk5ZWEwN2YwZjEpOwogICAgICAgICAgICAKCiAgICAgICAgICAgIGNpcmNsZV9tYXJrZXJfOGNhZDFlOGY5NTkwNDg0ZmEyNWMxODQzMTA1NGFiYWEuYmluZFBvcHVwKHBvcHVwX2E4NGFlOTA5ZDE1YzRjNDdiZGU0YjllMTliNGZmMzA3KTsKCiAgICAgICAgICAgIAogICAgICAgIAogICAgCiAgICAgICAgICAgIHZhciBjaXJjbGVfbWFya2VyXzEwYmVhNzIzM2ExZDRiMDY5OTNlY2U5NDg4OGNiNjE4ID0gTC5jaXJjbGVNYXJrZXIoCiAgICAgICAgICAgICAgICBbNDAuNzEyNDk2MDU5MjczOSwtNzQuMDA5ODY4MDg3NTc2NzldLAogICAgICAgICAgICAgICAgewogICJidWJibGluZ01vdXNlRXZlbnRzIjogdHJ1ZSwKICAiY29sb3IiOiAiYmx1ZSIsCiAgImRhc2hBcnJheSI6IG51bGwsCiAgImRhc2hPZmZzZXQiOiBudWxsLAogICJmaWxsIjogdHJ1ZSwKICAiZmlsbENvbG9yIjogImJsdWUiLAogICJmaWxsT3BhY2l0eSI6IDAuNiwKICAiZmlsbFJ1bGUiOiAiZXZlbm9kZCIsCiAgImxpbmVDYXAiOiAicm91bmQiLAogICJsaW5lSm9pbiI6ICJyb3VuZCIsCiAgIm9wYWNpdHkiOiAxLjAsCiAgInJhZGl1cyI6IDUsCiAgInN0cm9rZSI6IHRydWUsCiAgIndlaWdodCI6IDMKfQogICAgICAgICAgICAgICAgKS5hZGRUbyhtYXBfMTJmMDhjYzhjM2FjNDFmNTg4ZmQ4OTk5NzY2NzFhNTUpOwogICAgICAgICAgICAKICAgIAogICAgICAgICAgICB2YXIgcG9wdXBfNzE1NGRkODE3YzczNGViZDgwMTM4NWNmNDM5NGMyYmIgPSBMLnBvcHVwKHttYXhXaWR0aDogJzMwMCd9KTsKCiAgICAgICAgICAgIAogICAgICAgICAgICAgICAgdmFyIGh0bWxfMGZiZGJhNzJhMjk2NDkzM2FlZWMwYjc3ODU1MmQ1ODkgPSAkKCc8ZGl2IGlkPSJodG1sXzBmYmRiYTcyYTI5NjQ5MzNhZWVjMGI3Nzg1NTJkNTg5IiBzdHlsZT0id2lkdGg6IDEwMC4wJTsgaGVpZ2h0OiAxMDAuMCU7Ij5Hb3Zlcm5tZW50IEJ1aWxkaW5nPC9kaXY+JylbMF07CiAgICAgICAgICAgICAgICBwb3B1cF83MTU0ZGQ4MTdjNzM0ZWJkODAxMzg1Y2Y0Mzk0YzJiYi5zZXRDb250ZW50KGh0bWxfMGZiZGJhNzJhMjk2NDkzM2FlZWMwYjc3ODU1MmQ1ODkpOwogICAgICAgICAgICAKCiAgICAgICAgICAgIGNpcmNsZV9tYXJrZXJfMTBiZWE3MjMzYTFkNGIwNjk5M2VjZTk0ODg4Y2I2MTguYmluZFBvcHVwKHBvcHVwXzcxNTRkZDgxN2M3MzRlYmQ4MDEzODVjZjQzOTRjMmJiKTsKCiAgICAgICAgICAgIAogICAgICAgIAogICAgCiAgICAgICAgICAgIHZhciBjaXJjbGVfbWFya2VyXzg0NzFlNGM3ZDdjYTRjYjhhZWQ0Njg3MjhkZGQ0NzQ0ID0gTC5jaXJjbGVNYXJrZXIoCiAgICAgICAgICAgICAgICBbNDAuNzEzOTY5MTUxMzYyNDEsLTc0LjAxNDE5NTUyNTE2ODE5XSwKICAgICAgICAgICAgICAgIHsKICAiYnViYmxpbmdNb3VzZUV2ZW50cyI6IHRydWUsCiAgImNvbG9yIjogImJsdWUiLAogICJkYXNoQXJyYXkiOiBudWxsLAogICJkYXNoT2Zmc2V0IjogbnVsbCwKICAiZmlsbCI6IHRydWUsCiAgImZpbGxDb2xvciI6ICJibHVlIiwKICAiZmlsbE9wYWNpdHkiOiAwLjYsCiAgImZpbGxSdWxlIjogImV2ZW5vZGQiLAogICJsaW5lQ2FwIjogInJvdW5kIiwKICAibGluZUpvaW4iOiAicm91bmQiLAogICJvcGFjaXR5IjogMS4wLAogICJyYWRpdXMiOiA1LAogICJzdHJva2UiOiB0cnVlLAogICJ3ZWlnaHQiOiAzCn0KICAgICAgICAgICAgICAgICkuYWRkVG8obWFwXzEyZjA4Y2M4YzNhYzQxZjU4OGZkODk5OTc2NjcxYTU1KTsKICAgICAgICAgICAgCiAgICAKICAgICAgICAgICAgdmFyIHBvcHVwXzM2ZGY5MzgwY2Y3NDQwYzY5ZDg5YjUwNDExYjAzZjg2ID0gTC5wb3B1cCh7bWF4V2lkdGg6ICczMDAnfSk7CgogICAgICAgICAgICAKICAgICAgICAgICAgICAgIHZhciBodG1sX2E0MTI2ZWM3ZDIwMjQ2MjM4ZjhjMDM0NjgyNjk1YmRjID0gJCgnPGRpdiBpZD0iaHRtbF9hNDEyNmVjN2QyMDI0NjIzOGY4YzAzNDY4MjY5NWJkYyIgc3R5bGU9IndpZHRoOiAxMDAuMCU7IGhlaWdodDogMTAwLjAlOyI+T2ZmaWNlPC9kaXY+JylbMF07CiAgICAgICAgICAgICAgICBwb3B1cF8zNmRmOTM4MGNmNzQ0MGM2OWQ4OWI1MDQxMWIwM2Y4Ni5zZXRDb250ZW50KGh0bWxfYTQxMjZlYzdkMjAyNDYyMzhmOGMwMzQ2ODI2OTViZGMpOwogICAgICAgICAgICAKCiAgICAgICAgICAgIGNpcmNsZV9tYXJrZXJfODQ3MWU0YzdkN2NhNGNiOGFlZDQ2ODcyOGRkZDQ3NDQuYmluZFBvcHVwKHBvcHVwXzM2ZGY5MzgwY2Y3NDQwYzY5ZDg5YjUwNDExYjAzZjg2KTsKCiAgICAgICAgICAgIAogICAgICAgIAogICAgCiAgICAgICAgICAgIHZhciBjaXJjbGVfbWFya2VyXzg5YzIwMDU2Y2Q5ZDQ1YTM5NGZjMjY2Nzg0YTVlNWU4ID0gTC5jaXJjbGVNYXJrZXIoCiAgICAgICAgICAgICAgICBbNDAuNzE2MDM1NDY2NjQ5ODg1LC03NC4wMTQ4MTUyNTEwMTEwMl0sCiAgICAgICAgICAgICAgICB7CiAgImJ1YmJsaW5nTW91c2VFdmVudHMiOiB0cnVlLAogICJjb2xvciI6ICJibHVlIiwKICAiZGFzaEFycmF5IjogbnVsbCwKICAiZGFzaE9mZnNldCI6IG51bGwsCiAgImZpbGwiOiB0cnVlLAogICJmaWxsQ29sb3IiOiAiYmx1ZSIsCiAgImZpbGxPcGFjaXR5IjogMC42LAogICJmaWxsUnVsZSI6ICJldmVub2RkIiwKICAibGluZUNhcCI6ICJyb3VuZCIsCiAgImxpbmVKb2luIjogInJvdW5kIiwKICAib3BhY2l0eSI6IDEuMCwKICAicmFkaXVzIjogNSwKICAic3Ryb2tlIjogdHJ1ZSwKICAid2VpZ2h0IjogMwp9CiAgICAgICAgICAgICAgICApLmFkZFRvKG1hcF8xMmYwOGNjOGMzYWM0MWY1ODhmZDg5OTk3NjY3MWE1NSk7CiAgICAgICAgICAgIAogICAgCiAgICAgICAgICAgIHZhciBwb3B1cF9jY2UzNzdkZjI4NWE0MWNkOWRiYjBkZDA5Y2RlM2E3ZSA9IEwucG9wdXAoe21heFdpZHRoOiAnMzAwJ30pOwoKICAgICAgICAgICAgCiAgICAgICAgICAgICAgICB2YXIgaHRtbF8xNjUzMTg1MGNmNjA0YWY2OTljY2I0MjAxN2RiNDRhMyA9ICQoJzxkaXYgaWQ9Imh0bWxfMTY1MzE4NTBjZjYwNGFmNjk5Y2NiNDIwMTdkYjQ0YTMiIHN0eWxlPSJ3aWR0aDogMTAwLjAlOyBoZWlnaHQ6IDEwMC4wJTsiPkd5bTwvZGl2PicpWzBdOwogICAgICAgICAgICAgICAgcG9wdXBfY2NlMzc3ZGYyODVhNDFjZDlkYmIwZGQwOWNkZTNhN2Uuc2V0Q29udGVudChodG1sXzE2NTMxODUwY2Y2MDRhZjY5OWNjYjQyMDE3ZGI0NGEzKTsKICAgICAgICAgICAgCgogICAgICAgICAgICBjaXJjbGVfbWFya2VyXzg5YzIwMDU2Y2Q5ZDQ1YTM5NGZjMjY2Nzg0YTVlNWU4LmJpbmRQb3B1cChwb3B1cF9jY2UzNzdkZjI4NWE0MWNkOWRiYjBkZDA5Y2RlM2E3ZSk7CgogICAgICAgICAgICAKICAgICAgICAKICAgIAogICAgICAgICAgICB2YXIgY2lyY2xlX21hcmtlcl9lNGE0NjFhNTQxYWY0ZjJkYWE5NjU2OTY5N2VhNGYxNSA9IEwuY2lyY2xlTWFya2VyKAogICAgICAgICAgICAgICAgWzQwLjcxMzk3OTY1MzYyMDk1LC03NC4wMTQyNzU4NjAxMTMwOV0sCiAgICAgICAgICAgICAgICB7CiAgImJ1YmJsaW5nTW91c2VFdmVudHMiOiB0cnVlLAogICJjb2xvciI6ICJibHVlIiwKICAiZGFzaEFycmF5IjogbnVsbCwKICAiZGFzaE9mZnNldCI6IG51bGwsCiAgImZpbGwiOiB0cnVlLAogICJmaWxsQ29sb3IiOiAiYmx1ZSIsCiAgImZpbGxPcGFjaXR5IjogMC42LAogICJmaWxsUnVsZSI6ICJldmVub2RkIiwKICAibGluZUNhcCI6ICJyb3VuZCIsCiAgImxpbmVKb2luIjogInJvdW5kIiwKICAib3BhY2l0eSI6IDEuMCwKICAicmFkaXVzIjogNSwKICAic3Ryb2tlIjogdHJ1ZSwKICAid2VpZ2h0IjogMwp9CiAgICAgICAgICAgICAgICApLmFkZFRvKG1hcF8xMmYwOGNjOGMzYWM0MWY1ODhmZDg5OTk3NjY3MWE1NSk7CiAgICAgICAgICAgIAogICAgCiAgICAgICAgICAgIHZhciBwb3B1cF8wOGI5ZjI0NGRkZmY0NjBmYjcxZTFjZmY0MmMzYWUxZSA9IEwucG9wdXAoe21heFdpZHRoOiAnMzAwJ30pOwoKICAgICAgICAgICAgCiAgICAgICAgICAgICAgICB2YXIgaHRtbF8yZmJkZGVkMzdkNTQ0Y2Y3OGJjNGFiMzlhNGVlMzI4NiA9ICQoJzxkaXYgaWQ9Imh0bWxfMmZiZGRlZDM3ZDU0NGNmNzhiYzRhYjM5YTRlZTMyODYiIHN0eWxlPSJ3aWR0aDogMTAwLjAlOyBoZWlnaHQ6IDEwMC4wJTsiPk9mZmljZTwvZGl2PicpWzBdOwogICAgICAgICAgICAgICAgcG9wdXBfMDhiOWYyNDRkZGZmNDYwZmI3MWUxY2ZmNDJjM2FlMWUuc2V0Q29udGVudChodG1sXzJmYmRkZWQzN2Q1NDRjZjc4YmM0YWIzOWE0ZWUzMjg2KTsKICAgICAgICAgICAgCgogICAgICAgICAgICBjaXJjbGVfbWFya2VyX2U0YTQ2MWE1NDFhZjRmMmRhYTk2NTY5Njk3ZWE0ZjE1LmJpbmRQb3B1cChwb3B1cF8wOGI5ZjI0NGRkZmY0NjBmYjcxZTFjZmY0MmMzYWUxZSk7CgogICAgICAgICAgICAKICAgICAgICAKICAgIAogICAgICAgICAgICB2YXIgY2lyY2xlX21hcmtlcl9hZmJhYzFlOWJkMDY0ZmY0YTY4ODViZGYyODUyNDBlNSA9IEwuY2lyY2xlTWFya2VyKAogICAgICAgICAgICAgICAgWzQwLjcxMzkzODQxLC03NC4wMTQ4OTcxMl0sCiAgICAgICAgICAgICAgICB7CiAgImJ1YmJsaW5nTW91c2VFdmVudHMiOiB0cnVlLAogICJjb2xvciI6ICJibHVlIiwKICAiZGFzaEFycmF5IjogbnVsbCwKICAiZGFzaE9mZnNldCI6IG51bGwsCiAgImZpbGwiOiB0cnVlLAogICJmaWxsQ29sb3IiOiAiYmx1ZSIsCiAgImZpbGxPcGFjaXR5IjogMC42LAogICJmaWxsUnVsZSI6ICJldmVub2RkIiwKICAibGluZUNhcCI6ICJyb3VuZCIsCiAgImxpbmVKb2luIjogInJvdW5kIiwKICAib3BhY2l0eSI6IDEuMCwKICAicmFkaXVzIjogNSwKICAic3Ryb2tlIjogdHJ1ZSwKICAid2VpZ2h0IjogMwp9CiAgICAgICAgICAgICAgICApLmFkZFRvKG1hcF8xMmYwOGNjOGMzYWM0MWY1ODhmZDg5OTk3NjY3MWE1NSk7CiAgICAgICAgICAgIAogICAgCiAgICAgICAgICAgIHZhciBwb3B1cF80MDk2ZTZhZWEwNGE0YmJhOTg1YzE1OGI4MzFlYjhhOCA9IEwucG9wdXAoe21heFdpZHRoOiAnMzAwJ30pOwoKICAgICAgICAgICAgCiAgICAgICAgICAgICAgICB2YXIgaHRtbF9jN2I2M2Q4ZWE5OGI0MjkyODYxYTFlZDFlNTI1YTcwMiA9ICQoJzxkaXYgaWQ9Imh0bWxfYzdiNjNkOGVhOThiNDI5Mjg2MWExZWQxZTUyNWE3MDIiIHN0eWxlPSJ3aWR0aDogMTAwLjAlOyBoZWlnaHQ6IDEwMC4wJTsiPkxhd3llcjwvZGl2PicpWzBdOwogICAgICAgICAgICAgICAgcG9wdXBfNDA5NmU2YWVhMDRhNGJiYTk4NWMxNThiODMxZWI4YTguc2V0Q29udGVudChodG1sX2M3YjYzZDhlYTk4YjQyOTI4NjFhMWVkMWU1MjVhNzAyKTsKICAgICAgICAgICAgCgogICAgICAgICAgICBjaXJjbGVfbWFya2VyX2FmYmFjMWU5YmQwNjRmZjRhNjg4NWJkZjI4NTI0MGU1LmJpbmRQb3B1cChwb3B1cF80MDk2ZTZhZWEwNGE0YmJhOTg1YzE1OGI4MzFlYjhhOCk7CgogICAgICAgICAgICAKICAgICAgICAKICAgIAogICAgICAgICAgICB2YXIgY2lyY2xlX21hcmtlcl9mNDNhN2NmZWUxMDQ0ODgxYTJjMGZkYzNlY2E0MDhmOSA9IEwuY2lyY2xlTWFya2VyKAogICAgICAgICAgICAgICAgWzQwLjcxMzU1MzUwMTUwMDgxLC03NC4wMTQ5NzU5MjAzNDU3M10sCiAgICAgICAgICAgICAgICB7CiAgImJ1YmJsaW5nTW91c2VFdmVudHMiOiB0cnVlLAogICJjb2xvciI6ICJibHVlIiwKICAiZGFzaEFycmF5IjogbnVsbCwKICAiZGFzaE9mZnNldCI6IG51bGwsCiAgImZpbGwiOiB0cnVlLAogICJmaWxsQ29sb3IiOiAiYmx1ZSIsCiAgImZpbGxPcGFjaXR5IjogMC42LAogICJmaWxsUnVsZSI6ICJldmVub2RkIiwKICAibGluZUNhcCI6ICJyb3VuZCIsCiAgImxpbmVKb2luIjogInJvdW5kIiwKICAib3BhY2l0eSI6IDEuMCwKICAicmFkaXVzIjogNSwKICAic3Ryb2tlIjogdHJ1ZSwKICAid2VpZ2h0IjogMwp9CiAgICAgICAgICAgICAgICApLmFkZFRvKG1hcF8xMmYwOGNjOGMzYWM0MWY1ODhmZDg5OTk3NjY3MWE1NSk7CiAgICAgICAgICAgIAogICAgCiAgICAgICAgICAgIHZhciBwb3B1cF85MGYzNzQyMmM5ZGE0Njg5YjJkZDVmMGYzMjM5NWU3NiA9IEwucG9wdXAoe21heFdpZHRoOiAnMzAwJ30pOwoKICAgICAgICAgICAgCiAgICAgICAgICAgICAgICB2YXIgaHRtbF9jNzM4Njc4MTRjN2M0N2JlOGNkMTdmYTE4NzVlYjJmZCA9ICQoJzxkaXYgaWQ9Imh0bWxfYzczODY3ODE0YzdjNDdiZThjZDE3ZmExODc1ZWIyZmQiIHN0eWxlPSJ3aWR0aDogMTAwLjAlOyBoZWlnaHQ6IDEwMC4wJTsiPk9mZmljZTwvZGl2PicpWzBdOwogICAgICAgICAgICAgICAgcG9wdXBfOTBmMzc0MjJjOWRhNDY4OWIyZGQ1ZjBmMzIzOTVlNzYuc2V0Q29udGVudChodG1sX2M3Mzg2NzgxNGM3YzQ3YmU4Y2QxN2ZhMTg3NWViMmZkKTsKICAgICAgICAgICAgCgogICAgICAgICAgICBjaXJjbGVfbWFya2VyX2Y0M2E3Y2ZlZTEwNDQ4ODFhMmMwZmRjM2VjYTQwOGY5LmJpbmRQb3B1cChwb3B1cF85MGYzNzQyMmM5ZGE0Njg5YjJkZDVmMGYzMjM5NWU3Nik7CgogICAgICAgICAgICAKICAgICAgICAKICAgIAogICAgICAgICAgICB2YXIgY2lyY2xlX21hcmtlcl81NTVhMTE1Y2FhMDc0OTk2YTc2ZWEzZGFhYzM1YTk1YSA9IEwuY2lyY2xlTWFya2VyKAogICAgICAgICAgICAgICAgWzQwLjcxNDUzNSwtNzQuMDE2OTE1XSwKICAgICAgICAgICAgICAgIHsKICAiYnViYmxpbmdNb3VzZUV2ZW50cyI6IHRydWUsCiAgImNvbG9yIjogImJsdWUiLAogICJkYXNoQXJyYXkiOiBudWxsLAogICJkYXNoT2Zmc2V0IjogbnVsbCwKICAiZmlsbCI6IHRydWUsCiAgImZpbGxDb2xvciI6ICJibHVlIiwKICAiZmlsbE9wYWNpdHkiOiAwLjYsCiAgImZpbGxSdWxlIjogImV2ZW5vZGQiLAogICJsaW5lQ2FwIjogInJvdW5kIiwKICAibGluZUpvaW4iOiAicm91bmQiLAogICJvcGFjaXR5IjogMS4wLAogICJyYWRpdXMiOiA1LAogICJzdHJva2UiOiB0cnVlLAogICJ3ZWlnaHQiOiAzCn0KICAgICAgICAgICAgICAgICkuYWRkVG8obWFwXzEyZjA4Y2M4YzNhYzQxZjU4OGZkODk5OTc2NjcxYTU1KTsKICAgICAgICAgICAgCiAgICAKICAgICAgICAgICAgdmFyIHBvcHVwXzBlNmRhN2ZmZTY4YTRiZDU5YjQ1ZjkwNGIzYTEwNWNhID0gTC5wb3B1cCh7bWF4V2lkdGg6ICczMDAnfSk7CgogICAgICAgICAgICAKICAgICAgICAgICAgICAgIHZhciBodG1sXzMxMjdlNzAxYTk1ZTRkMWFhZjE3YjQ0OGYyMWQ3YTY0ID0gJCgnPGRpdiBpZD0iaHRtbF8zMTI3ZTcwMWE5NWU0ZDFhYWYxN2I0NDhmMjFkN2E2NCIgc3R5bGU9IndpZHRoOiAxMDAuMCU7IGhlaWdodDogMTAwLjAlOyI+T2ZmaWNlPC9kaXY+JylbMF07CiAgICAgICAgICAgICAgICBwb3B1cF8wZTZkYTdmZmU2OGE0YmQ1OWI0NWY5MDRiM2ExMDVjYS5zZXRDb250ZW50KGh0bWxfMzEyN2U3MDFhOTVlNGQxYWFmMTdiNDQ4ZjIxZDdhNjQpOwogICAgICAgICAgICAKCiAgICAgICAgICAgIGNpcmNsZV9tYXJrZXJfNTU1YTExNWNhYTA3NDk5NmE3NmVhM2RhYWMzNWE5NWEuYmluZFBvcHVwKHBvcHVwXzBlNmRhN2ZmZTY4YTRiZDU5YjQ1ZjkwNGIzYTEwNWNhKTsKCiAgICAgICAgICAgIAogICAgICAgIAogICAgCiAgICAgICAgICAgIHZhciBjaXJjbGVfbWFya2VyXzY2ZjQ4NDBiMTY5NzQwOWI5ZDk2MmY5Njc5YjRkZjEwID0gTC5jaXJjbGVNYXJrZXIoCiAgICAgICAgICAgICAgICBbNDAuNzE3OTY3LC03NC4wMTEzNjddLAogICAgICAgICAgICAgICAgewogICJidWJibGluZ01vdXNlRXZlbnRzIjogdHJ1ZSwKICAiY29sb3IiOiAiYmx1ZSIsCiAgImRhc2hBcnJheSI6IG51bGwsCiAgImRhc2hPZmZzZXQiOiBudWxsLAogICJmaWxsIjogdHJ1ZSwKICAiZmlsbENvbG9yIjogImJsdWUiLAogICJmaWxsT3BhY2l0eSI6IDAuNiwKICAiZmlsbFJ1bGUiOiAiZXZlbm9kZCIsCiAgImxpbmVDYXAiOiAicm91bmQiLAogICJsaW5lSm9pbiI6ICJyb3VuZCIsCiAgIm9wYWNpdHkiOiAxLjAsCiAgInJhZGl1cyI6IDUsCiAgInN0cm9rZSI6IHRydWUsCiAgIndlaWdodCI6IDMKfQogICAgICAgICAgICAgICAgKS5hZGRUbyhtYXBfMTJmMDhjYzhjM2FjNDFmNTg4ZmQ4OTk5NzY2NzFhNTUpOwogICAgICAgICAgICAKICAgIAogICAgICAgICAgICB2YXIgcG9wdXBfNGExOTM5NmRjNTYyNDIxZjkzY2U4NDA5ODZiNDMyOTggPSBMLnBvcHVwKHttYXhXaWR0aDogJzMwMCd9KTsKCiAgICAgICAgICAgIAogICAgICAgICAgICAgICAgdmFyIGh0bWxfMjkxMzQ1NjFhZjBiNDZmYTk5NGY0NWI5NDQ0MGQ5NTIgPSAkKCc8ZGl2IGlkPSJodG1sXzI5MTM0NTYxYWYwYjQ2ZmE5OTRmNDViOTQ0NDBkOTUyIiBzdHlsZT0id2lkdGg6IDEwMC4wJTsgaGVpZ2h0OiAxMDAuMCU7Ij5Db2xsZWdlIEFkbWluaXN0cmF0aXZlIEJ1aWxkaW5nPC9kaXY+JylbMF07CiAgICAgICAgICAgICAgICBwb3B1cF80YTE5Mzk2ZGM1NjI0MjFmOTNjZTg0MDk4NmI0MzI5OC5zZXRDb250ZW50KGh0bWxfMjkxMzQ1NjFhZjBiNDZmYTk5NGY0NWI5NDQ0MGQ5NTIpOwogICAgICAgICAgICAKCiAgICAgICAgICAgIGNpcmNsZV9tYXJrZXJfNjZmNDg0MGIxNjk3NDA5YjlkOTYyZjk2NzliNGRmMTAuYmluZFBvcHVwKHBvcHVwXzRhMTkzOTZkYzU2MjQyMWY5M2NlODQwOTg2YjQzMjk4KTsKCiAgICAgICAgICAgIAogICAgICAgIAogICAgCiAgICAgICAgICAgIHZhciBjaXJjbGVfbWFya2VyXzRjNGJkNTZjN2ZiNzQ5YjViMTgzMzY4MjA4MDMxY2VkID0gTC5jaXJjbGVNYXJrZXIoCiAgICAgICAgICAgICAgICBbNDAuNzE0NDE0Nzk5MzkwMDksLTc0LjAxMDg3NzU1ODA4MDk1XSwKICAgICAgICAgICAgICAgIHsKICAiYnViYmxpbmdNb3VzZUV2ZW50cyI6IHRydWUsCiAgImNvbG9yIjogImJsdWUiLAogICJkYXNoQXJyYXkiOiBudWxsLAogICJkYXNoT2Zmc2V0IjogbnVsbCwKICAiZmlsbCI6IHRydWUsCiAgImZpbGxDb2xvciI6ICJibHVlIiwKICAiZmlsbE9wYWNpdHkiOiAwLjYsCiAgImZpbGxSdWxlIjogImV2ZW5vZGQiLAogICJsaW5lQ2FwIjogInJvdW5kIiwKICAibGluZUpvaW4iOiAicm91bmQiLAogICJvcGFjaXR5IjogMS4wLAogICJyYWRpdXMiOiA1LAogICJzdHJva2UiOiB0cnVlLAogICJ3ZWlnaHQiOiAzCn0KICAgICAgICAgICAgICAgICkuYWRkVG8obWFwXzEyZjA4Y2M4YzNhYzQxZjU4OGZkODk5OTc2NjcxYTU1KTsKICAgICAgICAgICAgCiAgICAKICAgICAgICAgICAgdmFyIHBvcHVwXzJkZmExZmY0MDRmOTQ5NGJiOTVlMjRiMzhkMDE4NTNhID0gTC5wb3B1cCh7bWF4V2lkdGg6ICczMDAnfSk7CgogICAgICAgICAgICAKICAgICAgICAgICAgICAgIHZhciBodG1sX2JmMDM0ZTg0NTg0MjQwMDViZmNiYTNhY2UyNjNiNjJiID0gJCgnPGRpdiBpZD0iaHRtbF9iZjAzNGU4NDU4NDI0MDA1YmZjYmEzYWNlMjYzYjYyYiIgc3R5bGU9IndpZHRoOiAxMDAuMCU7IGhlaWdodDogMTAwLjAlOyI+R292ZXJubWVudCBCdWlsZGluZzwvZGl2PicpWzBdOwogICAgICAgICAgICAgICAgcG9wdXBfMmRmYTFmZjQwNGY5NDk0YmI5NWUyNGIzOGQwMTg1M2Euc2V0Q29udGVudChodG1sX2JmMDM0ZTg0NTg0MjQwMDViZmNiYTNhY2UyNjNiNjJiKTsKICAgICAgICAgICAgCgogICAgICAgICAgICBjaXJjbGVfbWFya2VyXzRjNGJkNTZjN2ZiNzQ5YjViMTgzMzY4MjA4MDMxY2VkLmJpbmRQb3B1cChwb3B1cF8yZGZhMWZmNDA0Zjk0OTRiYjk1ZTI0YjM4ZDAxODUzYSk7CgogICAgICAgICAgICAKICAgICAgICAKICAgIAogICAgICAgICAgICB2YXIgY2lyY2xlX21hcmtlcl9iYjczZGJlN2EwODQ0MDM0OTg5NGRiNGY5MDA5N2JhMCA9IEwuY2lyY2xlTWFya2VyKAogICAgICAgICAgICAgICAgWzQwLjcxNjE1NywtNzQuMDEzMTJdLAogICAgICAgICAgICAgICAgewogICJidWJibGluZ01vdXNlRXZlbnRzIjogdHJ1ZSwKICAiY29sb3IiOiAiYmx1ZSIsCiAgImRhc2hBcnJheSI6IG51bGwsCiAgImRhc2hPZmZzZXQiOiBudWxsLAogICJmaWxsIjogdHJ1ZSwKICAiZmlsbENvbG9yIjogImJsdWUiLAogICJmaWxsT3BhY2l0eSI6IDAuNiwKICAiZmlsbFJ1bGUiOiAiZXZlbm9kZCIsCiAgImxpbmVDYXAiOiAicm91bmQiLAogICJsaW5lSm9pbiI6ICJyb3VuZCIsCiAgIm9wYWNpdHkiOiAxLjAsCiAgInJhZGl1cyI6IDUsCiAgInN0cm9rZSI6IHRydWUsCiAgIndlaWdodCI6IDMKfQogICAgICAgICAgICAgICAgKS5hZGRUbyhtYXBfMTJmMDhjYzhjM2FjNDFmNTg4ZmQ4OTk5NzY2NzFhNTUpOwogICAgICAgICAgICAKICAgIAogICAgICAgICAgICB2YXIgY2lyY2xlX21hcmtlcl9jYzcyNTIwZTc2YzA0NzE0ODM2MDBiYzVmZWJlNjViYSA9IEwuY2lyY2xlTWFya2VyKAogICAgICAgICAgICAgICAgWzQwLjcxMjMzMDEzMjQzNzYyLC03NC4wMTU1NDkxNzM4NF0sCiAgICAgICAgICAgICAgICB7CiAgImJ1YmJsaW5nTW91c2VFdmVudHMiOiB0cnVlLAogICJjb2xvciI6ICJibHVlIiwKICAiZGFzaEFycmF5IjogbnVsbCwKICAiZGFzaE9mZnNldCI6IG51bGwsCiAgImZpbGwiOiB0cnVlLAogICJmaWxsQ29sb3IiOiAiYmx1ZSIsCiAgImZpbGxPcGFjaXR5IjogMC42LAogICJmaWxsUnVsZSI6ICJldmVub2RkIiwKICAibGluZUNhcCI6ICJyb3VuZCIsCiAgImxpbmVKb2luIjogInJvdW5kIiwKICAib3BhY2l0eSI6IDEuMCwKICAicmFkaXVzIjogNSwKICAic3Ryb2tlIjogdHJ1ZSwKICAid2VpZ2h0IjogMwp9CiAgICAgICAgICAgICAgICApLmFkZFRvKG1hcF8xMmYwOGNjOGMzYWM0MWY1ODhmZDg5OTk3NjY3MWE1NSk7CiAgICAgICAgICAgIAogICAgCiAgICAgICAgICAgIHZhciBwb3B1cF8wNjk3OWFjYWFlYzY0YjU3OGEzOWRjNmVkMTQ1YjRmNCA9IEwucG9wdXAoe21heFdpZHRoOiAnMzAwJ30pOwoKICAgICAgICAgICAgCiAgICAgICAgICAgICAgICB2YXIgaHRtbF8xMDY0ZTAyM2U3MDc0ZTZlYmEwNDRiNmEwNTljYzY4ZiA9ICQoJzxkaXYgaWQ9Imh0bWxfMTA2NGUwMjNlNzA3NGU2ZWJhMDQ0YjZhMDU5Y2M2OGYiIHN0eWxlPSJ3aWR0aDogMTAwLjAlOyBoZWlnaHQ6IDEwMC4wJTsiPk9mZmljZTwvZGl2PicpWzBdOwogICAgICAgICAgICAgICAgcG9wdXBfMDY5NzlhY2FhZWM2NGI1NzhhMzlkYzZlZDE0NWI0ZjQuc2V0Q29udGVudChodG1sXzEwNjRlMDIzZTcwNzRlNmViYTA0NGI2YTA1OWNjNjhmKTsKICAgICAgICAgICAgCgogICAgICAgICAgICBjaXJjbGVfbWFya2VyX2NjNzI1MjBlNzZjMDQ3MTQ4MzYwMGJjNWZlYmU2NWJhLmJpbmRQb3B1cChwb3B1cF8wNjk3OWFjYWFlYzY0YjU3OGEzOWRjNmVkMTQ1YjRmNCk7CgogICAgICAgICAgICAKICAgICAgICAKICAgIAogICAgICAgICAgICB2YXIgY2lyY2xlX21hcmtlcl80YjcyNjVkOWYzYWU0YzI2YmQ1Y2M5YzE4MDgyZDgxNCA9IEwuY2lyY2xlTWFya2VyKAogICAgICAgICAgICAgICAgWzQwLjcxMzMzNDQxMDM0MTkxLC03NC4wMTQyNDcxNjkwNjUyM10sCiAgICAgICAgICAgICAgICB7CiAgImJ1YmJsaW5nTW91c2VFdmVudHMiOiB0cnVlLAogICJjb2xvciI6ICJibHVlIiwKICAiZGFzaEFycmF5IjogbnVsbCwKICAiZGFzaE9mZnNldCI6IG51bGwsCiAgImZpbGwiOiB0cnVlLAogICJmaWxsQ29sb3IiOiAiYmx1ZSIsCiAgImZpbGxPcGFjaXR5IjogMC42LAogICJmaWxsUnVsZSI6ICJldmVub2RkIiwKICAibGluZUNhcCI6ICJyb3VuZCIsCiAgImxpbmVKb2luIjogInJvdW5kIiwKICAib3BhY2l0eSI6IDEuMCwKICAicmFkaXVzIjogNSwKICAic3Ryb2tlIjogdHJ1ZSwKICAid2VpZ2h0IjogMwp9CiAgICAgICAgICAgICAgICApLmFkZFRvKG1hcF8xMmYwOGNjOGMzYWM0MWY1ODhmZDg5OTk3NjY3MWE1NSk7CiAgICAgICAgICAgIAogICAgCiAgICAgICAgICAgIHZhciBwb3B1cF84OGY3ZDM3ZGU3OTk0YThmOTBjMjI2ZmZmNjU1ZDU4NiA9IEwucG9wdXAoe21heFdpZHRoOiAnMzAwJ30pOwoKICAgICAgICAgICAgCiAgICAgICAgICAgICAgICB2YXIgaHRtbF82NTU5NDRjNTI2NDk0NDU3YmY3ZWU4MWVkMTY5ZjU0ZCA9ICQoJzxkaXYgaWQ9Imh0bWxfNjU1OTQ0YzUyNjQ5NDQ1N2JmN2VlODFlZDE2OWY1NGQiIHN0eWxlPSJ3aWR0aDogMTAwLjAlOyBoZWlnaHQ6IDEwMC4wJTsiPkJ1aWxkaW5nPC9kaXY+JylbMF07CiAgICAgICAgICAgICAgICBwb3B1cF84OGY3ZDM3ZGU3OTk0YThmOTBjMjI2ZmZmNjU1ZDU4Ni5zZXRDb250ZW50KGh0bWxfNjU1OTQ0YzUyNjQ5NDQ1N2JmN2VlODFlZDE2OWY1NGQpOwogICAgICAgICAgICAKCiAgICAgICAgICAgIGNpcmNsZV9tYXJrZXJfNGI3MjY1ZDlmM2FlNGMyNmJkNWNjOWMxODA4MmQ4MTQuYmluZFBvcHVwKHBvcHVwXzg4ZjdkMzdkZTc5OTRhOGY5MGMyMjZmZmY2NTVkNTg2KTsKCiAgICAgICAgICAgIAogICAgICAgIAogICAgCiAgICAgICAgICAgIHZhciBjaXJjbGVfbWFya2VyXzkzNjQ1ZTIyZTRmYjQwZGM4OTY1MTA5MGQ1ZGEyOWJlID0gTC5jaXJjbGVNYXJrZXIoCiAgICAgICAgICAgICAgICBbNDAuNzEzMDE2NzkyODMyOTgsLTc0LjAxMjM4NzY0ODkwNjgxXSwKICAgICAgICAgICAgICAgIHsKICAiYnViYmxpbmdNb3VzZUV2ZW50cyI6IHRydWUsCiAgImNvbG9yIjogImJsdWUiLAogICJkYXNoQXJyYXkiOiBudWxsLAogICJkYXNoT2Zmc2V0IjogbnVsbCwKICAiZmlsbCI6IHRydWUsCiAgImZpbGxDb2xvciI6ICJibHVlIiwKICAiZmlsbE9wYWNpdHkiOiAwLjYsCiAgImZpbGxSdWxlIjogImV2ZW5vZGQiLAogICJsaW5lQ2FwIjogInJvdW5kIiwKICAibGluZUpvaW4iOiAicm91bmQiLAogICJvcGFjaXR5IjogMS4wLAogICJyYWRpdXMiOiA1LAogICJzdHJva2UiOiB0cnVlLAogICJ3ZWlnaHQiOiAzCn0KICAgICAgICAgICAgICAgICkuYWRkVG8obWFwXzEyZjA4Y2M4YzNhYzQxZjU4OGZkODk5OTc2NjcxYTU1KTsKICAgICAgICAgICAgCiAgICAKICAgICAgICAgICAgdmFyIHBvcHVwX2RiNmVmMzBkZDJiZTQ0MmE5MmRmMWRkOGMxOTQ3YWNmID0gTC5wb3B1cCh7bWF4V2lkdGg6ICczMDAnfSk7CgogICAgICAgICAgICAKICAgICAgICAgICAgICAgIHZhciBodG1sX2Y2NWE1NDc3YmM4YjQ1NDlhZGJlODJlYmUyZTJmOGEwID0gJCgnPGRpdiBpZD0iaHRtbF9mNjVhNTQ3N2JjOGI0NTQ5YWRiZTgyZWJlMmUyZjhhMCIgc3R5bGU9IndpZHRoOiAxMDAuMCU7IGhlaWdodDogMTAwLjAlOyI+T2ZmaWNlPC9kaXY+JylbMF07CiAgICAgICAgICAgICAgICBwb3B1cF9kYjZlZjMwZGQyYmU0NDJhOTJkZjFkZDhjMTk0N2FjZi5zZXRDb250ZW50KGh0bWxfZjY1YTU0NzdiYzhiNDU0OWFkYmU4MmViZTJlMmY4YTApOwogICAgICAgICAgICAKCiAgICAgICAgICAgIGNpcmNsZV9tYXJrZXJfOTM2NDVlMjJlNGZiNDBkYzg5NjUxMDkwZDVkYTI5YmUuYmluZFBvcHVwKHBvcHVwX2RiNmVmMzBkZDJiZTQ0MmE5MmRmMWRkOGMxOTQ3YWNmKTsKCiAgICAgICAgICAgIAogICAgICAgIAogICAgCiAgICAgICAgICAgIHZhciBjaXJjbGVfbWFya2VyXzEwZjQ2NzYxMjBjMDRiODc5ZGIyNTAxOGRkNDIwYjM0ID0gTC5jaXJjbGVNYXJrZXIoCiAgICAgICAgICAgICAgICBbNDAuNzE1MjQ2MzgzMzUyNDg2LC03NC4wMTMwNzA4MzIzOTIyMl0sCiAgICAgICAgICAgICAgICB7CiAgImJ1YmJsaW5nTW91c2VFdmVudHMiOiB0cnVlLAogICJjb2xvciI6ICJibHVlIiwKICAiZGFzaEFycmF5IjogbnVsbCwKICAiZGFzaE9mZnNldCI6IG51bGwsCiAgImZpbGwiOiB0cnVlLAogICJmaWxsQ29sb3IiOiAiYmx1ZSIsCiAgImZpbGxPcGFjaXR5IjogMC42LAogICJmaWxsUnVsZSI6ICJldmVub2RkIiwKICAibGluZUNhcCI6ICJyb3VuZCIsCiAgImxpbmVKb2luIjogInJvdW5kIiwKICAib3BhY2l0eSI6IDEuMCwKICAicmFkaXVzIjogNSwKICAic3Ryb2tlIjogdHJ1ZSwKICAid2VpZ2h0IjogMwp9CiAgICAgICAgICAgICAgICApLmFkZFRvKG1hcF8xMmYwOGNjOGMzYWM0MWY1ODhmZDg5OTk3NjY3MWE1NSk7CiAgICAgICAgICAgIAogICAgCiAgICAgICAgICAgIHZhciBwb3B1cF9iYjhiOTZlMmM2YmQ0ZjVkOGJhOWUxZjQ1NTI0MjA0YyA9IEwucG9wdXAoe21heFdpZHRoOiAnMzAwJ30pOwoKICAgICAgICAgICAgCiAgICAgICAgICAgICAgICB2YXIgaHRtbF9jMjVjOTRjODc1OTA0NDNhYmIyMDg2YWI1ZGY1OWZlMSA9ICQoJzxkaXYgaWQ9Imh0bWxfYzI1Yzk0Yzg3NTkwNDQzYWJiMjA4NmFiNWRmNTlmZTEiIHN0eWxlPSJ3aWR0aDogMTAwLjAlOyBoZWlnaHQ6IDEwMC4wJTsiPkNvbGxlZ2UgQWRtaW5pc3RyYXRpdmUgQnVpbGRpbmc8L2Rpdj4nKVswXTsKICAgICAgICAgICAgICAgIHBvcHVwX2JiOGI5NmUyYzZiZDRmNWQ4YmE5ZTFmNDU1MjQyMDRjLnNldENvbnRlbnQoaHRtbF9jMjVjOTRjODc1OTA0NDNhYmIyMDg2YWI1ZGY1OWZlMSk7CiAgICAgICAgICAgIAoKICAgICAgICAgICAgY2lyY2xlX21hcmtlcl8xMGY0Njc2MTIwYzA0Yjg3OWRiMjUwMThkZDQyMGIzNC5iaW5kUG9wdXAocG9wdXBfYmI4Yjk2ZTJjNmJkNGY1ZDhiYTllMWY0NTUyNDIwNGMpOwoKICAgICAgICAgICAgCiAgICAgICAgCiAgICAKICAgICAgICAgICAgdmFyIGNpcmNsZV9tYXJrZXJfNjIxYjM2Mjg0NWNiNDViODkyODMzODc1Y2ZhYTRmNTEgPSBMLmNpcmNsZU1hcmtlcigKICAgICAgICAgICAgICAgIFs0MC43MTMxMDQsLTc0LjAxNTY3NF0sCiAgICAgICAgICAgICAgICB7CiAgImJ1YmJsaW5nTW91c2VFdmVudHMiOiB0cnVlLAogICJjb2xvciI6ICJibHVlIiwKICAiZGFzaEFycmF5IjogbnVsbCwKICAiZGFzaE9mZnNldCI6IG51bGwsCiAgImZpbGwiOiB0cnVlLAogICJmaWxsQ29sb3IiOiAiYmx1ZSIsCiAgImZpbGxPcGFjaXR5IjogMC42LAogICJmaWxsUnVsZSI6ICJldmVub2RkIiwKICAibGluZUNhcCI6ICJyb3VuZCIsCiAgImxpbmVKb2luIjogInJvdW5kIiwKICAib3BhY2l0eSI6IDEuMCwKICAicmFkaXVzIjogNSwKICAic3Ryb2tlIjogdHJ1ZSwKICAid2VpZ2h0IjogMwp9CiAgICAgICAgICAgICAgICApLmFkZFRvKG1hcF8xMmYwOGNjOGMzYWM0MWY1ODhmZDg5OTk3NjY3MWE1NSk7CiAgICAgICAgICAgIAogICAgCiAgICAgICAgICAgIHZhciBwb3B1cF9lMGMzYjkyMTNiNjI0ODIzOWJiMTdjM2UwYmQ0ZGNhMiA9IEwucG9wdXAoe21heFdpZHRoOiAnMzAwJ30pOwoKICAgICAgICAgICAgCiAgICAgICAgICAgICAgICB2YXIgaHRtbF83MWYwMzc4MTk5MTg0NzNhYjdlMmM2YmY0MWMyMWMxMSA9ICQoJzxkaXYgaWQ9Imh0bWxfNzFmMDM3ODE5OTE4NDczYWI3ZTJjNmJmNDFjMjFjMTEiIHN0eWxlPSJ3aWR0aDogMTAwLjAlOyBoZWlnaHQ6IDEwMC4wJTsiPk9mZmljZTwvZGl2PicpWzBdOwogICAgICAgICAgICAgICAgcG9wdXBfZTBjM2I5MjEzYjYyNDgyMzliYjE3YzNlMGJkNGRjYTIuc2V0Q29udGVudChodG1sXzcxZjAzNzgxOTkxODQ3M2FiN2UyYzZiZjQxYzIxYzExKTsKICAgICAgICAgICAgCgogICAgICAgICAgICBjaXJjbGVfbWFya2VyXzYyMWIzNjI4NDVjYjQ1Yjg5MjgzMzg3NWNmYWE0ZjUxLmJpbmRQb3B1cChwb3B1cF9lMGMzYjkyMTNiNjI0ODIzOWJiMTdjM2UwYmQ0ZGNhMik7CgogICAgICAgICAgICAKICAgICAgICAKICAgIAogICAgICAgICAgICB2YXIgY2lyY2xlX21hcmtlcl9iMDY2Y2NhM2RjYjI0MGY4YjY3NjE4NDE3ZDYyM2FhYiA9IEwuY2lyY2xlTWFya2VyKAogICAgICAgICAgICAgICAgWzQwLjcxMzQsLTc0LjAxMjA2MV0sCiAgICAgICAgICAgICAgICB7CiAgImJ1YmJsaW5nTW91c2VFdmVudHMiOiB0cnVlLAogICJjb2xvciI6ICJibHVlIiwKICAiZGFzaEFycmF5IjogbnVsbCwKICAiZGFzaE9mZnNldCI6IG51bGwsCiAgImZpbGwiOiB0cnVlLAogICJmaWxsQ29sb3IiOiAiYmx1ZSIsCiAgImZpbGxPcGFjaXR5IjogMC42LAogICJmaWxsUnVsZSI6ICJldmVub2RkIiwKICAibGluZUNhcCI6ICJyb3VuZCIsCiAgImxpbmVKb2luIjogInJvdW5kIiwKICAib3BhY2l0eSI6IDEuMCwKICAicmFkaXVzIjogNSwKICAic3Ryb2tlIjogdHJ1ZSwKICAid2VpZ2h0IjogMwp9CiAgICAgICAgICAgICAgICApLmFkZFRvKG1hcF8xMmYwOGNjOGMzYWM0MWY1ODhmZDg5OTk3NjY3MWE1NSk7CiAgICAgICAgICAgIAogICAgCiAgICAgICAgICAgIHZhciBwb3B1cF83Njc4MmQ3YTYzZGU0MTA3OWUwNDU1ODg3MTU0ZjQxZCA9IEwucG9wdXAoe21heFdpZHRoOiAnMzAwJ30pOwoKICAgICAgICAgICAgCiAgICAgICAgICAgICAgICB2YXIgaHRtbF9kNmFhODgyMTFhYjQ0YWUwOWFhMzAwZjFmOGE4YTUwZCA9ICQoJzxkaXYgaWQ9Imh0bWxfZDZhYTg4MjExYWI0NGFlMDlhYTMwMGYxZjhhOGE1MGQiIHN0eWxlPSJ3aWR0aDogMTAwLjAlOyBoZWlnaHQ6IDEwMC4wJTsiPkV2ZW50IFNwYWNlPC9kaXY+JylbMF07CiAgICAgICAgICAgICAgICBwb3B1cF83Njc4MmQ3YTYzZGU0MTA3OWUwNDU1ODg3MTU0ZjQxZC5zZXRDb250ZW50KGh0bWxfZDZhYTg4MjExYWI0NGFlMDlhYTMwMGYxZjhhOGE1MGQpOwogICAgICAgICAgICAKCiAgICAgICAgICAgIGNpcmNsZV9tYXJrZXJfYjA2NmNjYTNkY2IyNDBmOGI2NzYxODQxN2Q2MjNhYWIuYmluZFBvcHVwKHBvcHVwXzc2NzgyZDdhNjNkZTQxMDc5ZTA0NTU4ODcxNTRmNDFkKTsKCiAgICAgICAgICAgIAogICAgICAgIAogICAgCiAgICAgICAgICAgIHZhciBjaXJjbGVfbWFya2VyXzAxZWIzNjg5NzNhZTRmYzM5ZjE1MTBlODY5ZmZhMTU4ID0gTC5jaXJjbGVNYXJrZXIoCiAgICAgICAgICAgICAgICBbNDAuNzE0NTMxNTgzMDc4NDEsLTc0LjAxNzAyNzYxNjUwMDg1XSwKICAgICAgICAgICAgICAgIHsKICAiYnViYmxpbmdNb3VzZUV2ZW50cyI6IHRydWUsCiAgImNvbG9yIjogImJsdWUiLAogICJkYXNoQXJyYXkiOiBudWxsLAogICJkYXNoT2Zmc2V0IjogbnVsbCwKICAiZmlsbCI6IHRydWUsCiAgImZpbGxDb2xvciI6ICJibHVlIiwKICAiZmlsbE9wYWNpdHkiOiAwLjYsCiAgImZpbGxSdWxlIjogImV2ZW5vZGQiLAogICJsaW5lQ2FwIjogInJvdW5kIiwKICAibGluZUpvaW4iOiAicm91bmQiLAogICJvcGFjaXR5IjogMS4wLAogICJyYWRpdXMiOiA1LAogICJzdHJva2UiOiB0cnVlLAogICJ3ZWlnaHQiOiAzCn0KICAgICAgICAgICAgICAgICkuYWRkVG8obWFwXzEyZjA4Y2M4YzNhYzQxZjU4OGZkODk5OTc2NjcxYTU1KTsKICAgICAgICAgICAgCiAgICAKICAgICAgICAgICAgdmFyIHBvcHVwXzVmMGRhNDI2ZTNhYjRmMzk4NjVmYmYzYTRlNGIyNGViID0gTC5wb3B1cCh7bWF4V2lkdGg6ICczMDAnfSk7CgogICAgICAgICAgICAKICAgICAgICAgICAgICAgIHZhciBodG1sXzc2N2Q2NWQ4ZmFkODRjNjRiZThlZDUzZjA3NjQ1MDkyID0gJCgnPGRpdiBpZD0iaHRtbF83NjdkNjVkOGZhZDg0YzY0YmU4ZWQ1M2YwNzY0NTA5MiIgc3R5bGU9IndpZHRoOiAxMDAuMCU7IGhlaWdodDogMTAwLjAlOyI+TWlzY2VsbGFuZW91cyBTaG9wPC9kaXY+JylbMF07CiAgICAgICAgICAgICAgICBwb3B1cF81ZjBkYTQyNmUzYWI0ZjM5ODY1ZmJmM2E0ZTRiMjRlYi5zZXRDb250ZW50KGh0bWxfNzY3ZDY1ZDhmYWQ4NGM2NGJlOGVkNTNmMDc2NDUwOTIpOwogICAgICAgICAgICAKCiAgICAgICAgICAgIGNpcmNsZV9tYXJrZXJfMDFlYjM2ODk3M2FlNGZjMzlmMTUxMGU4NjlmZmExNTguYmluZFBvcHVwKHBvcHVwXzVmMGRhNDI2ZTNhYjRmMzk4NjVmYmYzYTRlNGIyNGViKTsKCiAgICAgICAgICAgIAogICAgICAgIAogICAgCiAgICAgICAgICAgIHZhciBjaXJjbGVfbWFya2VyXzRkMWYwNWQ2ODZhNzRlYWNiOGI3YjA5Nzc5YmNjZGM2ID0gTC5jaXJjbGVNYXJrZXIoCiAgICAgICAgICAgICAgICBbNDAuNzExMzEwOTE3NjU5MTEsLTc0LjAxMzE2ODM4MjUzODFdLAogICAgICAgICAgICAgICAgewogICJidWJibGluZ01vdXNlRXZlbnRzIjogdHJ1ZSwKICAiY29sb3IiOiAiYmx1ZSIsCiAgImRhc2hBcnJheSI6IG51bGwsCiAgImRhc2hPZmZzZXQiOiBudWxsLAogICJmaWxsIjogdHJ1ZSwKICAiZmlsbENvbG9yIjogImJsdWUiLAogICJmaWxsT3BhY2l0eSI6IDAuNiwKICAiZmlsbFJ1bGUiOiAiZXZlbm9kZCIsCiAgImxpbmVDYXAiOiAicm91bmQiLAogICJsaW5lSm9pbiI6ICJyb3VuZCIsCiAgIm9wYWNpdHkiOiAxLjAsCiAgInJhZGl1cyI6IDUsCiAgInN0cm9rZSI6IHRydWUsCiAgIndlaWdodCI6IDMKfQogICAgICAgICAgICAgICAgKS5hZGRUbyhtYXBfMTJmMDhjYzhjM2FjNDFmNTg4ZmQ4OTk5NzY2NzFhNTUpOwogICAgICAgICAgICAKICAgIAogICAgICAgICAgICB2YXIgcG9wdXBfMzZkNDNlZjA3YTM4NGQwZWFiNTgyZWUyMTVkZmY4NzUgPSBMLnBvcHVwKHttYXhXaWR0aDogJzMwMCd9KTsKCiAgICAgICAgICAgIAogICAgICAgICAgICAgICAgdmFyIGh0bWxfZjVmMjRjYmYxYWI0NDZiZWFhOTUwNTgyOTA5ZWYwYjcgPSAkKCc8ZGl2IGlkPSJodG1sX2Y1ZjI0Y2JmMWFiNDQ2YmVhYTk1MDU4MjkwOWVmMGI3IiBzdHlsZT0id2lkdGg6IDEwMC4wJTsgaGVpZ2h0OiAxMDAuMCU7Ij5CdWlsZGluZzwvZGl2PicpWzBdOwogICAgICAgICAgICAgICAgcG9wdXBfMzZkNDNlZjA3YTM4NGQwZWFiNTgyZWUyMTVkZmY4NzUuc2V0Q29udGVudChodG1sX2Y1ZjI0Y2JmMWFiNDQ2YmVhYTk1MDU4MjkwOWVmMGI3KTsKICAgICAgICAgICAgCgogICAgICAgICAgICBjaXJjbGVfbWFya2VyXzRkMWYwNWQ2ODZhNzRlYWNiOGI3YjA5Nzc5YmNjZGM2LmJpbmRQb3B1cChwb3B1cF8zNmQ0M2VmMDdhMzg0ZDBlYWI1ODJlZTIxNWRmZjg3NSk7CgogICAgICAgICAgICAKICAgICAgICAKICAgIAogICAgICAgICAgICB2YXIgY2lyY2xlX21hcmtlcl9jNTQ4NmYyNmVlZDc0NGE1ODMwNTc0OTA2MTFiYzMyZiA9IEwuY2lyY2xlTWFya2VyKAogICAgICAgICAgICAgICAgWzQwLjcxMzMxODc0NTQ1MzI3LC03NC4wMTIwMzQ3MzM5NDgyXSwKICAgICAgICAgICAgICAgIHsKICAiYnViYmxpbmdNb3VzZUV2ZW50cyI6IHRydWUsCiAgImNvbG9yIjogImJsdWUiLAogICJkYXNoQXJyYXkiOiBudWxsLAogICJkYXNoT2Zmc2V0IjogbnVsbCwKICAiZmlsbCI6IHRydWUsCiAgImZpbGxDb2xvciI6ICJibHVlIiwKICAiZmlsbE9wYWNpdHkiOiAwLjYsCiAgImZpbGxSdWxlIjogImV2ZW5vZGQiLAogICJsaW5lQ2FwIjogInJvdW5kIiwKICAibGluZUpvaW4iOiAicm91bmQiLAogICJvcGFjaXR5IjogMS4wLAogICJyYWRpdXMiOiA1LAogICJzdHJva2UiOiB0cnVlLAogICJ3ZWlnaHQiOiAzCn0KICAgICAgICAgICAgICAgICkuYWRkVG8obWFwXzEyZjA4Y2M4YzNhYzQxZjU4OGZkODk5OTc2NjcxYTU1KTsKICAgICAgICAgICAgCiAgICAKICAgICAgICAgICAgdmFyIHBvcHVwX2I4MDgyNTAzODMzMTRiZmY5MDFkNjhlYzhhYWU4YmU0ID0gTC5wb3B1cCh7bWF4V2lkdGg6ICczMDAnfSk7CgogICAgICAgICAgICAKICAgICAgICAgICAgICAgIHZhciBodG1sX2RmOTFmZDgyMzhjYjQ3ZDZhYmJhMTg5NThhZTA0NWZhID0gJCgnPGRpdiBpZD0iaHRtbF9kZjkxZmQ4MjM4Y2I0N2Q2YWJiYTE4OTU4YWUwNDVmYSIgc3R5bGU9IndpZHRoOiAxMDAuMCU7IGhlaWdodDogMTAwLjAlOyI+T2ZmaWNlPC9kaXY+JylbMF07CiAgICAgICAgICAgICAgICBwb3B1cF9iODA4MjUwMzgzMzE0YmZmOTAxZDY4ZWM4YWFlOGJlNC5zZXRDb250ZW50KGh0bWxfZGY5MWZkODIzOGNiNDdkNmFiYmExODk1OGFlMDQ1ZmEpOwogICAgICAgICAgICAKCiAgICAgICAgICAgIGNpcmNsZV9tYXJrZXJfYzU0ODZmMjZlZWQ3NDRhNTgzMDU3NDkwNjExYmMzMmYuYmluZFBvcHVwKHBvcHVwX2I4MDgyNTAzODMzMTRiZmY5MDFkNjhlYzhhYWU4YmU0KTsKCiAgICAgICAgICAgIAogICAgICAgIAogICAgCiAgICAgICAgICAgIHZhciBjaXJjbGVfbWFya2VyX2FjYWRmMDEwN2FmMjQ1OGZhNGMyYjA2NjNjM2ZjNmYyID0gTC5jaXJjbGVNYXJrZXIoCiAgICAgICAgICAgICAgICBbNDAuNzE0NDgyODk0NTE0NTQ2LC03NC4wMTA2NDk3NzExMTI2NV0sCiAgICAgICAgICAgICAgICB7CiAgImJ1YmJsaW5nTW91c2VFdmVudHMiOiB0cnVlLAogICJjb2xvciI6ICJibHVlIiwKICAiZGFzaEFycmF5IjogbnVsbCwKICAiZGFzaE9mZnNldCI6IG51bGwsCiAgImZpbGwiOiB0cnVlLAogICJmaWxsQ29sb3IiOiAiYmx1ZSIsCiAgImZpbGxPcGFjaXR5IjogMC42LAogICJmaWxsUnVsZSI6ICJldmVub2RkIiwKICAibGluZUNhcCI6ICJyb3VuZCIsCiAgImxpbmVKb2luIjogInJvdW5kIiwKICAib3BhY2l0eSI6IDEuMCwKICAicmFkaXVzIjogNSwKICAic3Ryb2tlIjogdHJ1ZSwKICAid2VpZ2h0IjogMwp9CiAgICAgICAgICAgICAgICApLmFkZFRvKG1hcF8xMmYwOGNjOGMzYWM0MWY1ODhmZDg5OTk3NjY3MWE1NSk7CiAgICAgICAgICAgIAogICAgCiAgICAgICAgICAgIHZhciBwb3B1cF8wMmJkZDBkM2ExZWY0NzM2OTdkYTQ1ZWFhM2I3ODI4ZSA9IEwucG9wdXAoe21heFdpZHRoOiAnMzAwJ30pOwoKICAgICAgICAgICAgCiAgICAgICAgICAgICAgICB2YXIgaHRtbF9jYTk4MzZiMjYyNTI0ZGY3YTczNTVkMzQyYTFjMGZjOSA9ICQoJzxkaXYgaWQ9Imh0bWxfY2E5ODM2YjI2MjUyNGRmN2E3MzU1ZDM0MmExYzBmYzkiIHN0eWxlPSJ3aWR0aDogMTAwLjAlOyBoZWlnaHQ6IDEwMC4wJTsiPkdvdmVybm1lbnQgQnVpbGRpbmc8L2Rpdj4nKVswXTsKICAgICAgICAgICAgICAgIHBvcHVwXzAyYmRkMGQzYTFlZjQ3MzY5N2RhNDVlYWEzYjc4MjhlLnNldENvbnRlbnQoaHRtbF9jYTk4MzZiMjYyNTI0ZGY3YTczNTVkMzQyYTFjMGZjOSk7CiAgICAgICAgICAgIAoKICAgICAgICAgICAgY2lyY2xlX21hcmtlcl9hY2FkZjAxMDdhZjI0NThmYTRjMmIwNjYzYzNmYzZmMi5iaW5kUG9wdXAocG9wdXBfMDJiZGQwZDNhMWVmNDczNjk3ZGE0NWVhYTNiNzgyOGUpOwoKICAgICAgICAgICAgCiAgICAgICAgCiAgICAKICAgICAgICAgICAgdmFyIGNpcmNsZV9tYXJrZXJfMTQxYTlkYzkzMmEyNDZhOGJhMDY4N2Q1NmNhYzU3ODYgPSBMLmNpcmNsZU1hcmtlcigKICAgICAgICAgICAgICAgIFs0MC43MTgwNDQzNTY5MzgwOTQsLTc0LjAxMjE1NTgwOTAxODc4XSwKICAgICAgICAgICAgICAgIHsKICAiYnViYmxpbmdNb3VzZUV2ZW50cyI6IHRydWUsCiAgImNvbG9yIjogImJsdWUiLAogICJkYXNoQXJyYXkiOiBudWxsLAogICJkYXNoT2Zmc2V0IjogbnVsbCwKICAiZmlsbCI6IHRydWUsCiAgImZpbGxDb2xvciI6ICJibHVlIiwKICAiZmlsbE9wYWNpdHkiOiAwLjYsCiAgImZpbGxSdWxlIjogImV2ZW5vZGQiLAogICJsaW5lQ2FwIjogInJvdW5kIiwKICAibGluZUpvaW4iOiAicm91bmQiLAogICJvcGFjaXR5IjogMS4wLAogICJyYWRpdXMiOiA1LAogICJzdHJva2UiOiB0cnVlLAogICJ3ZWlnaHQiOiAzCn0KICAgICAgICAgICAgICAgICkuYWRkVG8obWFwXzEyZjA4Y2M4YzNhYzQxZjU4OGZkODk5OTc2NjcxYTU1KTsKICAgICAgICAgICAgCiAgICAKICAgICAgICAgICAgdmFyIHBvcHVwXzM2YWJmMjk3OWFkNjQzYjVhNmM1ZWRjNDdlYThhZjFlID0gTC5wb3B1cCh7bWF4V2lkdGg6ICczMDAnfSk7CgogICAgICAgICAgICAKICAgICAgICAgICAgICAgIHZhciBodG1sXzFiOTUwZGEzZGJkNDQ0N2ZiZjc0NzllOTNjOTNmNTBkID0gJCgnPGRpdiBpZD0iaHRtbF8xYjk1MGRhM2RiZDQ0NDdmYmY3NDc5ZTkzYzkzZjUwZCIgc3R5bGU9IndpZHRoOiAxMDAuMCU7IGhlaWdodDogMTAwLjAlOyI+Q29sbGVnZSBBZG1pbmlzdHJhdGl2ZSBCdWlsZGluZzwvZGl2PicpWzBdOwogICAgICAgICAgICAgICAgcG9wdXBfMzZhYmYyOTc5YWQ2NDNiNWE2YzVlZGM0N2VhOGFmMWUuc2V0Q29udGVudChodG1sXzFiOTUwZGEzZGJkNDQ0N2ZiZjc0NzllOTNjOTNmNTBkKTsKICAgICAgICAgICAgCgogICAgICAgICAgICBjaXJjbGVfbWFya2VyXzE0MWE5ZGM5MzJhMjQ2YThiYTA2ODdkNTZjYWM1Nzg2LmJpbmRQb3B1cChwb3B1cF8zNmFiZjI5NzlhZDY0M2I1YTZjNWVkYzQ3ZWE4YWYxZSk7CgogICAgICAgICAgICAKICAgICAgICAKICAgIAogICAgICAgICAgICB2YXIgY2lyY2xlX21hcmtlcl9hMjJlN2JiOTAzNzQ0OWYwOGIwMGE2ZjFhMzIwMzFiZiA9IEwuY2lyY2xlTWFya2VyKAogICAgICAgICAgICAgICAgWzQwLjcxNzc5MiwtNzQuMDEwODY4XSwKICAgICAgICAgICAgICAgIHsKICAiYnViYmxpbmdNb3VzZUV2ZW50cyI6IHRydWUsCiAgImNvbG9yIjogImJsdWUiLAogICJkYXNoQXJyYXkiOiBudWxsLAogICJkYXNoT2Zmc2V0IjogbnVsbCwKICAiZmlsbCI6IHRydWUsCiAgImZpbGxDb2xvciI6ICJibHVlIiwKICAiZmlsbE9wYWNpdHkiOiAwLjYsCiAgImZpbGxSdWxlIjogImV2ZW5vZGQiLAogICJsaW5lQ2FwIjogInJvdW5kIiwKICAibGluZUpvaW4iOiAicm91bmQiLAogICJvcGFjaXR5IjogMS4wLAogICJyYWRpdXMiOiA1LAogICJzdHJva2UiOiB0cnVlLAogICJ3ZWlnaHQiOiAzCn0KICAgICAgICAgICAgICAgICkuYWRkVG8obWFwXzEyZjA4Y2M4YzNhYzQxZjU4OGZkODk5OTc2NjcxYTU1KTsKICAgICAgICAgICAgCiAgICAKICAgICAgICAgICAgdmFyIHBvcHVwX2ZjMzRmY2ViNDQ5NzQ1NDg5OWRlYWRiMWNhYmE1YTljID0gTC5wb3B1cCh7bWF4V2lkdGg6ICczMDAnfSk7CgogICAgICAgICAgICAKICAgICAgICAgICAgICAgIHZhciBodG1sXzQ4NTZlY2ZhMDM0MzQzYTBiNTY2M2YyMGUwYmFhNjk0ID0gJCgnPGRpdiBpZD0iaHRtbF80ODU2ZWNmYTAzNDM0M2EwYjU2NjNmMjBlMGJhYTY5NCIgc3R5bGU9IndpZHRoOiAxMDAuMCU7IGhlaWdodDogMTAwLjAlOyI+T2ZmaWNlPC9kaXY+JylbMF07CiAgICAgICAgICAgICAgICBwb3B1cF9mYzM0ZmNlYjQ0OTc0NTQ4OTlkZWFkYjFjYWJhNWE5Yy5zZXRDb250ZW50KGh0bWxfNDg1NmVjZmEwMzQzNDNhMGI1NjYzZjIwZTBiYWE2OTQpOwogICAgICAgICAgICAKCiAgICAgICAgICAgIGNpcmNsZV9tYXJrZXJfYTIyZTdiYjkwMzc0NDlmMDhiMDBhNmYxYTMyMDMxYmYuYmluZFBvcHVwKHBvcHVwX2ZjMzRmY2ViNDQ5NzQ1NDg5OWRlYWRiMWNhYmE1YTljKTsKCiAgICAgICAgICAgIAogICAgICAgIAogICAgCiAgICAgICAgICAgIHZhciBjaXJjbGVfbWFya2VyXzM2Mjc5OWFmMWNlODRlNzA5ZWYzMjZkNzBlNDIxZmM4ID0gTC5jaXJjbGVNYXJrZXIoCiAgICAgICAgICAgICAgICBbNDAuNzEzNDM2MTI2NzA4OTg0LC03NC4wMTI1MDQ1Nzc2MzY3Ml0sCiAgICAgICAgICAgICAgICB7CiAgImJ1YmJsaW5nTW91c2VFdmVudHMiOiB0cnVlLAogICJjb2xvciI6ICJibHVlIiwKICAiZGFzaEFycmF5IjogbnVsbCwKICAiZGFzaE9mZnNldCI6IG51bGwsCiAgImZpbGwiOiB0cnVlLAogICJmaWxsQ29sb3IiOiAiYmx1ZSIsCiAgImZpbGxPcGFjaXR5IjogMC42LAogICJmaWxsUnVsZSI6ICJldmVub2RkIiwKICAibGluZUNhcCI6ICJyb3VuZCIsCiAgImxpbmVKb2luIjogInJvdW5kIiwKICAib3BhY2l0eSI6IDEuMCwKICAicmFkaXVzIjogNSwKICAic3Ryb2tlIjogdHJ1ZSwKICAid2VpZ2h0IjogMwp9CiAgICAgICAgICAgICAgICApLmFkZFRvKG1hcF8xMmYwOGNjOGMzYWM0MWY1ODhmZDg5OTk3NjY3MWE1NSk7CiAgICAgICAgICAgIAogICAgCiAgICAgICAgICAgIHZhciBwb3B1cF9lMDU5Y2Q4ZWY5NGU0MmQ2OTRiOWQ5OGFhZWY1YTc0MCA9IEwucG9wdXAoe21heFdpZHRoOiAnMzAwJ30pOwoKICAgICAgICAgICAgCiAgICAgICAgICAgICAgICB2YXIgaHRtbF9mODRhNmFlOWQwYjQ0MDNmOTI4NWE0MjY2NTY1ZWZkZSA9ICQoJzxkaXYgaWQ9Imh0bWxfZjg0YTZhZTlkMGI0NDAzZjkyODVhNDI2NjU2NWVmZGUiIHN0eWxlPSJ3aWR0aDogMTAwLjAlOyBoZWlnaHQ6IDEwMC4wJTsiPk9mZmljZTwvZGl2PicpWzBdOwogICAgICAgICAgICAgICAgcG9wdXBfZTA1OWNkOGVmOTRlNDJkNjk0YjlkOThhYWVmNWE3NDAuc2V0Q29udGVudChodG1sX2Y4NGE2YWU5ZDBiNDQwM2Y5Mjg1YTQyNjY1NjVlZmRlKTsKICAgICAgICAgICAgCgogICAgICAgICAgICBjaXJjbGVfbWFya2VyXzM2Mjc5OWFmMWNlODRlNzA5ZWYzMjZkNzBlNDIxZmM4LmJpbmRQb3B1cChwb3B1cF9lMDU5Y2Q4ZWY5NGU0MmQ2OTRiOWQ5OGFhZWY1YTc0MCk7CgogICAgICAgICAgICAKICAgICAgICAKICAgIAogICAgICAgICAgICB2YXIgY2lyY2xlX21hcmtlcl8zMTBjZWUzZDYxMjc0NTA2YTViMDhmM2Q2ODY0Nzg4OSA9IEwuY2lyY2xlTWFya2VyKAogICAgICAgICAgICAgICAgWzQwLjcxNzY2NDAwMzc3NTQwNCwtNzQuMDE0ODcxMTIwNDUyODddLAogICAgICAgICAgICAgICAgewogICJidWJibGluZ01vdXNlRXZlbnRzIjogdHJ1ZSwKICAiY29sb3IiOiAiYmx1ZSIsCiAgImRhc2hBcnJheSI6IG51bGwsCiAgImRhc2hPZmZzZXQiOiBudWxsLAogICJmaWxsIjogdHJ1ZSwKICAiZmlsbENvbG9yIjogImJsdWUiLAogICJmaWxsT3BhY2l0eSI6IDAuNiwKICAiZmlsbFJ1bGUiOiAiZXZlbm9kZCIsCiAgImxpbmVDYXAiOiAicm91bmQiLAogICJsaW5lSm9pbiI6ICJyb3VuZCIsCiAgIm9wYWNpdHkiOiAxLjAsCiAgInJhZGl1cyI6IDUsCiAgInN0cm9rZSI6IHRydWUsCiAgIndlaWdodCI6IDMKfQogICAgICAgICAgICAgICAgKS5hZGRUbyhtYXBfMTJmMDhjYzhjM2FjNDFmNTg4ZmQ4OTk5NzY2NzFhNTUpOwogICAgICAgICAgICAKICAgIAogICAgICAgICAgICB2YXIgcG9wdXBfMTAwZjA4OTI3MGU2NDVkZDllNjM1MDQxNmU4ZjViODEgPSBMLnBvcHVwKHttYXhXaWR0aDogJzMwMCd9KTsKCiAgICAgICAgICAgIAogICAgICAgICAgICAgICAgdmFyIGh0bWxfNDNkYjEwNGQ2ZjhjNDU0M2IxZDI3N2FjNTczNmUzNjIgPSAkKCc8ZGl2IGlkPSJodG1sXzQzZGIxMDRkNmY4YzQ1NDNiMWQyNzdhYzU3MzZlMzYyIiBzdHlsZT0id2lkdGg6IDEwMC4wJTsgaGVpZ2h0OiAxMDAuMCU7Ij5MYXd5ZXI8L2Rpdj4nKVswXTsKICAgICAgICAgICAgICAgIHBvcHVwXzEwMGYwODkyNzBlNjQ1ZGQ5ZTYzNTA0MTZlOGY1YjgxLnNldENvbnRlbnQoaHRtbF80M2RiMTA0ZDZmOGM0NTQzYjFkMjc3YWM1NzM2ZTM2Mik7CiAgICAgICAgICAgIAoKICAgICAgICAgICAgY2lyY2xlX21hcmtlcl8zMTBjZWUzZDYxMjc0NTA2YTViMDhmM2Q2ODY0Nzg4OS5iaW5kUG9wdXAocG9wdXBfMTAwZjA4OTI3MGU2NDVkZDllNjM1MDQxNmU4ZjViODEpOwoKICAgICAgICAgICAgCiAgICAgICAgCjwvc2NyaXB0Pg== onload=\"this.contentDocument.open();this.contentDocument.write(atob(this.getAttribute('data-html')));this.contentDocument.close();\" allowfullscreen webkitallowfullscreen mozallowfullscreen></iframe></div></div>"
      ],
      "text/plain": [
       "<folium.folium.Map at 0x11c8c2690>"
      ]
     },
     "execution_count": 160,
     "metadata": {},
     "output_type": "execute_result"
    }
   ],
   "source": [
    "venues_map = folium.Map(location=[latitude, longitude], zoom_start=13) # generate map centred around the Conrad Hotel\n",
    "\n",
    "# add a red circle marker to represent the Conrad Hotel\n",
    "folium.features.CircleMarker(\n",
    "    [latitude, longitude],\n",
    "    radius=10,\n",
    "    color='red',\n",
    "    popup='Conrad Hotel',\n",
    "    fill = True,\n",
    "    fill_color = 'red',\n",
    "    fill_opacity = 0.6\n",
    ").add_to(venues_map)\n",
    "\n",
    "# add the Italian restaurants as blue circle markers\n",
    "for lat, lng, label in zip(dataframe_filtered.lat, dataframe_filtered.lng, dataframe_filtered.categories):\n",
    "    folium.features.CircleMarker(\n",
    "        [lat, lng],\n",
    "        radius=5,\n",
    "        color='blue',\n",
    "        popup=label,\n",
    "        fill = True,\n",
    "        fill_color='blue',\n",
    "        fill_opacity=0.6\n",
    "    ).add_to(venues_map)\n",
    "\n",
    "# display map\n",
    "venues_map"
   ]
  },
  {
   "cell_type": "markdown",
   "metadata": {
    "button": false,
    "deletable": true,
    "new_sheet": false,
    "run_control": {
     "read_only": false
    }
   },
   "source": [
    "   "
   ]
  },
  {
   "cell_type": "markdown",
   "metadata": {
    "button": false,
    "deletable": true,
    "new_sheet": false,
    "run_control": {
     "read_only": false
    }
   },
   "source": [
    "<a id=\"item2\"></a>"
   ]
  },
  {
   "cell_type": "markdown",
   "metadata": {
    "button": false,
    "deletable": true,
    "new_sheet": false,
    "run_control": {
     "read_only": false
    }
   },
   "source": [
    "## 2. Explore a Given Venue\n",
    "> `https://api.foursquare.com/v2/venues/`**VENUE_ID**`?client_id=`**CLIENT_ID**`&client_secret=`**CLIENT_SECRET**`&v=`**VERSION**"
   ]
  },
  {
   "cell_type": "markdown",
   "metadata": {
    "button": false,
    "deletable": true,
    "new_sheet": false,
    "run_control": {
     "read_only": false
    }
   },
   "source": [
    "### A. Let's explore the closest Italian restaurant -- _Harry's Italian Pizza Bar_"
   ]
  },
  {
   "cell_type": "code",
   "execution_count": 161,
   "metadata": {
    "button": false,
    "collapsed": false,
    "deletable": true,
    "jupyter": {
     "outputs_hidden": false
    },
    "new_sheet": false,
    "run_control": {
     "read_only": false
    }
   },
   "outputs": [
    {
     "data": {
      "text/plain": [
       "'https://api.foursquare.com/v2/venues/4fa862b3e4b0ebff2f749f06?client_id=TBPLKSLPDCOMMX2YIDPJ5UG2NRWHG4YOB3VXMPJI5YYP54H3&client_secret=OV15HD3ZH2152BWBWDWFSKBEONQJNSQCJAI0S4BO0WLFWLPE&v=20180604'"
      ]
     },
     "execution_count": 161,
     "metadata": {},
     "output_type": "execute_result"
    }
   ],
   "source": [
    "venue_id = '4fa862b3e4b0ebff2f749f06' # ID of Harry's Italian Pizza Bar\n",
    "url = 'https://api.foursquare.com/v2/venues/{}?client_id={}&client_secret={}&v={}'.format(venue_id, CLIENT_ID, CLIENT_SECRET, VERSION)\n",
    "url"
   ]
  },
  {
   "cell_type": "markdown",
   "metadata": {
    "button": false,
    "deletable": true,
    "new_sheet": false,
    "run_control": {
     "read_only": false
    }
   },
   "source": [
    "#### Send GET request for result"
   ]
  },
  {
   "cell_type": "code",
   "execution_count": 162,
   "metadata": {
    "button": false,
    "collapsed": false,
    "deletable": true,
    "jupyter": {
     "outputs_hidden": false
    },
    "new_sheet": false,
    "run_control": {
     "read_only": false
    }
   },
   "outputs": [
    {
     "name": "stdout",
     "output_type": "stream",
     "text": [
      "dict_keys(['id', 'name', 'contact', 'location', 'canonicalUrl', 'categories', 'verified', 'stats', 'url', 'price', 'hasMenu', 'likes', 'dislike', 'ok', 'rating', 'ratingColor', 'ratingSignals', 'delivery', 'menu', 'allowMenuUrlEdit', 'beenHere', 'specials', 'photos', 'reasons', 'hereNow', 'createdAt', 'tips', 'shortUrl', 'timeZone', 'listed', 'hours', 'popular', 'seasonalHours', 'defaultHours', 'pageUpdates', 'inbox', 'attributes', 'bestPhoto', 'colors'])\n"
     ]
    },
    {
     "data": {
      "text/plain": [
       "{'id': '4fa862b3e4b0ebff2f749f06',\n",
       " 'name': \"Harry's Italian Pizza Bar\",\n",
       " 'contact': {'phone': '2126081007', 'formattedPhone': '(212) 608-1007'},\n",
       " 'location': {'address': '225 Murray St',\n",
       "  'lat': 40.71521779064671,\n",
       "  'lng': -74.01473940209351,\n",
       "  'labeledLatLngs': [{'label': 'display',\n",
       "    'lat': 40.71521779064671,\n",
       "    'lng': -74.01473940209351},\n",
       "   {'label': '?', 'lat': 40.715361, 'lng': -74.014975}],\n",
       "  'postalCode': '10282',\n",
       "  'cc': 'US',\n",
       "  'city': 'New York',\n",
       "  'state': 'NY',\n",
       "  'country': 'United States',\n",
       "  'formattedAddress': ['225 Murray St',\n",
       "   'New York, NY 10282',\n",
       "   'United States']},\n",
       " 'canonicalUrl': 'https://foursquare.com/v/harrys-italian-pizza-bar/4fa862b3e4b0ebff2f749f06',\n",
       " 'categories': [{'id': '4bf58dd8d48988d1ca941735',\n",
       "   'name': 'Pizza Place',\n",
       "   'pluralName': 'Pizza Places',\n",
       "   'shortName': 'Pizza',\n",
       "   'icon': {'prefix': 'https://ss3.4sqi.net/img/categories_v2/food/pizza_',\n",
       "    'suffix': '.png'},\n",
       "   'primary': True},\n",
       "  {'id': '4bf58dd8d48988d110941735',\n",
       "   'name': 'Italian Restaurant',\n",
       "   'pluralName': 'Italian Restaurants',\n",
       "   'shortName': 'Italian',\n",
       "   'icon': {'prefix': 'https://ss3.4sqi.net/img/categories_v2/food/italian_',\n",
       "    'suffix': '.png'}}],\n",
       " 'verified': False,\n",
       " 'stats': {'tipCount': 57},\n",
       " 'url': 'http://harrysitalian.com',\n",
       " 'price': {'tier': 2, 'message': 'Moderate', 'currency': '$'},\n",
       " 'hasMenu': True,\n",
       " 'likes': {'count': 120,\n",
       "  'groups': [{'type': 'others', 'count': 120, 'items': []}],\n",
       "  'summary': '120 Likes'},\n",
       " 'dislike': False,\n",
       " 'ok': False,\n",
       " 'rating': 7.0,\n",
       " 'ratingColor': 'C5DE35',\n",
       " 'ratingSignals': 212,\n",
       " 'delivery': {'id': '294544',\n",
       "  'url': 'https://www.seamless.com/menu/harrys-italian-pizza-bar-225-murray-st-new-york/294544?affiliate=1131&utm_source=foursquare-affiliate-network&utm_medium=affiliate&utm_campaign=1131&utm_content=294544',\n",
       "  'provider': {'name': 'seamless',\n",
       "   'icon': {'prefix': 'https://fastly.4sqi.net/img/general/cap/',\n",
       "    'sizes': [40, 50],\n",
       "    'name': '/delivery_provider_seamless_20180129.png'}}},\n",
       " 'menu': {'type': 'Menu',\n",
       "  'label': 'Menu',\n",
       "  'anchor': 'View Menu',\n",
       "  'url': 'https://foursquare.com/v/harrys-italian-pizza-bar/4fa862b3e4b0ebff2f749f06/menu',\n",
       "  'mobileUrl': 'https://foursquare.com/v/4fa862b3e4b0ebff2f749f06/device_menu'},\n",
       " 'allowMenuUrlEdit': True,\n",
       " 'beenHere': {'count': 0,\n",
       "  'unconfirmedCount': 0,\n",
       "  'marked': False,\n",
       "  'lastCheckinExpiredAt': 0},\n",
       " 'specials': {'count': 0, 'items': []},\n",
       " 'photos': {'count': 147,\n",
       "  'groups': [{'type': 'venue',\n",
       "    'name': 'Venue photos',\n",
       "    'count': 147,\n",
       "    'items': [{'id': '4fad980de4b091b4626c3633',\n",
       "      'createdAt': 1336776717,\n",
       "      'source': {'name': 'Foursquare for Android',\n",
       "       'url': 'https://foursquare.com/download/#/android'},\n",
       "      'prefix': 'https://fastly.4sqi.net/img/general/',\n",
       "      'suffix': '/ya1iQFI7pLjuIJp1PGDKlrZS3OJdHCF7tpILMmjv_2w.jpg',\n",
       "      'width': 480,\n",
       "      'height': 640,\n",
       "      'user': {'id': '13676709',\n",
       "       'firstName': 'Leony',\n",
       "       'lastName': 'N',\n",
       "       'photo': {'prefix': 'https://fastly.4sqi.net/img/user/',\n",
       "        'suffix': '/T0ANFNGNMCHUDEUE.jpg'}},\n",
       "      'visibility': 'public'},\n",
       "     {'id': '503139a5e4b021f7a5e9952a',\n",
       "      'createdAt': 1345403301,\n",
       "      'source': {'name': 'Foursquare for iOS',\n",
       "       'url': 'https://foursquare.com/download/#/iphone'},\n",
       "      'prefix': 'https://fastly.4sqi.net/img/general/',\n",
       "      'suffix': '/ox3MATx28ULVNhMemzwMx5ivrRPh0aIbowxREaHWzKA.jpg',\n",
       "      'width': 720,\n",
       "      'height': 540,\n",
       "      'user': {'id': '4434246',\n",
       "       'firstName': 'Gregory',\n",
       "       'lastName': 'L',\n",
       "       'photo': {'prefix': 'https://fastly.4sqi.net/img/user/',\n",
       "        'suffix': '/4XA1N04BRCPULL2M.jpg'}},\n",
       "      'visibility': 'public'}]}]},\n",
       " 'reasons': {'count': 1,\n",
       "  'items': [{'summary': 'Lots of people like this place',\n",
       "    'type': 'general',\n",
       "    'reasonName': 'rawLikesReason'}]},\n",
       " 'hereNow': {'count': 0, 'summary': 'Nobody here', 'groups': []},\n",
       " 'createdAt': 1336435379,\n",
       " 'tips': {'count': 57,\n",
       "  'groups': [{'type': 'others',\n",
       "    'name': 'All tips',\n",
       "    'count': 57,\n",
       "    'items': [{'id': '53d27909498e0523841340b6',\n",
       "      'createdAt': 1406302473,\n",
       "      'text': \"Harry's Italian Pizza bar is known for it's amazing pizza, but did you know that the brunches here are amazing too? Try the Nutella French toast and we know you'll be sold.\",\n",
       "      'type': 'user',\n",
       "      'canonicalUrl': 'https://foursquare.com/item/53d27909498e0523841340b6',\n",
       "      'lang': 'en',\n",
       "      'likes': {'count': 4,\n",
       "       'groups': [{'type': 'others',\n",
       "         'count': 4,\n",
       "         'items': [{'id': '369426',\n",
       "           'firstName': 'P.',\n",
       "           'lastName': 'M',\n",
       "           'photo': {'prefix': 'https://fastly.4sqi.net/img/user/',\n",
       "            'suffix': '/JPQYUWJKUT0H2OO4.jpg'}},\n",
       "          {'id': '87587879',\n",
       "           'firstName': 'Diane',\n",
       "           'lastName': 'D',\n",
       "           'photo': {'prefix': 'https://fastly.4sqi.net/img/user/',\n",
       "            'suffix': '/87587879-ESLRSZLQ2CBE2P4W.jpg'}},\n",
       "          {'id': '87591341',\n",
       "           'firstName': 'Tim',\n",
       "           'lastName': 'S',\n",
       "           'photo': {'prefix': 'https://fastly.4sqi.net/img/user/',\n",
       "            'suffix': '/-Z4YK4VKE0JSVXIY1.jpg'}},\n",
       "          {'id': '87473404',\n",
       "           'firstName': 'TenantKing.com',\n",
       "           'photo': {'prefix': 'https://fastly.4sqi.net/img/user/',\n",
       "            'suffix': '/87473404-HI5DTBTK0HX401CA.png'},\n",
       "           'type': 'page'}]}],\n",
       "       'summary': '4 likes'},\n",
       "      'logView': True,\n",
       "      'agreeCount': 4,\n",
       "      'disagreeCount': 0,\n",
       "      'todo': {'count': 0},\n",
       "      'user': {'id': '87473404',\n",
       "       'firstName': 'TenantKing.com',\n",
       "       'photo': {'prefix': 'https://fastly.4sqi.net/img/user/',\n",
       "        'suffix': '/87473404-HI5DTBTK0HX401CA.png'},\n",
       "       'type': 'page'}},\n",
       "     {'id': '53962e98498ecd43845cc813',\n",
       "      'createdAt': 1402351256,\n",
       "      'text': \"I'm not sure if this place is one of the famous pizzerias in NYC but I loved their pizza.\",\n",
       "      'type': 'user',\n",
       "      'canonicalUrl': 'https://foursquare.com/item/53962e98498ecd43845cc813',\n",
       "      'photo': {'id': '53962e9c498e53dbbf59b28e',\n",
       "       'createdAt': 1402351260,\n",
       "       'source': {'name': 'Foursquare for iOS',\n",
       "        'url': 'https://foursquare.com/download/#/iphone'},\n",
       "       'prefix': 'https://fastly.4sqi.net/img/general/',\n",
       "       'suffix': '/7012699_DCcCtW8oRbhNv62E68gxtLnWn7IgRhapBr8vdnIQjYk.jpg',\n",
       "       'width': 720,\n",
       "       'height': 720,\n",
       "       'visibility': 'public'},\n",
       "      'photourl': 'https://fastly.4sqi.net/img/general/original/7012699_DCcCtW8oRbhNv62E68gxtLnWn7IgRhapBr8vdnIQjYk.jpg',\n",
       "      'lang': 'en',\n",
       "      'likes': {'count': 2,\n",
       "       'groups': [{'type': 'others',\n",
       "         'count': 2,\n",
       "         'items': [{'id': '7012699',\n",
       "           'firstName': 'Hani',\n",
       "           'lastName': 'A',\n",
       "           'photo': {'prefix': 'https://fastly.4sqi.net/img/user/',\n",
       "            'suffix': '/7012699_vCXraeWA_FdHlUETPVuDaElNtnp76a2i4JWAyD1JVMMiqitsCujXhqKtV2MQYPdfAVMBI7BRi.jpg'}},\n",
       "          {'id': '61939758',\n",
       "           'firstName': 'Leena',\n",
       "           'lastName': 'R',\n",
       "           'photo': {'prefix': 'https://fastly.4sqi.net/img/user/',\n",
       "            'suffix': '/61939758_KOpR9NFm_rNQPhjDng4f_qr3PU69nNGFgLnjwS-dM97MnkvrD7h1U2tOojRCPpFLq_B9KVfbh.jpg'}}]}],\n",
       "       'summary': '2 likes'},\n",
       "      'logView': True,\n",
       "      'agreeCount': 2,\n",
       "      'disagreeCount': 0,\n",
       "      'todo': {'count': 0},\n",
       "      'user': {'id': '7012699',\n",
       "       'firstName': 'Hani',\n",
       "       'lastName': 'A',\n",
       "       'photo': {'prefix': 'https://fastly.4sqi.net/img/user/',\n",
       "        'suffix': '/7012699_vCXraeWA_FdHlUETPVuDaElNtnp76a2i4JWAyD1JVMMiqitsCujXhqKtV2MQYPdfAVMBI7BRi.jpg'}},\n",
       "      'authorInteractionType': 'liked'}]}]},\n",
       " 'shortUrl': 'http://4sq.com/JNblHV',\n",
       " 'timeZone': 'America/New_York',\n",
       " 'listed': {'count': 54,\n",
       "  'groups': [{'type': 'others',\n",
       "    'name': 'Lists from other people',\n",
       "    'count': 54,\n",
       "    'items': [{'id': '4fa32fd0e4b04193744746b1',\n",
       "      'name': 'Manhattan Haunts',\n",
       "      'description': '',\n",
       "      'type': 'others',\n",
       "      'user': {'id': '24592223',\n",
       "       'firstName': 'Becca',\n",
       "       'lastName': 'M',\n",
       "       'photo': {'prefix': 'https://fastly.4sqi.net/img/user/',\n",
       "        'suffix': '/24592223-RAW2UYM0GIB1U40K.jpg'}},\n",
       "      'editable': False,\n",
       "      'public': True,\n",
       "      'collaborative': False,\n",
       "      'url': '/becca_mcarthur/list/manhattan-haunts',\n",
       "      'canonicalUrl': 'https://foursquare.com/becca_mcarthur/list/manhattan-haunts',\n",
       "      'createdAt': 1336094672,\n",
       "      'updatedAt': 1380845377,\n",
       "      'photo': {'id': '4e8cc9461081e3b3544e12e5',\n",
       "       'createdAt': 1317849414,\n",
       "       'prefix': 'https://fastly.4sqi.net/img/general/',\n",
       "       'suffix': '/0NLVU2HC1JF4DXIMKWUFW3QBUT31DC11EFNYYHMJG3NDWAPS.jpg',\n",
       "       'width': 492,\n",
       "       'height': 330,\n",
       "       'user': {'id': '742542',\n",
       "        'firstName': 'Time Out New York',\n",
       "        'photo': {'prefix': 'https://fastly.4sqi.net/img/user/',\n",
       "         'suffix': '/XXHKCBSQHBORZNSR.jpg'},\n",
       "        'type': 'page'},\n",
       "       'visibility': 'public'},\n",
       "      'followers': {'count': 22},\n",
       "      'listItems': {'count': 187,\n",
       "       'items': [{'id': 'v4fa862b3e4b0ebff2f749f06',\n",
       "         'createdAt': 1342934485}]}},\n",
       "     {'id': '4fae817be4b085f6b2a74d19',\n",
       "      'name': 'USA NYC MAN FiDi',\n",
       "      'description': 'Where to go for decent eats in the restaurant wasteland of Downtown NYC aka FiDi, along with Tribeca & Battery Park City.',\n",
       "      'type': 'others',\n",
       "      'user': {'id': '12113441',\n",
       "       'firstName': 'Kino',\n",
       "       'photo': {'prefix': 'https://fastly.4sqi.net/img/user/',\n",
       "        'suffix': '/12113441-K5HTHFLU2MUCM0CM.jpg'}},\n",
       "      'editable': False,\n",
       "      'public': True,\n",
       "      'collaborative': False,\n",
       "      'url': '/kinosfault/list/usa-nyc-man-fidi',\n",
       "      'canonicalUrl': 'https://foursquare.com/kinosfault/list/usa-nyc-man-fidi',\n",
       "      'createdAt': 1336836475,\n",
       "      'updatedAt': 1556754919,\n",
       "      'photo': {'id': '55984992498e13ba75e353bb',\n",
       "       'createdAt': 1436043666,\n",
       "       'prefix': 'https://fastly.4sqi.net/img/general/',\n",
       "       'suffix': '/12113441_iOa6Uh-Xi8bhj2-gpzkkw8MKiAIs7RmOcz_RM7m8ink.jpg',\n",
       "       'width': 540,\n",
       "       'height': 960,\n",
       "       'user': {'id': '12113441',\n",
       "        'firstName': 'Kino',\n",
       "        'photo': {'prefix': 'https://fastly.4sqi.net/img/user/',\n",
       "         'suffix': '/12113441-K5HTHFLU2MUCM0CM.jpg'}},\n",
       "       'visibility': 'public'},\n",
       "      'followers': {'count': 20},\n",
       "      'listItems': {'count': 273,\n",
       "       'items': [{'id': 'v4fa862b3e4b0ebff2f749f06',\n",
       "         'createdAt': 1373909433}]}},\n",
       "     {'id': '4fddeff0e4b0e078037ac0d3',\n",
       "      'name': 'NYC Resturants',\n",
       "      'description': '',\n",
       "      'type': 'others',\n",
       "      'user': {'id': '21563126',\n",
       "       'firstName': 'Richard',\n",
       "       'lastName': 'R',\n",
       "       'photo': {'prefix': 'https://fastly.4sqi.net/img/user/',\n",
       "        'suffix': '/21563126_v05J1KPw_SVj6Ehq9g8B9jeAGjFUMsU5QGl-NZ8inUQ7pKQm5bKplW37EmR7jS2A7GYPBBAtl.jpg'}},\n",
       "      'editable': False,\n",
       "      'public': True,\n",
       "      'collaborative': True,\n",
       "      'url': '/rickr7/list/nyc-resturants',\n",
       "      'canonicalUrl': 'https://foursquare.com/rickr7/list/nyc-resturants',\n",
       "      'createdAt': 1339944944,\n",
       "      'updatedAt': 1582232663,\n",
       "      'photo': {'id': '5072dd13e4b09145cdf782d1',\n",
       "       'createdAt': 1349704979,\n",
       "       'prefix': 'https://fastly.4sqi.net/img/general/',\n",
       "       'suffix': '/208205_fGh2OuAZ9qJ4agbAA5wMVNOSIm9kNUlRtNwj1N-adqg.jpg',\n",
       "       'width': 800,\n",
       "       'height': 800,\n",
       "       'user': {'id': '208205',\n",
       "        'firstName': 'Thalia',\n",
       "        'lastName': 'K',\n",
       "        'photo': {'prefix': 'https://fastly.4sqi.net/img/user/',\n",
       "         'suffix': '/SNOOLCAW2AG04ZKD.jpg'}},\n",
       "       'visibility': 'public'},\n",
       "      'followers': {'count': 12},\n",
       "      'listItems': {'count': 194,\n",
       "       'items': [{'id': 'v4fa862b3e4b0ebff2f749f06',\n",
       "         'createdAt': 1581655865}]}},\n",
       "     {'id': '5266c68a498e7c667807fe09',\n",
       "      'name': 'Foodie Love in NY - 02',\n",
       "      'description': '',\n",
       "      'type': 'others',\n",
       "      'user': {'id': '547977',\n",
       "       'firstName': 'WiLL',\n",
       "       'photo': {'prefix': 'https://fastly.4sqi.net/img/user/',\n",
       "        'suffix': '/-Q5NYGDMFDMOITQRR.jpg'}},\n",
       "      'editable': False,\n",
       "      'public': True,\n",
       "      'collaborative': False,\n",
       "      'url': '/sweetiewill/list/foodie-love-in-ny--02',\n",
       "      'canonicalUrl': 'https://foursquare.com/sweetiewill/list/foodie-love-in-ny--02',\n",
       "      'createdAt': 1382467210,\n",
       "      'updatedAt': 1391995585,\n",
       "      'followers': {'count': 7},\n",
       "      'listItems': {'count': 200,\n",
       "       'items': [{'id': 'v4fa862b3e4b0ebff2f749f06',\n",
       "         'createdAt': 1386809936}]}}]}]},\n",
       " 'hours': {'status': 'Closed until 11:30 AM',\n",
       "  'richStatus': {'entities': [], 'text': 'Closed until 11:30 AM'},\n",
       "  'isOpen': False,\n",
       "  'isLocalHoliday': False,\n",
       "  'dayData': [],\n",
       "  'timeframes': [{'days': 'Mon–Wed, Sun',\n",
       "    'includesToday': True,\n",
       "    'open': [{'renderedTime': '11:30 AM–11:00 PM'}],\n",
       "    'segments': []},\n",
       "   {'days': 'Thu–Sat',\n",
       "    'open': [{'renderedTime': '11:30 AM–Midnight'}],\n",
       "    'segments': []}]},\n",
       " 'popular': {'isOpen': False,\n",
       "  'isLocalHoliday': False,\n",
       "  'timeframes': [{'days': 'Today',\n",
       "    'includesToday': True,\n",
       "    'open': [{'renderedTime': 'Noon–2:00 PM'},\n",
       "     {'renderedTime': '5:00 PM–10:00 PM'}],\n",
       "    'segments': []},\n",
       "   {'days': 'Thu',\n",
       "    'open': [{'renderedTime': 'Noon–2:00 PM'},\n",
       "     {'renderedTime': '5:00 PM–10:00 PM'}],\n",
       "    'segments': []},\n",
       "   {'days': 'Fri',\n",
       "    'open': [{'renderedTime': 'Noon–3:00 PM'},\n",
       "     {'renderedTime': '5:00 PM–11:00 PM'}],\n",
       "    'segments': []},\n",
       "   {'days': 'Sat',\n",
       "    'open': [{'renderedTime': 'Noon–11:00 PM'}],\n",
       "    'segments': []},\n",
       "   {'days': 'Sun',\n",
       "    'open': [{'renderedTime': 'Noon–3:00 PM'},\n",
       "     {'renderedTime': '5:00 PM–8:00 PM'}],\n",
       "    'segments': []},\n",
       "   {'days': 'Mon',\n",
       "    'open': [{'renderedTime': 'Noon–2:00 PM'},\n",
       "     {'renderedTime': '6:00 PM–8:00 PM'}],\n",
       "    'segments': []},\n",
       "   {'days': 'Tue',\n",
       "    'open': [{'renderedTime': 'Noon–2:00 PM'},\n",
       "     {'renderedTime': '5:00 PM–10:00 PM'}],\n",
       "    'segments': []}]},\n",
       " 'seasonalHours': [],\n",
       " 'defaultHours': {'status': 'Closed until 11:30 AM',\n",
       "  'richStatus': {'entities': [], 'text': 'Closed until 11:30 AM'},\n",
       "  'isOpen': False,\n",
       "  'isLocalHoliday': False,\n",
       "  'dayData': [],\n",
       "  'timeframes': [{'days': 'Mon–Wed, Sun',\n",
       "    'includesToday': True,\n",
       "    'open': [{'renderedTime': '11:30 AM–11:00 PM'}],\n",
       "    'segments': []},\n",
       "   {'days': 'Thu–Sat',\n",
       "    'open': [{'renderedTime': '11:30 AM–Midnight'}],\n",
       "    'segments': []}]},\n",
       " 'pageUpdates': {'count': 0, 'items': []},\n",
       " 'inbox': {'count': 0, 'items': []},\n",
       " 'attributes': {'groups': [{'type': 'price',\n",
       "    'name': 'Price',\n",
       "    'summary': '$$',\n",
       "    'count': 1,\n",
       "    'items': [{'displayName': 'Price', 'displayValue': '$$', 'priceTier': 2}]},\n",
       "   {'type': 'payments',\n",
       "    'name': 'Credit Cards',\n",
       "    'summary': 'Credit Cards',\n",
       "    'count': 7,\n",
       "    'items': [{'displayName': 'Credit Cards',\n",
       "      'displayValue': 'Yes (incl. American Express)'}]},\n",
       "   {'type': 'outdoorSeating',\n",
       "    'name': 'Outdoor Seating',\n",
       "    'summary': 'Outdoor Seating',\n",
       "    'count': 1,\n",
       "    'items': [{'displayName': 'Outdoor Seating', 'displayValue': 'Yes'}]},\n",
       "   {'type': 'serves',\n",
       "    'name': 'Menus',\n",
       "    'summary': 'Happy Hour, Brunch & more',\n",
       "    'count': 8,\n",
       "    'items': [{'displayName': 'Brunch', 'displayValue': 'Brunch'},\n",
       "     {'displayName': 'Lunch', 'displayValue': 'Lunch'},\n",
       "     {'displayName': 'Dinner', 'displayValue': 'Dinner'},\n",
       "     {'displayName': 'Happy Hour', 'displayValue': 'Happy Hour'}]},\n",
       "   {'type': 'drinks',\n",
       "    'name': 'Drinks',\n",
       "    'summary': 'Beer, Wine & Cocktails',\n",
       "    'count': 5,\n",
       "    'items': [{'displayName': 'Beer', 'displayValue': 'Beer'},\n",
       "     {'displayName': 'Wine', 'displayValue': 'Wine'},\n",
       "     {'displayName': 'Cocktails', 'displayValue': 'Cocktails'}]},\n",
       "   {'type': 'diningOptions',\n",
       "    'name': 'Dining Options',\n",
       "    'summary': 'Delivery',\n",
       "    'count': 5,\n",
       "    'items': [{'displayName': 'Delivery', 'displayValue': 'Delivery'}]}]},\n",
       " 'bestPhoto': {'id': '4fad980de4b091b4626c3633',\n",
       "  'createdAt': 1336776717,\n",
       "  'source': {'name': 'Foursquare for Android',\n",
       "   'url': 'https://foursquare.com/download/#/android'},\n",
       "  'prefix': 'https://fastly.4sqi.net/img/general/',\n",
       "  'suffix': '/ya1iQFI7pLjuIJp1PGDKlrZS3OJdHCF7tpILMmjv_2w.jpg',\n",
       "  'width': 480,\n",
       "  'height': 640,\n",
       "  'visibility': 'public'},\n",
       " 'colors': {'highlightColor': {'photoId': '4fad980de4b091b4626c3633',\n",
       "   'value': -13619152},\n",
       "  'highlightTextColor': {'photoId': '4fad980de4b091b4626c3633', 'value': -1},\n",
       "  'algoVersion': 3}}"
      ]
     },
     "execution_count": 162,
     "metadata": {},
     "output_type": "execute_result"
    }
   ],
   "source": [
    "result = requests.get(url).json()\n",
    "print(result['response']['venue'].keys())\n",
    "result['response']['venue']"
   ]
  },
  {
   "cell_type": "markdown",
   "metadata": {
    "button": false,
    "deletable": true,
    "new_sheet": false,
    "run_control": {
     "read_only": false
    }
   },
   "source": [
    "### B. Get the venue's overall rating"
   ]
  },
  {
   "cell_type": "code",
   "execution_count": 163,
   "metadata": {
    "button": false,
    "collapsed": false,
    "deletable": true,
    "jupyter": {
     "outputs_hidden": false
    },
    "new_sheet": false,
    "run_control": {
     "read_only": false
    }
   },
   "outputs": [
    {
     "name": "stdout",
     "output_type": "stream",
     "text": [
      "7.0\n"
     ]
    }
   ],
   "source": [
    "try:\n",
    "    print(result['response']['venue']['rating'])\n",
    "except:\n",
    "    print('This venue has not been rated yet.')"
   ]
  },
  {
   "cell_type": "markdown",
   "metadata": {
    "button": false,
    "deletable": true,
    "new_sheet": false,
    "run_control": {
     "read_only": false
    }
   },
   "source": [
    "That is not a very good rating. Let's check the rating of the second closest Italian restaurant."
   ]
  },
  {
   "cell_type": "code",
   "execution_count": 164,
   "metadata": {
    "button": false,
    "collapsed": false,
    "deletable": true,
    "jupyter": {
     "outputs_hidden": false
    },
    "new_sheet": false,
    "run_control": {
     "read_only": false
    }
   },
   "outputs": [
    {
     "name": "stdout",
     "output_type": "stream",
     "text": [
      "This venue has not been rated yet.\n"
     ]
    }
   ],
   "source": [
    "venue_id = '4f3232e219836c91c7bfde94' # ID of Conca Cucina Italian Restaurant\n",
    "url = 'https://api.foursquare.com/v2/venues/{}?client_id={}&client_secret={}&v={}'.format(venue_id, CLIENT_ID, CLIENT_SECRET, VERSION)\n",
    "\n",
    "result = requests.get(url).json()\n",
    "try:\n",
    "    print(result['response']['venue']['rating'])\n",
    "except:\n",
    "    print('This venue has not been rated yet.')"
   ]
  },
  {
   "cell_type": "markdown",
   "metadata": {
    "button": false,
    "deletable": true,
    "new_sheet": false,
    "run_control": {
     "read_only": false
    }
   },
   "source": [
    "Since this restaurant has no ratings, let's check the third restaurant."
   ]
  },
  {
   "cell_type": "code",
   "execution_count": 165,
   "metadata": {
    "button": false,
    "collapsed": false,
    "deletable": true,
    "jupyter": {
     "outputs_hidden": false
    },
    "new_sheet": false,
    "run_control": {
     "read_only": false
    }
   },
   "outputs": [
    {
     "name": "stdout",
     "output_type": "stream",
     "text": [
      "7.4\n"
     ]
    }
   ],
   "source": [
    "venue_id = '3fd66200f964a520f4e41ee3' # ID of Ecco\n",
    "url = 'https://api.foursquare.com/v2/venues/{}?client_id={}&client_secret={}&v={}'.format(venue_id, CLIENT_ID, CLIENT_SECRET, VERSION)\n",
    "\n",
    "result = requests.get(url).json()\n",
    "try:\n",
    "    print(result['response']['venue']['rating'])\n",
    "except:\n",
    "    print('This venue has not been rated yet.')"
   ]
  },
  {
   "cell_type": "markdown",
   "metadata": {
    "button": false,
    "deletable": true,
    "new_sheet": false,
    "run_control": {
     "read_only": false
    }
   },
   "source": [
    "Since this restaurant has a slightly better rating, let's explore it further."
   ]
  },
  {
   "cell_type": "markdown",
   "metadata": {
    "button": false,
    "deletable": true,
    "new_sheet": false,
    "run_control": {
     "read_only": false
    }
   },
   "source": [
    "### C. Get the number of tips"
   ]
  },
  {
   "cell_type": "code",
   "execution_count": 166,
   "metadata": {
    "button": false,
    "collapsed": false,
    "deletable": true,
    "jupyter": {
     "outputs_hidden": false
    },
    "new_sheet": false,
    "run_control": {
     "read_only": false
    }
   },
   "outputs": [
    {
     "data": {
      "text/plain": [
       "19"
      ]
     },
     "execution_count": 166,
     "metadata": {},
     "output_type": "execute_result"
    }
   ],
   "source": [
    "result['response']['venue']['tips']['count']"
   ]
  },
  {
   "cell_type": "markdown",
   "metadata": {
    "button": false,
    "deletable": true,
    "new_sheet": false,
    "run_control": {
     "read_only": false
    }
   },
   "source": [
    "### D. Get the venue's tips\n",
    "> `https://api.foursquare.com/v2/venues/`**VENUE_ID**`/tips?client_id=`**CLIENT_ID**`&client_secret=`**CLIENT_SECRET**`&v=`**VERSION**`&limit=`**LIMIT**"
   ]
  },
  {
   "cell_type": "markdown",
   "metadata": {
    "button": false,
    "deletable": true,
    "new_sheet": false,
    "run_control": {
     "read_only": false
    }
   },
   "source": [
    "#### Create URL and send GET request. Make sure to set limit to get all tips"
   ]
  },
  {
   "cell_type": "code",
   "execution_count": 167,
   "metadata": {
    "button": false,
    "collapsed": false,
    "deletable": true,
    "jupyter": {
     "outputs_hidden": false
    },
    "new_sheet": false,
    "run_control": {
     "read_only": false
    }
   },
   "outputs": [
    {
     "data": {
      "text/plain": [
       "{'meta': {'code': 200, 'requestId': '5ea038f447b43d002388d3e2'},\n",
       " 'response': {'tips': {'count': 19,\n",
       "   'items': [{'id': '5ab1cb46c9a517174651d3fe',\n",
       "     'createdAt': 1521601350,\n",
       "     'text': 'A+ Italian food! Trust me on this: my mom’s side of the family is 100% Italian. I was born and bred to know good pasta when I see it, and Ecco is one of my all-time NYC favorites',\n",
       "     'type': 'user',\n",
       "     'canonicalUrl': 'https://foursquare.com/item/5ab1cb46c9a517174651d3fe',\n",
       "     'lang': 'en',\n",
       "     'likes': {'count': 0, 'groups': []},\n",
       "     'logView': True,\n",
       "     'agreeCount': 4,\n",
       "     'disagreeCount': 0,\n",
       "     'todo': {'count': 0},\n",
       "     'user': {'id': '484542633',\n",
       "      'firstName': 'Nick',\n",
       "      'lastName': 'E',\n",
       "      'photo': {'prefix': 'https://fastly.4sqi.net/img/user/',\n",
       "       'suffix': '/484542633_unymNUmw_FdPs3GjXHujmHcYnN4hf8kEPADlOZuIrdcdm97VX3tFqL7fFNMNA_8Gl9NlU1GYg.jpg'}},\n",
       "     'authorInteractionType': 'liked'},\n",
       "    {'id': '5cb7051b180b910039f90625',\n",
       "     'createdAt': 1555498267,\n",
       "     'text': 'Excellent food!! Osso bucco special one of the best I ever had! Lobster ravioli with porcini mushroomhomemade Italian cheesecake, tiramisu and napoleons...calamari fra diavolo was sautéed not fried',\n",
       "     'type': 'user',\n",
       "     'canonicalUrl': 'https://foursquare.com/item/5cb7051b180b910039f90625',\n",
       "     'lang': 'en',\n",
       "     'likes': {'count': 0, 'groups': []},\n",
       "     'logView': True,\n",
       "     'agreeCount': 1,\n",
       "     'disagreeCount': 0,\n",
       "     'todo': {'count': 0},\n",
       "     'user': {'id': '446298346',\n",
       "      'firstName': 'Lynn',\n",
       "      'lastName': 'B',\n",
       "      'photo': {'prefix': 'https://fastly.4sqi.net/img/user/',\n",
       "       'suffix': '/446298346_fdtqugvP_1WztOWXXDQX92HwIrjzLb6nMQsYiCVlkiTp58UGSFVBwQ0-5G5AdqxlEWphYWTnK.jpg'}},\n",
       "     'authorInteractionType': 'liked'}]}}}"
      ]
     },
     "execution_count": 167,
     "metadata": {},
     "output_type": "execute_result"
    }
   ],
   "source": [
    "## Ecco Tips\n",
    "limit = 19 # set limit to be greater than or equal to the total number of tips\n",
    "url = 'https://api.foursquare.com/v2/venues/{}/tips?client_id={}&client_secret={}&v={}&limit={}'.format(venue_id, CLIENT_ID, CLIENT_SECRET, VERSION, limit)\n",
    "\n",
    "results = requests.get(url).json()\n",
    "results"
   ]
  },
  {
   "cell_type": "markdown",
   "metadata": {
    "button": false,
    "deletable": true,
    "new_sheet": false,
    "run_control": {
     "read_only": false
    }
   },
   "source": [
    "#### Get tips and list of associated features"
   ]
  },
  {
   "cell_type": "code",
   "execution_count": 168,
   "metadata": {
    "button": false,
    "collapsed": false,
    "deletable": true,
    "jupyter": {
     "outputs_hidden": false
    },
    "new_sheet": false,
    "run_control": {
     "read_only": false
    }
   },
   "outputs": [
    {
     "data": {
      "text/plain": [
       "dict_keys(['id', 'createdAt', 'text', 'type', 'canonicalUrl', 'lang', 'likes', 'logView', 'agreeCount', 'disagreeCount', 'todo', 'user', 'authorInteractionType'])"
      ]
     },
     "execution_count": 168,
     "metadata": {},
     "output_type": "execute_result"
    }
   ],
   "source": [
    "tips = results['response']['tips']['items']\n",
    "\n",
    "tip = results['response']['tips']['items'][0]\n",
    "tip.keys()"
   ]
  },
  {
   "cell_type": "markdown",
   "metadata": {
    "button": false,
    "deletable": true,
    "new_sheet": false,
    "run_control": {
     "read_only": false
    }
   },
   "source": [
    "#### Format column width and display all tips"
   ]
  },
  {
   "cell_type": "code",
   "execution_count": 169,
   "metadata": {
    "button": false,
    "collapsed": false,
    "deletable": true,
    "jupyter": {
     "outputs_hidden": false
    },
    "new_sheet": false,
    "run_control": {
     "read_only": false
    }
   },
   "outputs": [
    {
     "name": "stderr",
     "output_type": "stream",
     "text": [
      "/Users/abhinavpaul/opt/anaconda3/lib/python3.7/site-packages/ipykernel_launcher.py:1: FutureWarning: Passing a negative integer is deprecated in version 1.0 and will not be supported in future version. Instead, use None to not limit the column width.\n",
      "  \"\"\"Entry point for launching an IPython kernel.\n"
     ]
    },
    {
     "data": {
      "text/html": [
       "<div>\n",
       "<style scoped>\n",
       "    .dataframe tbody tr th:only-of-type {\n",
       "        vertical-align: middle;\n",
       "    }\n",
       "\n",
       "    .dataframe tbody tr th {\n",
       "        vertical-align: top;\n",
       "    }\n",
       "\n",
       "    .dataframe thead th {\n",
       "        text-align: right;\n",
       "    }\n",
       "</style>\n",
       "<table border=\"1\" class=\"dataframe\">\n",
       "  <thead>\n",
       "    <tr style=\"text-align: right;\">\n",
       "      <th></th>\n",
       "      <th>text</th>\n",
       "      <th>agreeCount</th>\n",
       "      <th>disagreeCount</th>\n",
       "      <th>id</th>\n",
       "      <th>user.firstName</th>\n",
       "      <th>user.lastName</th>\n",
       "      <th>user.id</th>\n",
       "    </tr>\n",
       "  </thead>\n",
       "  <tbody>\n",
       "    <tr>\n",
       "      <th>0</th>\n",
       "      <td>A+ Italian food! Trust me on this: my mom’s side of the family is 100% Italian. I was born and bred to know good pasta when I see it, and Ecco is one of my all-time NYC favorites</td>\n",
       "      <td>4</td>\n",
       "      <td>0</td>\n",
       "      <td>5ab1cb46c9a517174651d3fe</td>\n",
       "      <td>Nick</td>\n",
       "      <td>E</td>\n",
       "      <td>484542633</td>\n",
       "    </tr>\n",
       "    <tr>\n",
       "      <th>1</th>\n",
       "      <td>Excellent food!! Osso bucco special one of the best I ever had! Lobster ravioli with porcini mushroomhomemade Italian cheesecake, tiramisu and napoleons...calamari fra diavolo was sautéed not fried</td>\n",
       "      <td>1</td>\n",
       "      <td>0</td>\n",
       "      <td>5cb7051b180b910039f90625</td>\n",
       "      <td>Lynn</td>\n",
       "      <td>B</td>\n",
       "      <td>446298346</td>\n",
       "    </tr>\n",
       "  </tbody>\n",
       "</table>\n",
       "</div>"
      ],
      "text/plain": [
       "                                                                                                                                                                                                    text  \\\n",
       "0  A+ Italian food! Trust me on this: my mom’s side of the family is 100% Italian. I was born and bred to know good pasta when I see it, and Ecco is one of my all-time NYC favorites                      \n",
       "1  Excellent food!! Osso bucco special one of the best I ever had! Lobster ravioli with porcini mushroomhomemade Italian cheesecake, tiramisu and napoleons...calamari fra diavolo was sautéed not fried   \n",
       "\n",
       "   agreeCount  disagreeCount                        id user.firstName  \\\n",
       "0  4           0              5ab1cb46c9a517174651d3fe  Nick            \n",
       "1  1           0              5cb7051b180b910039f90625  Lynn            \n",
       "\n",
       "  user.lastName    user.id  \n",
       "0  E             484542633  \n",
       "1  B             446298346  "
      ]
     },
     "execution_count": 169,
     "metadata": {},
     "output_type": "execute_result"
    }
   ],
   "source": [
    "pd.set_option('display.max_colwidth', -1)\n",
    "\n",
    "tips_df = json_normalize(tips) # json normalize tips\n",
    "\n",
    "# columns to keep\n",
    "filtered_columns = ['text', 'agreeCount', 'disagreeCount', 'id', 'user.firstName', 'user.lastName', 'user.id']\n",
    "tips_filtered = tips_df.loc[:, filtered_columns]\n",
    "\n",
    "# display tips\n",
    "tips_filtered"
   ]
  },
  {
   "cell_type": "markdown",
   "metadata": {
    "button": false,
    "deletable": true,
    "new_sheet": false,
    "run_control": {
     "read_only": false
    }
   },
   "source": [
    "Now remember that because we are using a personal developer account, then we can access only 2 of the restaurant's tips, instead of all 15 tips."
   ]
  },
  {
   "cell_type": "markdown",
   "metadata": {
    "button": false,
    "deletable": true,
    "new_sheet": false,
    "run_control": {
     "read_only": false
    }
   },
   "source": [
    "   "
   ]
  },
  {
   "cell_type": "markdown",
   "metadata": {
    "button": false,
    "deletable": true,
    "new_sheet": false,
    "run_control": {
     "read_only": false
    }
   },
   "source": [
    "<a id=\"item3\"></a>"
   ]
  },
  {
   "cell_type": "markdown",
   "metadata": {
    "button": false,
    "deletable": true,
    "new_sheet": false,
    "run_control": {
     "read_only": false
    }
   },
   "source": [
    "## 3. Search a Foursquare User\n",
    "> `https://api.foursquare.com/v2/users/`**USER_ID**`?client_id=`**CLIENT_ID**`&client_secret=`**CLIENT_SECRET**`&v=`**VERSION**"
   ]
  },
  {
   "cell_type": "markdown",
   "metadata": {
    "button": false,
    "deletable": true,
    "new_sheet": false,
    "run_control": {
     "read_only": false
    }
   },
   "source": [
    "### Define URL, send GET request and display features associated with user"
   ]
  },
  {
   "cell_type": "code",
   "execution_count": 170,
   "metadata": {
    "button": false,
    "collapsed": false,
    "deletable": true,
    "jupyter": {
     "outputs_hidden": false
    },
    "new_sheet": false,
    "run_control": {
     "read_only": false
    }
   },
   "outputs": [
    {
     "data": {
      "text/plain": [
       "dict_keys(['id', 'firstName', 'lastName', 'gender', 'canonicalUrl', 'photo', 'friends', 'tips', 'homeCity', 'bio', 'contact', 'photos', 'checkinPings', 'pings', 'type', 'mayorships', 'checkins', 'lists', 'blockedStatus', 'lenses'])"
      ]
     },
     "execution_count": 170,
     "metadata": {},
     "output_type": "execute_result"
    }
   ],
   "source": [
    "user_id = '484542633' # user ID with most agree counts and complete profile\n",
    "ACCESS_TOKEN = 'WC4JYNHNPRJSZU2QOPWKCPDVOFGDIU5S2C4CPIX4GRDKZDGP'\n",
    "\n",
    "url = 'https://api.foursquare.com/v2/users/{}?client_id={}&client_secret={}&oauth_token={}&v={}'.format(user_id, CLIENT_ID, CLIENT_SECRET, ACCESS_TOKEN, VERSION) # define URL\n",
    "\n",
    "# send GET request\n",
    "results = requests.get(url).json()\n",
    "user_data = results['response']['user']\n",
    "\n",
    "# display features associated with user\n",
    "user_data.keys()"
   ]
  },
  {
   "cell_type": "code",
   "execution_count": 171,
   "metadata": {
    "button": false,
    "collapsed": false,
    "deletable": true,
    "jupyter": {
     "outputs_hidden": false
    },
    "new_sheet": false,
    "run_control": {
     "read_only": false
    }
   },
   "outputs": [
    {
     "name": "stdout",
     "output_type": "stream",
     "text": [
      "First Name: Nick\n",
      "Last Name: El-Tawil\n",
      "Home City: New York, NY\n"
     ]
    }
   ],
   "source": [
    "print('First Name: ' + user_data['firstName'])\n",
    "print('Last Name: ' + user_data['lastName'])\n",
    "print('Home City: ' + user_data['homeCity'])"
   ]
  },
  {
   "cell_type": "markdown",
   "metadata": {
    "button": false,
    "deletable": true,
    "new_sheet": false,
    "run_control": {
     "read_only": false
    }
   },
   "source": [
    "#### How many tips has this user submitted?"
   ]
  },
  {
   "cell_type": "code",
   "execution_count": 172,
   "metadata": {
    "button": false,
    "collapsed": false,
    "deletable": true,
    "jupyter": {
     "outputs_hidden": false
    },
    "new_sheet": false,
    "run_control": {
     "read_only": false
    }
   },
   "outputs": [
    {
     "data": {
      "text/plain": [
       "{'count': 99}"
      ]
     },
     "execution_count": 172,
     "metadata": {},
     "output_type": "execute_result"
    }
   ],
   "source": [
    "user_data['tips']"
   ]
  },
  {
   "cell_type": "markdown",
   "metadata": {
    "button": false,
    "deletable": true,
    "new_sheet": false,
    "run_control": {
     "read_only": false
    }
   },
   "source": [
    "Wow! So it turns out that Nick is a very active Foursquare user, with more than 250 tips."
   ]
  },
  {
   "cell_type": "markdown",
   "metadata": {
    "button": false,
    "deletable": true,
    "new_sheet": false,
    "run_control": {
     "read_only": false
    }
   },
   "source": [
    "### Get User's tips"
   ]
  },
  {
   "cell_type": "code",
   "execution_count": 173,
   "metadata": {
    "button": false,
    "collapsed": false,
    "deletable": true,
    "jupyter": {
     "outputs_hidden": false
    },
    "new_sheet": false,
    "run_control": {
     "read_only": false
    }
   },
   "outputs": [
    {
     "name": "stderr",
     "output_type": "stream",
     "text": [
      "/Users/abhinavpaul/opt/anaconda3/lib/python3.7/site-packages/ipykernel_launcher.py:9: FutureWarning: Passing a negative integer is deprecated in version 1.0 and will not be supported in future version. Instead, use None to not limit the column width.\n",
      "  if __name__ == '__main__':\n"
     ]
    },
    {
     "data": {
      "text/html": [
       "<div>\n",
       "<style scoped>\n",
       "    .dataframe tbody tr th:only-of-type {\n",
       "        vertical-align: middle;\n",
       "    }\n",
       "\n",
       "    .dataframe tbody tr th {\n",
       "        vertical-align: top;\n",
       "    }\n",
       "\n",
       "    .dataframe thead th {\n",
       "        text-align: right;\n",
       "    }\n",
       "</style>\n",
       "<table border=\"1\" class=\"dataframe\">\n",
       "  <thead>\n",
       "    <tr style=\"text-align: right;\">\n",
       "      <th></th>\n",
       "      <th>text</th>\n",
       "      <th>agreeCount</th>\n",
       "      <th>disagreeCount</th>\n",
       "      <th>id</th>\n",
       "    </tr>\n",
       "  </thead>\n",
       "  <tbody>\n",
       "    <tr>\n",
       "      <th>0</th>\n",
       "      <td>They serve coffee!!!!!!</td>\n",
       "      <td>1</td>\n",
       "      <td>0</td>\n",
       "      <td>5accc98c0313204c9d7ec157</td>\n",
       "    </tr>\n",
       "    <tr>\n",
       "      <th>1</th>\n",
       "      <td>The linguine with clams is on point 👌</td>\n",
       "      <td>1</td>\n",
       "      <td>0</td>\n",
       "      <td>5accbe3a911fc423730f3ed3</td>\n",
       "    </tr>\n",
       "    <tr>\n",
       "      <th>2</th>\n",
       "      <td>Quick, cheap lunch that tastes good! Way shorter line than Chipotle, too.</td>\n",
       "      <td>2</td>\n",
       "      <td>0</td>\n",
       "      <td>5acbec70a0215b732e264fe8</td>\n",
       "    </tr>\n",
       "    <tr>\n",
       "      <th>3</th>\n",
       "      <td>You’re not a real New Yorker until you’ve shame-ordered Insomnia Cookies for delivery at 3am</td>\n",
       "      <td>1</td>\n",
       "      <td>0</td>\n",
       "      <td>5acbbd4eb1538e45373b07f5</td>\n",
       "    </tr>\n",
       "    <tr>\n",
       "      <th>4</th>\n",
       "      <td>Good for you yet still tasty! Clean green protein is my go-to after I hit the gym 💪</td>\n",
       "      <td>2</td>\n",
       "      <td>0</td>\n",
       "      <td>5acbbcda01235808d5d6dc75</td>\n",
       "    </tr>\n",
       "    <tr>\n",
       "      <th>5</th>\n",
       "      <td>Burger game strong 💪</td>\n",
       "      <td>1</td>\n",
       "      <td>0</td>\n",
       "      <td>5ab575fb6bdee65f759da8c1</td>\n",
       "    </tr>\n",
       "    <tr>\n",
       "      <th>6</th>\n",
       "      <td>Great burgers &amp; fries! Also, this place is exactly what it’s like when you go to a bar in the Southwest. Source: I’m from Arizona.</td>\n",
       "      <td>2</td>\n",
       "      <td>0</td>\n",
       "      <td>5ab5575d73fe2516ad8f363b</td>\n",
       "    </tr>\n",
       "    <tr>\n",
       "      <th>7</th>\n",
       "      <td>Açaí bowl + peanut butter + whey protein = 💪💪💪</td>\n",
       "      <td>1</td>\n",
       "      <td>0</td>\n",
       "      <td>5ab42db53c858d64af2688a4</td>\n",
       "    </tr>\n",
       "    <tr>\n",
       "      <th>8</th>\n",
       "      <td>Highly underrated and way less crowded than Central Park!</td>\n",
       "      <td>3</td>\n",
       "      <td>0</td>\n",
       "      <td>5ab42c396f706a29f53ad1a8</td>\n",
       "    </tr>\n",
       "    <tr>\n",
       "      <th>9</th>\n",
       "      <td>Way easier to navigate than the Met proper, plus the Met Breuer focuses on modern art. If I only have a limited amount of time to spend in a museum, I would rather go here than anywhere else!</td>\n",
       "      <td>6</td>\n",
       "      <td>0</td>\n",
       "      <td>5ab42b987dc9e17930e5ff5b</td>\n",
       "    </tr>\n",
       "    <tr>\n",
       "      <th>10</th>\n",
       "      <td>Get the açaí bowl with peanut butter after your work out and thank me later 👌</td>\n",
       "      <td>1</td>\n",
       "      <td>0</td>\n",
       "      <td>5ab42aca2a7ab6333652b266</td>\n",
       "    </tr>\n",
       "    <tr>\n",
       "      <th>11</th>\n",
       "      <td>When you want a burger, this should be the first thing that comes to mind. A+!</td>\n",
       "      <td>1</td>\n",
       "      <td>0</td>\n",
       "      <td>5ab42a28da5e5617d18e3a6a</td>\n",
       "    </tr>\n",
       "    <tr>\n",
       "      <th>12</th>\n",
       "      <td>Way less crowded than Central Park! People who live in the neighborhood rave about Carl Schurz Park.</td>\n",
       "      <td>3</td>\n",
       "      <td>0</td>\n",
       "      <td>5ab429db1ffe971b060083f5</td>\n",
       "    </tr>\n",
       "    <tr>\n",
       "      <th>13</th>\n",
       "      <td>The best Mexican food in the Murray Hill / Kips Bay area!</td>\n",
       "      <td>1</td>\n",
       "      <td>0</td>\n",
       "      <td>5ab3f53f8496ca57542d5549</td>\n",
       "    </tr>\n",
       "    <tr>\n",
       "      <th>14</th>\n",
       "      <td>Best coffee shop in the neighborhood!</td>\n",
       "      <td>1</td>\n",
       "      <td>0</td>\n",
       "      <td>5ab3f428da5e5617d17d1475</td>\n",
       "    </tr>\n",
       "    <tr>\n",
       "      <th>15</th>\n",
       "      <td>When there’s nice weather, the rooftop at Tonic East is the best place to watch the game. Perfect for March Madness &amp; NBA finals!</td>\n",
       "      <td>2</td>\n",
       "      <td>0</td>\n",
       "      <td>5ab3f3fedd70c572de886c9d</td>\n",
       "    </tr>\n",
       "    <tr>\n",
       "      <th>16</th>\n",
       "      <td>Rib game level 💯</td>\n",
       "      <td>1</td>\n",
       "      <td>0</td>\n",
       "      <td>5ab3f372da2e00604ca53924</td>\n",
       "    </tr>\n",
       "    <tr>\n",
       "      <th>17</th>\n",
       "      <td>Solid option for good Mexican food, which is hard to find in Murray Hill.</td>\n",
       "      <td>4</td>\n",
       "      <td>0</td>\n",
       "      <td>5ab3f275dff815096a61884e</td>\n",
       "    </tr>\n",
       "    <tr>\n",
       "      <th>18</th>\n",
       "      <td>My parents love this place. They always go here when they visit NYC, even though I tell them there are 5,689,097,788 other pizza places. They don’t dare. That has to count for something, right?</td>\n",
       "      <td>2</td>\n",
       "      <td>0</td>\n",
       "      <td>5ab3ef834c954c7a779e20ff</td>\n",
       "    </tr>\n",
       "  </tbody>\n",
       "</table>\n",
       "</div>"
      ],
      "text/plain": [
       "                                                                                                                                                                                                 text  \\\n",
       "0   They serve coffee!!!!!!                                                                                                                                                                             \n",
       "1   The linguine with clams is on point 👌                                                                                                                                                               \n",
       "2   Quick, cheap lunch that tastes good! Way shorter line than Chipotle, too.                                                                                                                           \n",
       "3   You’re not a real New Yorker until you’ve shame-ordered Insomnia Cookies for delivery at 3am                                                                                                        \n",
       "4   Good for you yet still tasty! Clean green protein is my go-to after I hit the gym 💪                                                                                                                 \n",
       "5   Burger game strong 💪                                                                                                                                                                                \n",
       "6   Great burgers & fries! Also, this place is exactly what it’s like when you go to a bar in the Southwest. Source: I’m from Arizona.                                                                  \n",
       "7   Açaí bowl + peanut butter + whey protein = 💪💪💪                                                                                                                                                      \n",
       "8   Highly underrated and way less crowded than Central Park!                                                                                                                                           \n",
       "9   Way easier to navigate than the Met proper, plus the Met Breuer focuses on modern art. If I only have a limited amount of time to spend in a museum, I would rather go here than anywhere else!     \n",
       "10  Get the açaí bowl with peanut butter after your work out and thank me later 👌                                                                                                                       \n",
       "11  When you want a burger, this should be the first thing that comes to mind. A+!                                                                                                                      \n",
       "12  Way less crowded than Central Park! People who live in the neighborhood rave about Carl Schurz Park.                                                                                                \n",
       "13  The best Mexican food in the Murray Hill / Kips Bay area!                                                                                                                                           \n",
       "14  Best coffee shop in the neighborhood!                                                                                                                                                               \n",
       "15  When there’s nice weather, the rooftop at Tonic East is the best place to watch the game. Perfect for March Madness & NBA finals!                                                                   \n",
       "16  Rib game level 💯                                                                                                                                                                                    \n",
       "17  Solid option for good Mexican food, which is hard to find in Murray Hill.                                                                                                                           \n",
       "18  My parents love this place. They always go here when they visit NYC, even though I tell them there are 5,689,097,788 other pizza places. They don’t dare. That has to count for something, right?   \n",
       "\n",
       "    agreeCount  disagreeCount                        id  \n",
       "0   1           0              5accc98c0313204c9d7ec157  \n",
       "1   1           0              5accbe3a911fc423730f3ed3  \n",
       "2   2           0              5acbec70a0215b732e264fe8  \n",
       "3   1           0              5acbbd4eb1538e45373b07f5  \n",
       "4   2           0              5acbbcda01235808d5d6dc75  \n",
       "5   1           0              5ab575fb6bdee65f759da8c1  \n",
       "6   2           0              5ab5575d73fe2516ad8f363b  \n",
       "7   1           0              5ab42db53c858d64af2688a4  \n",
       "8   3           0              5ab42c396f706a29f53ad1a8  \n",
       "9   6           0              5ab42b987dc9e17930e5ff5b  \n",
       "10  1           0              5ab42aca2a7ab6333652b266  \n",
       "11  1           0              5ab42a28da5e5617d18e3a6a  \n",
       "12  3           0              5ab429db1ffe971b060083f5  \n",
       "13  1           0              5ab3f53f8496ca57542d5549  \n",
       "14  1           0              5ab3f428da5e5617d17d1475  \n",
       "15  2           0              5ab3f3fedd70c572de886c9d  \n",
       "16  1           0              5ab3f372da2e00604ca53924  \n",
       "17  4           0              5ab3f275dff815096a61884e  \n",
       "18  2           0              5ab3ef834c954c7a779e20ff  "
      ]
     },
     "execution_count": 173,
     "metadata": {},
     "output_type": "execute_result"
    }
   ],
   "source": [
    "# define tips URL\n",
    "url = 'https://api.foursquare.com/v2/users/{}/tips?client_id={}&client_secret={}&v={}&limit={}'.format(user_id, CLIENT_ID, CLIENT_SECRET, VERSION, limit)\n",
    "\n",
    "# send GET request and get user's tips\n",
    "results = requests.get(url).json()\n",
    "tips = results['response']['tips']['items']\n",
    "\n",
    "# format column width\n",
    "pd.set_option('display.max_colwidth', -1)\n",
    "\n",
    "tips_df = json_normalize(tips)\n",
    "\n",
    "# filter columns\n",
    "filtered_columns = ['text', 'agreeCount', 'disagreeCount', 'id']\n",
    "tips_filtered = tips_df.loc[:, filtered_columns]\n",
    "\n",
    "# display user's tips\n",
    "tips_filtered"
   ]
  },
  {
   "cell_type": "markdown",
   "metadata": {
    "button": false,
    "deletable": true,
    "new_sheet": false,
    "run_control": {
     "read_only": false
    }
   },
   "source": [
    "#### Let's get the venue for the tip with the greatest number of agree counts"
   ]
  },
  {
   "cell_type": "code",
   "execution_count": 174,
   "metadata": {
    "button": false,
    "collapsed": false,
    "deletable": true,
    "jupyter": {
     "outputs_hidden": false
    },
    "new_sheet": false,
    "run_control": {
     "read_only": false
    }
   },
   "outputs": [
    {
     "name": "stdout",
     "output_type": "stream",
     "text": [
      "Cowgirl\n",
      "{'address': '519 Hudson St', 'crossStreet': 'at W 10th St', 'lat': 40.73373338282062, 'lng': -74.0062998849649, 'labeledLatLngs': [{'label': 'display', 'lat': 40.73373338282062, 'lng': -74.0062998849649}], 'postalCode': '10014', 'cc': 'US', 'city': 'New York', 'state': 'NY', 'country': 'United States', 'formattedAddress': ['519 Hudson St (at W 10th St)', 'New York, NY 10014', 'United States']}\n"
     ]
    }
   ],
   "source": [
    "tip_id = '5ab5575d73fe2516ad8f363b' # tip id\n",
    "\n",
    "# define URL\n",
    "url = 'http://api.foursquare.com/v2/tips/{}?client_id={}&client_secret={}&v={}'.format(tip_id, CLIENT_ID, CLIENT_SECRET, VERSION)\n",
    "\n",
    "# send GET Request and examine results\n",
    "result = requests.get(url).json()\n",
    "print(result['response']['tip']['venue']['name'])\n",
    "print(result['response']['tip']['venue']['location'])"
   ]
  },
  {
   "cell_type": "markdown",
   "metadata": {
    "button": false,
    "deletable": true,
    "new_sheet": false,
    "run_control": {
     "read_only": false
    }
   },
   "source": [
    "### Get User's friends"
   ]
  },
  {
   "cell_type": "code",
   "execution_count": 175,
   "metadata": {
    "button": false,
    "collapsed": false,
    "deletable": true,
    "jupyter": {
     "outputs_hidden": false
    },
    "new_sheet": false,
    "run_control": {
     "read_only": false
    }
   },
   "outputs": [
    {
     "data": {
      "text/html": [
       "<div>\n",
       "<style scoped>\n",
       "    .dataframe tbody tr th:only-of-type {\n",
       "        vertical-align: middle;\n",
       "    }\n",
       "\n",
       "    .dataframe tbody tr th {\n",
       "        vertical-align: top;\n",
       "    }\n",
       "\n",
       "    .dataframe thead th {\n",
       "        text-align: right;\n",
       "    }\n",
       "</style>\n",
       "<table border=\"1\" class=\"dataframe\">\n",
       "  <thead>\n",
       "    <tr style=\"text-align: right;\">\n",
       "      <th></th>\n",
       "    </tr>\n",
       "  </thead>\n",
       "  <tbody>\n",
       "  </tbody>\n",
       "</table>\n",
       "</div>"
      ],
      "text/plain": [
       "Empty DataFrame\n",
       "Columns: []\n",
       "Index: []"
      ]
     },
     "execution_count": 175,
     "metadata": {},
     "output_type": "execute_result"
    }
   ],
   "source": [
    "user_friends = json_normalize(user_data['friends']['groups'][0]['items'])\n",
    "user_friends"
   ]
  },
  {
   "cell_type": "markdown",
   "metadata": {
    "button": false,
    "deletable": true,
    "new_sheet": false,
    "run_control": {
     "read_only": false
    }
   },
   "source": [
    "Interesting. Despite being very active, it turns out that Nick does not have any friends on Foursquare. This might definitely change in the future."
   ]
  },
  {
   "cell_type": "markdown",
   "metadata": {
    "button": false,
    "deletable": true,
    "new_sheet": false,
    "run_control": {
     "read_only": false
    }
   },
   "source": [
    "### Retrieve the User's Profile Image"
   ]
  },
  {
   "cell_type": "code",
   "execution_count": 176,
   "metadata": {
    "button": false,
    "collapsed": false,
    "deletable": true,
    "jupyter": {
     "outputs_hidden": false
    },
    "new_sheet": false,
    "run_control": {
     "read_only": false
    },
    "scrolled": true
   },
   "outputs": [
    {
     "data": {
      "text/plain": [
       "{'id': '484542633',\n",
       " 'firstName': 'Nick',\n",
       " 'lastName': 'El-Tawil',\n",
       " 'gender': 'male',\n",
       " 'canonicalUrl': 'https://foursquare.com/user/484542633',\n",
       " 'photo': {'prefix': 'https://fastly.4sqi.net/img/user/',\n",
       "  'suffix': '/484542633_unymNUmw_FdPs3GjXHujmHcYnN4hf8kEPADlOZuIrdcdm97VX3tFqL7fFNMNA_8Gl9NlU1GYg.jpg'},\n",
       " 'friends': {'count': 0,\n",
       "  'groups': [{'type': 'friends',\n",
       "    'name': 'Mutual friends',\n",
       "    'count': 0,\n",
       "    'items': []},\n",
       "   {'type': 'others', 'name': 'Other friends', 'count': 0, 'items': []}]},\n",
       " 'tips': {'count': 99},\n",
       " 'homeCity': 'New York, NY',\n",
       " 'bio': 'https://www.tawil.team/nick-el-tawil/',\n",
       " 'contact': {'twitter': 'nickeltawil'},\n",
       " 'photos': {'count': 2,\n",
       "  'items': [{'id': '5e41a7ce346b7c00085b0f70',\n",
       "    'createdAt': 1581361102,\n",
       "    'source': {'name': 'Foursquare for iOS',\n",
       "     'url': 'https://foursquare.com/download/#/iphone'},\n",
       "    'prefix': 'https://fastly.4sqi.net/img/general/',\n",
       "    'suffix': '/484542633_cF12vc8JQJTd-hyznst-CsHHTdSoi4XwCGKhTuQXNfo.jpg',\n",
       "    'width': 1440,\n",
       "    'height': 1440,\n",
       "    'visibility': 'public',\n",
       "    'venue': {'id': '5ab194451ffed736e329b365',\n",
       "     'name': 'Tawil & Team',\n",
       "     'location': {'address': '413 W 14th St # 200',\n",
       "      'crossStreet': '9th Avenue',\n",
       "      'lat': 40.739614,\n",
       "      'lng': -74.005877,\n",
       "      'labeledLatLngs': [{'label': 'display',\n",
       "        'lat': 40.739614,\n",
       "        'lng': -74.005877}],\n",
       "      'postalCode': '10014',\n",
       "      'cc': 'US',\n",
       "      'city': 'New York',\n",
       "      'state': 'NY',\n",
       "      'country': 'United States',\n",
       "      'formattedAddress': ['413 W 14th St # 200 (9th Avenue)',\n",
       "       'New York, NY 10014',\n",
       "       'United States']},\n",
       "     'categories': [{'id': '5032885091d4c4b30a586d66',\n",
       "       'name': 'Real Estate Office',\n",
       "       'pluralName': 'Real Estate Offices',\n",
       "       'shortName': 'Real Estate',\n",
       "       'icon': {'prefix': 'https://ss3.4sqi.net/img/categories_v2/shops/realestate_',\n",
       "        'suffix': '.png'},\n",
       "       'primary': True}],\n",
       "     'like': False}}]},\n",
       " 'checkinPings': 'off',\n",
       " 'pings': False,\n",
       " 'type': 'user',\n",
       " 'mayorships': {'count': 0, 'items': []},\n",
       " 'checkins': {'count': 1, 'items': []},\n",
       " 'lists': {'count': 2,\n",
       "  'groups': [{'type': 'created', 'count': 0, 'items': []},\n",
       "   {'type': 'followed', 'count': 0, 'items': []},\n",
       "   {'type': 'yours',\n",
       "    'count': 2,\n",
       "    'items': [{'id': '484542633/todos',\n",
       "      'name': \"Nick's Saved Places\",\n",
       "      'description': '',\n",
       "      'type': 'todos',\n",
       "      'editable': False,\n",
       "      'public': True,\n",
       "      'collaborative': False,\n",
       "      'url': '/nickeltawil/list/todos',\n",
       "      'canonicalUrl': 'https://foursquare.com/nickeltawil/list/todos',\n",
       "      'listItems': {'count': 1}},\n",
       "     {'id': '484542633/venuelikes',\n",
       "      'name': 'Nick’s Liked Places',\n",
       "      'description': '',\n",
       "      'type': 'likes',\n",
       "      'editable': False,\n",
       "      'public': True,\n",
       "      'collaborative': False,\n",
       "      'url': '/nickeltawil/list/venuelikes',\n",
       "      'canonicalUrl': 'https://foursquare.com/nickeltawil/list/venuelikes',\n",
       "      'listItems': {'count': 0}}]}]},\n",
       " 'blockedStatus': 'none',\n",
       " 'lenses': []}"
      ]
     },
     "execution_count": 176,
     "metadata": {},
     "output_type": "execute_result"
    }
   ],
   "source": [
    "user_data"
   ]
  },
  {
   "cell_type": "code",
   "execution_count": 177,
   "metadata": {
    "button": false,
    "collapsed": false,
    "deletable": true,
    "jupyter": {
     "outputs_hidden": false
    },
    "new_sheet": false,
    "run_control": {
     "read_only": false
    }
   },
   "outputs": [
    {
     "data": {
      "text/html": [
       "<img src=\"https://igx.4sqi.net/img/user/300x300/484542633_mK2Yum7T_7Tn9fWpndidJsmw2Hof_6T5vJBKCHPLMK5OL-U5ZiJGj51iwBstcpDLYa3Zvhvis.jpg\"/>"
      ],
      "text/plain": [
       "<IPython.core.display.Image object>"
      ]
     },
     "execution_count": 177,
     "metadata": {},
     "output_type": "execute_result"
    }
   ],
   "source": [
    "# 1. grab prefix of photo\n",
    "# 2. grab suffix of photo\n",
    "# 3. concatenate them using the image size  \n",
    "Image(url='https://igx.4sqi.net/img/user/300x300/484542633_mK2Yum7T_7Tn9fWpndidJsmw2Hof_6T5vJBKCHPLMK5OL-U5ZiJGj51iwBstcpDLYa3Zvhvis.jpg')"
   ]
  },
  {
   "cell_type": "markdown",
   "metadata": {
    "button": false,
    "deletable": true,
    "new_sheet": false,
    "run_control": {
     "read_only": false
    }
   },
   "source": [
    "  "
   ]
  },
  {
   "cell_type": "markdown",
   "metadata": {
    "button": false,
    "deletable": true,
    "new_sheet": false,
    "run_control": {
     "read_only": false
    }
   },
   "source": [
    "<a id=\"item4\"></a>"
   ]
  },
  {
   "cell_type": "markdown",
   "metadata": {
    "button": false,
    "deletable": true,
    "new_sheet": false,
    "run_control": {
     "read_only": false
    }
   },
   "source": [
    "## 4. Explore a location\n",
    "> `https://api.foursquare.com/v2/venues/`**explore**`?client_id=`**CLIENT_ID**`&client_secret=`**CLIENT_SECRET**`&ll=`**LATITUDE**`,`**LONGITUDE**`&v=`**VERSION**`&limit=`**LIMIT**"
   ]
  },
  {
   "cell_type": "markdown",
   "metadata": {
    "button": false,
    "deletable": true,
    "new_sheet": false,
    "run_control": {
     "read_only": false
    }
   },
   "source": [
    "#### So, you just finished your gourmet dish at Ecco, and are just curious about the popular spots around the restaurant. In order to explore the area, let's start by getting the latitude and longitude values of Ecco Restaurant."
   ]
  },
  {
   "cell_type": "code",
   "execution_count": 178,
   "metadata": {
    "button": false,
    "deletable": true,
    "new_sheet": false,
    "run_control": {
     "read_only": false
    }
   },
   "outputs": [],
   "source": [
    "latitude = 40.715337\n",
    "longitude = -74.008848"
   ]
  },
  {
   "cell_type": "markdown",
   "metadata": {
    "button": false,
    "deletable": true,
    "new_sheet": false,
    "run_control": {
     "read_only": false
    }
   },
   "source": [
    "#### Define URL"
   ]
  },
  {
   "cell_type": "code",
   "execution_count": 179,
   "metadata": {
    "button": false,
    "collapsed": false,
    "deletable": true,
    "jupyter": {
     "outputs_hidden": false
    },
    "new_sheet": false,
    "run_control": {
     "read_only": false
    }
   },
   "outputs": [
    {
     "data": {
      "text/plain": [
       "'https://api.foursquare.com/v2/venues/explore?client_id=TBPLKSLPDCOMMX2YIDPJ5UG2NRWHG4YOB3VXMPJI5YYP54H3&client_secret=OV15HD3ZH2152BWBWDWFSKBEONQJNSQCJAI0S4BO0WLFWLPE&ll=40.715337,-74.008848&v=20180604&radius=500&limit=30'"
      ]
     },
     "execution_count": 179,
     "metadata": {},
     "output_type": "execute_result"
    }
   ],
   "source": [
    "url = 'https://api.foursquare.com/v2/venues/explore?client_id={}&client_secret={}&ll={},{}&v={}&radius={}&limit={}'.format(CLIENT_ID, CLIENT_SECRET, latitude, longitude, VERSION, radius, LIMIT)\n",
    "url"
   ]
  },
  {
   "cell_type": "markdown",
   "metadata": {
    "button": false,
    "deletable": true,
    "new_sheet": false,
    "run_control": {
     "read_only": false
    }
   },
   "source": [
    "#### Send GET request and examine results"
   ]
  },
  {
   "cell_type": "code",
   "execution_count": 180,
   "metadata": {
    "button": false,
    "deletable": true,
    "new_sheet": false,
    "run_control": {
     "read_only": false
    }
   },
   "outputs": [],
   "source": [
    "import requests"
   ]
  },
  {
   "cell_type": "code",
   "execution_count": 181,
   "metadata": {
    "button": false,
    "collapsed": false,
    "deletable": true,
    "jupyter": {
     "outputs_hidden": false
    },
    "new_sheet": false,
    "run_control": {
     "read_only": false
    }
   },
   "outputs": [
    {
     "data": {
      "text/plain": [
       "'There are 30 around Ecco restaurant.'"
      ]
     },
     "execution_count": 181,
     "metadata": {},
     "output_type": "execute_result"
    }
   ],
   "source": [
    "results = requests.get(url).json()\n",
    "'There are {} around Ecco restaurant.'.format(len(results['response']['groups'][0]['items']))"
   ]
  },
  {
   "cell_type": "markdown",
   "metadata": {
    "button": false,
    "deletable": true,
    "new_sheet": false,
    "run_control": {
     "read_only": false
    }
   },
   "source": [
    "#### Get relevant part of JSON"
   ]
  },
  {
   "cell_type": "code",
   "execution_count": 182,
   "metadata": {
    "button": false,
    "collapsed": false,
    "deletable": true,
    "jupyter": {
     "outputs_hidden": false
    },
    "new_sheet": false,
    "run_control": {
     "read_only": false
    }
   },
   "outputs": [
    {
     "data": {
      "text/plain": [
       "{'reasons': {'count': 0,\n",
       "  'items': [{'summary': 'This spot is popular',\n",
       "    'type': 'general',\n",
       "    'reasonName': 'globalInteractionReason'}]},\n",
       " 'venue': {'id': '4af5d65ff964a52091fd21e3',\n",
       "  'name': 'Korin',\n",
       "  'location': {'address': '57 Warren St',\n",
       "   'crossStreet': 'Church St',\n",
       "   'lat': 40.71482437714839,\n",
       "   'lng': -74.00940425461492,\n",
       "   'labeledLatLngs': [{'label': 'display',\n",
       "     'lat': 40.71482437714839,\n",
       "     'lng': -74.00940425461492},\n",
       "    {'label': '?', 'lat': 40.714727, 'lng': -74.009399}],\n",
       "   'distance': 73,\n",
       "   'postalCode': '10007',\n",
       "   'cc': 'US',\n",
       "   'neighborhood': 'Tribeca',\n",
       "   'city': 'New York',\n",
       "   'state': 'NY',\n",
       "   'country': 'United States',\n",
       "   'formattedAddress': ['57 Warren St (Church St)',\n",
       "    'New York, NY 10007',\n",
       "    'United States']},\n",
       "  'categories': [{'id': '4bf58dd8d48988d1f8941735',\n",
       "    'name': 'Furniture / Home Store',\n",
       "    'pluralName': 'Furniture / Home Stores',\n",
       "    'shortName': 'Furniture / Home',\n",
       "    'icon': {'prefix': 'https://ss3.4sqi.net/img/categories_v2/shops/furniture_',\n",
       "     'suffix': '.png'},\n",
       "    'primary': True}],\n",
       "  'photos': {'count': 0, 'groups': []},\n",
       "  'venuePage': {'id': '33104775'}},\n",
       " 'referralId': 'e-0-4af5d65ff964a52091fd21e3-0'}"
      ]
     },
     "execution_count": 182,
     "metadata": {},
     "output_type": "execute_result"
    }
   ],
   "source": [
    "items = results['response']['groups'][0]['items']\n",
    "items[0]"
   ]
  },
  {
   "cell_type": "markdown",
   "metadata": {
    "button": false,
    "deletable": true,
    "new_sheet": false,
    "run_control": {
     "read_only": false
    }
   },
   "source": [
    "#### Process JSON and convert it to a clean dataframe"
   ]
  },
  {
   "cell_type": "code",
   "execution_count": 183,
   "metadata": {
    "button": false,
    "collapsed": false,
    "deletable": true,
    "jupyter": {
     "outputs_hidden": false
    },
    "new_sheet": false,
    "run_control": {
     "read_only": false
    }
   },
   "outputs": [
    {
     "data": {
      "text/html": [
       "<div>\n",
       "<style scoped>\n",
       "    .dataframe tbody tr th:only-of-type {\n",
       "        vertical-align: middle;\n",
       "    }\n",
       "\n",
       "    .dataframe tbody tr th {\n",
       "        vertical-align: top;\n",
       "    }\n",
       "\n",
       "    .dataframe thead th {\n",
       "        text-align: right;\n",
       "    }\n",
       "</style>\n",
       "<table border=\"1\" class=\"dataframe\">\n",
       "  <thead>\n",
       "    <tr style=\"text-align: right;\">\n",
       "      <th></th>\n",
       "      <th>name</th>\n",
       "      <th>categories</th>\n",
       "      <th>address</th>\n",
       "      <th>crossStreet</th>\n",
       "      <th>lat</th>\n",
       "      <th>lng</th>\n",
       "      <th>labeledLatLngs</th>\n",
       "      <th>distance</th>\n",
       "      <th>postalCode</th>\n",
       "      <th>cc</th>\n",
       "      <th>neighborhood</th>\n",
       "      <th>city</th>\n",
       "      <th>state</th>\n",
       "      <th>country</th>\n",
       "      <th>formattedAddress</th>\n",
       "      <th>id</th>\n",
       "    </tr>\n",
       "  </thead>\n",
       "  <tbody>\n",
       "    <tr>\n",
       "      <th>0</th>\n",
       "      <td>Korin</td>\n",
       "      <td>Furniture / Home Store</td>\n",
       "      <td>57 Warren St</td>\n",
       "      <td>Church St</td>\n",
       "      <td>40.714824</td>\n",
       "      <td>-74.009404</td>\n",
       "      <td>[{'label': 'display', 'lat': 40.71482437714839, 'lng': -74.00940425461492}, {'label': '?', 'lat': 40.714727, 'lng': -74.009399}]</td>\n",
       "      <td>73</td>\n",
       "      <td>10007</td>\n",
       "      <td>US</td>\n",
       "      <td>Tribeca</td>\n",
       "      <td>New York</td>\n",
       "      <td>NY</td>\n",
       "      <td>United States</td>\n",
       "      <td>[57 Warren St (Church St), New York, NY 10007, United States]</td>\n",
       "      <td>4af5d65ff964a52091fd21e3</td>\n",
       "    </tr>\n",
       "    <tr>\n",
       "      <th>1</th>\n",
       "      <td>Los Tacos No. 1</td>\n",
       "      <td>Taco Place</td>\n",
       "      <td>136 Church St</td>\n",
       "      <td>NaN</td>\n",
       "      <td>40.714267</td>\n",
       "      <td>-74.008756</td>\n",
       "      <td>[{'label': 'display', 'lat': 40.714267, 'lng': -74.008756}]</td>\n",
       "      <td>119</td>\n",
       "      <td>10007</td>\n",
       "      <td>US</td>\n",
       "      <td>NaN</td>\n",
       "      <td>New York</td>\n",
       "      <td>NY</td>\n",
       "      <td>United States</td>\n",
       "      <td>[136 Church St, New York, NY 10007, United States]</td>\n",
       "      <td>5d5f24ec09484500079aee00</td>\n",
       "    </tr>\n",
       "    <tr>\n",
       "      <th>2</th>\n",
       "      <td>Takahachi Bakery</td>\n",
       "      <td>Bakery</td>\n",
       "      <td>25 Murray St</td>\n",
       "      <td>at Church St</td>\n",
       "      <td>40.713653</td>\n",
       "      <td>-74.008804</td>\n",
       "      <td>[{'label': 'display', 'lat': 40.713652845301894, 'lng': -74.0088038953017}, {'label': '?', 'lat': 40.713716, 'lng': -74.008443}]</td>\n",
       "      <td>187</td>\n",
       "      <td>10007</td>\n",
       "      <td>US</td>\n",
       "      <td>NaN</td>\n",
       "      <td>New York</td>\n",
       "      <td>NY</td>\n",
       "      <td>United States</td>\n",
       "      <td>[25 Murray St (at Church St), New York, NY 10007, United States]</td>\n",
       "      <td>4c154c9a77cea593c401d260</td>\n",
       "    </tr>\n",
       "    <tr>\n",
       "      <th>3</th>\n",
       "      <td>Chambers Street Wines</td>\n",
       "      <td>Wine Shop</td>\n",
       "      <td>148 Chambers St</td>\n",
       "      <td>btwn West Broadway &amp; Hudson St</td>\n",
       "      <td>40.715773</td>\n",
       "      <td>-74.009718</td>\n",
       "      <td>[{'label': 'display', 'lat': 40.715773063928374, 'lng': -74.00971823312332}, {'label': '?', 'lat': 40.715696, 'lng': -74.00988}]</td>\n",
       "      <td>88</td>\n",
       "      <td>10007</td>\n",
       "      <td>US</td>\n",
       "      <td>NaN</td>\n",
       "      <td>New York</td>\n",
       "      <td>NY</td>\n",
       "      <td>United States</td>\n",
       "      <td>[148 Chambers St (btwn West Broadway &amp; Hudson St), New York, NY 10007, United States]</td>\n",
       "      <td>4adcf23cf964a520cc6221e3</td>\n",
       "    </tr>\n",
       "    <tr>\n",
       "      <th>4</th>\n",
       "      <td>Juice Press</td>\n",
       "      <td>Vegetarian / Vegan Restaurant</td>\n",
       "      <td>83 Murray St</td>\n",
       "      <td>btwn Greenwich St &amp; W Broadway</td>\n",
       "      <td>40.714788</td>\n",
       "      <td>-74.011132</td>\n",
       "      <td>[{'label': 'display', 'lat': 40.71478769908051, 'lng': -74.0111317502157}]</td>\n",
       "      <td>202</td>\n",
       "      <td>10007</td>\n",
       "      <td>US</td>\n",
       "      <td>NaN</td>\n",
       "      <td>New York</td>\n",
       "      <td>NY</td>\n",
       "      <td>United States</td>\n",
       "      <td>[83 Murray St (btwn Greenwich St &amp; W Broadway), New York, NY 10007, United States]</td>\n",
       "      <td>54148bc6498ea7bb8c05b70a</td>\n",
       "    </tr>\n",
       "    <tr>\n",
       "      <th>5</th>\n",
       "      <td>Heyday</td>\n",
       "      <td>Spa</td>\n",
       "      <td>92 Reade St</td>\n",
       "      <td>NaN</td>\n",
       "      <td>40.715726</td>\n",
       "      <td>-74.007767</td>\n",
       "      <td>[{'label': 'display', 'lat': 40.715726, 'lng': -74.007767}, {'label': '?', 'lat': 40.715654, 'lng': -74.00782}]</td>\n",
       "      <td>100</td>\n",
       "      <td>10013</td>\n",
       "      <td>US</td>\n",
       "      <td>NaN</td>\n",
       "      <td>New York</td>\n",
       "      <td>NY</td>\n",
       "      <td>United States</td>\n",
       "      <td>[92 Reade St, New York, NY 10013, United States]</td>\n",
       "      <td>57ad129c498e05b086594d72</td>\n",
       "    </tr>\n",
       "    <tr>\n",
       "      <th>6</th>\n",
       "      <td>Takahachi</td>\n",
       "      <td>Sushi Restaurant</td>\n",
       "      <td>145 Duane St</td>\n",
       "      <td>btwn W Broadway &amp; Church St</td>\n",
       "      <td>40.716526</td>\n",
       "      <td>-74.008101</td>\n",
       "      <td>[{'label': 'display', 'lat': 40.71652647412374, 'lng': -74.00810108466207}, {'label': '?', 'lat': 40.716508, 'lng': -74.007989}]</td>\n",
       "      <td>146</td>\n",
       "      <td>10013</td>\n",
       "      <td>US</td>\n",
       "      <td>NaN</td>\n",
       "      <td>New York</td>\n",
       "      <td>NY</td>\n",
       "      <td>United States</td>\n",
       "      <td>[145 Duane St (btwn W Broadway &amp; Church St), New York, NY 10013, United States]</td>\n",
       "      <td>4a8f2f39f964a520471420e3</td>\n",
       "    </tr>\n",
       "    <tr>\n",
       "      <th>7</th>\n",
       "      <td>Equinox Tribeca</td>\n",
       "      <td>Gym</td>\n",
       "      <td>54 Murray St</td>\n",
       "      <td>at W Broadway</td>\n",
       "      <td>40.714099</td>\n",
       "      <td>-74.009686</td>\n",
       "      <td>[{'label': 'display', 'lat': 40.71409860726041, 'lng': -74.0096857179283}]</td>\n",
       "      <td>154</td>\n",
       "      <td>10007</td>\n",
       "      <td>US</td>\n",
       "      <td>NaN</td>\n",
       "      <td>New York</td>\n",
       "      <td>NY</td>\n",
       "      <td>United States</td>\n",
       "      <td>[54 Murray St (at W Broadway), New York, NY 10007, United States]</td>\n",
       "      <td>4a6e331af964a52031d41fe3</td>\n",
       "    </tr>\n",
       "    <tr>\n",
       "      <th>8</th>\n",
       "      <td>Whole Foods Market</td>\n",
       "      <td>Grocery Store</td>\n",
       "      <td>270 Greenwich Street</td>\n",
       "      <td>at Warren St</td>\n",
       "      <td>40.715579</td>\n",
       "      <td>-74.011368</td>\n",
       "      <td>[{'label': 'display', 'lat': 40.715579155420606, 'lng': -74.01136823958119}]</td>\n",
       "      <td>214</td>\n",
       "      <td>10007</td>\n",
       "      <td>US</td>\n",
       "      <td>Tribeca</td>\n",
       "      <td>New York</td>\n",
       "      <td>NY</td>\n",
       "      <td>United States</td>\n",
       "      <td>[270 Greenwich Street (at Warren St), New York, NY 10007, United States]</td>\n",
       "      <td>49bc3b0af964a52020541fe3</td>\n",
       "    </tr>\n",
       "    <tr>\n",
       "      <th>9</th>\n",
       "      <td>Exceed Physical Culture</td>\n",
       "      <td>Gym / Fitness Center</td>\n",
       "      <td>97 Reade St</td>\n",
       "      <td>bet W Broadway &amp; Church St</td>\n",
       "      <td>40.715629</td>\n",
       "      <td>-74.007992</td>\n",
       "      <td>[{'label': 'display', 'lat': 40.7156286200256, 'lng': -74.0079922583853}, {'label': '?', 'lat': 40.715589, 'lng': -74.008105}]</td>\n",
       "      <td>79</td>\n",
       "      <td>10013</td>\n",
       "      <td>US</td>\n",
       "      <td>Tribeca</td>\n",
       "      <td>New York</td>\n",
       "      <td>NY</td>\n",
       "      <td>United States</td>\n",
       "      <td>[97 Reade St (bet W Broadway &amp; Church St), New York, NY 10013, United States]</td>\n",
       "      <td>53910ac3498e57a5dc0eb160</td>\n",
       "    </tr>\n",
       "  </tbody>\n",
       "</table>\n",
       "</div>"
      ],
      "text/plain": [
       "                      name                     categories  \\\n",
       "0  Korin                    Furniture / Home Store          \n",
       "1  Los Tacos No. 1          Taco Place                      \n",
       "2  Takahachi Bakery         Bakery                          \n",
       "3  Chambers Street Wines    Wine Shop                       \n",
       "4  Juice Press              Vegetarian / Vegan Restaurant   \n",
       "5  Heyday                   Spa                             \n",
       "6  Takahachi                Sushi Restaurant                \n",
       "7  Equinox Tribeca          Gym                             \n",
       "8  Whole Foods Market       Grocery Store                   \n",
       "9  Exceed Physical Culture  Gym / Fitness Center            \n",
       "\n",
       "                address                     crossStreet        lat        lng  \\\n",
       "0  57 Warren St          Church St                       40.714824 -74.009404   \n",
       "1  136 Church St         NaN                             40.714267 -74.008756   \n",
       "2  25 Murray St          at Church St                    40.713653 -74.008804   \n",
       "3  148 Chambers St       btwn West Broadway & Hudson St  40.715773 -74.009718   \n",
       "4  83 Murray St          btwn Greenwich St & W Broadway  40.714788 -74.011132   \n",
       "5  92 Reade St           NaN                             40.715726 -74.007767   \n",
       "6  145 Duane St          btwn W Broadway & Church St     40.716526 -74.008101   \n",
       "7  54 Murray St          at W Broadway                   40.714099 -74.009686   \n",
       "8  270 Greenwich Street  at Warren St                    40.715579 -74.011368   \n",
       "9  97 Reade St           bet W Broadway & Church St      40.715629 -74.007992   \n",
       "\n",
       "                                                                                                                     labeledLatLngs  \\\n",
       "0  [{'label': 'display', 'lat': 40.71482437714839, 'lng': -74.00940425461492}, {'label': '?', 'lat': 40.714727, 'lng': -74.009399}]   \n",
       "1  [{'label': 'display', 'lat': 40.714267, 'lng': -74.008756}]                                                                        \n",
       "2  [{'label': 'display', 'lat': 40.713652845301894, 'lng': -74.0088038953017}, {'label': '?', 'lat': 40.713716, 'lng': -74.008443}]   \n",
       "3  [{'label': 'display', 'lat': 40.715773063928374, 'lng': -74.00971823312332}, {'label': '?', 'lat': 40.715696, 'lng': -74.00988}]   \n",
       "4  [{'label': 'display', 'lat': 40.71478769908051, 'lng': -74.0111317502157}]                                                         \n",
       "5  [{'label': 'display', 'lat': 40.715726, 'lng': -74.007767}, {'label': '?', 'lat': 40.715654, 'lng': -74.00782}]                    \n",
       "6  [{'label': 'display', 'lat': 40.71652647412374, 'lng': -74.00810108466207}, {'label': '?', 'lat': 40.716508, 'lng': -74.007989}]   \n",
       "7  [{'label': 'display', 'lat': 40.71409860726041, 'lng': -74.0096857179283}]                                                         \n",
       "8  [{'label': 'display', 'lat': 40.715579155420606, 'lng': -74.01136823958119}]                                                       \n",
       "9  [{'label': 'display', 'lat': 40.7156286200256, 'lng': -74.0079922583853}, {'label': '?', 'lat': 40.715589, 'lng': -74.008105}]     \n",
       "\n",
       "   distance postalCode  cc neighborhood      city state        country  \\\n",
       "0  73        10007      US  Tribeca      New York  NY    United States   \n",
       "1  119       10007      US  NaN          New York  NY    United States   \n",
       "2  187       10007      US  NaN          New York  NY    United States   \n",
       "3  88        10007      US  NaN          New York  NY    United States   \n",
       "4  202       10007      US  NaN          New York  NY    United States   \n",
       "5  100       10013      US  NaN          New York  NY    United States   \n",
       "6  146       10013      US  NaN          New York  NY    United States   \n",
       "7  154       10007      US  NaN          New York  NY    United States   \n",
       "8  214       10007      US  Tribeca      New York  NY    United States   \n",
       "9  79        10013      US  Tribeca      New York  NY    United States   \n",
       "\n",
       "                                                                        formattedAddress  \\\n",
       "0  [57 Warren St (Church St), New York, NY 10007, United States]                           \n",
       "1  [136 Church St, New York, NY 10007, United States]                                      \n",
       "2  [25 Murray St (at Church St), New York, NY 10007, United States]                        \n",
       "3  [148 Chambers St (btwn West Broadway & Hudson St), New York, NY 10007, United States]   \n",
       "4  [83 Murray St (btwn Greenwich St & W Broadway), New York, NY 10007, United States]      \n",
       "5  [92 Reade St, New York, NY 10013, United States]                                        \n",
       "6  [145 Duane St (btwn W Broadway & Church St), New York, NY 10013, United States]         \n",
       "7  [54 Murray St (at W Broadway), New York, NY 10007, United States]                       \n",
       "8  [270 Greenwich Street (at Warren St), New York, NY 10007, United States]                \n",
       "9  [97 Reade St (bet W Broadway & Church St), New York, NY 10013, United States]           \n",
       "\n",
       "                         id  \n",
       "0  4af5d65ff964a52091fd21e3  \n",
       "1  5d5f24ec09484500079aee00  \n",
       "2  4c154c9a77cea593c401d260  \n",
       "3  4adcf23cf964a520cc6221e3  \n",
       "4  54148bc6498ea7bb8c05b70a  \n",
       "5  57ad129c498e05b086594d72  \n",
       "6  4a8f2f39f964a520471420e3  \n",
       "7  4a6e331af964a52031d41fe3  \n",
       "8  49bc3b0af964a52020541fe3  \n",
       "9  53910ac3498e57a5dc0eb160  "
      ]
     },
     "execution_count": 183,
     "metadata": {},
     "output_type": "execute_result"
    }
   ],
   "source": [
    "dataframe = json_normalize(items) # flatten JSON\n",
    "\n",
    "# filter columns\n",
    "filtered_columns = ['venue.name', 'venue.categories'] + [col for col in dataframe.columns if col.startswith('venue.location.')] + ['venue.id']\n",
    "dataframe_filtered = dataframe.loc[:, filtered_columns]\n",
    "\n",
    "# filter the category for each row\n",
    "dataframe_filtered['venue.categories'] = dataframe_filtered.apply(get_category_type, axis=1)\n",
    "\n",
    "# clean columns\n",
    "dataframe_filtered.columns = [col.split('.')[-1] for col in dataframe_filtered.columns]\n",
    "\n",
    "dataframe_filtered.head(10)"
   ]
  },
  {
   "cell_type": "markdown",
   "metadata": {
    "button": false,
    "deletable": true,
    "new_sheet": false,
    "run_control": {
     "read_only": false
    }
   },
   "source": [
    "#### Let's visualize these items on the map around our location"
   ]
  },
  {
   "cell_type": "code",
   "execution_count": 184,
   "metadata": {
    "button": false,
    "collapsed": false,
    "deletable": true,
    "jupyter": {
     "outputs_hidden": false
    },
    "new_sheet": false,
    "run_control": {
     "read_only": false
    }
   },
   "outputs": [
    {
     "data": {
      "text/html": [
       "<div style=\"width:100%;\"><div style=\"position:relative;width:100%;height:0;padding-bottom:60%;\"><iframe src=\"about:blank\" style=\"position:absolute;width:100%;height:100%;left:0;top:0;border:none !important;\" data-html=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 onload=\"this.contentDocument.open();this.contentDocument.write(atob(this.getAttribute('data-html')));this.contentDocument.close();\" allowfullscreen webkitallowfullscreen mozallowfullscreen></iframe></div></div>"
      ],
      "text/plain": [
       "<folium.folium.Map at 0x10a74e5d0>"
      ]
     },
     "execution_count": 184,
     "metadata": {},
     "output_type": "execute_result"
    }
   ],
   "source": [
    "venues_map = folium.Map(location=[latitude, longitude], zoom_start=15) # generate map centred around Ecco\n",
    "\n",
    "\n",
    "# add Ecco as a red circle mark\n",
    "folium.features.CircleMarker(\n",
    "    [latitude, longitude],\n",
    "    radius=10,\n",
    "    popup='Ecco',\n",
    "    fill=True,\n",
    "    color='red',\n",
    "    fill_color='red',\n",
    "    fill_opacity=0.6\n",
    "    ).add_to(venues_map)\n",
    "\n",
    "\n",
    "# add popular spots to the map as blue circle markers\n",
    "for lat, lng, label in zip(dataframe_filtered.lat, dataframe_filtered.lng, dataframe_filtered.categories):\n",
    "    folium.features.CircleMarker(\n",
    "        [lat, lng],\n",
    "        radius=5,\n",
    "        popup=label,\n",
    "        fill=True,\n",
    "        color='blue',\n",
    "        fill_color='blue',\n",
    "        fill_opacity=0.6\n",
    "        ).add_to(venues_map)\n",
    "\n",
    "# display map\n",
    "venues_map"
   ]
  },
  {
   "cell_type": "markdown",
   "metadata": {
    "button": false,
    "deletable": true,
    "new_sheet": false,
    "run_control": {
     "read_only": false
    }
   },
   "source": [
    "   "
   ]
  },
  {
   "cell_type": "markdown",
   "metadata": {
    "button": false,
    "deletable": true,
    "new_sheet": false,
    "run_control": {
     "read_only": false
    }
   },
   "source": [
    "<a id=\"item5\"></a>"
   ]
  },
  {
   "cell_type": "markdown",
   "metadata": {
    "button": false,
    "deletable": true,
    "new_sheet": false,
    "run_control": {
     "read_only": false
    }
   },
   "source": [
    "## 5. Explore Trending Venues\n",
    "> `https://api.foursquare.com/v2/venues/`**trending**`?client_id=`**CLIENT_ID**`&client_secret=`**CLIENT_SECRET**`&ll=`**LATITUDE**`,`**LONGITUDE**`&v=`**VERSION**"
   ]
  },
  {
   "cell_type": "markdown",
   "metadata": {
    "button": false,
    "deletable": true,
    "new_sheet": false,
    "run_control": {
     "read_only": false
    }
   },
   "source": [
    "#### Now, instead of simply exploring the area around Ecco, you are interested in knowing the venues that are trending at the time you are done with your lunch, meaning the places with the highest foot traffic. So let's do that and get the trending venues around Ecco."
   ]
  },
  {
   "cell_type": "code",
   "execution_count": 185,
   "metadata": {
    "button": false,
    "collapsed": false,
    "deletable": true,
    "jupyter": {
     "outputs_hidden": false
    },
    "new_sheet": false,
    "run_control": {
     "read_only": false
    }
   },
   "outputs": [
    {
     "data": {
      "text/plain": [
       "{'meta': {'code': 200, 'requestId': '5ea03890fb34b5001b3b4b77'},\n",
       " 'response': {'venues': []}}"
      ]
     },
     "execution_count": 185,
     "metadata": {},
     "output_type": "execute_result"
    }
   ],
   "source": [
    "# define URL\n",
    "url = 'https://api.foursquare.com/v2/venues/trending?client_id={}&client_secret={}&ll={},{}&v={}'.format(CLIENT_ID, CLIENT_SECRET, latitude, longitude, VERSION)\n",
    "\n",
    "# send GET request and get trending venues\n",
    "results = requests.get(url).json()\n",
    "results"
   ]
  },
  {
   "cell_type": "markdown",
   "metadata": {
    "button": false,
    "deletable": true,
    "new_sheet": false,
    "run_control": {
     "read_only": false
    }
   },
   "source": [
    "### Check if any venues are trending at this time"
   ]
  },
  {
   "cell_type": "code",
   "execution_count": 186,
   "metadata": {
    "button": false,
    "deletable": true,
    "new_sheet": false,
    "run_control": {
     "read_only": false
    }
   },
   "outputs": [],
   "source": [
    "if len(results['response']['venues']) == 0:\n",
    "    trending_venues_df = 'No trending venues are available at the moment!'\n",
    "    \n",
    "else:\n",
    "    trending_venues = results['response']['venues']\n",
    "    trending_venues_df = json_normalize(trending_venues)\n",
    "\n",
    "    # filter columns\n",
    "    columns_filtered = ['name', 'categories'] + ['location.distance', 'location.city', 'location.postalCode', 'location.state', 'location.country', 'location.lat', 'location.lng']\n",
    "    trending_venues_df = trending_venues_df.loc[:, columns_filtered]\n",
    "\n",
    "    # filter the category for each row\n",
    "    trending_venues_df['categories'] = trending_venues_df.apply(get_category_type, axis=1)"
   ]
  },
  {
   "cell_type": "code",
   "execution_count": 187,
   "metadata": {
    "button": false,
    "collapsed": false,
    "deletable": true,
    "jupyter": {
     "outputs_hidden": false
    },
    "new_sheet": false,
    "run_control": {
     "read_only": false
    }
   },
   "outputs": [
    {
     "data": {
      "text/plain": [
       "'No trending venues are available at the moment!'"
      ]
     },
     "execution_count": 187,
     "metadata": {},
     "output_type": "execute_result"
    }
   ],
   "source": [
    "# display trending venues\n",
    "trending_venues_df"
   ]
  },
  {
   "cell_type": "markdown",
   "metadata": {
    "button": false,
    "deletable": true,
    "new_sheet": false,
    "run_control": {
     "read_only": false
    }
   },
   "source": [
    "Now, depending on when you run the above code, you might get different venues since the venues with the highest foot traffic are fetched live. "
   ]
  },
  {
   "cell_type": "markdown",
   "metadata": {
    "button": false,
    "deletable": true,
    "new_sheet": false,
    "run_control": {
     "read_only": false
    }
   },
   "source": [
    "### Visualize trending venues"
   ]
  },
  {
   "cell_type": "code",
   "execution_count": 188,
   "metadata": {
    "button": false,
    "collapsed": false,
    "deletable": true,
    "jupyter": {
     "outputs_hidden": false
    },
    "new_sheet": false,
    "run_control": {
     "read_only": false
    }
   },
   "outputs": [],
   "source": [
    "if len(results['response']['venues']) == 0:\n",
    "    venues_map = 'Cannot generate visual as no trending venues are available at the moment!'\n",
    "\n",
    "else:\n",
    "    venues_map = folium.Map(location=[latitude, longitude], zoom_start=15) # generate map centred around Ecco\n",
    "\n",
    "\n",
    "    # add Ecco as a red circle mark\n",
    "    folium.features.CircleMarker(\n",
    "        [latitude, longitude],\n",
    "        radius=10,\n",
    "        popup='Ecco',\n",
    "        fill=True,\n",
    "        color='red',\n",
    "        fill_color='red',\n",
    "        fill_opacity=0.6\n",
    "    ).add_to(venues_map)\n",
    "\n",
    "\n",
    "    # add the trending venues as blue circle markers\n",
    "    for lat, lng, label in zip(trending_venues_df['location.lat'], trending_venues_df['location.lng'], trending_venues_df['name']):\n",
    "        folium.features.CircleMarker(\n",
    "            [lat, lng],\n",
    "            radius=5,\n",
    "            poup=label,\n",
    "            fill=True,\n",
    "            color='blue',\n",
    "            fill_color='blue',\n",
    "            fill_opacity=0.6\n",
    "        ).add_to(venues_map)"
   ]
  },
  {
   "cell_type": "code",
   "execution_count": 189,
   "metadata": {
    "button": false,
    "collapsed": false,
    "deletable": true,
    "jupyter": {
     "outputs_hidden": false
    },
    "new_sheet": false,
    "run_control": {
     "read_only": false
    }
   },
   "outputs": [
    {
     "data": {
      "text/plain": [
       "'Cannot generate visual as no trending venues are available at the moment!'"
      ]
     },
     "execution_count": 189,
     "metadata": {},
     "output_type": "execute_result"
    }
   ],
   "source": [
    "# display map\n",
    "venues_map"
   ]
  },
  {
   "cell_type": "markdown",
   "metadata": {
    "button": false,
    "deletable": true,
    "new_sheet": false,
    "run_control": {
     "read_only": false
    }
   },
   "source": [
    "<a id=\"item6\"></a>"
   ]
  },
  {
   "cell_type": "markdown",
   "metadata": {
    "button": false,
    "deletable": true,
    "new_sheet": false,
    "run_control": {
     "read_only": false
    }
   },
   "source": [
    "   "
   ]
  },
  {
   "cell_type": "markdown",
   "metadata": {
    "button": false,
    "deletable": true,
    "new_sheet": false,
    "run_control": {
     "read_only": false
    }
   },
   "source": [
    "### Thank you for completing this lab!\n",
    "\n",
    "This notebook was created by [Alex Aklson](https://www.linkedin.com/in/aklson/). I hope you found this lab interesting and educational. Feel free to contact me if you have any questions!"
   ]
  },
  {
   "cell_type": "markdown",
   "metadata": {
    "button": false,
    "deletable": true,
    "new_sheet": false,
    "run_control": {
     "read_only": false
    }
   },
   "source": [
    "This notebook is part of a course on **Coursera** called *Applied Data Science Capstone*. If you accessed this notebook outside the course, you can take this course online by clicking [here](http://cocl.us/DP0701EN_Coursera_Week2_LAB1)."
   ]
  },
  {
   "cell_type": "markdown",
   "metadata": {
    "button": false,
    "deletable": true,
    "new_sheet": false,
    "run_control": {
     "read_only": false
    }
   },
   "source": [
    "<hr>\n",
    "Copyright &copy; 2018 [Cognitive Class](https://cognitiveclass.ai/?utm_source=bducopyrightlink&utm_medium=dswb&utm_campaign=bdu). This notebook and its source code are released under the terms of the [MIT License](https://bigdatauniversity.com/mit-license/)."
   ]
  }
 ],
 "metadata": {
  "kernelspec": {
   "display_name": "Python 3",
   "language": "python",
   "name": "python3"
  },
  "language_info": {
   "codemirror_mode": {
    "name": "ipython",
    "version": 3
   },
   "file_extension": ".py",
   "mimetype": "text/x-python",
   "name": "python",
   "nbconvert_exporter": "python",
   "pygments_lexer": "ipython3",
   "version": "3.7.4"
  },
  "widgets": {
   "state": {},
   "version": "1.1.2"
  }
 },
 "nbformat": 4,
 "nbformat_minor": 4
}
