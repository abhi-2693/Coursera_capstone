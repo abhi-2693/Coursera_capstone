{
 "cells": [
  {
   "cell_type": "markdown",
   "metadata": {
    "button": false,
    "deletable": true,
    "new_sheet": false,
    "run_control": {
     "read_only": false
    }
   },
   "source": [
    "<a href=\"https://cognitiveclass.ai\"><img src = \"https://ibm.box.com/shared/static/9gegpsmnsoo25ikkbl4qzlvlyjbgxs5x.png\" width = 400> </a>\n",
    "\n",
    "<h1 align=center><font size = 5>Learning FourSquare API with Python</font></h1>"
   ]
  },
  {
   "cell_type": "markdown",
   "metadata": {
    "button": false,
    "deletable": true,
    "new_sheet": false,
    "run_control": {
     "read_only": false
    }
   },
   "source": [
    "   "
   ]
  },
  {
   "cell_type": "markdown",
   "metadata": {
    "button": false,
    "deletable": true,
    "new_sheet": false,
    "run_control": {
     "read_only": false
    }
   },
   "source": [
    "## Introduction\n",
    "\n",
    "In this lab, you will learn in details how to make calls to the Foursquare API for different purposes. You will learn how to construct a URL to send a request to the API to search for a specific type of venues, to explore a particular venue, to explore a Foursquare user, to explore a geographical location, and to get trending venues around a location. Also, you will learn how to use the visualization library, Folium, to visualize the results."
   ]
  },
  {
   "cell_type": "markdown",
   "metadata": {
    "button": false,
    "deletable": true,
    "new_sheet": false,
    "run_control": {
     "read_only": false
    }
   },
   "source": [
    "## Table of Contents\n",
    "\n",
    "1. <a href=\"#item1\">Foursquare API Search Function</a>\n",
    "2. <a href=\"#item2\">Explore a Given Venue</a>  \n",
    "3. <a href=\"#item3\">Explore a User</a>  \n",
    "4. <a href=\"#item4\">Foursquare API Explore Function</a>  \n",
    "5. <a href=\"#item5\">Get Trending Venues</a>  "
   ]
  },
  {
   "cell_type": "markdown",
   "metadata": {
    "button": false,
    "deletable": true,
    "new_sheet": false,
    "run_control": {
     "read_only": false
    }
   },
   "source": [
    "### Import necessary Libraries"
   ]
  },
  {
   "cell_type": "code",
   "execution_count": 101,
   "metadata": {
    "button": false,
    "collapsed": false,
    "deletable": true,
    "jupyter": {
     "outputs_hidden": false
    },
    "new_sheet": false,
    "run_control": {
     "read_only": false
    }
   },
   "outputs": [
    {
     "name": "stdout",
     "output_type": "stream",
     "text": [
      "Collecting package metadata (current_repodata.json): done\n",
      "Solving environment: done\n",
      "\n",
      "# All requested packages already installed.\n",
      "\n",
      "Collecting package metadata (current_repodata.json): done\n",
      "Solving environment: done\n",
      "\n",
      "# All requested packages already installed.\n",
      "\n",
      "Folium installed\n",
      "Libraries imported.\n"
     ]
    }
   ],
   "source": [
    "import requests # library to handle requests\n",
    "import pandas as pd # library for data analsysis\n",
    "import numpy as np # library to handle data in a vectorized manner\n",
    "import random # library for random number generation\n",
    "\n",
    "!conda install -c conda-forge geopy --yes \n",
    "from geopy.geocoders import Nominatim # module to convert an address into latitude and longitude values\n",
    "\n",
    "# libraries for displaying images\n",
    "from IPython.display import Image \n",
    "from IPython.core.display import HTML \n",
    "    \n",
    "# tranforming json file into a pandas dataframe library\n",
    "from pandas import json_normalize\n",
    "\n",
    "!conda install -c conda-forge folium=0.5.0 --yes\n",
    "import folium # plotting library\n",
    "\n",
    "print('Folium installed')\n",
    "print('Libraries imported.')"
   ]
  },
  {
   "cell_type": "markdown",
   "metadata": {
    "button": false,
    "deletable": true,
    "new_sheet": false,
    "run_control": {
     "read_only": false
    }
   },
   "source": [
    "### Define Foursquare Credentials and Version"
   ]
  },
  {
   "cell_type": "markdown",
   "metadata": {
    "button": false,
    "deletable": true,
    "new_sheet": false,
    "run_control": {
     "read_only": false
    }
   },
   "source": [
    "##### Make sure that you have created a Foursquare developer account and have your credentials handy"
   ]
  },
  {
   "cell_type": "code",
   "execution_count": 102,
   "metadata": {
    "button": false,
    "collapsed": false,
    "deletable": true,
    "jupyter": {
     "outputs_hidden": false
    },
    "new_sheet": false,
    "run_control": {
     "read_only": false
    }
   },
   "outputs": [
    {
     "name": "stdout",
     "output_type": "stream",
     "text": [
      "Your credentails:\n",
      "CLIENT_ID: TBPLKSLPDCOMMX2YIDPJ5UG2NRWHG4YOB3VXMPJI5YYP54H3\n",
      "CLIENT_SECRET:OV15HD3ZH2152BWBWDWFSKBEONQJNSQCJAI0S4BO0WLFWLPE\n"
     ]
    }
   ],
   "source": [
    "CLIENT_ID = 'TBPLKSLPDCOMMX2YIDPJ5UG2NRWHG4YOB3VXMPJI5YYP54H3' # your Foursquare ID\n",
    "CLIENT_SECRET = 'OV15HD3ZH2152BWBWDWFSKBEONQJNSQCJAI0S4BO0WLFWLPE' # your Foursquare Secret\n",
    "VERSION = '20180604'\n",
    "LIMIT = 30\n",
    "print('Your credentails:')\n",
    "print('CLIENT_ID: ' + CLIENT_ID)\n",
    "print('CLIENT_SECRET:' + CLIENT_SECRET)"
   ]
  },
  {
   "cell_type": "markdown",
   "metadata": {
    "button": false,
    "deletable": true,
    "new_sheet": false,
    "run_control": {
     "read_only": false
    }
   },
   "source": [
    "  "
   ]
  },
  {
   "cell_type": "markdown",
   "metadata": {
    "button": false,
    "deletable": true,
    "new_sheet": false,
    "run_control": {
     "read_only": false
    }
   },
   "source": [
    "#### Let's again assume that you are staying at the Conrad hotel. So let's start by converting the Contrad Hotel's address to its latitude and longitude coordinates."
   ]
  },
  {
   "cell_type": "markdown",
   "metadata": {},
   "source": [
    "In order to define an instance of the geocoder, we need to define a user_agent. We will name our agent <em>foursquare_agent</em>, as shown below."
   ]
  },
  {
   "cell_type": "code",
   "execution_count": 103,
   "metadata": {
    "button": false,
    "collapsed": false,
    "deletable": true,
    "jupyter": {
     "outputs_hidden": false
    },
    "new_sheet": false,
    "run_control": {
     "read_only": false
    }
   },
   "outputs": [
    {
     "name": "stdout",
     "output_type": "stream",
     "text": [
      "40.7149555 -74.0153365\n"
     ]
    }
   ],
   "source": [
    "address = '102 North End Ave, New York, NY'\n",
    "\n",
    "geolocator = Nominatim(user_agent=\"foursquare_agent\")\n",
    "location = geolocator.geocode(address)\n",
    "latitude = location.latitude\n",
    "longitude = location.longitude\n",
    "print(latitude, longitude)"
   ]
  },
  {
   "cell_type": "markdown",
   "metadata": {
    "button": false,
    "deletable": true,
    "new_sheet": false,
    "run_control": {
     "read_only": false
    }
   },
   "source": [
    "   "
   ]
  },
  {
   "cell_type": "markdown",
   "metadata": {
    "button": false,
    "deletable": true,
    "new_sheet": false,
    "run_control": {
     "read_only": false
    }
   },
   "source": [
    "<a id=\"item1\"></a>"
   ]
  },
  {
   "cell_type": "markdown",
   "metadata": {
    "button": false,
    "deletable": true,
    "new_sheet": false,
    "run_control": {
     "read_only": false
    }
   },
   "source": [
    "## 1. Search for a specific venue category\n",
    "> `https://api.foursquare.com/v2/venues/`**search**`?client_id=`**CLIENT_ID**`&client_secret=`**CLIENT_SECRET**`&ll=`**LATITUDE**`,`**LONGITUDE**`&v=`**VERSION**`&query=`**QUERY**`&radius=`**RADIUS**`&limit=`**LIMIT**"
   ]
  },
  {
   "cell_type": "markdown",
   "metadata": {
    "button": false,
    "deletable": true,
    "new_sheet": false,
    "run_control": {
     "read_only": false
    }
   },
   "source": [
    "#### Now, let's assume that it is lunch time, and you are craving Italian food. So, let's define a query to search for Italian food that is within 500 metres from the Conrad Hotel. "
   ]
  },
  {
   "cell_type": "code",
   "execution_count": 104,
   "metadata": {
    "button": false,
    "collapsed": false,
    "deletable": true,
    "jupyter": {
     "outputs_hidden": false
    },
    "new_sheet": false,
    "run_control": {
     "read_only": false
    },
    "scrolled": true
   },
   "outputs": [
    {
     "name": "stdout",
     "output_type": "stream",
     "text": [
      "Post office .... OK!\n"
     ]
    }
   ],
   "source": [
    "search_query = 'Post office'\n",
    "radius = 500\n",
    "print(search_query + ' .... OK!')"
   ]
  },
  {
   "cell_type": "markdown",
   "metadata": {
    "button": false,
    "deletable": true,
    "new_sheet": false,
    "run_control": {
     "read_only": false
    }
   },
   "source": [
    "#### Define the corresponding URL"
   ]
  },
  {
   "cell_type": "code",
   "execution_count": 105,
   "metadata": {
    "button": false,
    "collapsed": false,
    "deletable": true,
    "jupyter": {
     "outputs_hidden": false
    },
    "new_sheet": false,
    "run_control": {
     "read_only": false
    }
   },
   "outputs": [
    {
     "data": {
      "text/plain": [
       "'https://api.foursquare.com/v2/venues/search?client_id=TBPLKSLPDCOMMX2YIDPJ5UG2NRWHG4YOB3VXMPJI5YYP54H3&client_secret=OV15HD3ZH2152BWBWDWFSKBEONQJNSQCJAI0S4BO0WLFWLPE&ll=40.7149555,-74.0153365&v=20180604&query=Post office&radius=500&limit=30'"
      ]
     },
     "execution_count": 105,
     "metadata": {},
     "output_type": "execute_result"
    }
   ],
   "source": [
    "url = 'https://api.foursquare.com/v2/venues/search?client_id={}&client_secret={}&ll={},{}&v={}&query={}&radius={}&limit={}'.format(CLIENT_ID, CLIENT_SECRET, latitude, longitude, VERSION, search_query, radius, LIMIT)\n",
    "url"
   ]
  },
  {
   "cell_type": "markdown",
   "metadata": {
    "button": false,
    "deletable": true,
    "new_sheet": false,
    "run_control": {
     "read_only": false
    }
   },
   "source": [
    "#### Send the GET Request and examine the results"
   ]
  },
  {
   "cell_type": "code",
   "execution_count": 106,
   "metadata": {
    "button": false,
    "collapsed": false,
    "deletable": true,
    "jupyter": {
     "outputs_hidden": false
    },
    "new_sheet": false,
    "run_control": {
     "read_only": false
    },
    "scrolled": true
   },
   "outputs": [
    {
     "data": {
      "text/plain": [
       "{'meta': {'code': 200, 'requestId': '5e9ef74c963d2900245d149b'},\n",
       " 'response': {'venues': [{'id': '4a81c3c6f964a52080f71fe3',\n",
       "    'name': 'US Post Office—Church Street Station',\n",
       "    'location': {'address': '90 Church St',\n",
       "     'crossStreet': 'at Barclay St',\n",
       "     'lat': 40.71287676753995,\n",
       "     'lng': -74.01059852628421,\n",
       "     'labeledLatLngs': [{'label': 'display',\n",
       "       'lat': 40.71287676753995,\n",
       "       'lng': -74.01059852628421}],\n",
       "     'distance': 461,\n",
       "     'postalCode': '10007',\n",
       "     'cc': 'US',\n",
       "     'city': 'New York',\n",
       "     'state': 'NY',\n",
       "     'country': 'United States',\n",
       "     'formattedAddress': ['90 Church St (at Barclay St)',\n",
       "      'New York, NY 10007',\n",
       "      'United States']},\n",
       "    'categories': [{'id': '4bf58dd8d48988d172941735',\n",
       "      'name': 'Post Office',\n",
       "      'pluralName': 'Post Offices',\n",
       "      'shortName': 'Post Office',\n",
       "      'icon': {'prefix': 'https://ss3.4sqi.net/img/categories_v2/building/postoffice_',\n",
       "       'suffix': '.png'},\n",
       "      'primary': True}],\n",
       "    'referralId': 'v-1587476640',\n",
       "    'hasPerk': False},\n",
       "   {'id': '4f4f9c2de4b0cad93c4b2709',\n",
       "    'name': 'US Post Office - Battery Park Retail Unit APC',\n",
       "    'location': {'address': '15 Rector St',\n",
       "     'crossStreet': 'at Greenwich St.',\n",
       "     'lat': 40.711368,\n",
       "     'lng': -74.017019,\n",
       "     'labeledLatLngs': [{'label': 'display',\n",
       "       'lat': 40.711368,\n",
       "       'lng': -74.017019}],\n",
       "     'distance': 423,\n",
       "     'postalCode': '10006',\n",
       "     'cc': 'US',\n",
       "     'city': 'New York',\n",
       "     'state': 'NY',\n",
       "     'country': 'United States',\n",
       "     'formattedAddress': ['15 Rector St (at Greenwich St.)',\n",
       "      'New York, NY 10006',\n",
       "      'United States']},\n",
       "    'categories': [{'id': '4bf58dd8d48988d172941735',\n",
       "      'name': 'Post Office',\n",
       "      'pluralName': 'Post Offices',\n",
       "      'shortName': 'Post Office',\n",
       "      'icon': {'prefix': 'https://ss3.4sqi.net/img/categories_v2/building/postoffice_',\n",
       "       'suffix': '.png'},\n",
       "      'primary': True}],\n",
       "    'referralId': 'v-1587476640',\n",
       "    'hasPerk': False},\n",
       "   {'id': '4cacb5232f08236aca3f8e61',\n",
       "    'name': 'USPS Post Office - Greeley Square Station',\n",
       "    'location': {'address': '31 West Broadway',\n",
       "     'lat': 40.71434944445903,\n",
       "     'lng': -74.01075486252175,\n",
       "     'labeledLatLngs': [{'label': 'display',\n",
       "       'lat': 40.71434944445903,\n",
       "       'lng': -74.01075486252175}],\n",
       "     'distance': 392,\n",
       "     'postalCode': '10001',\n",
       "     'cc': 'US',\n",
       "     'city': 'New York',\n",
       "     'state': 'NY',\n",
       "     'country': 'United States',\n",
       "     'formattedAddress': ['31 West Broadway',\n",
       "      'New York, NY 10001',\n",
       "      'United States']},\n",
       "    'categories': [{'id': '4bf58dd8d48988d172941735',\n",
       "      'name': 'Post Office',\n",
       "      'pluralName': 'Post Offices',\n",
       "      'shortName': 'Post Office',\n",
       "      'icon': {'prefix': 'https://ss3.4sqi.net/img/categories_v2/building/postoffice_',\n",
       "       'suffix': '.png'},\n",
       "      'primary': True}],\n",
       "    'referralId': 'v-1587476640',\n",
       "    'hasPerk': False},\n",
       "   {'id': '4e7ce9fcd3e324c5178ca981',\n",
       "    'name': \"Scott Roen's Office\",\n",
       "    'location': {'lat': 40.71512,\n",
       "     'lng': -74.01602,\n",
       "     'labeledLatLngs': [{'label': 'display',\n",
       "       'lat': 40.71512,\n",
       "       'lng': -74.01602}],\n",
       "     'distance': 60,\n",
       "     'postalCode': '10282',\n",
       "     'cc': 'US',\n",
       "     'city': 'New York',\n",
       "     'state': 'NY',\n",
       "     'country': 'United States',\n",
       "     'formattedAddress': ['New York, NY 10282', 'United States']},\n",
       "    'categories': [],\n",
       "    'referralId': 'v-1587476640',\n",
       "    'hasPerk': False},\n",
       "   {'id': '55a50090498e08199568a229',\n",
       "    'name': 'Brookfield Office Properties',\n",
       "    'location': {'address': '250 Vesey St Fl 15',\n",
       "     'lat': 40.71470398399014,\n",
       "     'lng': -74.01442050933838,\n",
       "     'labeledLatLngs': [{'label': 'display',\n",
       "       'lat': 40.71470398399014,\n",
       "       'lng': -74.01442050933838}],\n",
       "     'distance': 82,\n",
       "     'postalCode': '10080',\n",
       "     'cc': 'US',\n",
       "     'city': 'New York',\n",
       "     'state': 'NY',\n",
       "     'country': 'United States',\n",
       "     'formattedAddress': ['250 Vesey St Fl 15',\n",
       "      'New York, NY 10080',\n",
       "      'United States']},\n",
       "    'categories': [{'id': '5032885091d4c4b30a586d66',\n",
       "      'name': 'Real Estate Office',\n",
       "      'pluralName': 'Real Estate Offices',\n",
       "      'shortName': 'Real Estate',\n",
       "      'icon': {'prefix': 'https://ss3.4sqi.net/img/categories_v2/shops/realestate_',\n",
       "       'suffix': '.png'},\n",
       "      'primary': True}],\n",
       "    'referralId': 'v-1587476640',\n",
       "    'hasPerk': False},\n",
       "   {'id': '4c957755c8a1bfb7e89024f3',\n",
       "    'name': 'NYCHA (Central Office)',\n",
       "    'location': {'address': '90 Church St',\n",
       "     'crossStreet': 'btwn Barclay St. & Vesey St.',\n",
       "     'lat': 40.7124960592739,\n",
       "     'lng': -74.00986808757679,\n",
       "     'labeledLatLngs': [{'label': 'display',\n",
       "       'lat': 40.7124960592739,\n",
       "       'lng': -74.00986808757679}],\n",
       "     'distance': 536,\n",
       "     'postalCode': '10007',\n",
       "     'cc': 'US',\n",
       "     'city': 'New York',\n",
       "     'state': 'NY',\n",
       "     'country': 'United States',\n",
       "     'formattedAddress': ['90 Church St (btwn Barclay St. & Vesey St.)',\n",
       "      'New York, NY 10007',\n",
       "      'United States']},\n",
       "    'categories': [{'id': '4bf58dd8d48988d126941735',\n",
       "      'name': 'Government Building',\n",
       "      'pluralName': 'Government Buildings',\n",
       "      'shortName': 'Government',\n",
       "      'icon': {'prefix': 'https://ss3.4sqi.net/img/categories_v2/building/government_',\n",
       "       'suffix': '.png'},\n",
       "      'primary': True}],\n",
       "    'referralId': 'v-1587476640',\n",
       "    'hasPerk': False},\n",
       "   {'id': '57bae630498e82c71f52764b',\n",
       "    'name': 'Saks Off Fifth Corporate Office',\n",
       "    'location': {'address': '250 Vesey St',\n",
       "     'lat': 40.713828,\n",
       "     'lng': -74.015909,\n",
       "     'labeledLatLngs': [{'label': 'display',\n",
       "       'lat': 40.713828,\n",
       "       'lng': -74.015909}],\n",
       "     'distance': 134,\n",
       "     'postalCode': '10281',\n",
       "     'cc': 'US',\n",
       "     'city': 'New York',\n",
       "     'state': 'NY',\n",
       "     'country': 'United States',\n",
       "     'formattedAddress': ['250 Vesey St',\n",
       "      'New York, NY 10281',\n",
       "      'United States']},\n",
       "    'categories': [{'id': '4bf58dd8d48988d124941735',\n",
       "      'name': 'Office',\n",
       "      'pluralName': 'Offices',\n",
       "      'shortName': 'Office',\n",
       "      'icon': {'prefix': 'https://ss3.4sqi.net/img/categories_v2/building/default_',\n",
       "       'suffix': '.png'},\n",
       "      'primary': True}],\n",
       "    'referralId': 'v-1587476640',\n",
       "    'hasPerk': False},\n",
       "   {'id': '50759499e4b070d8a9d64834',\n",
       "    'name': \"Luke's Office\",\n",
       "    'location': {'lat': 40.71396915136241,\n",
       "     'lng': -74.01419552516819,\n",
       "     'labeledLatLngs': [{'label': 'display',\n",
       "       'lat': 40.71396915136241,\n",
       "       'lng': -74.01419552516819}],\n",
       "     'distance': 146,\n",
       "     'postalCode': '10280',\n",
       "     'cc': 'US',\n",
       "     'city': 'New York',\n",
       "     'state': 'NY',\n",
       "     'country': 'United States',\n",
       "     'formattedAddress': ['New York, NY 10280', 'United States']},\n",
       "    'categories': [{'id': '4bf58dd8d48988d124941735',\n",
       "      'name': 'Office',\n",
       "      'pluralName': 'Offices',\n",
       "      'shortName': 'Office',\n",
       "      'icon': {'prefix': 'https://ss3.4sqi.net/img/categories_v2/building/default_',\n",
       "       'suffix': '.png'},\n",
       "      'primary': True}],\n",
       "    'referralId': 'v-1587476640',\n",
       "    'hasPerk': False},\n",
       "   {'id': '4e74ddbe52b1c8e519301429',\n",
       "    'name': 'Asphalt Green',\n",
       "    'location': {'address': '212 N End Ave',\n",
       "     'crossStreet': 'Murray',\n",
       "     'lat': 40.716035466649885,\n",
       "     'lng': -74.01481525101102,\n",
       "     'labeledLatLngs': [{'label': 'display',\n",
       "       'lat': 40.716035466649885,\n",
       "       'lng': -74.01481525101102}],\n",
       "     'distance': 128,\n",
       "     'postalCode': '10282',\n",
       "     'cc': 'US',\n",
       "     'city': 'New York',\n",
       "     'state': 'NY',\n",
       "     'country': 'United States',\n",
       "     'formattedAddress': ['212 N End Ave (Murray)',\n",
       "      'New York, NY 10282',\n",
       "      'United States']},\n",
       "    'categories': [{'id': '4bf58dd8d48988d176941735',\n",
       "      'name': 'Gym',\n",
       "      'pluralName': 'Gyms',\n",
       "      'shortName': 'Gym',\n",
       "      'icon': {'prefix': 'https://ss3.4sqi.net/img/categories_v2/building/gym_',\n",
       "       'suffix': '.png'},\n",
       "      'primary': True}],\n",
       "    'referralId': 'v-1587476640',\n",
       "    'hasPerk': False},\n",
       "   {'id': '4df7ab1445dda2db2f1d4494',\n",
       "    'name': \"Tony's Office\",\n",
       "    'location': {'lat': 40.71397965362095,\n",
       "     'lng': -74.01427586011309,\n",
       "     'labeledLatLngs': [{'label': 'display',\n",
       "       'lat': 40.71397965362095,\n",
       "       'lng': -74.01427586011309}],\n",
       "     'distance': 140,\n",
       "     'cc': 'US',\n",
       "     'city': 'New York',\n",
       "     'state': 'NY',\n",
       "     'country': 'United States',\n",
       "     'formattedAddress': ['New York, NY', 'United States']},\n",
       "    'categories': [{'id': '4bf58dd8d48988d124941735',\n",
       "      'name': 'Office',\n",
       "      'pluralName': 'Offices',\n",
       "      'shortName': 'Office',\n",
       "      'icon': {'prefix': 'https://ss3.4sqi.net/img/categories_v2/building/default_',\n",
       "       'suffix': '.png'},\n",
       "      'primary': True}],\n",
       "    'referralId': 'v-1587476640',\n",
       "    'hasPerk': False},\n",
       "   {'id': '4fecb0e1e4b0e23ed21b2f2d',\n",
       "    'name': \"Duygu's Lovely Office\",\n",
       "    'location': {'lat': 40.71355350150081,\n",
       "     'lng': -74.01497592034573,\n",
       "     'labeledLatLngs': [{'label': 'display',\n",
       "       'lat': 40.71355350150081,\n",
       "       'lng': -74.01497592034573}],\n",
       "     'distance': 159,\n",
       "     'postalCode': '10007',\n",
       "     'cc': 'US',\n",
       "     'city': 'New York',\n",
       "     'state': 'NY',\n",
       "     'country': 'United States',\n",
       "     'formattedAddress': ['New York, NY 10007', 'United States']},\n",
       "    'categories': [{'id': '4bf58dd8d48988d124941735',\n",
       "      'name': 'Office',\n",
       "      'pluralName': 'Offices',\n",
       "      'shortName': 'Office',\n",
       "      'icon': {'prefix': 'https://ss3.4sqi.net/img/categories_v2/building/default_',\n",
       "       'suffix': '.png'},\n",
       "      'primary': True}],\n",
       "    'referralId': 'v-1587476640',\n",
       "    'hasPerk': False},\n",
       "   {'id': '57cfa3d8498efe27679acb3a',\n",
       "    'name': 'Sheindlin Law Firm',\n",
       "    'location': {'address': '200 Vesey St',\n",
       "     'lat': 40.71393841,\n",
       "     'lng': -74.01489712,\n",
       "     'labeledLatLngs': [{'label': 'display',\n",
       "       'lat': 40.71393841,\n",
       "       'lng': -74.01489712}],\n",
       "     'distance': 119,\n",
       "     'postalCode': '10281',\n",
       "     'cc': 'US',\n",
       "     'city': 'New York',\n",
       "     'state': 'NY',\n",
       "     'country': 'United States',\n",
       "     'formattedAddress': ['200 Vesey St',\n",
       "      'New York, NY 10281',\n",
       "      'United States']},\n",
       "    'categories': [{'id': '52f2ab2ebcbc57f1066b8b3f',\n",
       "      'name': 'Lawyer',\n",
       "      'pluralName': 'Lawyers',\n",
       "      'shortName': 'Lawyer',\n",
       "      'icon': {'prefix': 'https://ss3.4sqi.net/img/categories_v2/education/lawschool_',\n",
       "       'suffix': '.png'},\n",
       "      'primary': True}],\n",
       "    'venuePage': {'id': '339042673'},\n",
       "    'referralId': 'v-1587476640',\n",
       "    'hasPerk': False},\n",
       "   {'id': '4c0e8ea0336220a10969cc77',\n",
       "    'name': 'City Of New York/ Office Of Management And Budget',\n",
       "    'location': {'address': '75 Park Pl',\n",
       "     'crossStreet': 'Greenwich Street',\n",
       "     'lat': 40.71441479939009,\n",
       "     'lng': -74.01087755808095,\n",
       "     'labeledLatLngs': [{'label': 'display',\n",
       "       'lat': 40.71441479939009,\n",
       "       'lng': -74.01087755808095}],\n",
       "     'distance': 381,\n",
       "     'postalCode': '10007',\n",
       "     'cc': 'US',\n",
       "     'city': 'New York',\n",
       "     'state': 'NY',\n",
       "     'country': 'United States',\n",
       "     'formattedAddress': ['75 Park Pl (Greenwich Street)',\n",
       "      'New York, NY 10007',\n",
       "      'United States']},\n",
       "    'categories': [{'id': '4bf58dd8d48988d126941735',\n",
       "      'name': 'Government Building',\n",
       "      'pluralName': 'Government Buildings',\n",
       "      'shortName': 'Government',\n",
       "      'icon': {'prefix': 'https://ss3.4sqi.net/img/categories_v2/building/government_',\n",
       "       'suffix': '.png'},\n",
       "      'primary': True}],\n",
       "    'referralId': 'v-1587476640',\n",
       "    'hasPerk': False},\n",
       "   {'id': '4e270c467d8b5ea72479a31b',\n",
       "    'name': \"Kate's Office - MBF Asset Management\",\n",
       "    'location': {'address': '1 N End Ave',\n",
       "     'lat': 40.714535,\n",
       "     'lng': -74.016915,\n",
       "     'labeledLatLngs': [{'label': 'display',\n",
       "       'lat': 40.714535,\n",
       "       'lng': -74.016915}],\n",
       "     'distance': 141,\n",
       "     'postalCode': '10282',\n",
       "     'cc': 'US',\n",
       "     'city': 'New York',\n",
       "     'state': 'NY',\n",
       "     'country': 'United States',\n",
       "     'formattedAddress': ['1 N End Ave',\n",
       "      'New York, NY 10282',\n",
       "      'United States']},\n",
       "    'categories': [{'id': '4bf58dd8d48988d124941735',\n",
       "      'name': 'Office',\n",
       "      'pluralName': 'Offices',\n",
       "      'shortName': 'Office',\n",
       "      'icon': {'prefix': 'https://ss3.4sqi.net/img/categories_v2/building/default_',\n",
       "       'suffix': '.png'},\n",
       "      'primary': True}],\n",
       "    'referralId': 'v-1587476640',\n",
       "    'hasPerk': False},\n",
       "   {'id': '51082efce4b095c586cddcb3',\n",
       "    'name': 'Office of the Registrar - Borough of Manhattan Community College (BMCC)',\n",
       "    'location': {'address': '199 Chambers St',\n",
       "     'crossStreet': 'Hudson St',\n",
       "     'lat': 40.717967,\n",
       "     'lng': -74.011367,\n",
       "     'labeledLatLngs': [{'label': 'display',\n",
       "       'lat': 40.717967,\n",
       "       'lng': -74.011367}],\n",
       "     'distance': 473,\n",
       "     'postalCode': '10007',\n",
       "     'cc': 'US',\n",
       "     'city': 'New York',\n",
       "     'state': 'NY',\n",
       "     'country': 'United States',\n",
       "     'formattedAddress': ['199 Chambers St (Hudson St)',\n",
       "      'New York, NY 10007',\n",
       "      'United States']},\n",
       "    'categories': [{'id': '4bf58dd8d48988d197941735',\n",
       "      'name': 'College Administrative Building',\n",
       "      'pluralName': 'College Administrative Buildings',\n",
       "      'shortName': 'Administrative Building',\n",
       "      'icon': {'prefix': 'https://ss3.4sqi.net/img/categories_v2/education/administrativebuilding_',\n",
       "       'suffix': '.png'},\n",
       "      'primary': True}],\n",
       "    'referralId': 'v-1587476640',\n",
       "    'hasPerk': False},\n",
       "   {'id': '4dc142aa1f6e7441cf490cf1',\n",
       "    'name': 'GSA Federal Office Building',\n",
       "    'location': {'address': '1 WTC',\n",
       "     'lat': 40.71301679283298,\n",
       "     'lng': -74.01238764890681,\n",
       "     'labeledLatLngs': [{'label': 'display',\n",
       "       'lat': 40.71301679283298,\n",
       "       'lng': -74.01238764890681}],\n",
       "     'distance': 329,\n",
       "     'postalCode': '10007',\n",
       "     'cc': 'US',\n",
       "     'city': 'New York',\n",
       "     'state': 'NY',\n",
       "     'country': 'United States',\n",
       "     'formattedAddress': ['1 WTC', 'New York, NY 10007', 'United States']},\n",
       "    'categories': [{'id': '4bf58dd8d48988d124941735',\n",
       "      'name': 'Office',\n",
       "      'pluralName': 'Offices',\n",
       "      'shortName': 'Office',\n",
       "      'icon': {'prefix': 'https://ss3.4sqi.net/img/categories_v2/building/default_',\n",
       "       'suffix': '.png'},\n",
       "      'primary': True}],\n",
       "    'referralId': 'v-1587476640',\n",
       "    'hasPerk': False},\n",
       "   {'id': '4d5569f5cff7721eaa80a9f5',\n",
       "    'name': \"Robot's Post\",\n",
       "    'location': {'address': 'North End Ave',\n",
       "     'crossStreet': 'Chambers',\n",
       "     'lat': 40.716157,\n",
       "     'lng': -74.01312,\n",
       "     'labeledLatLngs': [{'label': 'display',\n",
       "       'lat': 40.716157,\n",
       "       'lng': -74.01312}],\n",
       "     'distance': 229,\n",
       "     'cc': 'US',\n",
       "     'city': 'New York',\n",
       "     'state': 'NY',\n",
       "     'country': 'United States',\n",
       "     'formattedAddress': ['North End Ave (Chambers)',\n",
       "      'New York, NY',\n",
       "      'United States']},\n",
       "    'categories': [],\n",
       "    'referralId': 'v-1587476640',\n",
       "    'hasPerk': False},\n",
       "   {'id': '57c982e1498e12bbb696e8f5',\n",
       "    'name': 'HBC Saks Fifth Avenue Corporate Offices',\n",
       "    'location': {'address': '225 Liberty St',\n",
       "     'crossStreet': 'South End Avenue',\n",
       "     'lat': 40.71233013243762,\n",
       "     'lng': -74.01554917384,\n",
       "     'labeledLatLngs': [{'label': 'display',\n",
       "       'lat': 40.71233013243762,\n",
       "       'lng': -74.01554917384}],\n",
       "     'distance': 292,\n",
       "     'postalCode': '10281',\n",
       "     'cc': 'US',\n",
       "     'neighborhood': 'Battery Park City',\n",
       "     'city': 'New York',\n",
       "     'state': 'NY',\n",
       "     'country': 'United States',\n",
       "     'formattedAddress': ['225 Liberty St (South End Avenue)',\n",
       "      'New York, NY 10281',\n",
       "      'United States']},\n",
       "    'categories': [{'id': '4bf58dd8d48988d124941735',\n",
       "      'name': 'Office',\n",
       "      'pluralName': 'Offices',\n",
       "      'shortName': 'Office',\n",
       "      'icon': {'prefix': 'https://ss3.4sqi.net/img/categories_v2/building/default_',\n",
       "       'suffix': '.png'},\n",
       "      'primary': True}],\n",
       "    'referralId': 'v-1587476640',\n",
       "    'hasPerk': False},\n",
       "   {'id': '4e01fda31495692a4bba9058',\n",
       "    'name': 'Inc.',\n",
       "    'location': {'address': '250 Greenwich St',\n",
       "     'lat': 40.71331874545327,\n",
       "     'lng': -74.0120347339482,\n",
       "     'labeledLatLngs': [{'label': 'display',\n",
       "       'lat': 40.71331874545327,\n",
       "       'lng': -74.0120347339482}],\n",
       "     'distance': 332,\n",
       "     'postalCode': '10007',\n",
       "     'cc': 'US',\n",
       "     'city': 'New York',\n",
       "     'state': 'NY',\n",
       "     'country': 'United States',\n",
       "     'formattedAddress': ['250 Greenwich St',\n",
       "      'New York, NY 10007',\n",
       "      'United States']},\n",
       "    'categories': [{'id': '4bf58dd8d48988d124941735',\n",
       "      'name': 'Office',\n",
       "      'pluralName': 'Offices',\n",
       "      'shortName': 'Office',\n",
       "      'icon': {'prefix': 'https://ss3.4sqi.net/img/categories_v2/building/default_',\n",
       "       'suffix': '.png'},\n",
       "      'primary': True}],\n",
       "    'referralId': 'v-1587476640',\n",
       "    'hasPerk': False},\n",
       "   {'id': '4df933151f6e2728c9eeedbc',\n",
       "    'name': \"Dave's Office\",\n",
       "    'location': {'address': '32-320',\n",
       "     'crossStreet': 'GNMI',\n",
       "     'lat': 40.71333441034191,\n",
       "     'lng': -74.01424716906523,\n",
       "     'labeledLatLngs': [{'label': 'display',\n",
       "       'lat': 40.71333441034191,\n",
       "       'lng': -74.01424716906523}],\n",
       "     'distance': 202,\n",
       "     'cc': 'US',\n",
       "     'city': 'New York',\n",
       "     'state': 'NY',\n",
       "     'country': 'United States',\n",
       "     'formattedAddress': ['32-320 (GNMI)', 'New York, NY', 'United States']},\n",
       "    'categories': [{'id': '4bf58dd8d48988d130941735',\n",
       "      'name': 'Building',\n",
       "      'pluralName': 'Buildings',\n",
       "      'shortName': 'Building',\n",
       "      'icon': {'prefix': 'https://ss3.4sqi.net/img/categories_v2/building/default_',\n",
       "       'suffix': '.png'},\n",
       "      'primary': True}],\n",
       "    'referralId': 'v-1587476640',\n",
       "    'hasPerk': False},\n",
       "   {'id': '4cfe79d6c6cca35ded5f9c32',\n",
       "    'name': \"st. john's university manhattan campus IT office\",\n",
       "    'location': {'address': '101 Murray St',\n",
       "     'lat': 40.715246383352486,\n",
       "     'lng': -74.01307083239222,\n",
       "     'labeledLatLngs': [{'label': 'display',\n",
       "       'lat': 40.715246383352486,\n",
       "       'lng': -74.01307083239222}],\n",
       "     'distance': 193,\n",
       "     'postalCode': '10007',\n",
       "     'cc': 'US',\n",
       "     'city': 'New York',\n",
       "     'state': 'NY',\n",
       "     'country': 'United States',\n",
       "     'formattedAddress': ['101 Murray St',\n",
       "      'New York, NY 10007',\n",
       "      'United States']},\n",
       "    'categories': [{'id': '4bf58dd8d48988d197941735',\n",
       "      'name': 'College Administrative Building',\n",
       "      'pluralName': 'College Administrative Buildings',\n",
       "      'shortName': 'Administrative Building',\n",
       "      'icon': {'prefix': 'https://ss3.4sqi.net/img/categories_v2/education/administrativebuilding_',\n",
       "       'suffix': '.png'},\n",
       "      'primary': True}],\n",
       "    'referralId': 'v-1587476640',\n",
       "    'hasPerk': False},\n",
       "   {'id': '4bbb97b7ed7776b020a63e51',\n",
       "    'name': 'NYC DoITT - 255G',\n",
       "    'location': {'address': '255 Greenwich St',\n",
       "     'crossStreet': '@ Park Pl',\n",
       "     'lat': 40.714482894514546,\n",
       "     'lng': -74.01064977111265,\n",
       "     'labeledLatLngs': [{'label': 'display',\n",
       "       'lat': 40.714482894514546,\n",
       "       'lng': -74.01064977111265}],\n",
       "     'distance': 398,\n",
       "     'postalCode': '10007',\n",
       "     'cc': 'US',\n",
       "     'city': 'New York',\n",
       "     'state': 'NY',\n",
       "     'country': 'United States',\n",
       "     'formattedAddress': ['255 Greenwich St (@ Park Pl)',\n",
       "      'New York, NY 10007',\n",
       "      'United States']},\n",
       "    'categories': [{'id': '4bf58dd8d48988d126941735',\n",
       "      'name': 'Government Building',\n",
       "      'pluralName': 'Government Buildings',\n",
       "      'shortName': 'Government',\n",
       "      'icon': {'prefix': 'https://ss3.4sqi.net/img/categories_v2/building/government_',\n",
       "       'suffix': '.png'},\n",
       "      'primary': True}],\n",
       "    'referralId': 'v-1587476640',\n",
       "    'hasPerk': False},\n",
       "   {'id': '513e3716e4b0fa51917c3a50',\n",
       "    'name': \"BMCC Registrar's Office-S315\",\n",
       "    'location': {'address': '199 Chambers St',\n",
       "     'lat': 40.718044356938094,\n",
       "     'lng': -74.01215580901878,\n",
       "     'labeledLatLngs': [{'label': 'display',\n",
       "       'lat': 40.718044356938094,\n",
       "       'lng': -74.01215580901878}],\n",
       "     'distance': 436,\n",
       "     'postalCode': '10007',\n",
       "     'cc': 'US',\n",
       "     'city': 'New York',\n",
       "     'state': 'NY',\n",
       "     'country': 'United States',\n",
       "     'formattedAddress': ['199 Chambers St',\n",
       "      'New York, NY 10007',\n",
       "      'United States']},\n",
       "    'categories': [{'id': '4bf58dd8d48988d197941735',\n",
       "      'name': 'College Administrative Building',\n",
       "      'pluralName': 'College Administrative Buildings',\n",
       "      'shortName': 'Administrative Building',\n",
       "      'icon': {'prefix': 'https://ss3.4sqi.net/img/categories_v2/education/administrativebuilding_',\n",
       "       'suffix': '.png'},\n",
       "      'primary': True}],\n",
       "    'referralId': 'v-1587476640',\n",
       "    'hasPerk': False},\n",
       "   {'id': '4e67b7b9b61cf40ed6c4ad4d',\n",
       "    'name': \"Mike's Office - 31st Floor\",\n",
       "    'location': {'lat': 40.713104,\n",
       "     'lng': -74.015674,\n",
       "     'labeledLatLngs': [{'label': 'display',\n",
       "       'lat': 40.713104,\n",
       "       'lng': -74.015674}],\n",
       "     'distance': 208,\n",
       "     'cc': 'US',\n",
       "     'state': 'New York',\n",
       "     'country': 'United States',\n",
       "     'formattedAddress': ['New York', 'United States']},\n",
       "    'categories': [{'id': '4bf58dd8d48988d124941735',\n",
       "      'name': 'Office',\n",
       "      'pluralName': 'Offices',\n",
       "      'shortName': 'Office',\n",
       "      'icon': {'prefix': 'https://ss3.4sqi.net/img/categories_v2/building/default_',\n",
       "       'suffix': '.png'},\n",
       "      'primary': True}],\n",
       "    'referralId': 'v-1587476640',\n",
       "    'hasPerk': False},\n",
       "   {'id': '4e2f0a6922717d70585c701f',\n",
       "    'name': \"Porter Novelli -Anthony's Office\",\n",
       "    'location': {'lat': 40.7134,\n",
       "     'lng': -74.012061,\n",
       "     'labeledLatLngs': [{'label': 'display',\n",
       "       'lat': 40.7134,\n",
       "       'lng': -74.012061}],\n",
       "     'distance': 326,\n",
       "     'cc': 'US',\n",
       "     'state': 'New York',\n",
       "     'country': 'United States',\n",
       "     'formattedAddress': ['New York', 'United States']},\n",
       "    'categories': [{'id': '4bf58dd8d48988d171941735',\n",
       "      'name': 'Event Space',\n",
       "      'pluralName': 'Event Spaces',\n",
       "      'shortName': 'Event Space',\n",
       "      'icon': {'prefix': 'https://ss3.4sqi.net/img/categories_v2/building/eventspace_',\n",
       "       'suffix': '.png'},\n",
       "      'primary': True}],\n",
       "    'referralId': 'v-1587476640',\n",
       "    'hasPerk': False},\n",
       "   {'id': '593e32a567af3a7da003e1e1',\n",
       "    'name': \"The People's Counsel - Law Offices of Charles L. Barberio IV\",\n",
       "    'location': {'address': '4542 W Pine Blvd',\n",
       "     'lat': 40.71453158307841,\n",
       "     'lng': -74.01702761650085,\n",
       "     'labeledLatLngs': [{'label': 'display',\n",
       "       'lat': 40.71453158307841,\n",
       "       'lng': -74.01702761650085}],\n",
       "     'distance': 150,\n",
       "     'postalCode': '63108',\n",
       "     'cc': 'US',\n",
       "     'city': 'Saint Louis',\n",
       "     'state': 'MO',\n",
       "     'country': 'United States',\n",
       "     'formattedAddress': ['4542 W Pine Blvd',\n",
       "      'Saint Louis, MO 63108',\n",
       "      'United States']},\n",
       "    'categories': [{'id': '4bf58dd8d48988d1ff941735',\n",
       "      'name': 'Miscellaneous Shop',\n",
       "      'pluralName': 'Miscellaneous Shops',\n",
       "      'shortName': 'Shop',\n",
       "      'icon': {'prefix': 'https://ss3.4sqi.net/img/categories_v2/shops/default_',\n",
       "       'suffix': '.png'},\n",
       "      'primary': True}],\n",
       "    'referralId': 'v-1587476640',\n",
       "    'hasPerk': False},\n",
       "   {'id': '4b9fb78df964a520e43737e3',\n",
       "    'name': \"Law Office of Michael G. O'Neill\",\n",
       "    'location': {'address': '30 Vesey St Rm 301',\n",
       "     'crossStreet': 'Church',\n",
       "     'lat': 40.7121501,\n",
       "     'lng': -74.0098273,\n",
       "     'labeledLatLngs': [{'label': 'display',\n",
       "       'lat': 40.7121501,\n",
       "       'lng': -74.0098273},\n",
       "      {'label': 'entrance', 'lat': 40.712088, 'lng': -74.009909}],\n",
       "     'distance': 560,\n",
       "     'postalCode': '10007',\n",
       "     'cc': 'US',\n",
       "     'city': 'New York',\n",
       "     'state': 'NY',\n",
       "     'country': 'United States',\n",
       "     'formattedAddress': ['30 Vesey St Rm 301 (Church)',\n",
       "      'New York, NY 10007',\n",
       "      'United States']},\n",
       "    'categories': [{'id': '52f2ab2ebcbc57f1066b8b3f',\n",
       "      'name': 'Lawyer',\n",
       "      'pluralName': 'Lawyers',\n",
       "      'shortName': 'Lawyer',\n",
       "      'icon': {'prefix': 'https://ss3.4sqi.net/img/categories_v2/education/lawschool_',\n",
       "       'suffix': '.png'},\n",
       "      'primary': True}],\n",
       "    'referralId': 'v-1587476640',\n",
       "    'hasPerk': False},\n",
       "   {'id': '4fc7d0877b0cd203d104b30b',\n",
       "    'name': 'Oppenheimer Funds Offices',\n",
       "    'location': {'address': '225 Liberty St Fl 14',\n",
       "     'lat': 40.71145106322093,\n",
       "     'lng': -74.015793800354,\n",
       "     'labeledLatLngs': [{'label': 'display',\n",
       "       'lat': 40.71145106322093,\n",
       "       'lng': -74.015793800354},\n",
       "      {'label': 'entrance', 'lat': 40.712558, 'lng': -74.015299}],\n",
       "     'distance': 392,\n",
       "     'postalCode': '10281',\n",
       "     'cc': 'US',\n",
       "     'city': 'New York',\n",
       "     'state': 'NY',\n",
       "     'country': 'United States',\n",
       "     'formattedAddress': ['225 Liberty St Fl 14',\n",
       "      'New York, NY 10281',\n",
       "      'United States']},\n",
       "    'categories': [{'id': '4bf58dd8d48988d124941735',\n",
       "      'name': 'Office',\n",
       "      'pluralName': 'Offices',\n",
       "      'shortName': 'Office',\n",
       "      'icon': {'prefix': 'https://ss3.4sqi.net/img/categories_v2/building/default_',\n",
       "       'suffix': '.png'},\n",
       "      'primary': True}],\n",
       "    'referralId': 'v-1587476640',\n",
       "    'hasPerk': False},\n",
       "   {'id': '52e59857498ee6d8dc32c62d',\n",
       "    'name': 'Tribeca CERT command post',\n",
       "    'location': {'lat': 40.717792,\n",
       "     'lng': -74.010868,\n",
       "     'labeledLatLngs': [{'label': 'display',\n",
       "       'lat': 40.717792,\n",
       "       'lng': -74.010868}],\n",
       "     'distance': 491,\n",
       "     'cc': 'US',\n",
       "     'city': 'New York',\n",
       "     'state': 'NY',\n",
       "     'country': 'United States',\n",
       "     'formattedAddress': ['New York, NY', 'United States']},\n",
       "    'categories': [{'id': '4bf58dd8d48988d124941735',\n",
       "      'name': 'Office',\n",
       "      'pluralName': 'Offices',\n",
       "      'shortName': 'Office',\n",
       "      'icon': {'prefix': 'https://ss3.4sqi.net/img/categories_v2/building/default_',\n",
       "       'suffix': '.png'},\n",
       "      'primary': True}],\n",
       "    'referralId': 'v-1587476640',\n",
       "    'hasPerk': False},\n",
       "   {'id': '517ef2f7e4b089fd6ad98f9b',\n",
       "    'name': 'BLAck (Blondies Legal Advisors: charming and keen) New York Office',\n",
       "    'location': {'address': 'World Trade Center 7',\n",
       "     'lat': 40.71304389528936,\n",
       "     'lng': -74.01195760955345,\n",
       "     'labeledLatLngs': [{'label': 'display',\n",
       "       'lat': 40.71304389528936,\n",
       "       'lng': -74.01195760955345}],\n",
       "     'distance': 355,\n",
       "     'cc': 'US',\n",
       "     'city': 'New York',\n",
       "     'state': 'NY',\n",
       "     'country': 'United States',\n",
       "     'formattedAddress': ['World Trade Center 7',\n",
       "      'New York, NY',\n",
       "      'United States']},\n",
       "    'categories': [{'id': '4bf58dd8d48988d174941735',\n",
       "      'name': 'Coworking Space',\n",
       "      'pluralName': 'Coworking Spaces',\n",
       "      'shortName': 'Coworking Space',\n",
       "      'icon': {'prefix': 'https://ss3.4sqi.net/img/categories_v2/building/office_coworkingspace_',\n",
       "       'suffix': '.png'},\n",
       "      'primary': True}],\n",
       "    'referralId': 'v-1587476640',\n",
       "    'hasPerk': False}]}}"
      ]
     },
     "execution_count": 106,
     "metadata": {},
     "output_type": "execute_result"
    }
   ],
   "source": [
    "results = requests.get(url).json()\n",
    "results"
   ]
  },
  {
   "cell_type": "markdown",
   "metadata": {
    "button": false,
    "deletable": true,
    "new_sheet": false,
    "run_control": {
     "read_only": false
    }
   },
   "source": [
    "#### Get relevant part of JSON and transform it into a *pandas* dataframe"
   ]
  },
  {
   "cell_type": "code",
   "execution_count": 107,
   "metadata": {
    "button": false,
    "collapsed": false,
    "deletable": true,
    "jupyter": {
     "outputs_hidden": false
    },
    "new_sheet": false,
    "run_control": {
     "read_only": false
    }
   },
   "outputs": [
    {
     "data": {
      "text/html": [
       "<div>\n",
       "<style scoped>\n",
       "    .dataframe tbody tr th:only-of-type {\n",
       "        vertical-align: middle;\n",
       "    }\n",
       "\n",
       "    .dataframe tbody tr th {\n",
       "        vertical-align: top;\n",
       "    }\n",
       "\n",
       "    .dataframe thead th {\n",
       "        text-align: right;\n",
       "    }\n",
       "</style>\n",
       "<table border=\"1\" class=\"dataframe\">\n",
       "  <thead>\n",
       "    <tr style=\"text-align: right;\">\n",
       "      <th></th>\n",
       "      <th>id</th>\n",
       "      <th>name</th>\n",
       "      <th>categories</th>\n",
       "      <th>referralId</th>\n",
       "      <th>hasPerk</th>\n",
       "      <th>location.address</th>\n",
       "      <th>location.crossStreet</th>\n",
       "      <th>location.lat</th>\n",
       "      <th>location.lng</th>\n",
       "      <th>location.labeledLatLngs</th>\n",
       "      <th>location.distance</th>\n",
       "      <th>location.postalCode</th>\n",
       "      <th>location.cc</th>\n",
       "      <th>location.city</th>\n",
       "      <th>location.state</th>\n",
       "      <th>location.country</th>\n",
       "      <th>location.formattedAddress</th>\n",
       "      <th>venuePage.id</th>\n",
       "      <th>location.neighborhood</th>\n",
       "    </tr>\n",
       "  </thead>\n",
       "  <tbody>\n",
       "    <tr>\n",
       "      <th>0</th>\n",
       "      <td>4a81c3c6f964a52080f71fe3</td>\n",
       "      <td>US Post Office—Church Street Station</td>\n",
       "      <td>[{'id': '4bf58dd8d48988d172941735', 'name': 'Post Office', 'pluralName': 'Post Offices', 'shortName': 'Post Office', 'icon': {'prefix': 'https://ss3.4sqi.net/img/categories_v2/building/postoffice_', 'suffix': '.png'}, 'primary': True}]</td>\n",
       "      <td>v-1587476640</td>\n",
       "      <td>False</td>\n",
       "      <td>90 Church St</td>\n",
       "      <td>at Barclay St</td>\n",
       "      <td>40.712877</td>\n",
       "      <td>-74.010599</td>\n",
       "      <td>[{'label': 'display', 'lat': 40.71287676753995, 'lng': -74.01059852628421}]</td>\n",
       "      <td>461</td>\n",
       "      <td>10007</td>\n",
       "      <td>US</td>\n",
       "      <td>New York</td>\n",
       "      <td>NY</td>\n",
       "      <td>United States</td>\n",
       "      <td>[90 Church St (at Barclay St), New York, NY 10007, United States]</td>\n",
       "      <td>NaN</td>\n",
       "      <td>NaN</td>\n",
       "    </tr>\n",
       "    <tr>\n",
       "      <th>1</th>\n",
       "      <td>4f4f9c2de4b0cad93c4b2709</td>\n",
       "      <td>US Post Office - Battery Park Retail Unit APC</td>\n",
       "      <td>[{'id': '4bf58dd8d48988d172941735', 'name': 'Post Office', 'pluralName': 'Post Offices', 'shortName': 'Post Office', 'icon': {'prefix': 'https://ss3.4sqi.net/img/categories_v2/building/postoffice_', 'suffix': '.png'}, 'primary': True}]</td>\n",
       "      <td>v-1587476640</td>\n",
       "      <td>False</td>\n",
       "      <td>15 Rector St</td>\n",
       "      <td>at Greenwich St.</td>\n",
       "      <td>40.711368</td>\n",
       "      <td>-74.017019</td>\n",
       "      <td>[{'label': 'display', 'lat': 40.711368, 'lng': -74.017019}]</td>\n",
       "      <td>423</td>\n",
       "      <td>10006</td>\n",
       "      <td>US</td>\n",
       "      <td>New York</td>\n",
       "      <td>NY</td>\n",
       "      <td>United States</td>\n",
       "      <td>[15 Rector St (at Greenwich St.), New York, NY 10006, United States]</td>\n",
       "      <td>NaN</td>\n",
       "      <td>NaN</td>\n",
       "    </tr>\n",
       "    <tr>\n",
       "      <th>2</th>\n",
       "      <td>4cacb5232f08236aca3f8e61</td>\n",
       "      <td>USPS Post Office - Greeley Square Station</td>\n",
       "      <td>[{'id': '4bf58dd8d48988d172941735', 'name': 'Post Office', 'pluralName': 'Post Offices', 'shortName': 'Post Office', 'icon': {'prefix': 'https://ss3.4sqi.net/img/categories_v2/building/postoffice_', 'suffix': '.png'}, 'primary': True}]</td>\n",
       "      <td>v-1587476640</td>\n",
       "      <td>False</td>\n",
       "      <td>31 West Broadway</td>\n",
       "      <td>NaN</td>\n",
       "      <td>40.714349</td>\n",
       "      <td>-74.010755</td>\n",
       "      <td>[{'label': 'display', 'lat': 40.71434944445903, 'lng': -74.01075486252175}]</td>\n",
       "      <td>392</td>\n",
       "      <td>10001</td>\n",
       "      <td>US</td>\n",
       "      <td>New York</td>\n",
       "      <td>NY</td>\n",
       "      <td>United States</td>\n",
       "      <td>[31 West Broadway, New York, NY 10001, United States]</td>\n",
       "      <td>NaN</td>\n",
       "      <td>NaN</td>\n",
       "    </tr>\n",
       "    <tr>\n",
       "      <th>3</th>\n",
       "      <td>4e7ce9fcd3e324c5178ca981</td>\n",
       "      <td>Scott Roen's Office</td>\n",
       "      <td>[]</td>\n",
       "      <td>v-1587476640</td>\n",
       "      <td>False</td>\n",
       "      <td>NaN</td>\n",
       "      <td>NaN</td>\n",
       "      <td>40.715120</td>\n",
       "      <td>-74.016020</td>\n",
       "      <td>[{'label': 'display', 'lat': 40.71512, 'lng': -74.01602}]</td>\n",
       "      <td>60</td>\n",
       "      <td>10282</td>\n",
       "      <td>US</td>\n",
       "      <td>New York</td>\n",
       "      <td>NY</td>\n",
       "      <td>United States</td>\n",
       "      <td>[New York, NY 10282, United States]</td>\n",
       "      <td>NaN</td>\n",
       "      <td>NaN</td>\n",
       "    </tr>\n",
       "    <tr>\n",
       "      <th>4</th>\n",
       "      <td>55a50090498e08199568a229</td>\n",
       "      <td>Brookfield Office Properties</td>\n",
       "      <td>[{'id': '5032885091d4c4b30a586d66', 'name': 'Real Estate Office', 'pluralName': 'Real Estate Offices', 'shortName': 'Real Estate', 'icon': {'prefix': 'https://ss3.4sqi.net/img/categories_v2/shops/realestate_', 'suffix': '.png'}, 'primary': True}]</td>\n",
       "      <td>v-1587476640</td>\n",
       "      <td>False</td>\n",
       "      <td>250 Vesey St Fl 15</td>\n",
       "      <td>NaN</td>\n",
       "      <td>40.714704</td>\n",
       "      <td>-74.014421</td>\n",
       "      <td>[{'label': 'display', 'lat': 40.71470398399014, 'lng': -74.01442050933838}]</td>\n",
       "      <td>82</td>\n",
       "      <td>10080</td>\n",
       "      <td>US</td>\n",
       "      <td>New York</td>\n",
       "      <td>NY</td>\n",
       "      <td>United States</td>\n",
       "      <td>[250 Vesey St Fl 15, New York, NY 10080, United States]</td>\n",
       "      <td>NaN</td>\n",
       "      <td>NaN</td>\n",
       "    </tr>\n",
       "  </tbody>\n",
       "</table>\n",
       "</div>"
      ],
      "text/plain": [
       "                         id                                           name  \\\n",
       "0  4a81c3c6f964a52080f71fe3  US Post Office—Church Street Station            \n",
       "1  4f4f9c2de4b0cad93c4b2709  US Post Office - Battery Park Retail Unit APC   \n",
       "2  4cacb5232f08236aca3f8e61  USPS Post Office - Greeley Square Station       \n",
       "3  4e7ce9fcd3e324c5178ca981  Scott Roen's Office                             \n",
       "4  55a50090498e08199568a229  Brookfield Office Properties                    \n",
       "\n",
       "                                                                                                                                                                                                                                               categories  \\\n",
       "0  [{'id': '4bf58dd8d48988d172941735', 'name': 'Post Office', 'pluralName': 'Post Offices', 'shortName': 'Post Office', 'icon': {'prefix': 'https://ss3.4sqi.net/img/categories_v2/building/postoffice_', 'suffix': '.png'}, 'primary': True}]              \n",
       "1  [{'id': '4bf58dd8d48988d172941735', 'name': 'Post Office', 'pluralName': 'Post Offices', 'shortName': 'Post Office', 'icon': {'prefix': 'https://ss3.4sqi.net/img/categories_v2/building/postoffice_', 'suffix': '.png'}, 'primary': True}]              \n",
       "2  [{'id': '4bf58dd8d48988d172941735', 'name': 'Post Office', 'pluralName': 'Post Offices', 'shortName': 'Post Office', 'icon': {'prefix': 'https://ss3.4sqi.net/img/categories_v2/building/postoffice_', 'suffix': '.png'}, 'primary': True}]              \n",
       "3  []                                                                                                                                                                                                                                                       \n",
       "4  [{'id': '5032885091d4c4b30a586d66', 'name': 'Real Estate Office', 'pluralName': 'Real Estate Offices', 'shortName': 'Real Estate', 'icon': {'prefix': 'https://ss3.4sqi.net/img/categories_v2/shops/realestate_', 'suffix': '.png'}, 'primary': True}]   \n",
       "\n",
       "     referralId  hasPerk    location.address location.crossStreet  \\\n",
       "0  v-1587476640  False    90 Church St        at Barclay St         \n",
       "1  v-1587476640  False    15 Rector St        at Greenwich St.      \n",
       "2  v-1587476640  False    31 West Broadway    NaN                   \n",
       "3  v-1587476640  False    NaN                 NaN                   \n",
       "4  v-1587476640  False    250 Vesey St Fl 15  NaN                   \n",
       "\n",
       "   location.lat  location.lng  \\\n",
       "0  40.712877    -74.010599      \n",
       "1  40.711368    -74.017019      \n",
       "2  40.714349    -74.010755      \n",
       "3  40.715120    -74.016020      \n",
       "4  40.714704    -74.014421      \n",
       "\n",
       "                                                       location.labeledLatLngs  \\\n",
       "0  [{'label': 'display', 'lat': 40.71287676753995, 'lng': -74.01059852628421}]   \n",
       "1  [{'label': 'display', 'lat': 40.711368, 'lng': -74.017019}]                   \n",
       "2  [{'label': 'display', 'lat': 40.71434944445903, 'lng': -74.01075486252175}]   \n",
       "3  [{'label': 'display', 'lat': 40.71512, 'lng': -74.01602}]                     \n",
       "4  [{'label': 'display', 'lat': 40.71470398399014, 'lng': -74.01442050933838}]   \n",
       "\n",
       "   location.distance location.postalCode location.cc location.city  \\\n",
       "0  461                10007               US          New York       \n",
       "1  423                10006               US          New York       \n",
       "2  392                10001               US          New York       \n",
       "3  60                 10282               US          New York       \n",
       "4  82                 10080               US          New York       \n",
       "\n",
       "  location.state location.country  \\\n",
       "0  NY             United States     \n",
       "1  NY             United States     \n",
       "2  NY             United States     \n",
       "3  NY             United States     \n",
       "4  NY             United States     \n",
       "\n",
       "                                              location.formattedAddress  \\\n",
       "0  [90 Church St (at Barclay St), New York, NY 10007, United States]      \n",
       "1  [15 Rector St (at Greenwich St.), New York, NY 10006, United States]   \n",
       "2  [31 West Broadway, New York, NY 10001, United States]                  \n",
       "3  [New York, NY 10282, United States]                                    \n",
       "4  [250 Vesey St Fl 15, New York, NY 10080, United States]                \n",
       "\n",
       "  venuePage.id location.neighborhood  \n",
       "0  NaN          NaN                   \n",
       "1  NaN          NaN                   \n",
       "2  NaN          NaN                   \n",
       "3  NaN          NaN                   \n",
       "4  NaN          NaN                   "
      ]
     },
     "execution_count": 107,
     "metadata": {},
     "output_type": "execute_result"
    }
   ],
   "source": [
    "# assign relevant part of JSON to venues\n",
    "venues = results['response']['venues']\n",
    "\n",
    "# tranform venues into a dataframe\n",
    "dataframe = json_normalize(venues)\n",
    "dataframe.head()"
   ]
  },
  {
   "cell_type": "markdown",
   "metadata": {
    "button": false,
    "deletable": true,
    "new_sheet": false,
    "run_control": {
     "read_only": false
    }
   },
   "source": [
    "#### Define information of interest and filter dataframe"
   ]
  },
  {
   "cell_type": "code",
   "execution_count": 108,
   "metadata": {
    "button": false,
    "collapsed": false,
    "deletable": true,
    "jupyter": {
     "outputs_hidden": false
    },
    "new_sheet": false,
    "run_control": {
     "read_only": false
    },
    "scrolled": true
   },
   "outputs": [
    {
     "data": {
      "text/html": [
       "<div>\n",
       "<style scoped>\n",
       "    .dataframe tbody tr th:only-of-type {\n",
       "        vertical-align: middle;\n",
       "    }\n",
       "\n",
       "    .dataframe tbody tr th {\n",
       "        vertical-align: top;\n",
       "    }\n",
       "\n",
       "    .dataframe thead th {\n",
       "        text-align: right;\n",
       "    }\n",
       "</style>\n",
       "<table border=\"1\" class=\"dataframe\">\n",
       "  <thead>\n",
       "    <tr style=\"text-align: right;\">\n",
       "      <th></th>\n",
       "      <th>name</th>\n",
       "      <th>categories</th>\n",
       "      <th>address</th>\n",
       "      <th>crossStreet</th>\n",
       "      <th>lat</th>\n",
       "      <th>lng</th>\n",
       "      <th>labeledLatLngs</th>\n",
       "      <th>distance</th>\n",
       "      <th>postalCode</th>\n",
       "      <th>cc</th>\n",
       "      <th>city</th>\n",
       "      <th>state</th>\n",
       "      <th>country</th>\n",
       "      <th>formattedAddress</th>\n",
       "      <th>neighborhood</th>\n",
       "      <th>id</th>\n",
       "    </tr>\n",
       "  </thead>\n",
       "  <tbody>\n",
       "    <tr>\n",
       "      <th>0</th>\n",
       "      <td>US Post Office—Church Street Station</td>\n",
       "      <td>Post Office</td>\n",
       "      <td>90 Church St</td>\n",
       "      <td>at Barclay St</td>\n",
       "      <td>40.712877</td>\n",
       "      <td>-74.010599</td>\n",
       "      <td>[{'label': 'display', 'lat': 40.71287676753995, 'lng': -74.01059852628421}]</td>\n",
       "      <td>461</td>\n",
       "      <td>10007</td>\n",
       "      <td>US</td>\n",
       "      <td>New York</td>\n",
       "      <td>NY</td>\n",
       "      <td>United States</td>\n",
       "      <td>[90 Church St (at Barclay St), New York, NY 10007, United States]</td>\n",
       "      <td>NaN</td>\n",
       "      <td>4a81c3c6f964a52080f71fe3</td>\n",
       "    </tr>\n",
       "    <tr>\n",
       "      <th>1</th>\n",
       "      <td>US Post Office - Battery Park Retail Unit APC</td>\n",
       "      <td>Post Office</td>\n",
       "      <td>15 Rector St</td>\n",
       "      <td>at Greenwich St.</td>\n",
       "      <td>40.711368</td>\n",
       "      <td>-74.017019</td>\n",
       "      <td>[{'label': 'display', 'lat': 40.711368, 'lng': -74.017019}]</td>\n",
       "      <td>423</td>\n",
       "      <td>10006</td>\n",
       "      <td>US</td>\n",
       "      <td>New York</td>\n",
       "      <td>NY</td>\n",
       "      <td>United States</td>\n",
       "      <td>[15 Rector St (at Greenwich St.), New York, NY 10006, United States]</td>\n",
       "      <td>NaN</td>\n",
       "      <td>4f4f9c2de4b0cad93c4b2709</td>\n",
       "    </tr>\n",
       "    <tr>\n",
       "      <th>2</th>\n",
       "      <td>USPS Post Office - Greeley Square Station</td>\n",
       "      <td>Post Office</td>\n",
       "      <td>31 West Broadway</td>\n",
       "      <td>NaN</td>\n",
       "      <td>40.714349</td>\n",
       "      <td>-74.010755</td>\n",
       "      <td>[{'label': 'display', 'lat': 40.71434944445903, 'lng': -74.01075486252175}]</td>\n",
       "      <td>392</td>\n",
       "      <td>10001</td>\n",
       "      <td>US</td>\n",
       "      <td>New York</td>\n",
       "      <td>NY</td>\n",
       "      <td>United States</td>\n",
       "      <td>[31 West Broadway, New York, NY 10001, United States]</td>\n",
       "      <td>NaN</td>\n",
       "      <td>4cacb5232f08236aca3f8e61</td>\n",
       "    </tr>\n",
       "    <tr>\n",
       "      <th>3</th>\n",
       "      <td>Scott Roen's Office</td>\n",
       "      <td>None</td>\n",
       "      <td>NaN</td>\n",
       "      <td>NaN</td>\n",
       "      <td>40.715120</td>\n",
       "      <td>-74.016020</td>\n",
       "      <td>[{'label': 'display', 'lat': 40.71512, 'lng': -74.01602}]</td>\n",
       "      <td>60</td>\n",
       "      <td>10282</td>\n",
       "      <td>US</td>\n",
       "      <td>New York</td>\n",
       "      <td>NY</td>\n",
       "      <td>United States</td>\n",
       "      <td>[New York, NY 10282, United States]</td>\n",
       "      <td>NaN</td>\n",
       "      <td>4e7ce9fcd3e324c5178ca981</td>\n",
       "    </tr>\n",
       "    <tr>\n",
       "      <th>4</th>\n",
       "      <td>Brookfield Office Properties</td>\n",
       "      <td>Real Estate Office</td>\n",
       "      <td>250 Vesey St Fl 15</td>\n",
       "      <td>NaN</td>\n",
       "      <td>40.714704</td>\n",
       "      <td>-74.014421</td>\n",
       "      <td>[{'label': 'display', 'lat': 40.71470398399014, 'lng': -74.01442050933838}]</td>\n",
       "      <td>82</td>\n",
       "      <td>10080</td>\n",
       "      <td>US</td>\n",
       "      <td>New York</td>\n",
       "      <td>NY</td>\n",
       "      <td>United States</td>\n",
       "      <td>[250 Vesey St Fl 15, New York, NY 10080, United States]</td>\n",
       "      <td>NaN</td>\n",
       "      <td>55a50090498e08199568a229</td>\n",
       "    </tr>\n",
       "    <tr>\n",
       "      <th>5</th>\n",
       "      <td>NYCHA (Central Office)</td>\n",
       "      <td>Government Building</td>\n",
       "      <td>90 Church St</td>\n",
       "      <td>btwn Barclay St. &amp; Vesey St.</td>\n",
       "      <td>40.712496</td>\n",
       "      <td>-74.009868</td>\n",
       "      <td>[{'label': 'display', 'lat': 40.7124960592739, 'lng': -74.00986808757679}]</td>\n",
       "      <td>536</td>\n",
       "      <td>10007</td>\n",
       "      <td>US</td>\n",
       "      <td>New York</td>\n",
       "      <td>NY</td>\n",
       "      <td>United States</td>\n",
       "      <td>[90 Church St (btwn Barclay St. &amp; Vesey St.), New York, NY 10007, United States]</td>\n",
       "      <td>NaN</td>\n",
       "      <td>4c957755c8a1bfb7e89024f3</td>\n",
       "    </tr>\n",
       "    <tr>\n",
       "      <th>6</th>\n",
       "      <td>Saks Off Fifth Corporate Office</td>\n",
       "      <td>Office</td>\n",
       "      <td>250 Vesey St</td>\n",
       "      <td>NaN</td>\n",
       "      <td>40.713828</td>\n",
       "      <td>-74.015909</td>\n",
       "      <td>[{'label': 'display', 'lat': 40.713828, 'lng': -74.015909}]</td>\n",
       "      <td>134</td>\n",
       "      <td>10281</td>\n",
       "      <td>US</td>\n",
       "      <td>New York</td>\n",
       "      <td>NY</td>\n",
       "      <td>United States</td>\n",
       "      <td>[250 Vesey St, New York, NY 10281, United States]</td>\n",
       "      <td>NaN</td>\n",
       "      <td>57bae630498e82c71f52764b</td>\n",
       "    </tr>\n",
       "    <tr>\n",
       "      <th>7</th>\n",
       "      <td>Luke's Office</td>\n",
       "      <td>Office</td>\n",
       "      <td>NaN</td>\n",
       "      <td>NaN</td>\n",
       "      <td>40.713969</td>\n",
       "      <td>-74.014196</td>\n",
       "      <td>[{'label': 'display', 'lat': 40.71396915136241, 'lng': -74.01419552516819}]</td>\n",
       "      <td>146</td>\n",
       "      <td>10280</td>\n",
       "      <td>US</td>\n",
       "      <td>New York</td>\n",
       "      <td>NY</td>\n",
       "      <td>United States</td>\n",
       "      <td>[New York, NY 10280, United States]</td>\n",
       "      <td>NaN</td>\n",
       "      <td>50759499e4b070d8a9d64834</td>\n",
       "    </tr>\n",
       "    <tr>\n",
       "      <th>8</th>\n",
       "      <td>Asphalt Green</td>\n",
       "      <td>Gym</td>\n",
       "      <td>212 N End Ave</td>\n",
       "      <td>Murray</td>\n",
       "      <td>40.716035</td>\n",
       "      <td>-74.014815</td>\n",
       "      <td>[{'label': 'display', 'lat': 40.716035466649885, 'lng': -74.01481525101102}]</td>\n",
       "      <td>128</td>\n",
       "      <td>10282</td>\n",
       "      <td>US</td>\n",
       "      <td>New York</td>\n",
       "      <td>NY</td>\n",
       "      <td>United States</td>\n",
       "      <td>[212 N End Ave (Murray), New York, NY 10282, United States]</td>\n",
       "      <td>NaN</td>\n",
       "      <td>4e74ddbe52b1c8e519301429</td>\n",
       "    </tr>\n",
       "    <tr>\n",
       "      <th>9</th>\n",
       "      <td>Tony's Office</td>\n",
       "      <td>Office</td>\n",
       "      <td>NaN</td>\n",
       "      <td>NaN</td>\n",
       "      <td>40.713980</td>\n",
       "      <td>-74.014276</td>\n",
       "      <td>[{'label': 'display', 'lat': 40.71397965362095, 'lng': -74.01427586011309}]</td>\n",
       "      <td>140</td>\n",
       "      <td>NaN</td>\n",
       "      <td>US</td>\n",
       "      <td>New York</td>\n",
       "      <td>NY</td>\n",
       "      <td>United States</td>\n",
       "      <td>[New York, NY, United States]</td>\n",
       "      <td>NaN</td>\n",
       "      <td>4df7ab1445dda2db2f1d4494</td>\n",
       "    </tr>\n",
       "    <tr>\n",
       "      <th>10</th>\n",
       "      <td>Duygu's Lovely Office</td>\n",
       "      <td>Office</td>\n",
       "      <td>NaN</td>\n",
       "      <td>NaN</td>\n",
       "      <td>40.713554</td>\n",
       "      <td>-74.014976</td>\n",
       "      <td>[{'label': 'display', 'lat': 40.71355350150081, 'lng': -74.01497592034573}]</td>\n",
       "      <td>159</td>\n",
       "      <td>10007</td>\n",
       "      <td>US</td>\n",
       "      <td>New York</td>\n",
       "      <td>NY</td>\n",
       "      <td>United States</td>\n",
       "      <td>[New York, NY 10007, United States]</td>\n",
       "      <td>NaN</td>\n",
       "      <td>4fecb0e1e4b0e23ed21b2f2d</td>\n",
       "    </tr>\n",
       "    <tr>\n",
       "      <th>11</th>\n",
       "      <td>Sheindlin Law Firm</td>\n",
       "      <td>Lawyer</td>\n",
       "      <td>200 Vesey St</td>\n",
       "      <td>NaN</td>\n",
       "      <td>40.713938</td>\n",
       "      <td>-74.014897</td>\n",
       "      <td>[{'label': 'display', 'lat': 40.71393841, 'lng': -74.01489712}]</td>\n",
       "      <td>119</td>\n",
       "      <td>10281</td>\n",
       "      <td>US</td>\n",
       "      <td>New York</td>\n",
       "      <td>NY</td>\n",
       "      <td>United States</td>\n",
       "      <td>[200 Vesey St, New York, NY 10281, United States]</td>\n",
       "      <td>NaN</td>\n",
       "      <td>57cfa3d8498efe27679acb3a</td>\n",
       "    </tr>\n",
       "    <tr>\n",
       "      <th>12</th>\n",
       "      <td>City Of New York/ Office Of Management And Budget</td>\n",
       "      <td>Government Building</td>\n",
       "      <td>75 Park Pl</td>\n",
       "      <td>Greenwich Street</td>\n",
       "      <td>40.714415</td>\n",
       "      <td>-74.010878</td>\n",
       "      <td>[{'label': 'display', 'lat': 40.71441479939009, 'lng': -74.01087755808095}]</td>\n",
       "      <td>381</td>\n",
       "      <td>10007</td>\n",
       "      <td>US</td>\n",
       "      <td>New York</td>\n",
       "      <td>NY</td>\n",
       "      <td>United States</td>\n",
       "      <td>[75 Park Pl (Greenwich Street), New York, NY 10007, United States]</td>\n",
       "      <td>NaN</td>\n",
       "      <td>4c0e8ea0336220a10969cc77</td>\n",
       "    </tr>\n",
       "    <tr>\n",
       "      <th>13</th>\n",
       "      <td>Kate's Office - MBF Asset Management</td>\n",
       "      <td>Office</td>\n",
       "      <td>1 N End Ave</td>\n",
       "      <td>NaN</td>\n",
       "      <td>40.714535</td>\n",
       "      <td>-74.016915</td>\n",
       "      <td>[{'label': 'display', 'lat': 40.714535, 'lng': -74.016915}]</td>\n",
       "      <td>141</td>\n",
       "      <td>10282</td>\n",
       "      <td>US</td>\n",
       "      <td>New York</td>\n",
       "      <td>NY</td>\n",
       "      <td>United States</td>\n",
       "      <td>[1 N End Ave, New York, NY 10282, United States]</td>\n",
       "      <td>NaN</td>\n",
       "      <td>4e270c467d8b5ea72479a31b</td>\n",
       "    </tr>\n",
       "    <tr>\n",
       "      <th>14</th>\n",
       "      <td>Office of the Registrar - Borough of Manhattan Community College (BMCC)</td>\n",
       "      <td>College Administrative Building</td>\n",
       "      <td>199 Chambers St</td>\n",
       "      <td>Hudson St</td>\n",
       "      <td>40.717967</td>\n",
       "      <td>-74.011367</td>\n",
       "      <td>[{'label': 'display', 'lat': 40.717967, 'lng': -74.011367}]</td>\n",
       "      <td>473</td>\n",
       "      <td>10007</td>\n",
       "      <td>US</td>\n",
       "      <td>New York</td>\n",
       "      <td>NY</td>\n",
       "      <td>United States</td>\n",
       "      <td>[199 Chambers St (Hudson St), New York, NY 10007, United States]</td>\n",
       "      <td>NaN</td>\n",
       "      <td>51082efce4b095c586cddcb3</td>\n",
       "    </tr>\n",
       "    <tr>\n",
       "      <th>15</th>\n",
       "      <td>GSA Federal Office Building</td>\n",
       "      <td>Office</td>\n",
       "      <td>1 WTC</td>\n",
       "      <td>NaN</td>\n",
       "      <td>40.713017</td>\n",
       "      <td>-74.012388</td>\n",
       "      <td>[{'label': 'display', 'lat': 40.71301679283298, 'lng': -74.01238764890681}]</td>\n",
       "      <td>329</td>\n",
       "      <td>10007</td>\n",
       "      <td>US</td>\n",
       "      <td>New York</td>\n",
       "      <td>NY</td>\n",
       "      <td>United States</td>\n",
       "      <td>[1 WTC, New York, NY 10007, United States]</td>\n",
       "      <td>NaN</td>\n",
       "      <td>4dc142aa1f6e7441cf490cf1</td>\n",
       "    </tr>\n",
       "    <tr>\n",
       "      <th>16</th>\n",
       "      <td>Robot's Post</td>\n",
       "      <td>None</td>\n",
       "      <td>North End Ave</td>\n",
       "      <td>Chambers</td>\n",
       "      <td>40.716157</td>\n",
       "      <td>-74.013120</td>\n",
       "      <td>[{'label': 'display', 'lat': 40.716157, 'lng': -74.01312}]</td>\n",
       "      <td>229</td>\n",
       "      <td>NaN</td>\n",
       "      <td>US</td>\n",
       "      <td>New York</td>\n",
       "      <td>NY</td>\n",
       "      <td>United States</td>\n",
       "      <td>[North End Ave (Chambers), New York, NY, United States]</td>\n",
       "      <td>NaN</td>\n",
       "      <td>4d5569f5cff7721eaa80a9f5</td>\n",
       "    </tr>\n",
       "    <tr>\n",
       "      <th>17</th>\n",
       "      <td>HBC Saks Fifth Avenue Corporate Offices</td>\n",
       "      <td>Office</td>\n",
       "      <td>225 Liberty St</td>\n",
       "      <td>South End Avenue</td>\n",
       "      <td>40.712330</td>\n",
       "      <td>-74.015549</td>\n",
       "      <td>[{'label': 'display', 'lat': 40.71233013243762, 'lng': -74.01554917384}]</td>\n",
       "      <td>292</td>\n",
       "      <td>10281</td>\n",
       "      <td>US</td>\n",
       "      <td>New York</td>\n",
       "      <td>NY</td>\n",
       "      <td>United States</td>\n",
       "      <td>[225 Liberty St (South End Avenue), New York, NY 10281, United States]</td>\n",
       "      <td>Battery Park City</td>\n",
       "      <td>57c982e1498e12bbb696e8f5</td>\n",
       "    </tr>\n",
       "    <tr>\n",
       "      <th>18</th>\n",
       "      <td>Inc.</td>\n",
       "      <td>Office</td>\n",
       "      <td>250 Greenwich St</td>\n",
       "      <td>NaN</td>\n",
       "      <td>40.713319</td>\n",
       "      <td>-74.012035</td>\n",
       "      <td>[{'label': 'display', 'lat': 40.71331874545327, 'lng': -74.0120347339482}]</td>\n",
       "      <td>332</td>\n",
       "      <td>10007</td>\n",
       "      <td>US</td>\n",
       "      <td>New York</td>\n",
       "      <td>NY</td>\n",
       "      <td>United States</td>\n",
       "      <td>[250 Greenwich St, New York, NY 10007, United States]</td>\n",
       "      <td>NaN</td>\n",
       "      <td>4e01fda31495692a4bba9058</td>\n",
       "    </tr>\n",
       "    <tr>\n",
       "      <th>19</th>\n",
       "      <td>Dave's Office</td>\n",
       "      <td>Building</td>\n",
       "      <td>32-320</td>\n",
       "      <td>GNMI</td>\n",
       "      <td>40.713334</td>\n",
       "      <td>-74.014247</td>\n",
       "      <td>[{'label': 'display', 'lat': 40.71333441034191, 'lng': -74.01424716906523}]</td>\n",
       "      <td>202</td>\n",
       "      <td>NaN</td>\n",
       "      <td>US</td>\n",
       "      <td>New York</td>\n",
       "      <td>NY</td>\n",
       "      <td>United States</td>\n",
       "      <td>[32-320 (GNMI), New York, NY, United States]</td>\n",
       "      <td>NaN</td>\n",
       "      <td>4df933151f6e2728c9eeedbc</td>\n",
       "    </tr>\n",
       "    <tr>\n",
       "      <th>20</th>\n",
       "      <td>st. john's university manhattan campus IT office</td>\n",
       "      <td>College Administrative Building</td>\n",
       "      <td>101 Murray St</td>\n",
       "      <td>NaN</td>\n",
       "      <td>40.715246</td>\n",
       "      <td>-74.013071</td>\n",
       "      <td>[{'label': 'display', 'lat': 40.715246383352486, 'lng': -74.01307083239222}]</td>\n",
       "      <td>193</td>\n",
       "      <td>10007</td>\n",
       "      <td>US</td>\n",
       "      <td>New York</td>\n",
       "      <td>NY</td>\n",
       "      <td>United States</td>\n",
       "      <td>[101 Murray St, New York, NY 10007, United States]</td>\n",
       "      <td>NaN</td>\n",
       "      <td>4cfe79d6c6cca35ded5f9c32</td>\n",
       "    </tr>\n",
       "    <tr>\n",
       "      <th>21</th>\n",
       "      <td>NYC DoITT - 255G</td>\n",
       "      <td>Government Building</td>\n",
       "      <td>255 Greenwich St</td>\n",
       "      <td>@ Park Pl</td>\n",
       "      <td>40.714483</td>\n",
       "      <td>-74.010650</td>\n",
       "      <td>[{'label': 'display', 'lat': 40.714482894514546, 'lng': -74.01064977111265}]</td>\n",
       "      <td>398</td>\n",
       "      <td>10007</td>\n",
       "      <td>US</td>\n",
       "      <td>New York</td>\n",
       "      <td>NY</td>\n",
       "      <td>United States</td>\n",
       "      <td>[255 Greenwich St (@ Park Pl), New York, NY 10007, United States]</td>\n",
       "      <td>NaN</td>\n",
       "      <td>4bbb97b7ed7776b020a63e51</td>\n",
       "    </tr>\n",
       "    <tr>\n",
       "      <th>22</th>\n",
       "      <td>BMCC Registrar's Office-S315</td>\n",
       "      <td>College Administrative Building</td>\n",
       "      <td>199 Chambers St</td>\n",
       "      <td>NaN</td>\n",
       "      <td>40.718044</td>\n",
       "      <td>-74.012156</td>\n",
       "      <td>[{'label': 'display', 'lat': 40.718044356938094, 'lng': -74.01215580901878}]</td>\n",
       "      <td>436</td>\n",
       "      <td>10007</td>\n",
       "      <td>US</td>\n",
       "      <td>New York</td>\n",
       "      <td>NY</td>\n",
       "      <td>United States</td>\n",
       "      <td>[199 Chambers St, New York, NY 10007, United States]</td>\n",
       "      <td>NaN</td>\n",
       "      <td>513e3716e4b0fa51917c3a50</td>\n",
       "    </tr>\n",
       "    <tr>\n",
       "      <th>23</th>\n",
       "      <td>Mike's Office - 31st Floor</td>\n",
       "      <td>Office</td>\n",
       "      <td>NaN</td>\n",
       "      <td>NaN</td>\n",
       "      <td>40.713104</td>\n",
       "      <td>-74.015674</td>\n",
       "      <td>[{'label': 'display', 'lat': 40.713104, 'lng': -74.015674}]</td>\n",
       "      <td>208</td>\n",
       "      <td>NaN</td>\n",
       "      <td>US</td>\n",
       "      <td>NaN</td>\n",
       "      <td>New York</td>\n",
       "      <td>United States</td>\n",
       "      <td>[New York, United States]</td>\n",
       "      <td>NaN</td>\n",
       "      <td>4e67b7b9b61cf40ed6c4ad4d</td>\n",
       "    </tr>\n",
       "    <tr>\n",
       "      <th>24</th>\n",
       "      <td>Porter Novelli -Anthony's Office</td>\n",
       "      <td>Event Space</td>\n",
       "      <td>NaN</td>\n",
       "      <td>NaN</td>\n",
       "      <td>40.713400</td>\n",
       "      <td>-74.012061</td>\n",
       "      <td>[{'label': 'display', 'lat': 40.7134, 'lng': -74.012061}]</td>\n",
       "      <td>326</td>\n",
       "      <td>NaN</td>\n",
       "      <td>US</td>\n",
       "      <td>NaN</td>\n",
       "      <td>New York</td>\n",
       "      <td>United States</td>\n",
       "      <td>[New York, United States]</td>\n",
       "      <td>NaN</td>\n",
       "      <td>4e2f0a6922717d70585c701f</td>\n",
       "    </tr>\n",
       "    <tr>\n",
       "      <th>25</th>\n",
       "      <td>The People's Counsel - Law Offices of Charles L. Barberio IV</td>\n",
       "      <td>Miscellaneous Shop</td>\n",
       "      <td>4542 W Pine Blvd</td>\n",
       "      <td>NaN</td>\n",
       "      <td>40.714532</td>\n",
       "      <td>-74.017028</td>\n",
       "      <td>[{'label': 'display', 'lat': 40.71453158307841, 'lng': -74.01702761650085}]</td>\n",
       "      <td>150</td>\n",
       "      <td>63108</td>\n",
       "      <td>US</td>\n",
       "      <td>Saint Louis</td>\n",
       "      <td>MO</td>\n",
       "      <td>United States</td>\n",
       "      <td>[4542 W Pine Blvd, Saint Louis, MO 63108, United States]</td>\n",
       "      <td>NaN</td>\n",
       "      <td>593e32a567af3a7da003e1e1</td>\n",
       "    </tr>\n",
       "    <tr>\n",
       "      <th>26</th>\n",
       "      <td>Law Office of Michael G. O'Neill</td>\n",
       "      <td>Lawyer</td>\n",
       "      <td>30 Vesey St Rm 301</td>\n",
       "      <td>Church</td>\n",
       "      <td>40.712150</td>\n",
       "      <td>-74.009827</td>\n",
       "      <td>[{'label': 'display', 'lat': 40.7121501, 'lng': -74.0098273}, {'label': 'entrance', 'lat': 40.712088, 'lng': -74.009909}]</td>\n",
       "      <td>560</td>\n",
       "      <td>10007</td>\n",
       "      <td>US</td>\n",
       "      <td>New York</td>\n",
       "      <td>NY</td>\n",
       "      <td>United States</td>\n",
       "      <td>[30 Vesey St Rm 301 (Church), New York, NY 10007, United States]</td>\n",
       "      <td>NaN</td>\n",
       "      <td>4b9fb78df964a520e43737e3</td>\n",
       "    </tr>\n",
       "    <tr>\n",
       "      <th>27</th>\n",
       "      <td>Oppenheimer Funds Offices</td>\n",
       "      <td>Office</td>\n",
       "      <td>225 Liberty St Fl 14</td>\n",
       "      <td>NaN</td>\n",
       "      <td>40.711451</td>\n",
       "      <td>-74.015794</td>\n",
       "      <td>[{'label': 'display', 'lat': 40.71145106322093, 'lng': -74.015793800354}, {'label': 'entrance', 'lat': 40.712558, 'lng': -74.015299}]</td>\n",
       "      <td>392</td>\n",
       "      <td>10281</td>\n",
       "      <td>US</td>\n",
       "      <td>New York</td>\n",
       "      <td>NY</td>\n",
       "      <td>United States</td>\n",
       "      <td>[225 Liberty St Fl 14, New York, NY 10281, United States]</td>\n",
       "      <td>NaN</td>\n",
       "      <td>4fc7d0877b0cd203d104b30b</td>\n",
       "    </tr>\n",
       "    <tr>\n",
       "      <th>28</th>\n",
       "      <td>Tribeca CERT command post</td>\n",
       "      <td>Office</td>\n",
       "      <td>NaN</td>\n",
       "      <td>NaN</td>\n",
       "      <td>40.717792</td>\n",
       "      <td>-74.010868</td>\n",
       "      <td>[{'label': 'display', 'lat': 40.717792, 'lng': -74.010868}]</td>\n",
       "      <td>491</td>\n",
       "      <td>NaN</td>\n",
       "      <td>US</td>\n",
       "      <td>New York</td>\n",
       "      <td>NY</td>\n",
       "      <td>United States</td>\n",
       "      <td>[New York, NY, United States]</td>\n",
       "      <td>NaN</td>\n",
       "      <td>52e59857498ee6d8dc32c62d</td>\n",
       "    </tr>\n",
       "    <tr>\n",
       "      <th>29</th>\n",
       "      <td>BLAck (Blondies Legal Advisors: charming and keen) New York Office</td>\n",
       "      <td>Coworking Space</td>\n",
       "      <td>World Trade Center 7</td>\n",
       "      <td>NaN</td>\n",
       "      <td>40.713044</td>\n",
       "      <td>-74.011958</td>\n",
       "      <td>[{'label': 'display', 'lat': 40.71304389528936, 'lng': -74.01195760955345}]</td>\n",
       "      <td>355</td>\n",
       "      <td>NaN</td>\n",
       "      <td>US</td>\n",
       "      <td>New York</td>\n",
       "      <td>NY</td>\n",
       "      <td>United States</td>\n",
       "      <td>[World Trade Center 7, New York, NY, United States]</td>\n",
       "      <td>NaN</td>\n",
       "      <td>517ef2f7e4b089fd6ad98f9b</td>\n",
       "    </tr>\n",
       "  </tbody>\n",
       "</table>\n",
       "</div>"
      ],
      "text/plain": [
       "                                                                       name  \\\n",
       "0   US Post Office—Church Street Station                                      \n",
       "1   US Post Office - Battery Park Retail Unit APC                             \n",
       "2   USPS Post Office - Greeley Square Station                                 \n",
       "3   Scott Roen's Office                                                       \n",
       "4   Brookfield Office Properties                                              \n",
       "5   NYCHA (Central Office)                                                    \n",
       "6   Saks Off Fifth Corporate Office                                           \n",
       "7   Luke's Office                                                             \n",
       "8   Asphalt Green                                                             \n",
       "9   Tony's Office                                                             \n",
       "10  Duygu's Lovely Office                                                     \n",
       "11  Sheindlin Law Firm                                                        \n",
       "12  City Of New York/ Office Of Management And Budget                         \n",
       "13  Kate's Office - MBF Asset Management                                      \n",
       "14  Office of the Registrar - Borough of Manhattan Community College (BMCC)   \n",
       "15  GSA Federal Office Building                                               \n",
       "16  Robot's Post                                                              \n",
       "17  HBC Saks Fifth Avenue Corporate Offices                                   \n",
       "18  Inc.                                                                      \n",
       "19  Dave's Office                                                             \n",
       "20  st. john's university manhattan campus IT office                          \n",
       "21  NYC DoITT - 255G                                                          \n",
       "22  BMCC Registrar's Office-S315                                              \n",
       "23  Mike's Office - 31st Floor                                                \n",
       "24  Porter Novelli -Anthony's Office                                          \n",
       "25  The People's Counsel - Law Offices of Charles L. Barberio IV              \n",
       "26  Law Office of Michael G. O'Neill                                          \n",
       "27  Oppenheimer Funds Offices                                                 \n",
       "28  Tribeca CERT command post                                                 \n",
       "29  BLAck (Blondies Legal Advisors: charming and keen) New York Office        \n",
       "\n",
       "                         categories               address  \\\n",
       "0   Post Office                      90 Church St           \n",
       "1   Post Office                      15 Rector St           \n",
       "2   Post Office                      31 West Broadway       \n",
       "3   None                             NaN                    \n",
       "4   Real Estate Office               250 Vesey St Fl 15     \n",
       "5   Government Building              90 Church St           \n",
       "6   Office                           250 Vesey St           \n",
       "7   Office                           NaN                    \n",
       "8   Gym                              212 N End Ave          \n",
       "9   Office                           NaN                    \n",
       "10  Office                           NaN                    \n",
       "11  Lawyer                           200 Vesey St           \n",
       "12  Government Building              75 Park Pl             \n",
       "13  Office                           1 N End Ave            \n",
       "14  College Administrative Building  199 Chambers St        \n",
       "15  Office                           1 WTC                  \n",
       "16  None                             North End Ave          \n",
       "17  Office                           225 Liberty St         \n",
       "18  Office                           250 Greenwich St       \n",
       "19  Building                         32-320                 \n",
       "20  College Administrative Building  101 Murray St          \n",
       "21  Government Building              255 Greenwich St       \n",
       "22  College Administrative Building  199 Chambers St        \n",
       "23  Office                           NaN                    \n",
       "24  Event Space                      NaN                    \n",
       "25  Miscellaneous Shop               4542 W Pine Blvd       \n",
       "26  Lawyer                           30 Vesey St Rm 301     \n",
       "27  Office                           225 Liberty St Fl 14   \n",
       "28  Office                           NaN                    \n",
       "29  Coworking Space                  World Trade Center 7   \n",
       "\n",
       "                     crossStreet        lat        lng  \\\n",
       "0   at Barclay St                 40.712877 -74.010599   \n",
       "1   at Greenwich St.              40.711368 -74.017019   \n",
       "2   NaN                           40.714349 -74.010755   \n",
       "3   NaN                           40.715120 -74.016020   \n",
       "4   NaN                           40.714704 -74.014421   \n",
       "5   btwn Barclay St. & Vesey St.  40.712496 -74.009868   \n",
       "6   NaN                           40.713828 -74.015909   \n",
       "7   NaN                           40.713969 -74.014196   \n",
       "8   Murray                        40.716035 -74.014815   \n",
       "9   NaN                           40.713980 -74.014276   \n",
       "10  NaN                           40.713554 -74.014976   \n",
       "11  NaN                           40.713938 -74.014897   \n",
       "12  Greenwich Street              40.714415 -74.010878   \n",
       "13  NaN                           40.714535 -74.016915   \n",
       "14  Hudson St                     40.717967 -74.011367   \n",
       "15  NaN                           40.713017 -74.012388   \n",
       "16  Chambers                      40.716157 -74.013120   \n",
       "17  South End Avenue              40.712330 -74.015549   \n",
       "18  NaN                           40.713319 -74.012035   \n",
       "19  GNMI                          40.713334 -74.014247   \n",
       "20  NaN                           40.715246 -74.013071   \n",
       "21  @ Park Pl                     40.714483 -74.010650   \n",
       "22  NaN                           40.718044 -74.012156   \n",
       "23  NaN                           40.713104 -74.015674   \n",
       "24  NaN                           40.713400 -74.012061   \n",
       "25  NaN                           40.714532 -74.017028   \n",
       "26  Church                        40.712150 -74.009827   \n",
       "27  NaN                           40.711451 -74.015794   \n",
       "28  NaN                           40.717792 -74.010868   \n",
       "29  NaN                           40.713044 -74.011958   \n",
       "\n",
       "                                                                                                                           labeledLatLngs  \\\n",
       "0   [{'label': 'display', 'lat': 40.71287676753995, 'lng': -74.01059852628421}]                                                             \n",
       "1   [{'label': 'display', 'lat': 40.711368, 'lng': -74.017019}]                                                                             \n",
       "2   [{'label': 'display', 'lat': 40.71434944445903, 'lng': -74.01075486252175}]                                                             \n",
       "3   [{'label': 'display', 'lat': 40.71512, 'lng': -74.01602}]                                                                               \n",
       "4   [{'label': 'display', 'lat': 40.71470398399014, 'lng': -74.01442050933838}]                                                             \n",
       "5   [{'label': 'display', 'lat': 40.7124960592739, 'lng': -74.00986808757679}]                                                              \n",
       "6   [{'label': 'display', 'lat': 40.713828, 'lng': -74.015909}]                                                                             \n",
       "7   [{'label': 'display', 'lat': 40.71396915136241, 'lng': -74.01419552516819}]                                                             \n",
       "8   [{'label': 'display', 'lat': 40.716035466649885, 'lng': -74.01481525101102}]                                                            \n",
       "9   [{'label': 'display', 'lat': 40.71397965362095, 'lng': -74.01427586011309}]                                                             \n",
       "10  [{'label': 'display', 'lat': 40.71355350150081, 'lng': -74.01497592034573}]                                                             \n",
       "11  [{'label': 'display', 'lat': 40.71393841, 'lng': -74.01489712}]                                                                         \n",
       "12  [{'label': 'display', 'lat': 40.71441479939009, 'lng': -74.01087755808095}]                                                             \n",
       "13  [{'label': 'display', 'lat': 40.714535, 'lng': -74.016915}]                                                                             \n",
       "14  [{'label': 'display', 'lat': 40.717967, 'lng': -74.011367}]                                                                             \n",
       "15  [{'label': 'display', 'lat': 40.71301679283298, 'lng': -74.01238764890681}]                                                             \n",
       "16  [{'label': 'display', 'lat': 40.716157, 'lng': -74.01312}]                                                                              \n",
       "17  [{'label': 'display', 'lat': 40.71233013243762, 'lng': -74.01554917384}]                                                                \n",
       "18  [{'label': 'display', 'lat': 40.71331874545327, 'lng': -74.0120347339482}]                                                              \n",
       "19  [{'label': 'display', 'lat': 40.71333441034191, 'lng': -74.01424716906523}]                                                             \n",
       "20  [{'label': 'display', 'lat': 40.715246383352486, 'lng': -74.01307083239222}]                                                            \n",
       "21  [{'label': 'display', 'lat': 40.714482894514546, 'lng': -74.01064977111265}]                                                            \n",
       "22  [{'label': 'display', 'lat': 40.718044356938094, 'lng': -74.01215580901878}]                                                            \n",
       "23  [{'label': 'display', 'lat': 40.713104, 'lng': -74.015674}]                                                                             \n",
       "24  [{'label': 'display', 'lat': 40.7134, 'lng': -74.012061}]                                                                               \n",
       "25  [{'label': 'display', 'lat': 40.71453158307841, 'lng': -74.01702761650085}]                                                             \n",
       "26  [{'label': 'display', 'lat': 40.7121501, 'lng': -74.0098273}, {'label': 'entrance', 'lat': 40.712088, 'lng': -74.009909}]               \n",
       "27  [{'label': 'display', 'lat': 40.71145106322093, 'lng': -74.015793800354}, {'label': 'entrance', 'lat': 40.712558, 'lng': -74.015299}]   \n",
       "28  [{'label': 'display', 'lat': 40.717792, 'lng': -74.010868}]                                                                             \n",
       "29  [{'label': 'display', 'lat': 40.71304389528936, 'lng': -74.01195760955345}]                                                             \n",
       "\n",
       "    distance postalCode  cc         city     state        country  \\\n",
       "0   461       10007      US  New York     NY        United States   \n",
       "1   423       10006      US  New York     NY        United States   \n",
       "2   392       10001      US  New York     NY        United States   \n",
       "3   60        10282      US  New York     NY        United States   \n",
       "4   82        10080      US  New York     NY        United States   \n",
       "5   536       10007      US  New York     NY        United States   \n",
       "6   134       10281      US  New York     NY        United States   \n",
       "7   146       10280      US  New York     NY        United States   \n",
       "8   128       10282      US  New York     NY        United States   \n",
       "9   140       NaN        US  New York     NY        United States   \n",
       "10  159       10007      US  New York     NY        United States   \n",
       "11  119       10281      US  New York     NY        United States   \n",
       "12  381       10007      US  New York     NY        United States   \n",
       "13  141       10282      US  New York     NY        United States   \n",
       "14  473       10007      US  New York     NY        United States   \n",
       "15  329       10007      US  New York     NY        United States   \n",
       "16  229       NaN        US  New York     NY        United States   \n",
       "17  292       10281      US  New York     NY        United States   \n",
       "18  332       10007      US  New York     NY        United States   \n",
       "19  202       NaN        US  New York     NY        United States   \n",
       "20  193       10007      US  New York     NY        United States   \n",
       "21  398       10007      US  New York     NY        United States   \n",
       "22  436       10007      US  New York     NY        United States   \n",
       "23  208       NaN        US  NaN          New York  United States   \n",
       "24  326       NaN        US  NaN          New York  United States   \n",
       "25  150       63108      US  Saint Louis  MO        United States   \n",
       "26  560       10007      US  New York     NY        United States   \n",
       "27  392       10281      US  New York     NY        United States   \n",
       "28  491       NaN        US  New York     NY        United States   \n",
       "29  355       NaN        US  New York     NY        United States   \n",
       "\n",
       "                                                                    formattedAddress  \\\n",
       "0   [90 Church St (at Barclay St), New York, NY 10007, United States]                  \n",
       "1   [15 Rector St (at Greenwich St.), New York, NY 10006, United States]               \n",
       "2   [31 West Broadway, New York, NY 10001, United States]                              \n",
       "3   [New York, NY 10282, United States]                                                \n",
       "4   [250 Vesey St Fl 15, New York, NY 10080, United States]                            \n",
       "5   [90 Church St (btwn Barclay St. & Vesey St.), New York, NY 10007, United States]   \n",
       "6   [250 Vesey St, New York, NY 10281, United States]                                  \n",
       "7   [New York, NY 10280, United States]                                                \n",
       "8   [212 N End Ave (Murray), New York, NY 10282, United States]                        \n",
       "9   [New York, NY, United States]                                                      \n",
       "10  [New York, NY 10007, United States]                                                \n",
       "11  [200 Vesey St, New York, NY 10281, United States]                                  \n",
       "12  [75 Park Pl (Greenwich Street), New York, NY 10007, United States]                 \n",
       "13  [1 N End Ave, New York, NY 10282, United States]                                   \n",
       "14  [199 Chambers St (Hudson St), New York, NY 10007, United States]                   \n",
       "15  [1 WTC, New York, NY 10007, United States]                                         \n",
       "16  [North End Ave (Chambers), New York, NY, United States]                            \n",
       "17  [225 Liberty St (South End Avenue), New York, NY 10281, United States]             \n",
       "18  [250 Greenwich St, New York, NY 10007, United States]                              \n",
       "19  [32-320 (GNMI), New York, NY, United States]                                       \n",
       "20  [101 Murray St, New York, NY 10007, United States]                                 \n",
       "21  [255 Greenwich St (@ Park Pl), New York, NY 10007, United States]                  \n",
       "22  [199 Chambers St, New York, NY 10007, United States]                               \n",
       "23  [New York, United States]                                                          \n",
       "24  [New York, United States]                                                          \n",
       "25  [4542 W Pine Blvd, Saint Louis, MO 63108, United States]                           \n",
       "26  [30 Vesey St Rm 301 (Church), New York, NY 10007, United States]                   \n",
       "27  [225 Liberty St Fl 14, New York, NY 10281, United States]                          \n",
       "28  [New York, NY, United States]                                                      \n",
       "29  [World Trade Center 7, New York, NY, United States]                                \n",
       "\n",
       "         neighborhood                        id  \n",
       "0   NaN                4a81c3c6f964a52080f71fe3  \n",
       "1   NaN                4f4f9c2de4b0cad93c4b2709  \n",
       "2   NaN                4cacb5232f08236aca3f8e61  \n",
       "3   NaN                4e7ce9fcd3e324c5178ca981  \n",
       "4   NaN                55a50090498e08199568a229  \n",
       "5   NaN                4c957755c8a1bfb7e89024f3  \n",
       "6   NaN                57bae630498e82c71f52764b  \n",
       "7   NaN                50759499e4b070d8a9d64834  \n",
       "8   NaN                4e74ddbe52b1c8e519301429  \n",
       "9   NaN                4df7ab1445dda2db2f1d4494  \n",
       "10  NaN                4fecb0e1e4b0e23ed21b2f2d  \n",
       "11  NaN                57cfa3d8498efe27679acb3a  \n",
       "12  NaN                4c0e8ea0336220a10969cc77  \n",
       "13  NaN                4e270c467d8b5ea72479a31b  \n",
       "14  NaN                51082efce4b095c586cddcb3  \n",
       "15  NaN                4dc142aa1f6e7441cf490cf1  \n",
       "16  NaN                4d5569f5cff7721eaa80a9f5  \n",
       "17  Battery Park City  57c982e1498e12bbb696e8f5  \n",
       "18  NaN                4e01fda31495692a4bba9058  \n",
       "19  NaN                4df933151f6e2728c9eeedbc  \n",
       "20  NaN                4cfe79d6c6cca35ded5f9c32  \n",
       "21  NaN                4bbb97b7ed7776b020a63e51  \n",
       "22  NaN                513e3716e4b0fa51917c3a50  \n",
       "23  NaN                4e67b7b9b61cf40ed6c4ad4d  \n",
       "24  NaN                4e2f0a6922717d70585c701f  \n",
       "25  NaN                593e32a567af3a7da003e1e1  \n",
       "26  NaN                4b9fb78df964a520e43737e3  \n",
       "27  NaN                4fc7d0877b0cd203d104b30b  \n",
       "28  NaN                52e59857498ee6d8dc32c62d  \n",
       "29  NaN                517ef2f7e4b089fd6ad98f9b  "
      ]
     },
     "execution_count": 108,
     "metadata": {},
     "output_type": "execute_result"
    }
   ],
   "source": [
    "# keep only columns that include venue name, and anything that is associated with location\n",
    "filtered_columns = ['name', 'categories'] + [col for col in dataframe.columns if col.startswith('location.')] + ['id']\n",
    "dataframe_filtered = dataframe.loc[:, filtered_columns]\n",
    "\n",
    "# function that extracts the category of the venue\n",
    "def get_category_type(row):\n",
    "    try:\n",
    "        categories_list = row['categories']\n",
    "    except:\n",
    "        categories_list = row['venue.categories']\n",
    "        \n",
    "    if len(categories_list) == 0:\n",
    "        return None\n",
    "    else:\n",
    "        return categories_list[0]['name']\n",
    "\n",
    "# filter the category for each row\n",
    "dataframe_filtered['categories'] = dataframe_filtered.apply(get_category_type, axis=1)\n",
    "\n",
    "# clean column names by keeping only last term\n",
    "dataframe_filtered.columns = [column.split('.')[-1] for column in dataframe_filtered.columns]\n",
    "\n",
    "dataframe_filtered"
   ]
  },
  {
   "cell_type": "markdown",
   "metadata": {
    "button": false,
    "deletable": true,
    "new_sheet": false,
    "run_control": {
     "read_only": false
    }
   },
   "source": [
    "#### Let's visualize the Italian restaurants that are nearby"
   ]
  },
  {
   "cell_type": "code",
   "execution_count": 109,
   "metadata": {
    "button": false,
    "collapsed": false,
    "deletable": true,
    "jupyter": {
     "outputs_hidden": false
    },
    "new_sheet": false,
    "run_control": {
     "read_only": false
    }
   },
   "outputs": [
    {
     "data": {
      "text/plain": [
       "0     US Post Office—Church Street Station                                   \n",
       "1     US Post Office - Battery Park Retail Unit APC                          \n",
       "2     USPS Post Office - Greeley Square Station                              \n",
       "3     Scott Roen's Office                                                    \n",
       "4     Brookfield Office Properties                                           \n",
       "5     NYCHA (Central Office)                                                 \n",
       "6     Saks Off Fifth Corporate Office                                        \n",
       "7     Luke's Office                                                          \n",
       "8     Asphalt Green                                                          \n",
       "9     Tony's Office                                                          \n",
       "10    Duygu's Lovely Office                                                  \n",
       "11    Sheindlin Law Firm                                                     \n",
       "12    City Of New York/ Office Of Management And Budget                      \n",
       "13    Kate's Office - MBF Asset Management                                   \n",
       "14    Office of the Registrar - Borough of Manhattan Community College (BMCC)\n",
       "15    GSA Federal Office Building                                            \n",
       "16    Robot's Post                                                           \n",
       "17    HBC Saks Fifth Avenue Corporate Offices                                \n",
       "18    Inc.                                                                   \n",
       "19    Dave's Office                                                          \n",
       "20    st. john's university manhattan campus IT office                       \n",
       "21    NYC DoITT - 255G                                                       \n",
       "22    BMCC Registrar's Office-S315                                           \n",
       "23    Mike's Office - 31st Floor                                             \n",
       "24    Porter Novelli -Anthony's Office                                       \n",
       "25    The People's Counsel - Law Offices of Charles L. Barberio IV           \n",
       "26    Law Office of Michael G. O'Neill                                       \n",
       "27    Oppenheimer Funds Offices                                              \n",
       "28    Tribeca CERT command post                                              \n",
       "29    BLAck (Blondies Legal Advisors: charming and keen) New York Office     \n",
       "Name: name, dtype: object"
      ]
     },
     "execution_count": 109,
     "metadata": {},
     "output_type": "execute_result"
    }
   ],
   "source": [
    "dataframe_filtered.name"
   ]
  },
  {
   "cell_type": "code",
   "execution_count": 110,
   "metadata": {
    "button": false,
    "collapsed": false,
    "deletable": true,
    "jupyter": {
     "outputs_hidden": false
    },
    "new_sheet": false,
    "run_control": {
     "read_only": false
    }
   },
   "outputs": [
    {
     "data": {
      "text/html": [
       "<div style=\"width:100%;\"><div style=\"position:relative;width:100%;height:0;padding-bottom:60%;\"><iframe src=\"about:blank\" style=\"position:absolute;width:100%;height:100%;left:0;top:0;border:none !important;\" data-html=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 onload=\"this.contentDocument.open();this.contentDocument.write(atob(this.getAttribute('data-html')));this.contentDocument.close();\" allowfullscreen webkitallowfullscreen mozallowfullscreen></iframe></div></div>"
      ],
      "text/plain": [
       "<folium.folium.Map at 0x11c6fddd0>"
      ]
     },
     "execution_count": 110,
     "metadata": {},
     "output_type": "execute_result"
    }
   ],
   "source": [
    "venues_map = folium.Map(location=[latitude, longitude], zoom_start=13) # generate map centred around the Conrad Hotel\n",
    "\n",
    "# add a red circle marker to represent the Conrad Hotel\n",
    "folium.features.CircleMarker(\n",
    "    [latitude, longitude],\n",
    "    radius=10,\n",
    "    color='red',\n",
    "    popup='Conrad Hotel',\n",
    "    fill = True,\n",
    "    fill_color = 'red',\n",
    "    fill_opacity = 0.6\n",
    ").add_to(venues_map)\n",
    "\n",
    "# add the Italian restaurants as blue circle markers\n",
    "for lat, lng, label in zip(dataframe_filtered.lat, dataframe_filtered.lng, dataframe_filtered.categories):\n",
    "    folium.features.CircleMarker(\n",
    "        [lat, lng],\n",
    "        radius=5,\n",
    "        color='blue',\n",
    "        popup=label,\n",
    "        fill = True,\n",
    "        fill_color='blue',\n",
    "        fill_opacity=0.6\n",
    "    ).add_to(venues_map)\n",
    "\n",
    "# display map\n",
    "venues_map"
   ]
  },
  {
   "cell_type": "markdown",
   "metadata": {
    "button": false,
    "deletable": true,
    "new_sheet": false,
    "run_control": {
     "read_only": false
    }
   },
   "source": [
    "   "
   ]
  },
  {
   "cell_type": "markdown",
   "metadata": {
    "button": false,
    "deletable": true,
    "new_sheet": false,
    "run_control": {
     "read_only": false
    }
   },
   "source": [
    "<a id=\"item2\"></a>"
   ]
  },
  {
   "cell_type": "markdown",
   "metadata": {
    "button": false,
    "deletable": true,
    "new_sheet": false,
    "run_control": {
     "read_only": false
    }
   },
   "source": [
    "## 2. Explore a Given Venue\n",
    "> `https://api.foursquare.com/v2/venues/`**VENUE_ID**`?client_id=`**CLIENT_ID**`&client_secret=`**CLIENT_SECRET**`&v=`**VERSION**"
   ]
  },
  {
   "cell_type": "markdown",
   "metadata": {
    "button": false,
    "deletable": true,
    "new_sheet": false,
    "run_control": {
     "read_only": false
    }
   },
   "source": [
    "### A. Let's explore the closest Italian restaurant -- _Harry's Italian Pizza Bar_"
   ]
  },
  {
   "cell_type": "code",
   "execution_count": 111,
   "metadata": {
    "button": false,
    "collapsed": false,
    "deletable": true,
    "jupyter": {
     "outputs_hidden": false
    },
    "new_sheet": false,
    "run_control": {
     "read_only": false
    }
   },
   "outputs": [
    {
     "data": {
      "text/plain": [
       "'https://api.foursquare.com/v2/venues/4fa862b3e4b0ebff2f749f06?client_id=TBPLKSLPDCOMMX2YIDPJ5UG2NRWHG4YOB3VXMPJI5YYP54H3&client_secret=OV15HD3ZH2152BWBWDWFSKBEONQJNSQCJAI0S4BO0WLFWLPE&v=20180604'"
      ]
     },
     "execution_count": 111,
     "metadata": {},
     "output_type": "execute_result"
    }
   ],
   "source": [
    "venue_id = '4fa862b3e4b0ebff2f749f06' # ID of Harry's Italian Pizza Bar\n",
    "url = 'https://api.foursquare.com/v2/venues/{}?client_id={}&client_secret={}&v={}'.format(venue_id, CLIENT_ID, CLIENT_SECRET, VERSION)\n",
    "url"
   ]
  },
  {
   "cell_type": "markdown",
   "metadata": {
    "button": false,
    "deletable": true,
    "new_sheet": false,
    "run_control": {
     "read_only": false
    }
   },
   "source": [
    "#### Send GET request for result"
   ]
  },
  {
   "cell_type": "code",
   "execution_count": 112,
   "metadata": {
    "button": false,
    "collapsed": false,
    "deletable": true,
    "jupyter": {
     "outputs_hidden": false
    },
    "new_sheet": false,
    "run_control": {
     "read_only": false
    }
   },
   "outputs": [
    {
     "name": "stdout",
     "output_type": "stream",
     "text": [
      "dict_keys(['id', 'name', 'contact', 'location', 'canonicalUrl', 'categories', 'verified', 'stats', 'url', 'price', 'hasMenu', 'likes', 'dislike', 'ok', 'rating', 'ratingColor', 'ratingSignals', 'delivery', 'menu', 'allowMenuUrlEdit', 'beenHere', 'specials', 'photos', 'reasons', 'hereNow', 'createdAt', 'tips', 'shortUrl', 'timeZone', 'listed', 'hours', 'popular', 'seasonalHours', 'defaultHours', 'pageUpdates', 'inbox', 'attributes', 'bestPhoto', 'colors'])\n"
     ]
    },
    {
     "data": {
      "text/plain": [
       "{'id': '4fa862b3e4b0ebff2f749f06',\n",
       " 'name': \"Harry's Italian Pizza Bar\",\n",
       " 'contact': {'phone': '2126081007', 'formattedPhone': '(212) 608-1007'},\n",
       " 'location': {'address': '225 Murray St',\n",
       "  'lat': 40.71521779064671,\n",
       "  'lng': -74.01473940209351,\n",
       "  'labeledLatLngs': [{'label': 'display',\n",
       "    'lat': 40.71521779064671,\n",
       "    'lng': -74.01473940209351},\n",
       "   {'label': '?', 'lat': 40.715361, 'lng': -74.014975}],\n",
       "  'postalCode': '10282',\n",
       "  'cc': 'US',\n",
       "  'city': 'New York',\n",
       "  'state': 'NY',\n",
       "  'country': 'United States',\n",
       "  'formattedAddress': ['225 Murray St',\n",
       "   'New York, NY 10282',\n",
       "   'United States']},\n",
       " 'canonicalUrl': 'https://foursquare.com/v/harrys-italian-pizza-bar/4fa862b3e4b0ebff2f749f06',\n",
       " 'categories': [{'id': '4bf58dd8d48988d1ca941735',\n",
       "   'name': 'Pizza Place',\n",
       "   'pluralName': 'Pizza Places',\n",
       "   'shortName': 'Pizza',\n",
       "   'icon': {'prefix': 'https://ss3.4sqi.net/img/categories_v2/food/pizza_',\n",
       "    'suffix': '.png'},\n",
       "   'primary': True},\n",
       "  {'id': '4bf58dd8d48988d110941735',\n",
       "   'name': 'Italian Restaurant',\n",
       "   'pluralName': 'Italian Restaurants',\n",
       "   'shortName': 'Italian',\n",
       "   'icon': {'prefix': 'https://ss3.4sqi.net/img/categories_v2/food/italian_',\n",
       "    'suffix': '.png'}}],\n",
       " 'verified': False,\n",
       " 'stats': {'tipCount': 57},\n",
       " 'url': 'http://harrysitalian.com',\n",
       " 'price': {'tier': 2, 'message': 'Moderate', 'currency': '$'},\n",
       " 'hasMenu': True,\n",
       " 'likes': {'count': 120,\n",
       "  'groups': [{'type': 'others', 'count': 120, 'items': []}],\n",
       "  'summary': '120 Likes'},\n",
       " 'dislike': False,\n",
       " 'ok': False,\n",
       " 'rating': 7.0,\n",
       " 'ratingColor': 'C5DE35',\n",
       " 'ratingSignals': 212,\n",
       " 'delivery': {'id': '294544',\n",
       "  'url': 'https://www.seamless.com/menu/harrys-italian-pizza-bar-225-murray-st-new-york/294544?affiliate=1131&utm_source=foursquare-affiliate-network&utm_medium=affiliate&utm_campaign=1131&utm_content=294544',\n",
       "  'provider': {'name': 'seamless',\n",
       "   'icon': {'prefix': 'https://fastly.4sqi.net/img/general/cap/',\n",
       "    'sizes': [40, 50],\n",
       "    'name': '/delivery_provider_seamless_20180129.png'}}},\n",
       " 'menu': {'type': 'Menu',\n",
       "  'label': 'Menu',\n",
       "  'anchor': 'View Menu',\n",
       "  'url': 'https://foursquare.com/v/harrys-italian-pizza-bar/4fa862b3e4b0ebff2f749f06/menu',\n",
       "  'mobileUrl': 'https://foursquare.com/v/4fa862b3e4b0ebff2f749f06/device_menu'},\n",
       " 'allowMenuUrlEdit': True,\n",
       " 'beenHere': {'count': 0,\n",
       "  'unconfirmedCount': 0,\n",
       "  'marked': False,\n",
       "  'lastCheckinExpiredAt': 0},\n",
       " 'specials': {'count': 0, 'items': []},\n",
       " 'photos': {'count': 147,\n",
       "  'groups': [{'type': 'venue',\n",
       "    'name': 'Venue photos',\n",
       "    'count': 147,\n",
       "    'items': [{'id': '4fad980de4b091b4626c3633',\n",
       "      'createdAt': 1336776717,\n",
       "      'source': {'name': 'Foursquare for Android',\n",
       "       'url': 'https://foursquare.com/download/#/android'},\n",
       "      'prefix': 'https://fastly.4sqi.net/img/general/',\n",
       "      'suffix': '/ya1iQFI7pLjuIJp1PGDKlrZS3OJdHCF7tpILMmjv_2w.jpg',\n",
       "      'width': 480,\n",
       "      'height': 640,\n",
       "      'user': {'id': '13676709',\n",
       "       'firstName': 'Leony',\n",
       "       'lastName': 'N',\n",
       "       'photo': {'prefix': 'https://fastly.4sqi.net/img/user/',\n",
       "        'suffix': '/T0ANFNGNMCHUDEUE.jpg'}},\n",
       "      'visibility': 'public'},\n",
       "     {'id': '503139a5e4b021f7a5e9952a',\n",
       "      'createdAt': 1345403301,\n",
       "      'source': {'name': 'Foursquare for iOS',\n",
       "       'url': 'https://foursquare.com/download/#/iphone'},\n",
       "      'prefix': 'https://fastly.4sqi.net/img/general/',\n",
       "      'suffix': '/ox3MATx28ULVNhMemzwMx5ivrRPh0aIbowxREaHWzKA.jpg',\n",
       "      'width': 720,\n",
       "      'height': 540,\n",
       "      'user': {'id': '4434246',\n",
       "       'firstName': 'Gregory',\n",
       "       'lastName': 'L',\n",
       "       'photo': {'prefix': 'https://fastly.4sqi.net/img/user/',\n",
       "        'suffix': '/4XA1N04BRCPULL2M.jpg'}},\n",
       "      'visibility': 'public'}]}]},\n",
       " 'reasons': {'count': 1,\n",
       "  'items': [{'summary': 'Lots of people like this place',\n",
       "    'type': 'general',\n",
       "    'reasonName': 'rawLikesReason'}]},\n",
       " 'hereNow': {'count': 0, 'summary': 'Nobody here', 'groups': []},\n",
       " 'createdAt': 1336435379,\n",
       " 'tips': {'count': 57,\n",
       "  'groups': [{'type': 'others',\n",
       "    'name': 'All tips',\n",
       "    'count': 57,\n",
       "    'items': [{'id': '53d27909498e0523841340b6',\n",
       "      'createdAt': 1406302473,\n",
       "      'text': \"Harry's Italian Pizza bar is known for it's amazing pizza, but did you know that the brunches here are amazing too? Try the Nutella French toast and we know you'll be sold.\",\n",
       "      'type': 'user',\n",
       "      'canonicalUrl': 'https://foursquare.com/item/53d27909498e0523841340b6',\n",
       "      'lang': 'en',\n",
       "      'likes': {'count': 4,\n",
       "       'groups': [{'type': 'others',\n",
       "         'count': 4,\n",
       "         'items': [{'id': '369426',\n",
       "           'firstName': 'P.',\n",
       "           'lastName': 'M',\n",
       "           'photo': {'prefix': 'https://fastly.4sqi.net/img/user/',\n",
       "            'suffix': '/JPQYUWJKUT0H2OO4.jpg'}},\n",
       "          {'id': '87587879',\n",
       "           'firstName': 'Diane',\n",
       "           'lastName': 'D',\n",
       "           'photo': {'prefix': 'https://fastly.4sqi.net/img/user/',\n",
       "            'suffix': '/87587879-ESLRSZLQ2CBE2P4W.jpg'}},\n",
       "          {'id': '87591341',\n",
       "           'firstName': 'Tim',\n",
       "           'lastName': 'S',\n",
       "           'photo': {'prefix': 'https://fastly.4sqi.net/img/user/',\n",
       "            'suffix': '/-Z4YK4VKE0JSVXIY1.jpg'}},\n",
       "          {'id': '87473404',\n",
       "           'firstName': 'TenantKing.com',\n",
       "           'photo': {'prefix': 'https://fastly.4sqi.net/img/user/',\n",
       "            'suffix': '/87473404-HI5DTBTK0HX401CA.png'},\n",
       "           'type': 'page'}]}],\n",
       "       'summary': '4 likes'},\n",
       "      'logView': True,\n",
       "      'agreeCount': 4,\n",
       "      'disagreeCount': 0,\n",
       "      'todo': {'count': 0},\n",
       "      'user': {'id': '87473404',\n",
       "       'firstName': 'TenantKing.com',\n",
       "       'photo': {'prefix': 'https://fastly.4sqi.net/img/user/',\n",
       "        'suffix': '/87473404-HI5DTBTK0HX401CA.png'},\n",
       "       'type': 'page'}},\n",
       "     {'id': '53962e98498ecd43845cc813',\n",
       "      'createdAt': 1402351256,\n",
       "      'text': \"I'm not sure if this place is one of the famous pizzerias in NYC but I loved their pizza.\",\n",
       "      'type': 'user',\n",
       "      'canonicalUrl': 'https://foursquare.com/item/53962e98498ecd43845cc813',\n",
       "      'photo': {'id': '53962e9c498e53dbbf59b28e',\n",
       "       'createdAt': 1402351260,\n",
       "       'source': {'name': 'Foursquare for iOS',\n",
       "        'url': 'https://foursquare.com/download/#/iphone'},\n",
       "       'prefix': 'https://fastly.4sqi.net/img/general/',\n",
       "       'suffix': '/7012699_DCcCtW8oRbhNv62E68gxtLnWn7IgRhapBr8vdnIQjYk.jpg',\n",
       "       'width': 720,\n",
       "       'height': 720,\n",
       "       'visibility': 'public'},\n",
       "      'photourl': 'https://fastly.4sqi.net/img/general/original/7012699_DCcCtW8oRbhNv62E68gxtLnWn7IgRhapBr8vdnIQjYk.jpg',\n",
       "      'lang': 'en',\n",
       "      'likes': {'count': 2,\n",
       "       'groups': [{'type': 'others',\n",
       "         'count': 2,\n",
       "         'items': [{'id': '7012699',\n",
       "           'firstName': 'Hani',\n",
       "           'lastName': 'A',\n",
       "           'photo': {'prefix': 'https://fastly.4sqi.net/img/user/',\n",
       "            'suffix': '/7012699_vCXraeWA_FdHlUETPVuDaElNtnp76a2i4JWAyD1JVMMiqitsCujXhqKtV2MQYPdfAVMBI7BRi.jpg'}},\n",
       "          {'id': '61939758',\n",
       "           'firstName': 'Leena',\n",
       "           'lastName': 'R',\n",
       "           'photo': {'prefix': 'https://fastly.4sqi.net/img/user/',\n",
       "            'suffix': '/61939758_KOpR9NFm_rNQPhjDng4f_qr3PU69nNGFgLnjwS-dM97MnkvrD7h1U2tOojRCPpFLq_B9KVfbh.jpg'}}]}],\n",
       "       'summary': '2 likes'},\n",
       "      'logView': True,\n",
       "      'agreeCount': 2,\n",
       "      'disagreeCount': 0,\n",
       "      'todo': {'count': 0},\n",
       "      'user': {'id': '7012699',\n",
       "       'firstName': 'Hani',\n",
       "       'lastName': 'A',\n",
       "       'photo': {'prefix': 'https://fastly.4sqi.net/img/user/',\n",
       "        'suffix': '/7012699_vCXraeWA_FdHlUETPVuDaElNtnp76a2i4JWAyD1JVMMiqitsCujXhqKtV2MQYPdfAVMBI7BRi.jpg'}},\n",
       "      'authorInteractionType': 'liked'}]}]},\n",
       " 'shortUrl': 'http://4sq.com/JNblHV',\n",
       " 'timeZone': 'America/New_York',\n",
       " 'listed': {'count': 54,\n",
       "  'groups': [{'type': 'others',\n",
       "    'name': 'Lists from other people',\n",
       "    'count': 54,\n",
       "    'items': [{'id': '4fa32fd0e4b04193744746b1',\n",
       "      'name': 'Manhattan Haunts',\n",
       "      'description': '',\n",
       "      'type': 'others',\n",
       "      'user': {'id': '24592223',\n",
       "       'firstName': 'Becca',\n",
       "       'lastName': 'M',\n",
       "       'photo': {'prefix': 'https://fastly.4sqi.net/img/user/',\n",
       "        'suffix': '/24592223-RAW2UYM0GIB1U40K.jpg'}},\n",
       "      'editable': False,\n",
       "      'public': True,\n",
       "      'collaborative': False,\n",
       "      'url': '/becca_mcarthur/list/manhattan-haunts',\n",
       "      'canonicalUrl': 'https://foursquare.com/becca_mcarthur/list/manhattan-haunts',\n",
       "      'createdAt': 1336094672,\n",
       "      'updatedAt': 1380845377,\n",
       "      'photo': {'id': '4e8cc9461081e3b3544e12e5',\n",
       "       'createdAt': 1317849414,\n",
       "       'prefix': 'https://fastly.4sqi.net/img/general/',\n",
       "       'suffix': '/0NLVU2HC1JF4DXIMKWUFW3QBUT31DC11EFNYYHMJG3NDWAPS.jpg',\n",
       "       'width': 492,\n",
       "       'height': 330,\n",
       "       'user': {'id': '742542',\n",
       "        'firstName': 'Time Out New York',\n",
       "        'photo': {'prefix': 'https://fastly.4sqi.net/img/user/',\n",
       "         'suffix': '/XXHKCBSQHBORZNSR.jpg'},\n",
       "        'type': 'page'},\n",
       "       'visibility': 'public'},\n",
       "      'followers': {'count': 22},\n",
       "      'listItems': {'count': 187,\n",
       "       'items': [{'id': 'v4fa862b3e4b0ebff2f749f06',\n",
       "         'createdAt': 1342934485}]}},\n",
       "     {'id': '4fae817be4b085f6b2a74d19',\n",
       "      'name': 'USA NYC MAN FiDi',\n",
       "      'description': 'Where to go for decent eats in the restaurant wasteland of Downtown NYC aka FiDi, along with Tribeca & Battery Park City.',\n",
       "      'type': 'others',\n",
       "      'user': {'id': '12113441',\n",
       "       'firstName': 'Kino',\n",
       "       'photo': {'prefix': 'https://fastly.4sqi.net/img/user/',\n",
       "        'suffix': '/12113441-K5HTHFLU2MUCM0CM.jpg'}},\n",
       "      'editable': False,\n",
       "      'public': True,\n",
       "      'collaborative': False,\n",
       "      'url': '/kinosfault/list/usa-nyc-man-fidi',\n",
       "      'canonicalUrl': 'https://foursquare.com/kinosfault/list/usa-nyc-man-fidi',\n",
       "      'createdAt': 1336836475,\n",
       "      'updatedAt': 1556754919,\n",
       "      'photo': {'id': '55984992498e13ba75e353bb',\n",
       "       'createdAt': 1436043666,\n",
       "       'prefix': 'https://fastly.4sqi.net/img/general/',\n",
       "       'suffix': '/12113441_iOa6Uh-Xi8bhj2-gpzkkw8MKiAIs7RmOcz_RM7m8ink.jpg',\n",
       "       'width': 540,\n",
       "       'height': 960,\n",
       "       'user': {'id': '12113441',\n",
       "        'firstName': 'Kino',\n",
       "        'photo': {'prefix': 'https://fastly.4sqi.net/img/user/',\n",
       "         'suffix': '/12113441-K5HTHFLU2MUCM0CM.jpg'}},\n",
       "       'visibility': 'public'},\n",
       "      'followers': {'count': 20},\n",
       "      'listItems': {'count': 273,\n",
       "       'items': [{'id': 'v4fa862b3e4b0ebff2f749f06',\n",
       "         'createdAt': 1373909433}]}},\n",
       "     {'id': '4fddeff0e4b0e078037ac0d3',\n",
       "      'name': 'NYC Resturants',\n",
       "      'description': '',\n",
       "      'type': 'others',\n",
       "      'user': {'id': '21563126',\n",
       "       'firstName': 'Richard',\n",
       "       'lastName': 'R',\n",
       "       'photo': {'prefix': 'https://fastly.4sqi.net/img/user/',\n",
       "        'suffix': '/21563126_v05J1KPw_SVj6Ehq9g8B9jeAGjFUMsU5QGl-NZ8inUQ7pKQm5bKplW37EmR7jS2A7GYPBBAtl.jpg'}},\n",
       "      'editable': False,\n",
       "      'public': True,\n",
       "      'collaborative': True,\n",
       "      'url': '/rickr7/list/nyc-resturants',\n",
       "      'canonicalUrl': 'https://foursquare.com/rickr7/list/nyc-resturants',\n",
       "      'createdAt': 1339944944,\n",
       "      'updatedAt': 1582232663,\n",
       "      'photo': {'id': '5072dd13e4b09145cdf782d1',\n",
       "       'createdAt': 1349704979,\n",
       "       'prefix': 'https://fastly.4sqi.net/img/general/',\n",
       "       'suffix': '/208205_fGh2OuAZ9qJ4agbAA5wMVNOSIm9kNUlRtNwj1N-adqg.jpg',\n",
       "       'width': 800,\n",
       "       'height': 800,\n",
       "       'user': {'id': '208205',\n",
       "        'firstName': 'Thalia',\n",
       "        'lastName': 'K',\n",
       "        'photo': {'prefix': 'https://fastly.4sqi.net/img/user/',\n",
       "         'suffix': '/SNOOLCAW2AG04ZKD.jpg'}},\n",
       "       'visibility': 'public'},\n",
       "      'followers': {'count': 12},\n",
       "      'listItems': {'count': 194,\n",
       "       'items': [{'id': 'v4fa862b3e4b0ebff2f749f06',\n",
       "         'createdAt': 1581655865}]}},\n",
       "     {'id': '5266c68a498e7c667807fe09',\n",
       "      'name': 'Foodie Love in NY - 02',\n",
       "      'description': '',\n",
       "      'type': 'others',\n",
       "      'user': {'id': '547977',\n",
       "       'firstName': 'WiLL',\n",
       "       'photo': {'prefix': 'https://fastly.4sqi.net/img/user/',\n",
       "        'suffix': '/-Q5NYGDMFDMOITQRR.jpg'}},\n",
       "      'editable': False,\n",
       "      'public': True,\n",
       "      'collaborative': False,\n",
       "      'url': '/sweetiewill/list/foodie-love-in-ny--02',\n",
       "      'canonicalUrl': 'https://foursquare.com/sweetiewill/list/foodie-love-in-ny--02',\n",
       "      'createdAt': 1382467210,\n",
       "      'updatedAt': 1391995585,\n",
       "      'followers': {'count': 7},\n",
       "      'listItems': {'count': 200,\n",
       "       'items': [{'id': 'v4fa862b3e4b0ebff2f749f06',\n",
       "         'createdAt': 1386809936}]}}]}]},\n",
       " 'hours': {'status': 'Closed until 11:30 AM',\n",
       "  'richStatus': {'entities': [], 'text': 'Closed until 11:30 AM'},\n",
       "  'isOpen': False,\n",
       "  'isLocalHoliday': False,\n",
       "  'dayData': [],\n",
       "  'timeframes': [{'days': 'Mon–Wed, Sun',\n",
       "    'includesToday': True,\n",
       "    'open': [{'renderedTime': '11:30 AM–11:00 PM'}],\n",
       "    'segments': []},\n",
       "   {'days': 'Thu–Sat',\n",
       "    'open': [{'renderedTime': '11:30 AM–Midnight'}],\n",
       "    'segments': []}]},\n",
       " 'popular': {'isOpen': False,\n",
       "  'isLocalHoliday': False,\n",
       "  'timeframes': [{'days': 'Today',\n",
       "    'includesToday': True,\n",
       "    'open': [{'renderedTime': 'Noon–2:00 PM'},\n",
       "     {'renderedTime': '5:00 PM–10:00 PM'}],\n",
       "    'segments': []},\n",
       "   {'days': 'Wed–Thu',\n",
       "    'open': [{'renderedTime': 'Noon–2:00 PM'},\n",
       "     {'renderedTime': '5:00 PM–10:00 PM'}],\n",
       "    'segments': []},\n",
       "   {'days': 'Fri',\n",
       "    'open': [{'renderedTime': 'Noon–3:00 PM'},\n",
       "     {'renderedTime': '5:00 PM–11:00 PM'}],\n",
       "    'segments': []},\n",
       "   {'days': 'Sat',\n",
       "    'open': [{'renderedTime': 'Noon–11:00 PM'}],\n",
       "    'segments': []},\n",
       "   {'days': 'Sun',\n",
       "    'open': [{'renderedTime': 'Noon–3:00 PM'},\n",
       "     {'renderedTime': '5:00 PM–8:00 PM'}],\n",
       "    'segments': []},\n",
       "   {'days': 'Mon',\n",
       "    'open': [{'renderedTime': 'Noon–2:00 PM'},\n",
       "     {'renderedTime': '6:00 PM–8:00 PM'}],\n",
       "    'segments': []}]},\n",
       " 'seasonalHours': [],\n",
       " 'defaultHours': {'status': 'Closed until 11:30 AM',\n",
       "  'richStatus': {'entities': [], 'text': 'Closed until 11:30 AM'},\n",
       "  'isOpen': False,\n",
       "  'isLocalHoliday': False,\n",
       "  'dayData': [],\n",
       "  'timeframes': [{'days': 'Mon–Wed, Sun',\n",
       "    'includesToday': True,\n",
       "    'open': [{'renderedTime': '11:30 AM–11:00 PM'}],\n",
       "    'segments': []},\n",
       "   {'days': 'Thu–Sat',\n",
       "    'open': [{'renderedTime': '11:30 AM–Midnight'}],\n",
       "    'segments': []}]},\n",
       " 'pageUpdates': {'count': 0, 'items': []},\n",
       " 'inbox': {'count': 0, 'items': []},\n",
       " 'attributes': {'groups': [{'type': 'price',\n",
       "    'name': 'Price',\n",
       "    'summary': '$$',\n",
       "    'count': 1,\n",
       "    'items': [{'displayName': 'Price', 'displayValue': '$$', 'priceTier': 2}]},\n",
       "   {'type': 'payments',\n",
       "    'name': 'Credit Cards',\n",
       "    'summary': 'Credit Cards',\n",
       "    'count': 7,\n",
       "    'items': [{'displayName': 'Credit Cards',\n",
       "      'displayValue': 'Yes (incl. American Express)'}]},\n",
       "   {'type': 'outdoorSeating',\n",
       "    'name': 'Outdoor Seating',\n",
       "    'summary': 'Outdoor Seating',\n",
       "    'count': 1,\n",
       "    'items': [{'displayName': 'Outdoor Seating', 'displayValue': 'Yes'}]},\n",
       "   {'type': 'serves',\n",
       "    'name': 'Menus',\n",
       "    'summary': 'Happy Hour, Brunch & more',\n",
       "    'count': 8,\n",
       "    'items': [{'displayName': 'Brunch', 'displayValue': 'Brunch'},\n",
       "     {'displayName': 'Lunch', 'displayValue': 'Lunch'},\n",
       "     {'displayName': 'Dinner', 'displayValue': 'Dinner'},\n",
       "     {'displayName': 'Happy Hour', 'displayValue': 'Happy Hour'}]},\n",
       "   {'type': 'drinks',\n",
       "    'name': 'Drinks',\n",
       "    'summary': 'Beer, Wine & Cocktails',\n",
       "    'count': 5,\n",
       "    'items': [{'displayName': 'Beer', 'displayValue': 'Beer'},\n",
       "     {'displayName': 'Wine', 'displayValue': 'Wine'},\n",
       "     {'displayName': 'Cocktails', 'displayValue': 'Cocktails'}]},\n",
       "   {'type': 'diningOptions',\n",
       "    'name': 'Dining Options',\n",
       "    'summary': 'Delivery',\n",
       "    'count': 5,\n",
       "    'items': [{'displayName': 'Delivery', 'displayValue': 'Delivery'}]}]},\n",
       " 'bestPhoto': {'id': '4fad980de4b091b4626c3633',\n",
       "  'createdAt': 1336776717,\n",
       "  'source': {'name': 'Foursquare for Android',\n",
       "   'url': 'https://foursquare.com/download/#/android'},\n",
       "  'prefix': 'https://fastly.4sqi.net/img/general/',\n",
       "  'suffix': '/ya1iQFI7pLjuIJp1PGDKlrZS3OJdHCF7tpILMmjv_2w.jpg',\n",
       "  'width': 480,\n",
       "  'height': 640,\n",
       "  'visibility': 'public'},\n",
       " 'colors': {'highlightColor': {'photoId': '4fad980de4b091b4626c3633',\n",
       "   'value': -13619152},\n",
       "  'highlightTextColor': {'photoId': '4fad980de4b091b4626c3633', 'value': -1},\n",
       "  'algoVersion': 3}}"
      ]
     },
     "execution_count": 112,
     "metadata": {},
     "output_type": "execute_result"
    }
   ],
   "source": [
    "result = requests.get(url).json()\n",
    "print(result['response']['venue'].keys())\n",
    "result['response']['venue']"
   ]
  },
  {
   "cell_type": "markdown",
   "metadata": {
    "button": false,
    "deletable": true,
    "new_sheet": false,
    "run_control": {
     "read_only": false
    }
   },
   "source": [
    "### B. Get the venue's overall rating"
   ]
  },
  {
   "cell_type": "code",
   "execution_count": 113,
   "metadata": {
    "button": false,
    "collapsed": false,
    "deletable": true,
    "jupyter": {
     "outputs_hidden": false
    },
    "new_sheet": false,
    "run_control": {
     "read_only": false
    }
   },
   "outputs": [
    {
     "name": "stdout",
     "output_type": "stream",
     "text": [
      "7.0\n"
     ]
    }
   ],
   "source": [
    "try:\n",
    "    print(result['response']['venue']['rating'])\n",
    "except:\n",
    "    print('This venue has not been rated yet.')"
   ]
  },
  {
   "cell_type": "markdown",
   "metadata": {
    "button": false,
    "deletable": true,
    "new_sheet": false,
    "run_control": {
     "read_only": false
    }
   },
   "source": [
    "That is not a very good rating. Let's check the rating of the second closest Italian restaurant."
   ]
  },
  {
   "cell_type": "code",
   "execution_count": 114,
   "metadata": {
    "button": false,
    "collapsed": false,
    "deletable": true,
    "jupyter": {
     "outputs_hidden": false
    },
    "new_sheet": false,
    "run_control": {
     "read_only": false
    }
   },
   "outputs": [
    {
     "name": "stdout",
     "output_type": "stream",
     "text": [
      "This venue has not been rated yet.\n"
     ]
    }
   ],
   "source": [
    "venue_id = '4f3232e219836c91c7bfde94' # ID of Conca Cucina Italian Restaurant\n",
    "url = 'https://api.foursquare.com/v2/venues/{}?client_id={}&client_secret={}&v={}'.format(venue_id, CLIENT_ID, CLIENT_SECRET, VERSION)\n",
    "\n",
    "result = requests.get(url).json()\n",
    "try:\n",
    "    print(result['response']['venue']['rating'])\n",
    "except:\n",
    "    print('This venue has not been rated yet.')"
   ]
  },
  {
   "cell_type": "markdown",
   "metadata": {
    "button": false,
    "deletable": true,
    "new_sheet": false,
    "run_control": {
     "read_only": false
    }
   },
   "source": [
    "Since this restaurant has no ratings, let's check the third restaurant."
   ]
  },
  {
   "cell_type": "code",
   "execution_count": 115,
   "metadata": {
    "button": false,
    "collapsed": false,
    "deletable": true,
    "jupyter": {
     "outputs_hidden": false
    },
    "new_sheet": false,
    "run_control": {
     "read_only": false
    }
   },
   "outputs": [
    {
     "name": "stdout",
     "output_type": "stream",
     "text": [
      "7.4\n"
     ]
    }
   ],
   "source": [
    "venue_id = '3fd66200f964a520f4e41ee3' # ID of Ecco\n",
    "url = 'https://api.foursquare.com/v2/venues/{}?client_id={}&client_secret={}&v={}'.format(venue_id, CLIENT_ID, CLIENT_SECRET, VERSION)\n",
    "\n",
    "result = requests.get(url).json()\n",
    "try:\n",
    "    print(result['response']['venue']['rating'])\n",
    "except:\n",
    "    print('This venue has not been rated yet.')"
   ]
  },
  {
   "cell_type": "markdown",
   "metadata": {
    "button": false,
    "deletable": true,
    "new_sheet": false,
    "run_control": {
     "read_only": false
    }
   },
   "source": [
    "Since this restaurant has a slightly better rating, let's explore it further."
   ]
  },
  {
   "cell_type": "markdown",
   "metadata": {
    "button": false,
    "deletable": true,
    "new_sheet": false,
    "run_control": {
     "read_only": false
    }
   },
   "source": [
    "### C. Get the number of tips"
   ]
  },
  {
   "cell_type": "code",
   "execution_count": 116,
   "metadata": {
    "button": false,
    "collapsed": false,
    "deletable": true,
    "jupyter": {
     "outputs_hidden": false
    },
    "new_sheet": false,
    "run_control": {
     "read_only": false
    }
   },
   "outputs": [
    {
     "data": {
      "text/plain": [
       "19"
      ]
     },
     "execution_count": 116,
     "metadata": {},
     "output_type": "execute_result"
    }
   ],
   "source": [
    "result['response']['venue']['tips']['count']"
   ]
  },
  {
   "cell_type": "markdown",
   "metadata": {
    "button": false,
    "deletable": true,
    "new_sheet": false,
    "run_control": {
     "read_only": false
    }
   },
   "source": [
    "### D. Get the venue's tips\n",
    "> `https://api.foursquare.com/v2/venues/`**VENUE_ID**`/tips?client_id=`**CLIENT_ID**`&client_secret=`**CLIENT_SECRET**`&v=`**VERSION**`&limit=`**LIMIT**"
   ]
  },
  {
   "cell_type": "markdown",
   "metadata": {
    "button": false,
    "deletable": true,
    "new_sheet": false,
    "run_control": {
     "read_only": false
    }
   },
   "source": [
    "#### Create URL and send GET request. Make sure to set limit to get all tips"
   ]
  },
  {
   "cell_type": "code",
   "execution_count": 117,
   "metadata": {
    "button": false,
    "collapsed": false,
    "deletable": true,
    "jupyter": {
     "outputs_hidden": false
    },
    "new_sheet": false,
    "run_control": {
     "read_only": false
    }
   },
   "outputs": [
    {
     "data": {
      "text/plain": [
       "{'meta': {'code': 200, 'requestId': '5e9ef951df2774001bcd0a14'},\n",
       " 'response': {'tips': {'count': 19,\n",
       "   'items': [{'id': '5ab1cb46c9a517174651d3fe',\n",
       "     'createdAt': 1521601350,\n",
       "     'text': 'A+ Italian food! Trust me on this: my mom’s side of the family is 100% Italian. I was born and bred to know good pasta when I see it, and Ecco is one of my all-time NYC favorites',\n",
       "     'type': 'user',\n",
       "     'canonicalUrl': 'https://foursquare.com/item/5ab1cb46c9a517174651d3fe',\n",
       "     'lang': 'en',\n",
       "     'likes': {'count': 0, 'groups': []},\n",
       "     'logView': True,\n",
       "     'agreeCount': 4,\n",
       "     'disagreeCount': 0,\n",
       "     'todo': {'count': 0},\n",
       "     'user': {'id': '484542633',\n",
       "      'firstName': 'Nick',\n",
       "      'lastName': 'E',\n",
       "      'photo': {'prefix': 'https://fastly.4sqi.net/img/user/',\n",
       "       'suffix': '/484542633_unymNUmw_FdPs3GjXHujmHcYnN4hf8kEPADlOZuIrdcdm97VX3tFqL7fFNMNA_8Gl9NlU1GYg.jpg'}},\n",
       "     'authorInteractionType': 'liked'},\n",
       "    {'id': '5cb7051b180b910039f90625',\n",
       "     'createdAt': 1555498267,\n",
       "     'text': 'Excellent food!! Osso bucco special one of the best I ever had! Lobster ravioli with porcini mushroomhomemade Italian cheesecake, tiramisu and napoleons...calamari fra diavolo was sautéed not fried',\n",
       "     'type': 'user',\n",
       "     'canonicalUrl': 'https://foursquare.com/item/5cb7051b180b910039f90625',\n",
       "     'lang': 'en',\n",
       "     'likes': {'count': 0, 'groups': []},\n",
       "     'logView': True,\n",
       "     'agreeCount': 1,\n",
       "     'disagreeCount': 0,\n",
       "     'todo': {'count': 0},\n",
       "     'user': {'id': '446298346',\n",
       "      'firstName': 'Lynn',\n",
       "      'lastName': 'B',\n",
       "      'photo': {'prefix': 'https://fastly.4sqi.net/img/user/',\n",
       "       'suffix': '/446298346_fdtqugvP_1WztOWXXDQX92HwIrjzLb6nMQsYiCVlkiTp58UGSFVBwQ0-5G5AdqxlEWphYWTnK.jpg'}},\n",
       "     'authorInteractionType': 'liked'}]}}}"
      ]
     },
     "execution_count": 117,
     "metadata": {},
     "output_type": "execute_result"
    }
   ],
   "source": [
    "## Ecco Tips\n",
    "limit = 19 # set limit to be greater than or equal to the total number of tips\n",
    "url = 'https://api.foursquare.com/v2/venues/{}/tips?client_id={}&client_secret={}&v={}&limit={}'.format(venue_id, CLIENT_ID, CLIENT_SECRET, VERSION, limit)\n",
    "\n",
    "results = requests.get(url).json()\n",
    "results"
   ]
  },
  {
   "cell_type": "markdown",
   "metadata": {
    "button": false,
    "deletable": true,
    "new_sheet": false,
    "run_control": {
     "read_only": false
    }
   },
   "source": [
    "#### Get tips and list of associated features"
   ]
  },
  {
   "cell_type": "code",
   "execution_count": 118,
   "metadata": {
    "button": false,
    "collapsed": false,
    "deletable": true,
    "jupyter": {
     "outputs_hidden": false
    },
    "new_sheet": false,
    "run_control": {
     "read_only": false
    }
   },
   "outputs": [
    {
     "data": {
      "text/plain": [
       "dict_keys(['id', 'createdAt', 'text', 'type', 'canonicalUrl', 'lang', 'likes', 'logView', 'agreeCount', 'disagreeCount', 'todo', 'user', 'authorInteractionType'])"
      ]
     },
     "execution_count": 118,
     "metadata": {},
     "output_type": "execute_result"
    }
   ],
   "source": [
    "tips = results['response']['tips']['items']\n",
    "\n",
    "tip = results['response']['tips']['items'][0]\n",
    "tip.keys()"
   ]
  },
  {
   "cell_type": "markdown",
   "metadata": {
    "button": false,
    "deletable": true,
    "new_sheet": false,
    "run_control": {
     "read_only": false
    }
   },
   "source": [
    "#### Format column width and display all tips"
   ]
  },
  {
   "cell_type": "code",
   "execution_count": 119,
   "metadata": {
    "button": false,
    "collapsed": false,
    "deletable": true,
    "jupyter": {
     "outputs_hidden": false
    },
    "new_sheet": false,
    "run_control": {
     "read_only": false
    }
   },
   "outputs": [
    {
     "name": "stderr",
     "output_type": "stream",
     "text": [
      "/Users/abhinavpaul/opt/anaconda3/lib/python3.7/site-packages/ipykernel_launcher.py:1: FutureWarning: Passing a negative integer is deprecated in version 1.0 and will not be supported in future version. Instead, use None to not limit the column width.\n",
      "  \"\"\"Entry point for launching an IPython kernel.\n"
     ]
    },
    {
     "data": {
      "text/html": [
       "<div>\n",
       "<style scoped>\n",
       "    .dataframe tbody tr th:only-of-type {\n",
       "        vertical-align: middle;\n",
       "    }\n",
       "\n",
       "    .dataframe tbody tr th {\n",
       "        vertical-align: top;\n",
       "    }\n",
       "\n",
       "    .dataframe thead th {\n",
       "        text-align: right;\n",
       "    }\n",
       "</style>\n",
       "<table border=\"1\" class=\"dataframe\">\n",
       "  <thead>\n",
       "    <tr style=\"text-align: right;\">\n",
       "      <th></th>\n",
       "      <th>text</th>\n",
       "      <th>agreeCount</th>\n",
       "      <th>disagreeCount</th>\n",
       "      <th>id</th>\n",
       "      <th>user.firstName</th>\n",
       "      <th>user.lastName</th>\n",
       "      <th>user.id</th>\n",
       "    </tr>\n",
       "  </thead>\n",
       "  <tbody>\n",
       "    <tr>\n",
       "      <th>0</th>\n",
       "      <td>A+ Italian food! Trust me on this: my mom’s side of the family is 100% Italian. I was born and bred to know good pasta when I see it, and Ecco is one of my all-time NYC favorites</td>\n",
       "      <td>4</td>\n",
       "      <td>0</td>\n",
       "      <td>5ab1cb46c9a517174651d3fe</td>\n",
       "      <td>Nick</td>\n",
       "      <td>E</td>\n",
       "      <td>484542633</td>\n",
       "    </tr>\n",
       "    <tr>\n",
       "      <th>1</th>\n",
       "      <td>Excellent food!! Osso bucco special one of the best I ever had! Lobster ravioli with porcini mushroomhomemade Italian cheesecake, tiramisu and napoleons...calamari fra diavolo was sautéed not fried</td>\n",
       "      <td>1</td>\n",
       "      <td>0</td>\n",
       "      <td>5cb7051b180b910039f90625</td>\n",
       "      <td>Lynn</td>\n",
       "      <td>B</td>\n",
       "      <td>446298346</td>\n",
       "    </tr>\n",
       "  </tbody>\n",
       "</table>\n",
       "</div>"
      ],
      "text/plain": [
       "                                                                                                                                                                                                    text  \\\n",
       "0  A+ Italian food! Trust me on this: my mom’s side of the family is 100% Italian. I was born and bred to know good pasta when I see it, and Ecco is one of my all-time NYC favorites                      \n",
       "1  Excellent food!! Osso bucco special one of the best I ever had! Lobster ravioli with porcini mushroomhomemade Italian cheesecake, tiramisu and napoleons...calamari fra diavolo was sautéed not fried   \n",
       "\n",
       "   agreeCount  disagreeCount                        id user.firstName  \\\n",
       "0  4           0              5ab1cb46c9a517174651d3fe  Nick            \n",
       "1  1           0              5cb7051b180b910039f90625  Lynn            \n",
       "\n",
       "  user.lastName    user.id  \n",
       "0  E             484542633  \n",
       "1  B             446298346  "
      ]
     },
     "execution_count": 119,
     "metadata": {},
     "output_type": "execute_result"
    }
   ],
   "source": [
    "pd.set_option('display.max_colwidth', -1)\n",
    "\n",
    "tips_df = json_normalize(tips) # json normalize tips\n",
    "\n",
    "# columns to keep\n",
    "filtered_columns = ['text', 'agreeCount', 'disagreeCount', 'id', 'user.firstName', 'user.lastName', 'user.id']\n",
    "tips_filtered = tips_df.loc[:, filtered_columns]\n",
    "\n",
    "# display tips\n",
    "tips_filtered"
   ]
  },
  {
   "cell_type": "markdown",
   "metadata": {
    "button": false,
    "deletable": true,
    "new_sheet": false,
    "run_control": {
     "read_only": false
    }
   },
   "source": [
    "Now remember that because we are using a personal developer account, then we can access only 2 of the restaurant's tips, instead of all 15 tips."
   ]
  },
  {
   "cell_type": "markdown",
   "metadata": {
    "button": false,
    "deletable": true,
    "new_sheet": false,
    "run_control": {
     "read_only": false
    }
   },
   "source": [
    "   "
   ]
  },
  {
   "cell_type": "markdown",
   "metadata": {
    "button": false,
    "deletable": true,
    "new_sheet": false,
    "run_control": {
     "read_only": false
    }
   },
   "source": [
    "<a id=\"item3\"></a>"
   ]
  },
  {
   "cell_type": "markdown",
   "metadata": {
    "button": false,
    "deletable": true,
    "new_sheet": false,
    "run_control": {
     "read_only": false
    }
   },
   "source": [
    "## 3. Search a Foursquare User\n",
    "> `https://api.foursquare.com/v2/users/`**USER_ID**`?client_id=`**CLIENT_ID**`&client_secret=`**CLIENT_SECRET**`&v=`**VERSION**"
   ]
  },
  {
   "cell_type": "markdown",
   "metadata": {
    "button": false,
    "deletable": true,
    "new_sheet": false,
    "run_control": {
     "read_only": false
    }
   },
   "source": [
    "### Define URL, send GET request and display features associated with user"
   ]
  },
  {
   "cell_type": "code",
   "execution_count": 130,
   "metadata": {
    "button": false,
    "collapsed": false,
    "deletable": true,
    "jupyter": {
     "outputs_hidden": false
    },
    "new_sheet": false,
    "run_control": {
     "read_only": false
    }
   },
   "outputs": [
    {
     "ename": "KeyError",
     "evalue": "'user'",
     "output_type": "error",
     "traceback": [
      "\u001b[0;31m---------------------------------------------------------------------------\u001b[0m",
      "\u001b[0;31mKeyError\u001b[0m                                  Traceback (most recent call last)",
      "\u001b[0;32m<ipython-input-130-7593a3f9ce73>\u001b[0m in \u001b[0;36m<module>\u001b[0;34m\u001b[0m\n\u001b[1;32m      5\u001b[0m \u001b[0;31m# send GET request\u001b[0m\u001b[0;34m\u001b[0m\u001b[0;34m\u001b[0m\u001b[0;34m\u001b[0m\u001b[0m\n\u001b[1;32m      6\u001b[0m \u001b[0mresults\u001b[0m \u001b[0;34m=\u001b[0m \u001b[0mrequests\u001b[0m\u001b[0;34m.\u001b[0m\u001b[0mget\u001b[0m\u001b[0;34m(\u001b[0m\u001b[0murl\u001b[0m\u001b[0;34m)\u001b[0m\u001b[0;34m.\u001b[0m\u001b[0mjson\u001b[0m\u001b[0;34m(\u001b[0m\u001b[0;34m)\u001b[0m\u001b[0;34m\u001b[0m\u001b[0;34m\u001b[0m\u001b[0m\n\u001b[0;32m----> 7\u001b[0;31m \u001b[0muser_data\u001b[0m \u001b[0;34m=\u001b[0m \u001b[0mresults\u001b[0m\u001b[0;34m[\u001b[0m\u001b[0;34m'response'\u001b[0m\u001b[0;34m]\u001b[0m\u001b[0;34m[\u001b[0m\u001b[0;34m'user'\u001b[0m\u001b[0;34m]\u001b[0m\u001b[0;34m\u001b[0m\u001b[0;34m\u001b[0m\u001b[0m\n\u001b[0m\u001b[1;32m      8\u001b[0m \u001b[0;34m\u001b[0m\u001b[0m\n\u001b[1;32m      9\u001b[0m \u001b[0;31m# display features associated with user\u001b[0m\u001b[0;34m\u001b[0m\u001b[0;34m\u001b[0m\u001b[0;34m\u001b[0m\u001b[0m\n",
      "\u001b[0;31mKeyError\u001b[0m: 'user'"
     ]
    }
   ],
   "source": [
    "user_id = '484542633' # user ID with most agree counts and complete profile\n",
    "\n",
    "url = 'https://api.foursquare.com/v2/users/{}?client_id={}&client_secret={}&v={}&limit={}'.format(user_id, CLIENT_ID, CLIENT_SECRET, VERSION, limit) # define URL\n",
    "\n",
    "# send GET request\n",
    "results = requests.get(url).json()\n",
    "user_data = results['response']['user']\n",
    "\n",
    "# display features associated with user\n",
    "user_data.keys()"
   ]
  },
  {
   "cell_type": "code",
   "execution_count": 131,
   "metadata": {
    "button": false,
    "collapsed": false,
    "deletable": true,
    "jupyter": {
     "outputs_hidden": false
    },
    "new_sheet": false,
    "run_control": {
     "read_only": false
    }
   },
   "outputs": [
    {
     "ename": "KeyError",
     "evalue": "'firstName'",
     "output_type": "error",
     "traceback": [
      "\u001b[0;31m---------------------------------------------------------------------------\u001b[0m",
      "\u001b[0;31mKeyError\u001b[0m                                  Traceback (most recent call last)",
      "\u001b[0;32m<ipython-input-131-6c3d173b902c>\u001b[0m in \u001b[0;36m<module>\u001b[0;34m\u001b[0m\n\u001b[0;32m----> 1\u001b[0;31m \u001b[0mprint\u001b[0m\u001b[0;34m(\u001b[0m\u001b[0;34m'First Name: '\u001b[0m \u001b[0;34m+\u001b[0m \u001b[0muser_data\u001b[0m\u001b[0;34m[\u001b[0m\u001b[0;34m'firstName'\u001b[0m\u001b[0;34m]\u001b[0m\u001b[0;34m)\u001b[0m\u001b[0;34m\u001b[0m\u001b[0;34m\u001b[0m\u001b[0m\n\u001b[0m\u001b[1;32m      2\u001b[0m \u001b[0mprint\u001b[0m\u001b[0;34m(\u001b[0m\u001b[0;34m'Last Name: '\u001b[0m \u001b[0;34m+\u001b[0m \u001b[0muser_data\u001b[0m\u001b[0;34m[\u001b[0m\u001b[0;34m'lastName'\u001b[0m\u001b[0;34m]\u001b[0m\u001b[0;34m)\u001b[0m\u001b[0;34m\u001b[0m\u001b[0;34m\u001b[0m\u001b[0m\n\u001b[1;32m      3\u001b[0m \u001b[0mprint\u001b[0m\u001b[0;34m(\u001b[0m\u001b[0;34m'Home City: '\u001b[0m \u001b[0;34m+\u001b[0m \u001b[0muser_data\u001b[0m\u001b[0;34m[\u001b[0m\u001b[0;34m'homeCity'\u001b[0m\u001b[0;34m]\u001b[0m\u001b[0;34m)\u001b[0m\u001b[0;34m\u001b[0m\u001b[0;34m\u001b[0m\u001b[0m\n",
      "\u001b[0;31mKeyError\u001b[0m: 'firstName'"
     ]
    }
   ],
   "source": [
    "print('First Name: ' + user_data['firstName'])\n",
    "print('Last Name: ' + user_data['lastName'])\n",
    "print('Home City: ' + user_data['homeCity'])"
   ]
  },
  {
   "cell_type": "markdown",
   "metadata": {
    "button": false,
    "deletable": true,
    "new_sheet": false,
    "run_control": {
     "read_only": false
    }
   },
   "source": [
    "#### How many tips has this user submitted?"
   ]
  },
  {
   "cell_type": "code",
   "execution_count": 132,
   "metadata": {
    "button": false,
    "collapsed": false,
    "deletable": true,
    "jupyter": {
     "outputs_hidden": false
    },
    "new_sheet": false,
    "run_control": {
     "read_only": false
    }
   },
   "outputs": [
    {
     "ename": "KeyError",
     "evalue": "'tips'",
     "output_type": "error",
     "traceback": [
      "\u001b[0;31m---------------------------------------------------------------------------\u001b[0m",
      "\u001b[0;31mKeyError\u001b[0m                                  Traceback (most recent call last)",
      "\u001b[0;32m<ipython-input-132-6335e7dc938e>\u001b[0m in \u001b[0;36m<module>\u001b[0;34m\u001b[0m\n\u001b[0;32m----> 1\u001b[0;31m \u001b[0muser_data\u001b[0m\u001b[0;34m[\u001b[0m\u001b[0;34m'tips'\u001b[0m\u001b[0;34m]\u001b[0m\u001b[0;34m\u001b[0m\u001b[0;34m\u001b[0m\u001b[0m\n\u001b[0m",
      "\u001b[0;31mKeyError\u001b[0m: 'tips'"
     ]
    }
   ],
   "source": [
    "user_data['tips']"
   ]
  },
  {
   "cell_type": "markdown",
   "metadata": {
    "button": false,
    "deletable": true,
    "new_sheet": false,
    "run_control": {
     "read_only": false
    }
   },
   "source": [
    "Wow! So it turns out that Nick is a very active Foursquare user, with more than 250 tips."
   ]
  },
  {
   "cell_type": "markdown",
   "metadata": {
    "button": false,
    "deletable": true,
    "new_sheet": false,
    "run_control": {
     "read_only": false
    }
   },
   "source": [
    "### Get User's tips"
   ]
  },
  {
   "cell_type": "code",
   "execution_count": 125,
   "metadata": {
    "button": false,
    "collapsed": false,
    "deletable": true,
    "jupyter": {
     "outputs_hidden": false
    },
    "new_sheet": false,
    "run_control": {
     "read_only": false
    }
   },
   "outputs": [
    {
     "name": "stderr",
     "output_type": "stream",
     "text": [
      "/Users/abhinavpaul/opt/anaconda3/lib/python3.7/site-packages/ipykernel_launcher.py:9: FutureWarning: Passing a negative integer is deprecated in version 1.0 and will not be supported in future version. Instead, use None to not limit the column width.\n",
      "  if __name__ == '__main__':\n"
     ]
    },
    {
     "data": {
      "text/html": [
       "<div>\n",
       "<style scoped>\n",
       "    .dataframe tbody tr th:only-of-type {\n",
       "        vertical-align: middle;\n",
       "    }\n",
       "\n",
       "    .dataframe tbody tr th {\n",
       "        vertical-align: top;\n",
       "    }\n",
       "\n",
       "    .dataframe thead th {\n",
       "        text-align: right;\n",
       "    }\n",
       "</style>\n",
       "<table border=\"1\" class=\"dataframe\">\n",
       "  <thead>\n",
       "    <tr style=\"text-align: right;\">\n",
       "      <th></th>\n",
       "      <th>text</th>\n",
       "      <th>agreeCount</th>\n",
       "      <th>disagreeCount</th>\n",
       "      <th>id</th>\n",
       "    </tr>\n",
       "  </thead>\n",
       "  <tbody>\n",
       "    <tr>\n",
       "      <th>0</th>\n",
       "      <td>They serve coffee!!!!!!</td>\n",
       "      <td>1</td>\n",
       "      <td>0</td>\n",
       "      <td>5accc98c0313204c9d7ec157</td>\n",
       "    </tr>\n",
       "    <tr>\n",
       "      <th>1</th>\n",
       "      <td>The linguine with clams is on point 👌</td>\n",
       "      <td>1</td>\n",
       "      <td>0</td>\n",
       "      <td>5accbe3a911fc423730f3ed3</td>\n",
       "    </tr>\n",
       "    <tr>\n",
       "      <th>2</th>\n",
       "      <td>Quick, cheap lunch that tastes good! Way shorter line than Chipotle, too.</td>\n",
       "      <td>2</td>\n",
       "      <td>0</td>\n",
       "      <td>5acbec70a0215b732e264fe8</td>\n",
       "    </tr>\n",
       "    <tr>\n",
       "      <th>3</th>\n",
       "      <td>You’re not a real New Yorker until you’ve shame-ordered Insomnia Cookies for delivery at 3am</td>\n",
       "      <td>1</td>\n",
       "      <td>0</td>\n",
       "      <td>5acbbd4eb1538e45373b07f5</td>\n",
       "    </tr>\n",
       "    <tr>\n",
       "      <th>4</th>\n",
       "      <td>Good for you yet still tasty! Clean green protein is my go-to after I hit the gym 💪</td>\n",
       "      <td>2</td>\n",
       "      <td>0</td>\n",
       "      <td>5acbbcda01235808d5d6dc75</td>\n",
       "    </tr>\n",
       "    <tr>\n",
       "      <th>5</th>\n",
       "      <td>Burger game strong 💪</td>\n",
       "      <td>1</td>\n",
       "      <td>0</td>\n",
       "      <td>5ab575fb6bdee65f759da8c1</td>\n",
       "    </tr>\n",
       "    <tr>\n",
       "      <th>6</th>\n",
       "      <td>Great burgers &amp; fries! Also, this place is exactly what it’s like when you go to a bar in the Southwest. Source: I’m from Arizona.</td>\n",
       "      <td>2</td>\n",
       "      <td>0</td>\n",
       "      <td>5ab5575d73fe2516ad8f363b</td>\n",
       "    </tr>\n",
       "    <tr>\n",
       "      <th>7</th>\n",
       "      <td>Açaí bowl + peanut butter + whey protein = 💪💪💪</td>\n",
       "      <td>1</td>\n",
       "      <td>0</td>\n",
       "      <td>5ab42db53c858d64af2688a4</td>\n",
       "    </tr>\n",
       "    <tr>\n",
       "      <th>8</th>\n",
       "      <td>Highly underrated and way less crowded than Central Park!</td>\n",
       "      <td>3</td>\n",
       "      <td>0</td>\n",
       "      <td>5ab42c396f706a29f53ad1a8</td>\n",
       "    </tr>\n",
       "    <tr>\n",
       "      <th>9</th>\n",
       "      <td>Way easier to navigate than the Met proper, plus the Met Breuer focuses on modern art. If I only have a limited amount of time to spend in a museum, I would rather go here than anywhere else!</td>\n",
       "      <td>6</td>\n",
       "      <td>0</td>\n",
       "      <td>5ab42b987dc9e17930e5ff5b</td>\n",
       "    </tr>\n",
       "    <tr>\n",
       "      <th>10</th>\n",
       "      <td>Get the açaí bowl with peanut butter after your work out and thank me later 👌</td>\n",
       "      <td>1</td>\n",
       "      <td>0</td>\n",
       "      <td>5ab42aca2a7ab6333652b266</td>\n",
       "    </tr>\n",
       "    <tr>\n",
       "      <th>11</th>\n",
       "      <td>When you want a burger, this should be the first thing that comes to mind. A+!</td>\n",
       "      <td>1</td>\n",
       "      <td>0</td>\n",
       "      <td>5ab42a28da5e5617d18e3a6a</td>\n",
       "    </tr>\n",
       "    <tr>\n",
       "      <th>12</th>\n",
       "      <td>Way less crowded than Central Park! People who live in the neighborhood rave about Carl Schurz Park.</td>\n",
       "      <td>3</td>\n",
       "      <td>0</td>\n",
       "      <td>5ab429db1ffe971b060083f5</td>\n",
       "    </tr>\n",
       "    <tr>\n",
       "      <th>13</th>\n",
       "      <td>The best Mexican food in the Murray Hill / Kips Bay area!</td>\n",
       "      <td>1</td>\n",
       "      <td>0</td>\n",
       "      <td>5ab3f53f8496ca57542d5549</td>\n",
       "    </tr>\n",
       "    <tr>\n",
       "      <th>14</th>\n",
       "      <td>Best coffee shop in the neighborhood!</td>\n",
       "      <td>1</td>\n",
       "      <td>0</td>\n",
       "      <td>5ab3f428da5e5617d17d1475</td>\n",
       "    </tr>\n",
       "    <tr>\n",
       "      <th>15</th>\n",
       "      <td>When there’s nice weather, the rooftop at Tonic East is the best place to watch the game. Perfect for March Madness &amp; NBA finals!</td>\n",
       "      <td>2</td>\n",
       "      <td>0</td>\n",
       "      <td>5ab3f3fedd70c572de886c9d</td>\n",
       "    </tr>\n",
       "    <tr>\n",
       "      <th>16</th>\n",
       "      <td>Rib game level 💯</td>\n",
       "      <td>1</td>\n",
       "      <td>0</td>\n",
       "      <td>5ab3f372da2e00604ca53924</td>\n",
       "    </tr>\n",
       "    <tr>\n",
       "      <th>17</th>\n",
       "      <td>Solid option for good Mexican food, which is hard to find in Murray Hill.</td>\n",
       "      <td>4</td>\n",
       "      <td>0</td>\n",
       "      <td>5ab3f275dff815096a61884e</td>\n",
       "    </tr>\n",
       "    <tr>\n",
       "      <th>18</th>\n",
       "      <td>My parents love this place. They always go here when they visit NYC, even though I tell them there are 5,689,097,788 other pizza places. They don’t dare. That has to count for something, right?</td>\n",
       "      <td>2</td>\n",
       "      <td>0</td>\n",
       "      <td>5ab3ef834c954c7a779e20ff</td>\n",
       "    </tr>\n",
       "  </tbody>\n",
       "</table>\n",
       "</div>"
      ],
      "text/plain": [
       "                                                                                                                                                                                                 text  \\\n",
       "0   They serve coffee!!!!!!                                                                                                                                                                             \n",
       "1   The linguine with clams is on point 👌                                                                                                                                                               \n",
       "2   Quick, cheap lunch that tastes good! Way shorter line than Chipotle, too.                                                                                                                           \n",
       "3   You’re not a real New Yorker until you’ve shame-ordered Insomnia Cookies for delivery at 3am                                                                                                        \n",
       "4   Good for you yet still tasty! Clean green protein is my go-to after I hit the gym 💪                                                                                                                 \n",
       "5   Burger game strong 💪                                                                                                                                                                                \n",
       "6   Great burgers & fries! Also, this place is exactly what it’s like when you go to a bar in the Southwest. Source: I’m from Arizona.                                                                  \n",
       "7   Açaí bowl + peanut butter + whey protein = 💪💪💪                                                                                                                                                      \n",
       "8   Highly underrated and way less crowded than Central Park!                                                                                                                                           \n",
       "9   Way easier to navigate than the Met proper, plus the Met Breuer focuses on modern art. If I only have a limited amount of time to spend in a museum, I would rather go here than anywhere else!     \n",
       "10  Get the açaí bowl with peanut butter after your work out and thank me later 👌                                                                                                                       \n",
       "11  When you want a burger, this should be the first thing that comes to mind. A+!                                                                                                                      \n",
       "12  Way less crowded than Central Park! People who live in the neighborhood rave about Carl Schurz Park.                                                                                                \n",
       "13  The best Mexican food in the Murray Hill / Kips Bay area!                                                                                                                                           \n",
       "14  Best coffee shop in the neighborhood!                                                                                                                                                               \n",
       "15  When there’s nice weather, the rooftop at Tonic East is the best place to watch the game. Perfect for March Madness & NBA finals!                                                                   \n",
       "16  Rib game level 💯                                                                                                                                                                                    \n",
       "17  Solid option for good Mexican food, which is hard to find in Murray Hill.                                                                                                                           \n",
       "18  My parents love this place. They always go here when they visit NYC, even though I tell them there are 5,689,097,788 other pizza places. They don’t dare. That has to count for something, right?   \n",
       "\n",
       "    agreeCount  disagreeCount                        id  \n",
       "0   1           0              5accc98c0313204c9d7ec157  \n",
       "1   1           0              5accbe3a911fc423730f3ed3  \n",
       "2   2           0              5acbec70a0215b732e264fe8  \n",
       "3   1           0              5acbbd4eb1538e45373b07f5  \n",
       "4   2           0              5acbbcda01235808d5d6dc75  \n",
       "5   1           0              5ab575fb6bdee65f759da8c1  \n",
       "6   2           0              5ab5575d73fe2516ad8f363b  \n",
       "7   1           0              5ab42db53c858d64af2688a4  \n",
       "8   3           0              5ab42c396f706a29f53ad1a8  \n",
       "9   6           0              5ab42b987dc9e17930e5ff5b  \n",
       "10  1           0              5ab42aca2a7ab6333652b266  \n",
       "11  1           0              5ab42a28da5e5617d18e3a6a  \n",
       "12  3           0              5ab429db1ffe971b060083f5  \n",
       "13  1           0              5ab3f53f8496ca57542d5549  \n",
       "14  1           0              5ab3f428da5e5617d17d1475  \n",
       "15  2           0              5ab3f3fedd70c572de886c9d  \n",
       "16  1           0              5ab3f372da2e00604ca53924  \n",
       "17  4           0              5ab3f275dff815096a61884e  \n",
       "18  2           0              5ab3ef834c954c7a779e20ff  "
      ]
     },
     "execution_count": 125,
     "metadata": {},
     "output_type": "execute_result"
    }
   ],
   "source": [
    "# define tips URL\n",
    "url = 'https://api.foursquare.com/v2/users/{}/tips?client_id={}&client_secret={}&v={}&limit={}'.format(user_id, CLIENT_ID, CLIENT_SECRET, VERSION, limit)\n",
    "\n",
    "# send GET request and get user's tips\n",
    "results = requests.get(url).json()\n",
    "tips = results['response']['tips']['items']\n",
    "\n",
    "# format column width\n",
    "pd.set_option('display.max_colwidth', -1)\n",
    "\n",
    "tips_df = json_normalize(tips)\n",
    "\n",
    "# filter columns\n",
    "filtered_columns = ['text', 'agreeCount', 'disagreeCount', 'id']\n",
    "tips_filtered = tips_df.loc[:, filtered_columns]\n",
    "\n",
    "# display user's tips\n",
    "tips_filtered"
   ]
  },
  {
   "cell_type": "markdown",
   "metadata": {
    "button": false,
    "deletable": true,
    "new_sheet": false,
    "run_control": {
     "read_only": false
    }
   },
   "source": [
    "#### Let's get the venue for the tip with the greatest number of agree counts"
   ]
  },
  {
   "cell_type": "code",
   "execution_count": 133,
   "metadata": {
    "button": false,
    "collapsed": false,
    "deletable": true,
    "jupyter": {
     "outputs_hidden": false
    },
    "new_sheet": false,
    "run_control": {
     "read_only": false
    }
   },
   "outputs": [
    {
     "name": "stdout",
     "output_type": "stream",
     "text": [
      "Cowgirl\n",
      "{'address': '519 Hudson St', 'crossStreet': 'at W 10th St', 'lat': 40.73373338282062, 'lng': -74.0062998849649, 'labeledLatLngs': [{'label': 'display', 'lat': 40.73373338282062, 'lng': -74.0062998849649}], 'postalCode': '10014', 'cc': 'US', 'city': 'New York', 'state': 'NY', 'country': 'United States', 'formattedAddress': ['519 Hudson St (at W 10th St)', 'New York, NY 10014', 'United States']}\n"
     ]
    }
   ],
   "source": [
    "tip_id = '5ab5575d73fe2516ad8f363b' # tip id\n",
    "\n",
    "# define URL\n",
    "url = 'http://api.foursquare.com/v2/tips/{}?client_id={}&client_secret={}&v={}'.format(tip_id, CLIENT_ID, CLIENT_SECRET, VERSION)\n",
    "\n",
    "# send GET Request and examine results\n",
    "result = requests.get(url).json()\n",
    "print(result['response']['tip']['venue']['name'])\n",
    "print(result['response']['tip']['venue']['location'])"
   ]
  },
  {
   "cell_type": "markdown",
   "metadata": {
    "button": false,
    "deletable": true,
    "new_sheet": false,
    "run_control": {
     "read_only": false
    }
   },
   "source": [
    "### Get User's friends"
   ]
  },
  {
   "cell_type": "code",
   "execution_count": 134,
   "metadata": {
    "button": false,
    "collapsed": false,
    "deletable": true,
    "jupyter": {
     "outputs_hidden": false
    },
    "new_sheet": false,
    "run_control": {
     "read_only": false
    }
   },
   "outputs": [
    {
     "ename": "KeyError",
     "evalue": "'friends'",
     "output_type": "error",
     "traceback": [
      "\u001b[0;31m---------------------------------------------------------------------------\u001b[0m",
      "\u001b[0;31mKeyError\u001b[0m                                  Traceback (most recent call last)",
      "\u001b[0;32m<ipython-input-134-bcc27b1bf8b4>\u001b[0m in \u001b[0;36m<module>\u001b[0;34m\u001b[0m\n\u001b[0;32m----> 1\u001b[0;31m \u001b[0muser_friends\u001b[0m \u001b[0;34m=\u001b[0m \u001b[0mjson_normalize\u001b[0m\u001b[0;34m(\u001b[0m\u001b[0muser_data\u001b[0m\u001b[0;34m[\u001b[0m\u001b[0;34m'friends'\u001b[0m\u001b[0;34m]\u001b[0m\u001b[0;34m[\u001b[0m\u001b[0;34m'groups'\u001b[0m\u001b[0;34m]\u001b[0m\u001b[0;34m[\u001b[0m\u001b[0;36m0\u001b[0m\u001b[0;34m]\u001b[0m\u001b[0;34m[\u001b[0m\u001b[0;34m'items'\u001b[0m\u001b[0;34m]\u001b[0m\u001b[0;34m)\u001b[0m\u001b[0;34m\u001b[0m\u001b[0;34m\u001b[0m\u001b[0m\n\u001b[0m\u001b[1;32m      2\u001b[0m \u001b[0muser_friends\u001b[0m\u001b[0;34m\u001b[0m\u001b[0;34m\u001b[0m\u001b[0m\n",
      "\u001b[0;31mKeyError\u001b[0m: 'friends'"
     ]
    }
   ],
   "source": [
    "user_friends = json_normalize(user_data['friends']['groups'][0]['items'])\n",
    "user_friends"
   ]
  },
  {
   "cell_type": "markdown",
   "metadata": {
    "button": false,
    "deletable": true,
    "new_sheet": false,
    "run_control": {
     "read_only": false
    }
   },
   "source": [
    "Interesting. Despite being very active, it turns out that Nick does not have any friends on Foursquare. This might definitely change in the future."
   ]
  },
  {
   "cell_type": "markdown",
   "metadata": {
    "button": false,
    "deletable": true,
    "new_sheet": false,
    "run_control": {
     "read_only": false
    }
   },
   "source": [
    "### Retrieve the User's Profile Image"
   ]
  },
  {
   "cell_type": "code",
   "execution_count": 135,
   "metadata": {
    "button": false,
    "collapsed": false,
    "deletable": true,
    "jupyter": {
     "outputs_hidden": false
    },
    "new_sheet": false,
    "run_control": {
     "read_only": false
    },
    "scrolled": true
   },
   "outputs": [
    {
     "data": {
      "text/plain": [
       "{}"
      ]
     },
     "execution_count": 135,
     "metadata": {},
     "output_type": "execute_result"
    }
   ],
   "source": [
    "user_data"
   ]
  },
  {
   "cell_type": "code",
   "execution_count": 136,
   "metadata": {
    "button": false,
    "collapsed": false,
    "deletable": true,
    "jupyter": {
     "outputs_hidden": false
    },
    "new_sheet": false,
    "run_control": {
     "read_only": false
    }
   },
   "outputs": [
    {
     "data": {
      "text/html": [
       "<img src=\"https://igx.4sqi.net/img/user/300x300/484542633_mK2Yum7T_7Tn9fWpndidJsmw2Hof_6T5vJBKCHPLMK5OL-U5ZiJGj51iwBstcpDLYa3Zvhvis.jpg\"/>"
      ],
      "text/plain": [
       "<IPython.core.display.Image object>"
      ]
     },
     "execution_count": 136,
     "metadata": {},
     "output_type": "execute_result"
    }
   ],
   "source": [
    "# 1. grab prefix of photo\n",
    "# 2. grab suffix of photo\n",
    "# 3. concatenate them using the image size  \n",
    "Image(url='https://igx.4sqi.net/img/user/300x300/484542633_mK2Yum7T_7Tn9fWpndidJsmw2Hof_6T5vJBKCHPLMK5OL-U5ZiJGj51iwBstcpDLYa3Zvhvis.jpg')"
   ]
  },
  {
   "cell_type": "markdown",
   "metadata": {
    "button": false,
    "deletable": true,
    "new_sheet": false,
    "run_control": {
     "read_only": false
    }
   },
   "source": [
    "  "
   ]
  },
  {
   "cell_type": "markdown",
   "metadata": {
    "button": false,
    "deletable": true,
    "new_sheet": false,
    "run_control": {
     "read_only": false
    }
   },
   "source": [
    "<a id=\"item4\"></a>"
   ]
  },
  {
   "cell_type": "markdown",
   "metadata": {
    "button": false,
    "deletable": true,
    "new_sheet": false,
    "run_control": {
     "read_only": false
    }
   },
   "source": [
    "## 4. Explore a location\n",
    "> `https://api.foursquare.com/v2/venues/`**explore**`?client_id=`**CLIENT_ID**`&client_secret=`**CLIENT_SECRET**`&ll=`**LATITUDE**`,`**LONGITUDE**`&v=`**VERSION**`&limit=`**LIMIT**"
   ]
  },
  {
   "cell_type": "markdown",
   "metadata": {
    "button": false,
    "deletable": true,
    "new_sheet": false,
    "run_control": {
     "read_only": false
    }
   },
   "source": [
    "#### So, you just finished your gourmet dish at Ecco, and are just curious about the popular spots around the restaurant. In order to explore the area, let's start by getting the latitude and longitude values of Ecco Restaurant."
   ]
  },
  {
   "cell_type": "code",
   "execution_count": 137,
   "metadata": {
    "button": false,
    "deletable": true,
    "new_sheet": false,
    "run_control": {
     "read_only": false
    }
   },
   "outputs": [],
   "source": [
    "latitude = 40.715337\n",
    "longitude = -74.008848"
   ]
  },
  {
   "cell_type": "markdown",
   "metadata": {
    "button": false,
    "deletable": true,
    "new_sheet": false,
    "run_control": {
     "read_only": false
    }
   },
   "source": [
    "#### Define URL"
   ]
  },
  {
   "cell_type": "code",
   "execution_count": 138,
   "metadata": {
    "button": false,
    "collapsed": false,
    "deletable": true,
    "jupyter": {
     "outputs_hidden": false
    },
    "new_sheet": false,
    "run_control": {
     "read_only": false
    }
   },
   "outputs": [
    {
     "data": {
      "text/plain": [
       "'https://api.foursquare.com/v2/venues/explore?client_id=TBPLKSLPDCOMMX2YIDPJ5UG2NRWHG4YOB3VXMPJI5YYP54H3&client_secret=OV15HD3ZH2152BWBWDWFSKBEONQJNSQCJAI0S4BO0WLFWLPE&ll=40.715337,-74.008848&v=20180604&radius=500&limit=30'"
      ]
     },
     "execution_count": 138,
     "metadata": {},
     "output_type": "execute_result"
    }
   ],
   "source": [
    "url = 'https://api.foursquare.com/v2/venues/explore?client_id={}&client_secret={}&ll={},{}&v={}&radius={}&limit={}'.format(CLIENT_ID, CLIENT_SECRET, latitude, longitude, VERSION, radius, LIMIT)\n",
    "url"
   ]
  },
  {
   "cell_type": "markdown",
   "metadata": {
    "button": false,
    "deletable": true,
    "new_sheet": false,
    "run_control": {
     "read_only": false
    }
   },
   "source": [
    "#### Send GET request and examine results"
   ]
  },
  {
   "cell_type": "code",
   "execution_count": 139,
   "metadata": {
    "button": false,
    "deletable": true,
    "new_sheet": false,
    "run_control": {
     "read_only": false
    }
   },
   "outputs": [],
   "source": [
    "import requests"
   ]
  },
  {
   "cell_type": "code",
   "execution_count": 140,
   "metadata": {
    "button": false,
    "collapsed": false,
    "deletable": true,
    "jupyter": {
     "outputs_hidden": false
    },
    "new_sheet": false,
    "run_control": {
     "read_only": false
    }
   },
   "outputs": [
    {
     "data": {
      "text/plain": [
       "'There are 30 around Ecco restaurant.'"
      ]
     },
     "execution_count": 140,
     "metadata": {},
     "output_type": "execute_result"
    }
   ],
   "source": [
    "results = requests.get(url).json()\n",
    "'There are {} around Ecco restaurant.'.format(len(results['response']['groups'][0]['items']))"
   ]
  },
  {
   "cell_type": "markdown",
   "metadata": {
    "button": false,
    "deletable": true,
    "new_sheet": false,
    "run_control": {
     "read_only": false
    }
   },
   "source": [
    "#### Get relevant part of JSON"
   ]
  },
  {
   "cell_type": "code",
   "execution_count": 141,
   "metadata": {
    "button": false,
    "collapsed": false,
    "deletable": true,
    "jupyter": {
     "outputs_hidden": false
    },
    "new_sheet": false,
    "run_control": {
     "read_only": false
    }
   },
   "outputs": [
    {
     "data": {
      "text/plain": [
       "{'reasons': {'count': 0,\n",
       "  'items': [{'summary': 'This spot is popular',\n",
       "    'type': 'general',\n",
       "    'reasonName': 'globalInteractionReason'}]},\n",
       " 'venue': {'id': '4af5d65ff964a52091fd21e3',\n",
       "  'name': 'Korin',\n",
       "  'location': {'address': '57 Warren St',\n",
       "   'crossStreet': 'Church St',\n",
       "   'lat': 40.71482437714839,\n",
       "   'lng': -74.00940425461492,\n",
       "   'labeledLatLngs': [{'label': 'display',\n",
       "     'lat': 40.71482437714839,\n",
       "     'lng': -74.00940425461492},\n",
       "    {'label': '?', 'lat': 40.714727, 'lng': -74.009399}],\n",
       "   'distance': 73,\n",
       "   'postalCode': '10007',\n",
       "   'cc': 'US',\n",
       "   'neighborhood': 'Tribeca',\n",
       "   'city': 'New York',\n",
       "   'state': 'NY',\n",
       "   'country': 'United States',\n",
       "   'formattedAddress': ['57 Warren St (Church St)',\n",
       "    'New York, NY 10007',\n",
       "    'United States']},\n",
       "  'categories': [{'id': '4bf58dd8d48988d1f8941735',\n",
       "    'name': 'Furniture / Home Store',\n",
       "    'pluralName': 'Furniture / Home Stores',\n",
       "    'shortName': 'Furniture / Home',\n",
       "    'icon': {'prefix': 'https://ss3.4sqi.net/img/categories_v2/shops/furniture_',\n",
       "     'suffix': '.png'},\n",
       "    'primary': True}],\n",
       "  'photos': {'count': 0, 'groups': []},\n",
       "  'venuePage': {'id': '33104775'}},\n",
       " 'referralId': 'e-0-4af5d65ff964a52091fd21e3-0'}"
      ]
     },
     "execution_count": 141,
     "metadata": {},
     "output_type": "execute_result"
    }
   ],
   "source": [
    "items = results['response']['groups'][0]['items']\n",
    "items[0]"
   ]
  },
  {
   "cell_type": "markdown",
   "metadata": {
    "button": false,
    "deletable": true,
    "new_sheet": false,
    "run_control": {
     "read_only": false
    }
   },
   "source": [
    "#### Process JSON and convert it to a clean dataframe"
   ]
  },
  {
   "cell_type": "code",
   "execution_count": 143,
   "metadata": {
    "button": false,
    "collapsed": false,
    "deletable": true,
    "jupyter": {
     "outputs_hidden": false
    },
    "new_sheet": false,
    "run_control": {
     "read_only": false
    }
   },
   "outputs": [
    {
     "data": {
      "text/html": [
       "<div>\n",
       "<style scoped>\n",
       "    .dataframe tbody tr th:only-of-type {\n",
       "        vertical-align: middle;\n",
       "    }\n",
       "\n",
       "    .dataframe tbody tr th {\n",
       "        vertical-align: top;\n",
       "    }\n",
       "\n",
       "    .dataframe thead th {\n",
       "        text-align: right;\n",
       "    }\n",
       "</style>\n",
       "<table border=\"1\" class=\"dataframe\">\n",
       "  <thead>\n",
       "    <tr style=\"text-align: right;\">\n",
       "      <th></th>\n",
       "      <th>name</th>\n",
       "      <th>categories</th>\n",
       "      <th>address</th>\n",
       "      <th>crossStreet</th>\n",
       "      <th>lat</th>\n",
       "      <th>lng</th>\n",
       "      <th>labeledLatLngs</th>\n",
       "      <th>distance</th>\n",
       "      <th>postalCode</th>\n",
       "      <th>cc</th>\n",
       "      <th>neighborhood</th>\n",
       "      <th>city</th>\n",
       "      <th>state</th>\n",
       "      <th>country</th>\n",
       "      <th>formattedAddress</th>\n",
       "      <th>id</th>\n",
       "    </tr>\n",
       "  </thead>\n",
       "  <tbody>\n",
       "    <tr>\n",
       "      <th>0</th>\n",
       "      <td>Korin</td>\n",
       "      <td>Furniture / Home Store</td>\n",
       "      <td>57 Warren St</td>\n",
       "      <td>Church St</td>\n",
       "      <td>40.714824</td>\n",
       "      <td>-74.009404</td>\n",
       "      <td>[{'label': 'display', 'lat': 40.71482437714839, 'lng': -74.00940425461492}, {'label': '?', 'lat': 40.714727, 'lng': -74.009399}]</td>\n",
       "      <td>73</td>\n",
       "      <td>10007</td>\n",
       "      <td>US</td>\n",
       "      <td>Tribeca</td>\n",
       "      <td>New York</td>\n",
       "      <td>NY</td>\n",
       "      <td>United States</td>\n",
       "      <td>[57 Warren St (Church St), New York, NY 10007, United States]</td>\n",
       "      <td>4af5d65ff964a52091fd21e3</td>\n",
       "    </tr>\n",
       "    <tr>\n",
       "      <th>1</th>\n",
       "      <td>Los Tacos No. 1</td>\n",
       "      <td>Taco Place</td>\n",
       "      <td>136 Church St</td>\n",
       "      <td>NaN</td>\n",
       "      <td>40.714267</td>\n",
       "      <td>-74.008756</td>\n",
       "      <td>[{'label': 'display', 'lat': 40.714267, 'lng': -74.008756}]</td>\n",
       "      <td>119</td>\n",
       "      <td>10007</td>\n",
       "      <td>US</td>\n",
       "      <td>NaN</td>\n",
       "      <td>New York</td>\n",
       "      <td>NY</td>\n",
       "      <td>United States</td>\n",
       "      <td>[136 Church St, New York, NY 10007, United States]</td>\n",
       "      <td>5d5f24ec09484500079aee00</td>\n",
       "    </tr>\n",
       "    <tr>\n",
       "      <th>2</th>\n",
       "      <td>Takahachi Bakery</td>\n",
       "      <td>Bakery</td>\n",
       "      <td>25 Murray St</td>\n",
       "      <td>at Church St</td>\n",
       "      <td>40.713653</td>\n",
       "      <td>-74.008804</td>\n",
       "      <td>[{'label': 'display', 'lat': 40.713652845301894, 'lng': -74.0088038953017}, {'label': '?', 'lat': 40.713716, 'lng': -74.008443}]</td>\n",
       "      <td>187</td>\n",
       "      <td>10007</td>\n",
       "      <td>US</td>\n",
       "      <td>NaN</td>\n",
       "      <td>New York</td>\n",
       "      <td>NY</td>\n",
       "      <td>United States</td>\n",
       "      <td>[25 Murray St (at Church St), New York, NY 10007, United States]</td>\n",
       "      <td>4c154c9a77cea593c401d260</td>\n",
       "    </tr>\n",
       "    <tr>\n",
       "      <th>3</th>\n",
       "      <td>Chambers Street Wines</td>\n",
       "      <td>Wine Shop</td>\n",
       "      <td>148 Chambers St</td>\n",
       "      <td>btwn West Broadway &amp; Hudson St</td>\n",
       "      <td>40.715773</td>\n",
       "      <td>-74.009718</td>\n",
       "      <td>[{'label': 'display', 'lat': 40.715773063928374, 'lng': -74.00971823312332}, {'label': '?', 'lat': 40.715696, 'lng': -74.00988}]</td>\n",
       "      <td>88</td>\n",
       "      <td>10007</td>\n",
       "      <td>US</td>\n",
       "      <td>NaN</td>\n",
       "      <td>New York</td>\n",
       "      <td>NY</td>\n",
       "      <td>United States</td>\n",
       "      <td>[148 Chambers St (btwn West Broadway &amp; Hudson St), New York, NY 10007, United States]</td>\n",
       "      <td>4adcf23cf964a520cc6221e3</td>\n",
       "    </tr>\n",
       "    <tr>\n",
       "      <th>4</th>\n",
       "      <td>Juice Press</td>\n",
       "      <td>Vegetarian / Vegan Restaurant</td>\n",
       "      <td>83 Murray St</td>\n",
       "      <td>btwn Greenwich St &amp; W Broadway</td>\n",
       "      <td>40.714788</td>\n",
       "      <td>-74.011132</td>\n",
       "      <td>[{'label': 'display', 'lat': 40.71478769908051, 'lng': -74.0111317502157}]</td>\n",
       "      <td>202</td>\n",
       "      <td>10007</td>\n",
       "      <td>US</td>\n",
       "      <td>NaN</td>\n",
       "      <td>New York</td>\n",
       "      <td>NY</td>\n",
       "      <td>United States</td>\n",
       "      <td>[83 Murray St (btwn Greenwich St &amp; W Broadway), New York, NY 10007, United States]</td>\n",
       "      <td>54148bc6498ea7bb8c05b70a</td>\n",
       "    </tr>\n",
       "    <tr>\n",
       "      <th>5</th>\n",
       "      <td>Heyday</td>\n",
       "      <td>Spa</td>\n",
       "      <td>92 Reade St</td>\n",
       "      <td>NaN</td>\n",
       "      <td>40.715726</td>\n",
       "      <td>-74.007767</td>\n",
       "      <td>[{'label': 'display', 'lat': 40.715726, 'lng': -74.007767}, {'label': '?', 'lat': 40.715654, 'lng': -74.00782}]</td>\n",
       "      <td>100</td>\n",
       "      <td>10013</td>\n",
       "      <td>US</td>\n",
       "      <td>NaN</td>\n",
       "      <td>New York</td>\n",
       "      <td>NY</td>\n",
       "      <td>United States</td>\n",
       "      <td>[92 Reade St, New York, NY 10013, United States]</td>\n",
       "      <td>57ad129c498e05b086594d72</td>\n",
       "    </tr>\n",
       "    <tr>\n",
       "      <th>6</th>\n",
       "      <td>Takahachi</td>\n",
       "      <td>Sushi Restaurant</td>\n",
       "      <td>145 Duane St</td>\n",
       "      <td>btwn W Broadway &amp; Church St</td>\n",
       "      <td>40.716526</td>\n",
       "      <td>-74.008101</td>\n",
       "      <td>[{'label': 'display', 'lat': 40.71652647412374, 'lng': -74.00810108466207}, {'label': '?', 'lat': 40.716508, 'lng': -74.007989}]</td>\n",
       "      <td>146</td>\n",
       "      <td>10013</td>\n",
       "      <td>US</td>\n",
       "      <td>NaN</td>\n",
       "      <td>New York</td>\n",
       "      <td>NY</td>\n",
       "      <td>United States</td>\n",
       "      <td>[145 Duane St (btwn W Broadway &amp; Church St), New York, NY 10013, United States]</td>\n",
       "      <td>4a8f2f39f964a520471420e3</td>\n",
       "    </tr>\n",
       "    <tr>\n",
       "      <th>7</th>\n",
       "      <td>Equinox Tribeca</td>\n",
       "      <td>Gym</td>\n",
       "      <td>54 Murray St</td>\n",
       "      <td>at W Broadway</td>\n",
       "      <td>40.714099</td>\n",
       "      <td>-74.009686</td>\n",
       "      <td>[{'label': 'display', 'lat': 40.71409860726041, 'lng': -74.0096857179283}]</td>\n",
       "      <td>154</td>\n",
       "      <td>10007</td>\n",
       "      <td>US</td>\n",
       "      <td>NaN</td>\n",
       "      <td>New York</td>\n",
       "      <td>NY</td>\n",
       "      <td>United States</td>\n",
       "      <td>[54 Murray St (at W Broadway), New York, NY 10007, United States]</td>\n",
       "      <td>4a6e331af964a52031d41fe3</td>\n",
       "    </tr>\n",
       "    <tr>\n",
       "      <th>8</th>\n",
       "      <td>Whole Foods Market</td>\n",
       "      <td>Grocery Store</td>\n",
       "      <td>270 Greenwich Street</td>\n",
       "      <td>at Warren St</td>\n",
       "      <td>40.715579</td>\n",
       "      <td>-74.011368</td>\n",
       "      <td>[{'label': 'display', 'lat': 40.715579155420606, 'lng': -74.01136823958119}]</td>\n",
       "      <td>214</td>\n",
       "      <td>10007</td>\n",
       "      <td>US</td>\n",
       "      <td>Tribeca</td>\n",
       "      <td>New York</td>\n",
       "      <td>NY</td>\n",
       "      <td>United States</td>\n",
       "      <td>[270 Greenwich Street (at Warren St), New York, NY 10007, United States]</td>\n",
       "      <td>49bc3b0af964a52020541fe3</td>\n",
       "    </tr>\n",
       "    <tr>\n",
       "      <th>9</th>\n",
       "      <td>Mulberry &amp; Vine</td>\n",
       "      <td>Café</td>\n",
       "      <td>73 Warren St</td>\n",
       "      <td>B/t West Broadway &amp; Greenwich</td>\n",
       "      <td>40.715177</td>\n",
       "      <td>-74.010227</td>\n",
       "      <td>[{'label': 'display', 'lat': 40.71517693966315, 'lng': -74.01022747778285}, {'label': '?', 'lat': 40.715064, 'lng': -74.010146}]</td>\n",
       "      <td>117</td>\n",
       "      <td>10007</td>\n",
       "      <td>US</td>\n",
       "      <td>NaN</td>\n",
       "      <td>New York</td>\n",
       "      <td>NY</td>\n",
       "      <td>United States</td>\n",
       "      <td>[73 Warren St (B/t West Broadway &amp; Greenwich), New York, NY 10007, United States]</td>\n",
       "      <td>5171b5cc011cef9833bbb787</td>\n",
       "    </tr>\n",
       "  </tbody>\n",
       "</table>\n",
       "</div>"
      ],
      "text/plain": [
       "                    name                     categories               address  \\\n",
       "0  Korin                  Furniture / Home Store         57 Warren St           \n",
       "1  Los Tacos No. 1        Taco Place                     136 Church St          \n",
       "2  Takahachi Bakery       Bakery                         25 Murray St           \n",
       "3  Chambers Street Wines  Wine Shop                      148 Chambers St        \n",
       "4  Juice Press            Vegetarian / Vegan Restaurant  83 Murray St           \n",
       "5  Heyday                 Spa                            92 Reade St            \n",
       "6  Takahachi              Sushi Restaurant               145 Duane St           \n",
       "7  Equinox Tribeca        Gym                            54 Murray St           \n",
       "8  Whole Foods Market     Grocery Store                  270 Greenwich Street   \n",
       "9  Mulberry & Vine        Café                           73 Warren St           \n",
       "\n",
       "                      crossStreet        lat        lng  \\\n",
       "0  Church St                       40.714824 -74.009404   \n",
       "1  NaN                             40.714267 -74.008756   \n",
       "2  at Church St                    40.713653 -74.008804   \n",
       "3  btwn West Broadway & Hudson St  40.715773 -74.009718   \n",
       "4  btwn Greenwich St & W Broadway  40.714788 -74.011132   \n",
       "5  NaN                             40.715726 -74.007767   \n",
       "6  btwn W Broadway & Church St     40.716526 -74.008101   \n",
       "7  at W Broadway                   40.714099 -74.009686   \n",
       "8  at Warren St                    40.715579 -74.011368   \n",
       "9  B/t West Broadway & Greenwich   40.715177 -74.010227   \n",
       "\n",
       "                                                                                                                     labeledLatLngs  \\\n",
       "0  [{'label': 'display', 'lat': 40.71482437714839, 'lng': -74.00940425461492}, {'label': '?', 'lat': 40.714727, 'lng': -74.009399}]   \n",
       "1  [{'label': 'display', 'lat': 40.714267, 'lng': -74.008756}]                                                                        \n",
       "2  [{'label': 'display', 'lat': 40.713652845301894, 'lng': -74.0088038953017}, {'label': '?', 'lat': 40.713716, 'lng': -74.008443}]   \n",
       "3  [{'label': 'display', 'lat': 40.715773063928374, 'lng': -74.00971823312332}, {'label': '?', 'lat': 40.715696, 'lng': -74.00988}]   \n",
       "4  [{'label': 'display', 'lat': 40.71478769908051, 'lng': -74.0111317502157}]                                                         \n",
       "5  [{'label': 'display', 'lat': 40.715726, 'lng': -74.007767}, {'label': '?', 'lat': 40.715654, 'lng': -74.00782}]                    \n",
       "6  [{'label': 'display', 'lat': 40.71652647412374, 'lng': -74.00810108466207}, {'label': '?', 'lat': 40.716508, 'lng': -74.007989}]   \n",
       "7  [{'label': 'display', 'lat': 40.71409860726041, 'lng': -74.0096857179283}]                                                         \n",
       "8  [{'label': 'display', 'lat': 40.715579155420606, 'lng': -74.01136823958119}]                                                       \n",
       "9  [{'label': 'display', 'lat': 40.71517693966315, 'lng': -74.01022747778285}, {'label': '?', 'lat': 40.715064, 'lng': -74.010146}]   \n",
       "\n",
       "   distance postalCode  cc neighborhood      city state        country  \\\n",
       "0  73        10007      US  Tribeca      New York  NY    United States   \n",
       "1  119       10007      US  NaN          New York  NY    United States   \n",
       "2  187       10007      US  NaN          New York  NY    United States   \n",
       "3  88        10007      US  NaN          New York  NY    United States   \n",
       "4  202       10007      US  NaN          New York  NY    United States   \n",
       "5  100       10013      US  NaN          New York  NY    United States   \n",
       "6  146       10013      US  NaN          New York  NY    United States   \n",
       "7  154       10007      US  NaN          New York  NY    United States   \n",
       "8  214       10007      US  Tribeca      New York  NY    United States   \n",
       "9  117       10007      US  NaN          New York  NY    United States   \n",
       "\n",
       "                                                                        formattedAddress  \\\n",
       "0  [57 Warren St (Church St), New York, NY 10007, United States]                           \n",
       "1  [136 Church St, New York, NY 10007, United States]                                      \n",
       "2  [25 Murray St (at Church St), New York, NY 10007, United States]                        \n",
       "3  [148 Chambers St (btwn West Broadway & Hudson St), New York, NY 10007, United States]   \n",
       "4  [83 Murray St (btwn Greenwich St & W Broadway), New York, NY 10007, United States]      \n",
       "5  [92 Reade St, New York, NY 10013, United States]                                        \n",
       "6  [145 Duane St (btwn W Broadway & Church St), New York, NY 10013, United States]         \n",
       "7  [54 Murray St (at W Broadway), New York, NY 10007, United States]                       \n",
       "8  [270 Greenwich Street (at Warren St), New York, NY 10007, United States]                \n",
       "9  [73 Warren St (B/t West Broadway & Greenwich), New York, NY 10007, United States]       \n",
       "\n",
       "                         id  \n",
       "0  4af5d65ff964a52091fd21e3  \n",
       "1  5d5f24ec09484500079aee00  \n",
       "2  4c154c9a77cea593c401d260  \n",
       "3  4adcf23cf964a520cc6221e3  \n",
       "4  54148bc6498ea7bb8c05b70a  \n",
       "5  57ad129c498e05b086594d72  \n",
       "6  4a8f2f39f964a520471420e3  \n",
       "7  4a6e331af964a52031d41fe3  \n",
       "8  49bc3b0af964a52020541fe3  \n",
       "9  5171b5cc011cef9833bbb787  "
      ]
     },
     "execution_count": 143,
     "metadata": {},
     "output_type": "execute_result"
    }
   ],
   "source": [
    "dataframe = json_normalize(items) # flatten JSON\n",
    "\n",
    "# filter columns\n",
    "filtered_columns = ['venue.name', 'venue.categories'] + [col for col in dataframe.columns if col.startswith('venue.location.')] + ['venue.id']\n",
    "dataframe_filtered = dataframe.loc[:, filtered_columns]\n",
    "\n",
    "# filter the category for each row\n",
    "dataframe_filtered['venue.categories'] = dataframe_filtered.apply(get_category_type, axis=1)\n",
    "\n",
    "# clean columns\n",
    "dataframe_filtered.columns = [col.split('.')[-1] for col in dataframe_filtered.columns]\n",
    "\n",
    "dataframe_filtered.head(10)"
   ]
  },
  {
   "cell_type": "markdown",
   "metadata": {
    "button": false,
    "deletable": true,
    "new_sheet": false,
    "run_control": {
     "read_only": false
    }
   },
   "source": [
    "#### Let's visualize these items on the map around our location"
   ]
  },
  {
   "cell_type": "code",
   "execution_count": 145,
   "metadata": {
    "button": false,
    "collapsed": false,
    "deletable": true,
    "jupyter": {
     "outputs_hidden": false
    },
    "new_sheet": false,
    "run_control": {
     "read_only": false
    }
   },
   "outputs": [
    {
     "data": {
      "text/html": [
       "<div style=\"width:100%;\"><div style=\"position:relative;width:100%;height:0;padding-bottom:60%;\"><iframe src=\"about:blank\" style=\"position:absolute;width:100%;height:100%;left:0;top:0;border:none !important;\" data-html=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 onload=\"this.contentDocument.open();this.contentDocument.write(atob(this.getAttribute('data-html')));this.contentDocument.close();\" allowfullscreen webkitallowfullscreen mozallowfullscreen></iframe></div></div>"
      ],
      "text/plain": [
       "<folium.folium.Map at 0x10a7cb150>"
      ]
     },
     "execution_count": 145,
     "metadata": {},
     "output_type": "execute_result"
    }
   ],
   "source": [
    "venues_map = folium.Map(location=[latitude, longitude], zoom_start=15) # generate map centred around Ecco\n",
    "\n",
    "\n",
    "# add Ecco as a red circle mark\n",
    "folium.features.CircleMarker(\n",
    "    [latitude, longitude],\n",
    "    radius=10,\n",
    "    popup='Ecco',\n",
    "    fill=True,\n",
    "    color='red',\n",
    "    fill_color='red',\n",
    "    fill_opacity=0.6\n",
    "    ).add_to(venues_map)\n",
    "\n",
    "\n",
    "# add popular spots to the map as blue circle markers\n",
    "for lat, lng, label in zip(dataframe_filtered.lat, dataframe_filtered.lng, dataframe_filtered.categories):\n",
    "    folium.features.CircleMarker(\n",
    "        [lat, lng],\n",
    "        radius=5,\n",
    "        popup=label,\n",
    "        fill=True,\n",
    "        color='blue',\n",
    "        fill_color='blue',\n",
    "        fill_opacity=0.6\n",
    "        ).add_to(venues_map)\n",
    "\n",
    "# display map\n",
    "venues_map"
   ]
  },
  {
   "cell_type": "markdown",
   "metadata": {
    "button": false,
    "deletable": true,
    "new_sheet": false,
    "run_control": {
     "read_only": false
    }
   },
   "source": [
    "   "
   ]
  },
  {
   "cell_type": "markdown",
   "metadata": {
    "button": false,
    "deletable": true,
    "new_sheet": false,
    "run_control": {
     "read_only": false
    }
   },
   "source": [
    "<a id=\"item5\"></a>"
   ]
  },
  {
   "cell_type": "markdown",
   "metadata": {
    "button": false,
    "deletable": true,
    "new_sheet": false,
    "run_control": {
     "read_only": false
    }
   },
   "source": [
    "## 5. Explore Trending Venues\n",
    "> `https://api.foursquare.com/v2/venues/`**trending**`?client_id=`**CLIENT_ID**`&client_secret=`**CLIENT_SECRET**`&ll=`**LATITUDE**`,`**LONGITUDE**`&v=`**VERSION**"
   ]
  },
  {
   "cell_type": "markdown",
   "metadata": {
    "button": false,
    "deletable": true,
    "new_sheet": false,
    "run_control": {
     "read_only": false
    }
   },
   "source": [
    "#### Now, instead of simply exploring the area around Ecco, you are interested in knowing the venues that are trending at the time you are done with your lunch, meaning the places with the highest foot traffic. So let's do that and get the trending venues around Ecco."
   ]
  },
  {
   "cell_type": "code",
   "execution_count": 146,
   "metadata": {
    "button": false,
    "collapsed": false,
    "deletable": true,
    "jupyter": {
     "outputs_hidden": false
    },
    "new_sheet": false,
    "run_control": {
     "read_only": false
    }
   },
   "outputs": [
    {
     "data": {
      "text/plain": [
       "{'meta': {'code': 200, 'requestId': '5e9f2479b4b684001c22166f'},\n",
       " 'response': {'venues': []}}"
      ]
     },
     "execution_count": 146,
     "metadata": {},
     "output_type": "execute_result"
    }
   ],
   "source": [
    "# define URL\n",
    "url = 'https://api.foursquare.com/v2/venues/trending?client_id={}&client_secret={}&ll={},{}&v={}'.format(CLIENT_ID, CLIENT_SECRET, latitude, longitude, VERSION)\n",
    "\n",
    "# send GET request and get trending venues\n",
    "results = requests.get(url).json()\n",
    "results"
   ]
  },
  {
   "cell_type": "markdown",
   "metadata": {
    "button": false,
    "deletable": true,
    "new_sheet": false,
    "run_control": {
     "read_only": false
    }
   },
   "source": [
    "### Check if any venues are trending at this time"
   ]
  },
  {
   "cell_type": "code",
   "execution_count": 147,
   "metadata": {
    "button": false,
    "deletable": true,
    "new_sheet": false,
    "run_control": {
     "read_only": false
    }
   },
   "outputs": [],
   "source": [
    "if len(results['response']['venues']) == 0:\n",
    "    trending_venues_df = 'No trending venues are available at the moment!'\n",
    "    \n",
    "else:\n",
    "    trending_venues = results['response']['venues']\n",
    "    trending_venues_df = json_normalize(trending_venues)\n",
    "\n",
    "    # filter columns\n",
    "    columns_filtered = ['name', 'categories'] + ['location.distance', 'location.city', 'location.postalCode', 'location.state', 'location.country', 'location.lat', 'location.lng']\n",
    "    trending_venues_df = trending_venues_df.loc[:, columns_filtered]\n",
    "\n",
    "    # filter the category for each row\n",
    "    trending_venues_df['categories'] = trending_venues_df.apply(get_category_type, axis=1)"
   ]
  },
  {
   "cell_type": "code",
   "execution_count": 148,
   "metadata": {
    "button": false,
    "collapsed": false,
    "deletable": true,
    "jupyter": {
     "outputs_hidden": false
    },
    "new_sheet": false,
    "run_control": {
     "read_only": false
    }
   },
   "outputs": [
    {
     "data": {
      "text/plain": [
       "'No trending venues are available at the moment!'"
      ]
     },
     "execution_count": 148,
     "metadata": {},
     "output_type": "execute_result"
    }
   ],
   "source": [
    "# display trending venues\n",
    "trending_venues_df"
   ]
  },
  {
   "cell_type": "markdown",
   "metadata": {
    "button": false,
    "deletable": true,
    "new_sheet": false,
    "run_control": {
     "read_only": false
    }
   },
   "source": [
    "Now, depending on when you run the above code, you might get different venues since the venues with the highest foot traffic are fetched live. "
   ]
  },
  {
   "cell_type": "markdown",
   "metadata": {
    "button": false,
    "deletable": true,
    "new_sheet": false,
    "run_control": {
     "read_only": false
    }
   },
   "source": [
    "### Visualize trending venues"
   ]
  },
  {
   "cell_type": "code",
   "execution_count": 149,
   "metadata": {
    "button": false,
    "collapsed": false,
    "deletable": true,
    "jupyter": {
     "outputs_hidden": false
    },
    "new_sheet": false,
    "run_control": {
     "read_only": false
    }
   },
   "outputs": [],
   "source": [
    "if len(results['response']['venues']) == 0:\n",
    "    venues_map = 'Cannot generate visual as no trending venues are available at the moment!'\n",
    "\n",
    "else:\n",
    "    venues_map = folium.Map(location=[latitude, longitude], zoom_start=15) # generate map centred around Ecco\n",
    "\n",
    "\n",
    "    # add Ecco as a red circle mark\n",
    "    folium.features.CircleMarker(\n",
    "        [latitude, longitude],\n",
    "        radius=10,\n",
    "        popup='Ecco',\n",
    "        fill=True,\n",
    "        color='red',\n",
    "        fill_color='red',\n",
    "        fill_opacity=0.6\n",
    "    ).add_to(venues_map)\n",
    "\n",
    "\n",
    "    # add the trending venues as blue circle markers\n",
    "    for lat, lng, label in zip(trending_venues_df['location.lat'], trending_venues_df['location.lng'], trending_venues_df['name']):\n",
    "        folium.features.CircleMarker(\n",
    "            [lat, lng],\n",
    "            radius=5,\n",
    "            poup=label,\n",
    "            fill=True,\n",
    "            color='blue',\n",
    "            fill_color='blue',\n",
    "            fill_opacity=0.6\n",
    "        ).add_to(venues_map)"
   ]
  },
  {
   "cell_type": "code",
   "execution_count": 150,
   "metadata": {
    "button": false,
    "collapsed": false,
    "deletable": true,
    "jupyter": {
     "outputs_hidden": false
    },
    "new_sheet": false,
    "run_control": {
     "read_only": false
    }
   },
   "outputs": [
    {
     "data": {
      "text/plain": [
       "'Cannot generate visual as no trending venues are available at the moment!'"
      ]
     },
     "execution_count": 150,
     "metadata": {},
     "output_type": "execute_result"
    }
   ],
   "source": [
    "# display map\n",
    "venues_map"
   ]
  },
  {
   "cell_type": "markdown",
   "metadata": {
    "button": false,
    "deletable": true,
    "new_sheet": false,
    "run_control": {
     "read_only": false
    }
   },
   "source": [
    "<a id=\"item6\"></a>"
   ]
  },
  {
   "cell_type": "markdown",
   "metadata": {
    "button": false,
    "deletable": true,
    "new_sheet": false,
    "run_control": {
     "read_only": false
    }
   },
   "source": [
    "   "
   ]
  },
  {
   "cell_type": "markdown",
   "metadata": {
    "button": false,
    "deletable": true,
    "new_sheet": false,
    "run_control": {
     "read_only": false
    }
   },
   "source": [
    "### Thank you for completing this lab!\n",
    "\n",
    "This notebook was created by [Alex Aklson](https://www.linkedin.com/in/aklson/). I hope you found this lab interesting and educational. Feel free to contact me if you have any questions!"
   ]
  },
  {
   "cell_type": "markdown",
   "metadata": {
    "button": false,
    "deletable": true,
    "new_sheet": false,
    "run_control": {
     "read_only": false
    }
   },
   "source": [
    "This notebook is part of a course on **Coursera** called *Applied Data Science Capstone*. If you accessed this notebook outside the course, you can take this course online by clicking [here](http://cocl.us/DP0701EN_Coursera_Week2_LAB1)."
   ]
  },
  {
   "cell_type": "markdown",
   "metadata": {
    "button": false,
    "deletable": true,
    "new_sheet": false,
    "run_control": {
     "read_only": false
    }
   },
   "source": [
    "<hr>\n",
    "Copyright &copy; 2018 [Cognitive Class](https://cognitiveclass.ai/?utm_source=bducopyrightlink&utm_medium=dswb&utm_campaign=bdu). This notebook and its source code are released under the terms of the [MIT License](https://bigdatauniversity.com/mit-license/)."
   ]
  }
 ],
 "metadata": {
  "kernelspec": {
   "display_name": "Python 3",
   "language": "python",
   "name": "python3"
  },
  "language_info": {
   "codemirror_mode": {
    "name": "ipython",
    "version": 3
   },
   "file_extension": ".py",
   "mimetype": "text/x-python",
   "name": "python",
   "nbconvert_exporter": "python",
   "pygments_lexer": "ipython3",
   "version": "3.7.4"
  },
  "widgets": {
   "state": {},
   "version": "1.1.2"
  }
 },
 "nbformat": 4,
 "nbformat_minor": 4
}
